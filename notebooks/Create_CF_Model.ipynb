{
 "cells": [
  {
   "cell_type": "code",
   "execution_count": 3,
   "metadata": {},
   "outputs": [
    {
     "name": "stdout",
     "output_type": "stream",
     "text": [
      "The autoreload extension is already loaded. To reload it, use:\n",
      "  %reload_ext autoreload\n"
     ]
    }
   ],
   "source": [
    "%load_ext autoreload\n",
    "import sys\n",
    "if not '/Users/nlarusstone/Documents/MPhil/Research/cf_fba' in sys.path:\n",
    "    sys.path.append('/Users/nlarusstone/Documents/MPhil/Research/cf_fba')\n",
    "import src.utils as utils\n",
    "%autoreload 2"
   ]
  },
  {
   "cell_type": "code",
   "execution_count": 4,
   "metadata": {},
   "outputs": [],
   "source": [
    "import cobra\n",
    "import cobra.test\n",
    "import pandas as pd\n",
    "import numpy as np\n",
    "import difflib\n",
    "import re\n",
    "import Bio.PDB.Polypeptide"
   ]
  },
  {
   "cell_type": "code",
   "execution_count": 339,
   "metadata": {},
   "outputs": [
    {
     "data": {
      "text/html": [
       "<div>\n",
       "<style scoped>\n",
       "    .dataframe tbody tr th:only-of-type {\n",
       "        vertical-align: middle;\n",
       "    }\n",
       "\n",
       "    .dataframe tbody tr th {\n",
       "        vertical-align: top;\n",
       "    }\n",
       "\n",
       "    .dataframe thead th {\n",
       "        text-align: right;\n",
       "    }\n",
       "</style>\n",
       "<table border=\"1\" class=\"dataframe\">\n",
       "  <thead>\n",
       "    <tr style=\"text-align: right;\">\n",
       "      <th></th>\n",
       "      <th>start_conc</th>\n",
       "      <th>amt</th>\n",
       "      <th>final_conc</th>\n",
       "    </tr>\n",
       "    <tr>\n",
       "      <th>compound</th>\n",
       "      <th></th>\n",
       "      <th></th>\n",
       "      <th></th>\n",
       "    </tr>\n",
       "  </thead>\n",
       "  <tbody>\n",
       "    <tr>\n",
       "      <th>pi</th>\n",
       "      <td>0.049038</td>\n",
       "      <td>1.00</td>\n",
       "      <td>0.000981</td>\n",
       "    </tr>\n",
       "    <tr>\n",
       "      <th>mg2</th>\n",
       "      <td>0.400000</td>\n",
       "      <td>0.74</td>\n",
       "      <td>0.005920</td>\n",
       "    </tr>\n",
       "    <tr>\n",
       "      <th>k</th>\n",
       "      <td>3.000000</td>\n",
       "      <td>0.80</td>\n",
       "      <td>0.048000</td>\n",
       "    </tr>\n",
       "    <tr>\n",
       "      <th>nad</th>\n",
       "      <td>0.004540</td>\n",
       "      <td>5.00</td>\n",
       "      <td>0.000454</td>\n",
       "    </tr>\n",
       "    <tr>\n",
       "      <th>coa</th>\n",
       "      <td>0.003530</td>\n",
       "      <td>5.00</td>\n",
       "      <td>0.000353</td>\n",
       "    </tr>\n",
       "    <tr>\n",
       "      <th>camp</th>\n",
       "      <td>0.010127</td>\n",
       "      <td>5.00</td>\n",
       "      <td>0.001013</td>\n",
       "    </tr>\n",
       "    <tr>\n",
       "      <th>5fthf</th>\n",
       "      <td>0.000921</td>\n",
       "      <td>5.00</td>\n",
       "      <td>0.000092</td>\n",
       "    </tr>\n",
       "    <tr>\n",
       "      <th>spmd</th>\n",
       "      <td>0.001808</td>\n",
       "      <td>5.00</td>\n",
       "      <td>0.000181</td>\n",
       "    </tr>\n",
       "    <tr>\n",
       "      <th>glc__D</th>\n",
       "      <td>0.054190</td>\n",
       "      <td>5.00</td>\n",
       "      <td>0.005419</td>\n",
       "    </tr>\n",
       "    <tr>\n",
       "      <th>atp</th>\n",
       "      <td>0.020931</td>\n",
       "      <td>5.00</td>\n",
       "      <td>0.002093</td>\n",
       "    </tr>\n",
       "    <tr>\n",
       "      <th>gtp</th>\n",
       "      <td>0.020968</td>\n",
       "      <td>5.00</td>\n",
       "      <td>0.002097</td>\n",
       "    </tr>\n",
       "    <tr>\n",
       "      <th>ctp</th>\n",
       "      <td>0.012606</td>\n",
       "      <td>5.00</td>\n",
       "      <td>0.001261</td>\n",
       "    </tr>\n",
       "    <tr>\n",
       "      <th>utp</th>\n",
       "      <td>0.012601</td>\n",
       "      <td>5.00</td>\n",
       "      <td>0.001260</td>\n",
       "    </tr>\n",
       "    <tr>\n",
       "      <th>trna</th>\n",
       "      <td>0.000104</td>\n",
       "      <td>5.00</td>\n",
       "      <td>0.000010</td>\n",
       "    </tr>\n",
       "    <tr>\n",
       "      <th>Ala</th>\n",
       "      <td>0.178191</td>\n",
       "      <td>10.00</td>\n",
       "      <td>0.035638</td>\n",
       "    </tr>\n",
       "    <tr>\n",
       "      <th>Arg</th>\n",
       "      <td>0.215287</td>\n",
       "      <td>10.00</td>\n",
       "      <td>0.043057</td>\n",
       "    </tr>\n",
       "    <tr>\n",
       "      <th>Asn</th>\n",
       "      <td>0.178200</td>\n",
       "      <td>10.00</td>\n",
       "      <td>0.035640</td>\n",
       "    </tr>\n",
       "    <tr>\n",
       "      <th>Asp</th>\n",
       "      <td>0.178193</td>\n",
       "      <td>10.00</td>\n",
       "      <td>0.035639</td>\n",
       "    </tr>\n",
       "    <tr>\n",
       "      <th>Cys</th>\n",
       "      <td>0.178022</td>\n",
       "      <td>10.00</td>\n",
       "      <td>0.035604</td>\n",
       "    </tr>\n",
       "    <tr>\n",
       "      <th>Glu</th>\n",
       "      <td>0.178198</td>\n",
       "      <td>10.00</td>\n",
       "      <td>0.035640</td>\n",
       "    </tr>\n",
       "    <tr>\n",
       "      <th>Gln</th>\n",
       "      <td>0.178026</td>\n",
       "      <td>10.00</td>\n",
       "      <td>0.035605</td>\n",
       "    </tr>\n",
       "    <tr>\n",
       "      <th>Gly</th>\n",
       "      <td>0.178205</td>\n",
       "      <td>10.00</td>\n",
       "      <td>0.035641</td>\n",
       "    </tr>\n",
       "    <tr>\n",
       "      <th>His</th>\n",
       "      <td>0.178192</td>\n",
       "      <td>10.00</td>\n",
       "      <td>0.035638</td>\n",
       "    </tr>\n",
       "    <tr>\n",
       "      <th>Ile</th>\n",
       "      <td>0.178207</td>\n",
       "      <td>10.00</td>\n",
       "      <td>0.035641</td>\n",
       "    </tr>\n",
       "    <tr>\n",
       "      <th>Leu</th>\n",
       "      <td>0.178029</td>\n",
       "      <td>10.00</td>\n",
       "      <td>0.035606</td>\n",
       "    </tr>\n",
       "    <tr>\n",
       "      <th>Lys</th>\n",
       "      <td>0.178022</td>\n",
       "      <td>10.00</td>\n",
       "      <td>0.035604</td>\n",
       "    </tr>\n",
       "    <tr>\n",
       "      <th>Met</th>\n",
       "      <td>0.178017</td>\n",
       "      <td>10.00</td>\n",
       "      <td>0.035603</td>\n",
       "    </tr>\n",
       "    <tr>\n",
       "      <th>Phe</th>\n",
       "      <td>0.178198</td>\n",
       "      <td>10.00</td>\n",
       "      <td>0.035640</td>\n",
       "    </tr>\n",
       "    <tr>\n",
       "      <th>Pro</th>\n",
       "      <td>0.178196</td>\n",
       "      <td>10.00</td>\n",
       "      <td>0.035639</td>\n",
       "    </tr>\n",
       "    <tr>\n",
       "      <th>Ser</th>\n",
       "      <td>0.179566</td>\n",
       "      <td>10.00</td>\n",
       "      <td>0.035913</td>\n",
       "    </tr>\n",
       "    <tr>\n",
       "      <th>Thr</th>\n",
       "      <td>0.178198</td>\n",
       "      <td>10.00</td>\n",
       "      <td>0.035640</td>\n",
       "    </tr>\n",
       "    <tr>\n",
       "      <th>Trp</th>\n",
       "      <td>0.178201</td>\n",
       "      <td>10.00</td>\n",
       "      <td>0.035640</td>\n",
       "    </tr>\n",
       "    <tr>\n",
       "      <th>Tyr</th>\n",
       "      <td>0.178020</td>\n",
       "      <td>10.00</td>\n",
       "      <td>0.035604</td>\n",
       "    </tr>\n",
       "    <tr>\n",
       "      <th>Val</th>\n",
       "      <td>0.178024</td>\n",
       "      <td>10.00</td>\n",
       "      <td>0.035605</td>\n",
       "    </tr>\n",
       "    <tr>\n",
       "      <th>GENE</th>\n",
       "      <td>0.000718</td>\n",
       "      <td>4.96</td>\n",
       "      <td>0.000071</td>\n",
       "    </tr>\n",
       "  </tbody>\n",
       "</table>\n",
       "</div>"
      ],
      "text/plain": [
       "          start_conc    amt  final_conc\n",
       "compound                               \n",
       "pi          0.049038   1.00    0.000981\n",
       "mg2         0.400000   0.74    0.005920\n",
       "k           3.000000   0.80    0.048000\n",
       "nad         0.004540   5.00    0.000454\n",
       "coa         0.003530   5.00    0.000353\n",
       "camp        0.010127   5.00    0.001013\n",
       "5fthf       0.000921   5.00    0.000092\n",
       "spmd        0.001808   5.00    0.000181\n",
       "glc__D      0.054190   5.00    0.005419\n",
       "atp         0.020931   5.00    0.002093\n",
       "gtp         0.020968   5.00    0.002097\n",
       "ctp         0.012606   5.00    0.001261\n",
       "utp         0.012601   5.00    0.001260\n",
       "trna        0.000104   5.00    0.000010\n",
       "Ala         0.178191  10.00    0.035638\n",
       "Arg         0.215287  10.00    0.043057\n",
       "Asn         0.178200  10.00    0.035640\n",
       "Asp         0.178193  10.00    0.035639\n",
       "Cys         0.178022  10.00    0.035604\n",
       "Glu         0.178198  10.00    0.035640\n",
       "Gln         0.178026  10.00    0.035605\n",
       "Gly         0.178205  10.00    0.035641\n",
       "His         0.178192  10.00    0.035638\n",
       "Ile         0.178207  10.00    0.035641\n",
       "Leu         0.178029  10.00    0.035606\n",
       "Lys         0.178022  10.00    0.035604\n",
       "Met         0.178017  10.00    0.035603\n",
       "Phe         0.178198  10.00    0.035640\n",
       "Pro         0.178196  10.00    0.035639\n",
       "Ser         0.179566  10.00    0.035913\n",
       "Thr         0.178198  10.00    0.035640\n",
       "Trp         0.178201  10.00    0.035640\n",
       "Tyr         0.178020  10.00    0.035604\n",
       "Val         0.178024  10.00    0.035605\n",
       "GENE        0.000718   4.96    0.000071"
      ]
     },
     "execution_count": 339,
     "metadata": {},
     "output_type": "execute_result"
    }
   ],
   "source": [
    "cfps_conc"
   ]
  },
  {
   "cell_type": "code",
   "execution_count": 5,
   "metadata": {},
   "outputs": [],
   "source": [
    "model = cobra.io.read_sbml_model(filename='../models/iJO1366.xml')"
   ]
  },
  {
   "cell_type": "code",
   "execution_count": 6,
   "metadata": {},
   "outputs": [],
   "source": [
    "varner = cobra.io.load_json_model('../models/varner_rfp.json')\n",
    "def extract_txtl_rxns(model):\n",
    "    aa_metabs = []\n",
    "    for aa in Bio.PDB.Polypeptide.aa3:\n",
    "        aa_metabs += model.metabolites.query(aa.lower())\n",
    "    aa_rxns = []\n",
    "    for aa_metab in aa_metabs:\n",
    "        aa_rxns += aa_metab.reactions\n",
    "    tx_rxns = model.reactions.query('transcription')\n",
    "    tl_rxns = model.reactions.query('translation')\n",
    "    prot_rxns = model.reactions.query('PROTEIN')\n",
    "    txtl_rxns = list(set(aa_rxns).union(tx_rxns).union(tl_rxns).union(prot_rxns))\n",
    "    return txtl_rxns\n",
    "txtl_rxns = extract_txtl_rxns(varner)"
   ]
  },
  {
   "cell_type": "code",
   "execution_count": 229,
   "metadata": {},
   "outputs": [
    {
     "data": {
      "text/plain": [
       "['10fthf',\n",
       " '12dgr120',\n",
       " '12dgr140',\n",
       " '12dgr141',\n",
       " '12dgr160',\n",
       " '12dgr161',\n",
       " '12dgr180',\n",
       " '12dgr181',\n",
       " '12ppd__R',\n",
       " '12ppd__S']"
      ]
     },
     "execution_count": 229,
     "metadata": {},
     "output_type": "execute_result"
    }
   ],
   "source": [
    "metab_ids = [m.id.rsplit('_c', 1)[0] for m in model.metabolites if m.compartment == 'c']\n",
    "metab_ids[:10]"
   ]
  },
  {
   "cell_type": "code",
   "execution_count": 385,
   "metadata": {},
   "outputs": [],
   "source": [
    "varner_to_ijo = {'5pbdra': 'pram',\n",
    "                'faicar': 'fprica',\n",
    "                '78dhf': 'dhpt',\n",
    "                '78mdp': '6hmhptpp',\n",
    "                'cadav': '15dap',\n",
    "                'cair': '5aizc',\n",
    "                'clasp': 'cbp',\n",
    "                'fgar': 'fgam',\n",
    "                'gaba': '4abut',\n",
    "                'glycoA': 'gcald',\n",
    "                'nh3': 'nh4',\n",
    "                'he': 'h',\n",
    "                'omp': 'orot5p',\n",
    "                 'or': 'orot',\n",
    "                 'prop': 'ppcoa',\n",
    "                 'mglx': 'mthgxl',\n",
    "                 'saicar': '25aics'\n",
    "                }"
   ]
  },
  {
   "cell_type": "code",
   "execution_count": 393,
   "metadata": {},
   "outputs": [
    {
     "name": "stdout",
     "output_type": "stream",
     "text": [
      "6pgc_c\n",
      "6pgl_c\n",
      "dhpt_c\n",
      "6hmhptpp_c\n",
      "ac_c\n",
      "accoa_c\n",
      "actp_c\n",
      "adp_c\n",
      "aicar_c\n",
      "air_c\n",
      "akg_c\n",
      "ala__L_c\n",
      "alatrna_c\n",
      "amp_c\n",
      "arg__L_c\n",
      "argtrna_c\n",
      "asn__L_c\n",
      "asntrna_c\n",
      "asp__L_c\n",
      "asptrna_c\n",
      "atp_c\n",
      "15dap_c\n",
      "5aizc_c\n",
      "cdp_c\n",
      "chor_c\n",
      "cit_c\n",
      "cbp_c\n",
      "cmp_c\n",
      "co2_c\n",
      "coa_c\n",
      "ctp_c\n",
      "cys__L_c\n",
      "cystrna_c\n",
      "dhap_c\n",
      "dhf_c\n",
      "e4p_c\n",
      "etoh_c\n",
      "f6p_c\n",
      "fprica_c\n",
      "fdp_c\n",
      "fgam_c\n",
      "fgam_c\n",
      "for_c\n",
      "fum_c\n",
      "g3p_c\n",
      "g6p_c\n",
      "4abut_c\n",
      "gar_c\n",
      "gdp_c\n",
      "glc__D_c\n",
      "gln__L_c\n",
      "glntrna_c\n",
      "glu__L_c\n",
      "glutrna_c\n",
      "glx_c\n",
      "gly_c\n",
      "glytrna_c\n",
      "gcald_c\n",
      "gmp_c\n",
      "gtp_c\n",
      "h2o2_c\n",
      "h2o_c\n",
      "h2s_c\n",
      "h_c\n",
      "hco3_c\n",
      "h_c\n",
      "his__L_c\n",
      "histrna_c\n",
      "icit_c\n",
      "ile__L_c\n",
      "iletrna_c\n",
      "imp_c\n",
      "indole_c\n",
      "lac__D_c\n",
      "leu__L_c\n",
      "leutrna_c\n",
      "lys__L_c\n",
      "lystrna_c\n",
      "mal__L_c\n",
      "met__L_c\n",
      "mettrna_c\n",
      "methf_c\n",
      "mthgxl_c\n",
      "mlthf_c\n",
      "mql8_c\n",
      "mqn8_c\n",
      "nad_c\n",
      "nadh_c\n",
      "nadp_c\n",
      "nadph_c\n",
      "nh4_c\n",
      "o2_c\n",
      "oaa_c\n",
      "orot5p_c\n",
      "orot_c\n",
      "pep_c\n",
      "phe__L_c\n",
      "phetrna_c\n",
      "pi_c\n",
      "ppi_c\n",
      "pro__L_c\n",
      "protrna_c\n",
      "ppcoa_c\n",
      "prpp_c\n",
      "pyr_c\n",
      "q8_c\n",
      "q8h2_c\n",
      "r5p_c\n",
      "ru5p__D_c\n",
      "s7p_c\n",
      "25aics_c\n",
      "ser__L_c\n",
      "sertrna_c\n",
      "succ_c\n",
      "succoa_c\n",
      "thf_c\n",
      "thr__L_c\n",
      "thrtrna_c\n",
      "trp__L_c\n",
      "trptrna_c\n",
      "tyr__L_c\n",
      "tyrtrna_c\n",
      "udp_c\n",
      "ump_c\n",
      "utp_c\n",
      "val__L_c\n",
      "valtrna_c\n",
      "xmp_c\n",
      "xu5p__D_c\n"
     ]
    }
   ],
   "source": [
    "for i, metab in enumerate(varner.metabolites):\n",
    "    if i < 10:\n",
    "        continue\n",
    "    if not metab.id.startswith('M_'):\n",
    "        continue\n",
    "    metab_stem = metab.id.split('M_')[1].rsplit('_c', 1)[0]\n",
    "    #print metab_stem\n",
    "    if 'tRNA' in metab_stem:\n",
    "        aa = metab_stem.split('_', 1)[0]\n",
    "        metab_name = aa + 'trna'\n",
    "    elif not metab_stem in metab_ids:\n",
    "        #query = varner_to_ijo[metab_stem]\n",
    "        #print metab_stem\n",
    "        if metab_stem in varner_to_ijo:\n",
    "            #print 'matched'\n",
    "            metab_name = varner_to_ijo[metab_stem]\n",
    "        elif '_L' in metab_stem or '_D' in metab_stem:\n",
    "            #print difflib.get_close_matches(metab_stem, metab_ids, 1, 0.7)\n",
    "            metab_name = difflib.get_close_matches(metab_stem, metab_ids, 1, 0.7)[0]\n",
    "        else:\n",
    "            print 'TODO'\n",
    "            raise Exception\n",
    "    else:\n",
    "        metab_name = metab_stem\n",
    "    print model.metabolites.get_by_id(metab_name + '_c')"
   ]
  },
  {
   "cell_type": "code",
   "execution_count": 145,
   "metadata": {},
   "outputs": [
    {
     "name": "stdout",
     "output_type": "stream",
     "text": [
      "tyr_L_c\n",
      "^tyr\\D*L_c\n",
      "[<Metabolite tyr__L_c at 0x115824350>]\n",
      "ala_L_c\n",
      "^ala\\D*L_c\n",
      "[<Metabolite ala__L_c at 0x115645bd0>]\n",
      "atp_c\n",
      "^atp\\D*c\n",
      "[<Metabolite atp_c at 0x115666ad0>]\n",
      "ppi_c\n",
      "^ppi\\D*c\n",
      "[<Metabolite ppi_c at 0x1157afd10>]\n",
      "amp_c\n",
      "^amp\\D*c\n",
      "[<Metabolite amp_c at 0x115655490>]\n",
      "h2o_c\n",
      "^h2o\\D*c\n",
      "[<Metabolite h2o_c at 0x115711e50>]\n",
      "ala_L_c_tRNA_c\n",
      "^ala\\D*L_c_tRNA_c\n",
      "[]\n",
      "val_L_c\n",
      "^val\\D*L_c\n",
      "[<Metabolite val__L_c at 0x115834bd0>]\n",
      "val_L_c\n",
      "^val\\D*L_c\n",
      "[<Metabolite val__L_c at 0x115834bd0>]\n",
      "his_L_c\n",
      "^his\\D*L_c\n",
      "[<Metabolite his__L_c at 0x115723890>]\n",
      "ala_L_c\n",
      "^ala\\D*L_c\n",
      "[<Metabolite ala__L_c at 0x115645bd0>]\n",
      "glu_L_c\n",
      "^glu\\D*L_c\n",
      "[<Metabolite glu__L_c at 0x1157017d0>]\n",
      "akg_c\n",
      "^akg\\D*c\n",
      "[<Metabolite akg_c at 0x115645a10>]\n",
      "pyr_c\n",
      "^pyr\\D*c\n",
      "[<Metabolite pyr_c at 0x1157d2190>]\n",
      "or_c\n",
      "^or\\D*c\n",
      "[<Metabolite orn_c at 0x11578d610>, <Metabolite orot_c at 0x11578d690>]\n",
      "q8h2_c\n",
      "^q8h2\\D*c\n",
      "[<Metabolite q8h2_c at 0x1157d2290>]\n",
      "q8_c\n",
      "^q8\\D*c\n",
      "[<Metabolite q8_c at 0x1157d2210>]\n",
      "pi_c\n",
      "^pi\\D*c\n",
      "[<Metabolite pi_c at 0x1157af590>, <Metabolite pimACP_c at 0x1157af610>]\n",
      "clasp_c\n",
      "^clasp\\D*c\n",
      "[]\n",
      "h2o_c\n",
      "^h2o\\D*c\n",
      "[<Metabolite h2o_c at 0x115711e50>]\n",
      "asp_L_c\n",
      "^asp\\D*L_c\n",
      "[<Metabolite asp__L_c at 0x115666790>]\n",
      "adp_c\n",
      "^adp\\D*c\n",
      "[<Metabolite adp_c at 0x115645210>, <Metabolite adpglc_c at 0x1156452d0>, <Metabolite adphep_DD_c at 0x115645290>, <Metabolite adphep_LD_c at 0x115645410>, <Metabolite adprib_c at 0x115645490>]\n",
      "gar_c\n",
      "^gar\\D*c\n",
      "[<Metabolite gar_c at 0x1156f18d0>, <Metabolite garagund_c at 0x1156f1a10>]\n",
      "5pbdra\n"
     ]
    },
    {
     "ename": "IndexError",
     "evalue": "list index out of range",
     "output_type": "error",
     "traceback": [
      "\u001b[0;31m---------------------------------------------------------------------------\u001b[0m",
      "\u001b[0;31mIndexError\u001b[0m                                Traceback (most recent call last)",
      "\u001b[0;32m<ipython-input-145-62dc5f54c933>\u001b[0m in \u001b[0;36m<module>\u001b[0;34m()\u001b[0m\n\u001b[1;32m      8\u001b[0m         \u001b[0;32mprint\u001b[0m \u001b[0mmetab_stem\u001b[0m\u001b[0;34m\u001b[0m\u001b[0m\n\u001b[1;32m      9\u001b[0m         \u001b[0mmetab_stem_parts\u001b[0m \u001b[0;34m=\u001b[0m \u001b[0mmetab_stem\u001b[0m\u001b[0;34m.\u001b[0m\u001b[0msplit\u001b[0m\u001b[0;34m(\u001b[0m\u001b[0;34m'_'\u001b[0m\u001b[0;34m,\u001b[0m \u001b[0;36m1\u001b[0m\u001b[0;34m)\u001b[0m\u001b[0;34m\u001b[0m\u001b[0m\n\u001b[0;32m---> 10\u001b[0;31m         \u001b[0mquery\u001b[0m \u001b[0;34m=\u001b[0m \u001b[0mre\u001b[0m\u001b[0;34m.\u001b[0m\u001b[0mcompile\u001b[0m\u001b[0;34m(\u001b[0m\u001b[0;34m'^'\u001b[0m \u001b[0;34m+\u001b[0m \u001b[0mmetab_stem_parts\u001b[0m\u001b[0;34m[\u001b[0m\u001b[0;36m0\u001b[0m\u001b[0;34m]\u001b[0m \u001b[0;34m+\u001b[0m \u001b[0;34m'\\D*'\u001b[0m \u001b[0;34m+\u001b[0m \u001b[0mmetab_stem_parts\u001b[0m\u001b[0;34m[\u001b[0m\u001b[0;36m1\u001b[0m\u001b[0;34m]\u001b[0m\u001b[0;34m)\u001b[0m\u001b[0;34m\u001b[0m\u001b[0m\n\u001b[0m\u001b[1;32m     11\u001b[0m         \u001b[0;32mprint\u001b[0m \u001b[0mquery\u001b[0m\u001b[0;34m.\u001b[0m\u001b[0mpattern\u001b[0m\u001b[0;34m\u001b[0m\u001b[0m\n\u001b[1;32m     12\u001b[0m         \u001b[0;32mprint\u001b[0m \u001b[0mmodel\u001b[0m\u001b[0;34m.\u001b[0m\u001b[0mmetabolites\u001b[0m\u001b[0;34m.\u001b[0m\u001b[0mquery\u001b[0m\u001b[0;34m(\u001b[0m\u001b[0mquery\u001b[0m\u001b[0;34m)\u001b[0m\u001b[0;34m\u001b[0m\u001b[0m\n",
      "\u001b[0;31mIndexError\u001b[0m: list index out of range"
     ]
    }
   ],
   "source": [
    "metabs = set()\n",
    "for i, rxn in enumerate(txtl_rxns):\n",
    "    rxn_metabs = rxn.metabolites\n",
    "    for rxn_metab, _ in rxn_metabs.items():\n",
    "        if not rxn_metab.id.startswith('M_'):\n",
    "            continue\n",
    "        metab_stem = rxn_metab.id.split('M_')[1]\n",
    "        print metab_stem\n",
    "        metab_stem_parts = metab_stem.split('_', 1)\n",
    "        query = re.compile('^' + metab_stem_parts[0] + '\\D*' + metab_stem_parts[1])\n",
    "        print query.pattern\n",
    "        print model.metabolites.query(query)\n",
    "    if i > 10:\n",
    "        break"
   ]
  },
  {
   "cell_type": "code",
   "execution_count": 186,
   "metadata": {},
   "outputs": [
    {
     "data": {
      "text/html": [
       "\n",
       "        <table>\n",
       "            <tr>\n",
       "                <td><strong>Metabolite identifier</strong></td><td>chor_c</td>\n",
       "            </tr><tr>\n",
       "                <td><strong>Name</strong></td><td>Chorismate</td>\n",
       "            </tr><tr>\n",
       "                <td><strong>Memory address</strong></td>\n",
       "                <td>0x0117a191d0</td>\n",
       "            </tr><tr>\n",
       "                <td><strong>Formula</strong></td><td>C10H8O6</td>\n",
       "            </tr><tr>\n",
       "                <td><strong>Compartment</strong></td><td>c</td>\n",
       "            </tr><tr>\n",
       "                <td><strong>In 8 reaction(s)</strong></td><td>\n",
       "                    CHORM, CHORS, CHRPL, BIOMASS_Ec_iJO1366_WT_53p95M, ADCS, ANS, ICHORS_copy1, ICHORS_copy2</td>\n",
       "            </tr>\n",
       "        </table>"
      ],
      "text/plain": [
       "<Metabolite chor_c at 0x117a191d0>"
      ]
     },
     "execution_count": 186,
     "metadata": {},
     "output_type": "execute_result"
    }
   ],
   "source": [
    "rfp.metabolites.chor_c"
   ]
  },
  {
   "cell_type": "code",
   "execution_count": 187,
   "metadata": {},
   "outputs": [
    {
     "data": {
      "text/html": [
       "\n",
       "        <table>\n",
       "            <tr>\n",
       "                <td><strong>Reaction identifier</strong></td><td>ADCS</td>\n",
       "            </tr><tr>\n",
       "                <td><strong>Name</strong></td><td>4-amino-4-deoxychorismate synthase</td>\n",
       "            </tr><tr>\n",
       "                <td><strong>Memory address</strong></td>\n",
       "                <td>0x0117c5e910</td>\n",
       "            </tr><tr>\n",
       "                <td><strong>Stoichiometry</strong></td>\n",
       "                <td>\n",
       "                    <p style='text-align:right'>chor_c + gln__L_c --> 4adcho_c + glu__L_c</p>\n",
       "                    <p style='text-align:right'>Chorismate + L-Glutamine --> 4-amino-4-deoxychorismate + L-Glutamate</p>\n",
       "                </td>\n",
       "            </tr><tr>\n",
       "                <td><strong>GPR</strong></td><td>b3360 and b1812</td>\n",
       "            </tr><tr>\n",
       "                <td><strong>Lower bound</strong></td><td>0.0</td>\n",
       "            </tr><tr>\n",
       "                <td><strong>Upper bound</strong></td><td>1000.0</td>\n",
       "            </tr>\n",
       "        </table>\n",
       "        "
      ],
      "text/plain": [
       "<Reaction ADCS at 0x117c5e910>"
      ]
     },
     "execution_count": 187,
     "metadata": {},
     "output_type": "execute_result"
    }
   ],
   "source": [
    "rfp.reactions.ADCS"
   ]
  },
  {
   "cell_type": "code",
   "execution_count": 40,
   "metadata": {},
   "outputs": [],
   "source": [
    "obj_rxn = varner.reactions.query('export')\n",
    "varner.objective = obj_rxn[0]b"
   ]
  },
  {
   "cell_type": "code",
   "execution_count": 45,
   "metadata": {},
   "outputs": [
    {
     "name": "stdout",
     "output_type": "stream",
     "text": [
      "IN FLUXES        OUT FLUXES           OBJECTIVES\n",
      "---------------  -------------------  -----------------------\n",
      "M_glc_D_c  1.79  M_co2_c      3.75    PROTEIN_expo...  0.0124\n",
      "                 M_h2o_c      3.68\n",
      "                 M_ac_c       3.59\n",
      "                 tRNA_c       0.0124\n",
      "                 PROTEIN_RFP  0.0124\n"
     ]
    }
   ],
   "source": [
    "varner.summary()"
   ]
  },
  {
   "cell_type": "code",
   "execution_count": 49,
   "metadata": {},
   "outputs": [],
   "source": [
    "rfp = model.copy()\n",
    "rfp.add_reactions(txtl_rxns)"
   ]
  },
  {
   "cell_type": "code",
   "execution_count": 52,
   "metadata": {},
   "outputs": [],
   "source": [
    "rfp_obj = rfp.reactions.query('PROTEIN')[0]\n",
    "rfp.objective = rfp_obj"
   ]
  },
  {
   "cell_type": "code",
   "execution_count": 53,
   "metadata": {},
   "outputs": [
    {
     "name": "stderr",
     "output_type": "stream",
     "text": [
      "cobra/util/solver.py:403 \u001b[1;31mUserWarning\u001b[0m: solver status is 'infeasible'\n"
     ]
    },
    {
     "data": {
      "text/html": [
       "<strong><em>infeasible</em> solution</strong>"
      ],
      "text/plain": [
       "<Solution infeasible at 0x11727b1d0>"
      ]
     },
     "execution_count": 53,
     "metadata": {},
     "output_type": "execute_result"
    }
   ],
   "source": [
    "sol = rfp.optimize()\n",
    "sol"
   ]
  },
  {
   "cell_type": "code",
   "execution_count": 59,
   "metadata": {},
   "outputs": [
    {
     "data": {
      "text/html": [
       "\n",
       "        <table>\n",
       "            <tr>\n",
       "                <td><strong>Reaction identifier</strong></td><td>translation_RFP</td>\n",
       "            </tr><tr>\n",
       "                <td><strong>Name</strong></td><td>translation_RFP</td>\n",
       "            </tr><tr>\n",
       "                <td><strong>Memory address</strong></td>\n",
       "                <td>0x0117831910</td>\n",
       "            </tr><tr>\n",
       "                <td><strong>Stoichiometry</strong></td>\n",
       "                <td>\n",
       "                    <p style='text-align:right'>5 M_ala_L_c_tRNA_c + 8 M_arg_L_c_tRNA_c + 5 M_asn_L_c_tRNA_c + 14 M_asp_L_c_tRNA_c + M_cys_L_c_tRNA_c + 8 M_gln_L_c_tRNA_c + 20 M_glu_L_c_tRNA_c + 22 M_gly_L_c_tRNA_c + 452 M_gtp_c + 452 M_h2o_c + ...</p>\n",
       "                    <p style='text-align:right'>5 M_ala_L_c_tRNA_c + 8 M_arg_L_c_tRNA_c + 5 M_asn_L_c_tRNA_c + 14 M_asp_L_c_tRNA_c + M_cys_L_c_tRNA_c + 8 M_gln_L_c_tRNA_c + 20 M_glu_L_c_tRNA_c + 22 M_gly_L_c_tRNA_c + 452 M_gtp_c + 452 M_h2o_c + ...</p>\n",
       "                </td>\n",
       "            </tr><tr>\n",
       "                <td><strong>GPR</strong></td><td></td>\n",
       "            </tr><tr>\n",
       "                <td><strong>Lower bound</strong></td><td>0.0</td>\n",
       "            </tr><tr>\n",
       "                <td><strong>Upper bound</strong></td><td>100.0</td>\n",
       "            </tr>\n",
       "        </table>\n",
       "        "
      ],
      "text/plain": [
       "<Reaction translation_RFP at 0x117831910>"
      ]
     },
     "execution_count": 59,
     "metadata": {},
     "output_type": "execute_result"
    }
   ],
   "source": [
    "rfp.reactions.translation_RFP"
   ]
  },
  {
   "cell_type": "code",
   "execution_count": 43,
   "metadata": {},
   "outputs": [],
   "source": [
    "cobra.io.write_sbml_model(filename='../models/ecoli_rfp.sbml', cobra_model=varner)"
   ]
  },
  {
   "cell_type": "code",
   "execution_count": 8,
   "metadata": {},
   "outputs": [],
   "source": [
    "alc_dehydr = cobra.Reaction(id='ALCDBUT', name='Alcohol dehydrogenase (butanal)', subsystem='c')\n",
    "model.add_reaction(alc_dehydr)\n",
    "alc_dehydr.add_metabolites({'btcoa_c': -1, 'h_c': -1, 'nadh_c': -1, 'nad_c': 1, 'btal_c': 1})\n",
    "\n",
    "butanol = cobra.Metabolite(id='btol_c', name='1-butanol', compartment='c', charge=0, formula='C4H9OH')\n",
    "but_synth = cobra.Reaction(id='BUTSYN', name='Butanol synthesis', subsystem='c')\n",
    "model.add_reaction(but_synth)\n",
    "but_synth.add_metabolites({'btal_c': -1, 'h_c': -1, 'nadh_c': -1, 'nad_c': 1, butanol: 1})"
   ]
  },
  {
   "cell_type": "code",
   "execution_count": 9,
   "metadata": {},
   "outputs": [],
   "source": [
    "utils.change_obj(model=model, metab=model.metabolites.btol_c)"
   ]
  },
  {
   "cell_type": "code",
   "execution_count": 10,
   "metadata": {},
   "outputs": [],
   "source": [
    "cobra.io.write_sbml_model(filename='../models/ecoli_but.sbml', cobra_model=model)"
   ]
  },
  {
   "cell_type": "code",
   "execution_count": 229,
   "metadata": {},
   "outputs": [],
   "source": [
    "import Bio.PDB.Polypeptide as pdb\n",
    "import Bio.SeqUtils as su\n",
    "\n",
    "aa_mix = pd.read_csv('../data/aa_mix.csv', index_col='AA')\n",
    "nrg_mix = pd.read_csv('../data/energy_mix.csv', index_col='compound')\n",
    "with open('../genes/rfp.txt', 'r') as f:\n",
    "    seq = f.read()\n",
    "cfps_conc = pd.read_csv('../data/cfps_start.csv', index_col='compound')\n",
    "\n",
    "# amt in g, vol in mL, mw in g/mol\n",
    "def calc_conc(amt, vol, mw=None, seq=None, seq_type=None):\n",
    "    # seq can be DNA or protein or an amino acid\n",
    "    if seq:\n",
    "        mw = su.molecular_weight(seq, seq_type)\n",
    "    elif not mw:\n",
    "        raise Exception('Need a molecular weight for non-DNA')\n",
    "    conc = (amt * 1000) / (vol * mw)\n",
    "    # returns Molar concentrations\n",
    "    return conc\n",
    "\n",
    "def conc_dilution(start_conc, vol_add, tot_vol):\n",
    "    return start_conc * (vol_add / tot_vol)\n",
    "\n",
    "aa_mix['start_conc'] = aa_mix.apply(lambda row: calc_conc(row['weight_add'], 1, \n",
    "                                                          seq=pdb.three_to_one(row.name.upper()), seq_type='protein'), axis=1)\n",
    "aa_mix['conc_add'] = conc_dilution(aa_mix['start_conc'], aa_mix['vol_add'], aa_mix['vol_add'].sum())\n",
    "#pi\n",
    "pi_conc = calc_conc(0.15, 5, mw=611.77)\n",
    "nrg_mix['start_conc'] = nrg_mix.apply(lambda row: calc_conc(row['amt'], row['fill'], mw=row['mw']), axis=1)\n",
    "nrg_mix['conc_add'] = conc_dilution(nrg_mix['start_conc'], nrg_mix['vol_add'], nrg_mix['vol_add'].sum())\n",
    "dna_conc = calc_conc(0.000750, 0.00496, seq=seq, seq_type='DNA')\n",
    "\n",
    "for cmpnd, vals in nrg_mix.iterrows():\n",
    "    cfps_conc.loc[cmpnd] = [vals['conc_add'], 5]\n",
    "for aa, vals in aa_mix.iterrows():\n",
    "    cfps_conc.loc[aa] = [vals['conc_add'], 10]\n",
    "cfps_conc.loc['GENE'] = [dna_conc, 4.96]\n",
    "cfps_conc['final_conc'] = conc_dilution(cfps_conc['start_conc'], cfps_conc['amt'], 50)"
   ]
  },
  {
   "cell_type": "code",
   "execution_count": 311,
   "metadata": {},
   "outputs": [],
   "source": [
    "model = cobra.io.read_sbml_model(filename='../models/iJO1366.xml')"
   ]
  },
  {
   "cell_type": "code",
   "execution_count": 253,
   "metadata": {},
   "outputs": [],
   "source": [
    "def get_aa_metab(model, aa, cmpt='c'):\n",
    "    return model.metabolites.query('{0}__._{1}'.format(aa, cmpt))"
   ]
  },
  {
   "cell_type": "code",
   "execution_count": 431,
   "metadata": {},
   "outputs": [],
   "source": [
    "def replace_metab(mod, metab):\n",
    "    new_id = re.sub(r'_.$', '_c', metab.id)\n",
    "    try:\n",
    "        cyt = mod.metabolites.get_by_id(new_id)\n",
    "    except:\n",
    "        cyt = metab\n",
    "        cyt.id = new_id\n",
    "        cyt.compartment = 'c'\n",
    "    return cyt"
   ]
  },
  {
   "cell_type": "code",
   "execution_count": 432,
   "metadata": {},
   "outputs": [],
   "source": [
    "def coalesce_cmpts(model)\n",
    "    mod = model.copy()\n",
    "    for rxn in mod.reactions:\n",
    "        if 'p' in rxn.compartments or 'e' in rxn.compartments:\n",
    "            #mod.remove_reactions(reactions=[rxn])\n",
    "            for metab, amt in rxn.metabolites.items():\n",
    "                cyt = replace_metab(mod, metab)\n",
    "                rxn.add_metabolites({metab: -1 * amt})\n",
    "                rxn.add_metabolites({cyt: amt})\n",
    "            rxn.comparments = set('c')\n",
    "            rx\n",
    "            #mod.add_reaction(reaction=rxn)\n",
    "    for m in mod.metabolites.query(r'.*_e$'):\n",
    "        m.remove_from_model(destructive=True)\n",
    "    for m in mod.metabolites.query(r'.*_p$'):\n",
    "        m.remove_from_model(destructive=True)\n",
    "    return mod\n",
    "model_cyt = coalesce_cmpts(model)"
   ]
  },
  {
   "cell_type": "code",
   "execution_count": 459,
   "metadata": {},
   "outputs": [
    {
     "name": "stdout",
     "output_type": "stream",
     "text": [
      "set([<Reaction EX_spmd_e at 0x133f0cc10>, <Reaction EX_cys__L_e at 0x133eb1b10>, <Reaction EX_trp__L_e at 0x133f2a050>, <Reaction EX_met__D_e at 0x133eeec10>, <Reaction EX_gtp_e at 0x133eee090>, <Reaction EX_gln__L_e at 0x133ecfcd0>, <Reaction EX_pi_e at 0x133f0c4d0>, <Reaction EX_glu__L_e at 0x133ecfd10>, <Reaction EX_arg__L_e at 0x133eb12d0>, <Reaction EX_his__L_e at 0x133eee390>, <Reaction EX_k_e at 0x133eee650>, <Reaction EX_val__L_e at 0x133f2a4d0>, <Reaction EX_met__L_e at 0x133eeec50>, <Reaction EX_tyr__L_e at 0x133f2a210>, <Reaction EX_ala__L_e at 0x133eb1050>, <Reaction EX_thr__L_e at 0x133f0ce50>, <Reaction EX_mg2_e at 0x133eeed10>, <Reaction EX_ser__L_e at 0x133f0ca90>, <Reaction EX_ser__D_e at 0x133f0ca50>, <Reaction EX_cys__D_e at 0x133eb1ad0>, <Reaction EX_asp__L_e at 0x133eb13d0>, <Reaction EX_pser__L_e at 0x133f0c710>, <Reaction EX_ile__L_e at 0x133eee4d0>, <Reaction EX_asn__L_e at 0x133eb1350>, <Reaction EX_lys__L_e at 0x133eee890>, <Reaction EX_glc__D_e at 0x133ecfb90>, <Reaction EX_pro__L_e at 0x133f0c650>, <Reaction EX_ala__D_e at 0x133e96fd0>, <Reaction EX_phe__L_e at 0x133f0c450>, <Reaction EX_leu__L_e at 0x133eee790>])\n"
     ]
    }
   ],
   "source": [
    "def strip_exchanges(mod, reactants):\n",
    "    # Delete transmembrane transport reactions\n",
    "    model = mod.copy()\n",
    "\n",
    "    # Add exchange reactions for all metabolites\n",
    "    # Exchange‐reactions for non‐substrate metabolites have lb of 0 and ub of 1000 by default\n",
    "    #all_metab_ex = utils.gen_metab_dict(model, model.metabolites, cnvt=False)\n",
    "\n",
    "    #utils.add_ex(model, all_metab_ex)\n",
    "    exs = set()\n",
    "    for metab in reactants:\n",
    "        if metab == 'trna':\n",
    "            for trna in model.metabolites.query('trna'):\n",
    "                exs = exs.union(trna.reactions.intersection(model.exchanges))\n",
    "        elif metab.upper() in pdb.aa3:\n",
    "            aas = get_aa_metab(model, metab.lower(), cmpt='c')\n",
    "            for aa in aas:\n",
    "                exs = exs.union(aa.reactions.intersection(model.exchanges))\n",
    "        else:\n",
    "            m = model.metabolites.get_by_id('{0}_c'.format(metab))\n",
    "            exs = exs.union(m.reactions.intersection(model.exchanges))\n",
    "    model.remove_reactions(exs)\n",
    "    #['EX_glc_e', 'EX_pi_e', 'EX_mg2_e', 'EX_k_e', 'EX_nh4_e'])\n",
    "\n",
    "    # As objective function, we selected the exchange reaction which corresponds to the target metabolite \n",
    "    # for which a pathway should be determined.   \n",
    "    return model\n",
    "model_bare = strip_exchanges(model_cyt, cfps_conc.index[:-1])"
   ]
  },
  {
   "cell_type": "code",
   "execution_count": 460,
   "metadata": {},
   "outputs": [],
   "source": [
    "def build_medium(model, cfps_conc):\n",
    "    mod = model.copy()\n",
    "    \n",
    "    for metab, vals in cfps_conc.iterrows():\n",
    "        flux = utils.conc_to_flux(vals['final_conc']) * 100\n",
    "\n",
    "        if metab == 'trna':\n",
    "            ms = model.metabolites.query('trna')\n",
    "        elif metab.upper() in pdb.aa3:\n",
    "            ms = get_aa_metab(model, metab.lower(), cmpt='c')\n",
    "        else:\n",
    "            ms = mod.metabolites.query(r'^{0}_c'.format(metab))\n",
    "        for m in ms:\n",
    "            rxn_nm = 'EX_' + m.id\n",
    "            mod.add_boundary(metabolite=m, type='exchange', lb=0, ub=flux)\n",
    "            #mod.add_boundary(metabolite=m, type='cfps-medium', reaction_id=rxn_nm, lb=0, ub=flux) \n",
    "    return mod\n",
    "model_cf = build_medium(model_bare, cfps_conc)"
   ]
  },
  {
   "cell_type": "code",
   "execution_count": 461,
   "metadata": {},
   "outputs": [
    {
     "name": "stdout",
     "output_type": "stream",
     "text": [
      "IN FLUXES            OUT FLUXES            OBJECTIVES\n",
      "-------------------  --------------------  ---------------------\n",
      "o2_c       2.97      h2o_c      18         BIOMASS_Ec_i...  2.55\n",
      "h_c        2.66      nh4_c       7.39\n",
      "arg__L_c   1.79      co2_c       4.61\n",
      "pser__L_c  1.5       succ_c      2.32\n",
      "asn__L_c   1.48      so4_c       1.47\n",
      "athr__L_c  1.48      indole_c    1.05\n",
      "thr__L_c   1.48      urea_c      1.04\n",
      "glu__D_c   1.48      fum_c       0.536\n",
      "glu__L_c   1.48      nac_c       0.0131\n",
      "asp__L_c   1.48      hcys__L_c   0.00114\n",
      "ala__D_c   1.48      mththf_c    0.00114\n",
      "ala__L_c   1.48      5drib_c     0.000574\n",
      "gln__L_c   1.48      4crsol_c    0.000569\n",
      "cys__D_c   1.48      trnaglu_c   0.000434\n",
      "trp__L_c   1.2       meoh_c      5.1e-06\n",
      "leu__L_c   1.15      amob_c      5.1e-06\n",
      "val__L_c   1.08\n",
      "lys__L_c   0.875\n",
      "pro__L_c   0.796\n",
      "ile__L_c   0.741\n",
      "k_c        0.498\n",
      "phe__L_c   0.473\n",
      "met__L_c   0.394\n",
      "tyr__L_c   0.352\n",
      "his__L_c   0.242\n",
      "cys__L_c   0.238\n",
      "glc__D_c   0.226\n",
      "gtp_c      0.0874\n",
      "atp_c      0.0872\n",
      "ctp_c      0.0525\n",
      "utp_c      0.0525\n",
      "camp_c     0.0422\n",
      "pi_c       0.0409\n",
      "mg2_c      0.0221\n",
      "fe2_c      0.0211\n",
      "fe3_c      0.0199\n",
      "nad_c      0.0189\n",
      "ca2_c      0.0133\n",
      "cl_c       0.0133\n",
      "cu2_c      0.00181\n",
      "mn2_c      0.00176\n",
      "5fthf_c    0.00171\n",
      "coa_c      0.00147\n",
      "zn2_c      0.00087\n",
      "ni2_c      0.000824\n",
      "glutrna_c  0.000434\n",
      "mobd_c     0.000329\n",
      "cobalt2_c  6.38e-05\n"
     ]
    }
   ],
   "source": [
    "sol = model_cf.optimize()\n",
    "model_cf.summary()"
   ]
  },
  {
   "cell_type": "code",
   "execution_count": 13,
   "metadata": {},
   "outputs": [],
   "source": [
    "model_cf_med = utils.build_medium(model_cf)"
   ]
  },
  {
   "cell_type": "code",
   "execution_count": 14,
   "metadata": {},
   "outputs": [],
   "source": [
    "cobra.io.write_sbml_model(filename='../models/ecoli_cf_base.sbml', cobra_model=model_cf_med)"
   ]
  },
  {
   "cell_type": "code",
   "execution_count": 68,
   "metadata": {},
   "outputs": [
    {
     "name": "stdout",
     "output_type": "stream",
     "text": [
      "IN FLUXES        OUT FLUXES        OBJECTIVES\n",
      "---------------  ----------------  ----------------\n",
      "o2_e      2.03   h2o_e    2.09     DM_btol_c  0.118\n",
      "pro__L_e  0.473  co2_e    1.99\n",
      "glu__L_e  0.417  gdp_e    0.354\n",
      "h_e       0.39   btol_c   0.118\n",
      "gtp_e     0.354  ura_e    0.0523\n",
      "val__L_e  0.118  agm_e    0.0456\n",
      "cys__L_e  0.118  alltn_e  0.00311\n"
     ]
    }
   ],
   "source": [
    "model_cf_med.optimize()\n",
    "model_cf_med.summary()"
   ]
  },
  {
   "cell_type": "code",
   "execution_count": 24,
   "metadata": {},
   "outputs": [
    {
     "data": {
      "text/html": [
       "<div>\n",
       "<style scoped>\n",
       "    .dataframe tbody tr th:only-of-type {\n",
       "        vertical-align: middle;\n",
       "    }\n",
       "\n",
       "    .dataframe tbody tr th {\n",
       "        vertical-align: top;\n",
       "    }\n",
       "\n",
       "    .dataframe thead th {\n",
       "        text-align: right;\n",
       "    }\n",
       "</style>\n",
       "<table border=\"1\" class=\"dataframe\">\n",
       "  <thead>\n",
       "    <tr style=\"text-align: right;\">\n",
       "      <th></th>\n",
       "      <th>AVG</th>\n",
       "      <th>STD</th>\n",
       "      <th>AVG.1</th>\n",
       "      <th>STD.1</th>\n",
       "      <th>Mg(Glu)2</th>\n",
       "      <th>NH4(Glu)</th>\n",
       "      <th>K(Glu)</th>\n",
       "      <th>Glucose</th>\n",
       "      <th>K2HPO4</th>\n",
       "      <th>NAD</th>\n",
       "      <th>ATP</th>\n",
       "      <th>CoA</th>\n",
       "    </tr>\n",
       "  </thead>\n",
       "  <tbody>\n",
       "    <tr>\n",
       "      <th>0</th>\n",
       "      <td>0.00</td>\n",
       "      <td>0.0</td>\n",
       "      <td>0.00</td>\n",
       "      <td>0.00</td>\n",
       "      <td>8.0</td>\n",
       "      <td>10.0</td>\n",
       "      <td>134</td>\n",
       "      <td>0</td>\n",
       "      <td>10</td>\n",
       "      <td>0.5</td>\n",
       "      <td>0.0</td>\n",
       "      <td>0.5</td>\n",
       "    </tr>\n",
       "    <tr>\n",
       "      <th>1</th>\n",
       "      <td>0.00</td>\n",
       "      <td>0.0</td>\n",
       "      <td>0.00</td>\n",
       "      <td>0.00</td>\n",
       "      <td>8.0</td>\n",
       "      <td>10.0</td>\n",
       "      <td>134</td>\n",
       "      <td>200</td>\n",
       "      <td>10</td>\n",
       "      <td>0.0</td>\n",
       "      <td>0.0</td>\n",
       "      <td>0.5</td>\n",
       "    </tr>\n",
       "    <tr>\n",
       "      <th>2</th>\n",
       "      <td>0.00</td>\n",
       "      <td>0.0</td>\n",
       "      <td>0.00</td>\n",
       "      <td>0.00</td>\n",
       "      <td>8.0</td>\n",
       "      <td>10.0</td>\n",
       "      <td>134</td>\n",
       "      <td>200</td>\n",
       "      <td>10</td>\n",
       "      <td>0.5</td>\n",
       "      <td>0.0</td>\n",
       "      <td>2.0</td>\n",
       "    </tr>\n",
       "    <tr>\n",
       "      <th>3</th>\n",
       "      <td>0.00</td>\n",
       "      <td>0.0</td>\n",
       "      <td>0.00</td>\n",
       "      <td>0.00</td>\n",
       "      <td>8.0</td>\n",
       "      <td>10.0</td>\n",
       "      <td>134</td>\n",
       "      <td>200</td>\n",
       "      <td>10</td>\n",
       "      <td>0.5</td>\n",
       "      <td>0.0</td>\n",
       "      <td>1.6</td>\n",
       "    </tr>\n",
       "    <tr>\n",
       "      <th>4</th>\n",
       "      <td>1.21</td>\n",
       "      <td>1.7</td>\n",
       "      <td>0.09</td>\n",
       "      <td>0.13</td>\n",
       "      <td>8.0</td>\n",
       "      <td>10.0</td>\n",
       "      <td>134</td>\n",
       "      <td>200</td>\n",
       "      <td>10</td>\n",
       "      <td>0.5</td>\n",
       "      <td>2.0</td>\n",
       "      <td>0.5</td>\n",
       "    </tr>\n",
       "  </tbody>\n",
       "</table>\n",
       "</div>"
      ],
      "text/plain": [
       "    AVG  STD  AVG.1  STD.1  Mg(Glu)2  NH4(Glu)  K(Glu)  Glucose  K2HPO4  NAD  \\\n",
       "0  0.00  0.0   0.00   0.00       8.0      10.0     134        0      10  0.5   \n",
       "1  0.00  0.0   0.00   0.00       8.0      10.0     134      200      10  0.0   \n",
       "2  0.00  0.0   0.00   0.00       8.0      10.0     134      200      10  0.5   \n",
       "3  0.00  0.0   0.00   0.00       8.0      10.0     134      200      10  0.5   \n",
       "4  1.21  1.7   0.09   0.13       8.0      10.0     134      200      10  0.5   \n",
       "\n",
       "   ATP  CoA  \n",
       "0  0.0  0.5  \n",
       "1  0.0  0.5  \n",
       "2  0.0  2.0  \n",
       "3  0.0  1.6  \n",
       "4  2.0  0.5  "
      ]
     },
     "execution_count": 24,
     "metadata": {},
     "output_type": "execute_result"
    }
   ],
   "source": [
    "df = pd.read_csv('../data/Karim_MetEng_2018_Figure2_Data.csv')\n",
    "df.drop(columns=['Area_1', 'Area_2', 'Conc_1', 'Conc_2'], inplace=True)\n",
    "df.head()"
   ]
  },
  {
   "cell_type": "code",
   "execution_count": 55,
   "metadata": {},
   "outputs": [],
   "source": [
    "reduced = df.loc[:, ['Glucose', 'NH4(Glu)', 'NAD', 'CoA']].drop_duplicates(keep='first')\n",
    "reduced['AVG.1'] = df.loc[reduced.index, 'AVG.1']\n",
    "reduced.to_csv('../data/reduced.csv')"
   ]
  },
  {
   "cell_type": "code",
   "execution_count": 24,
   "metadata": {},
   "outputs": [],
   "source": [
    "utils.change_obj(model=model_cf_med, metab=model_cf_med.metabolites.btol_c)\n",
    "utils.change_obj(model=model_cf, metab=model_cf.metabolites.btol_c)"
   ]
  },
  {
   "cell_type": "code",
   "execution_count": 66,
   "metadata": {},
   "outputs": [],
   "source": [
    "def add_addl_reactants(model, df):\n",
    "    mod = model.copy()\n",
    "    addl_reagent_nms = ['mg2', 'nh4', 'k', 'glc__D', 'pi', 'nad', 'atp', 'coa']\n",
    "    objs = []\n",
    "    for i, row in df.iterrows():\n",
    "        with mod:\n",
    "            metab_dict = utils.gen_metab_dict(mod, addl_reagent_nms, map(lambda x: -1 * utils.conc_to_flux(x), row[4:]))\n",
    "            rxn = utils.add_exchange(mod, metab_dict, additive=True)\n",
    "            #different_mediums(mod, model)\n",
    "            #mod.add_reactions(reaction_list=sol[0])\n",
    "            obj = mod.slim_optimize()\n",
    "            objs.append(obj)\n",
    "            #print 'Obj: {0}'.format(obj.objective_value)\n",
    "    return objs"
   ]
  },
  {
   "cell_type": "code",
   "execution_count": 70,
   "metadata": {},
   "outputs": [
    {
     "data": {
      "text/html": [
       "\n",
       "        <table>\n",
       "            <tr>\n",
       "                <td><strong>Metabolite identifier</strong></td><td>mg2_c</td>\n",
       "            </tr><tr>\n",
       "                <td><strong>Name</strong></td><td>magnesium</td>\n",
       "            </tr><tr>\n",
       "                <td><strong>Memory address</strong></td>\n",
       "                <td>0x0109757410</td>\n",
       "            </tr><tr>\n",
       "                <td><strong>Formula</strong></td><td>Mg</td>\n",
       "            </tr><tr>\n",
       "                <td><strong>Compartment</strong></td><td>c</td>\n",
       "            </tr><tr>\n",
       "                <td><strong>In 5 reaction(s)</strong></td><td>\n",
       "                    Ec_biomass_iJO1366_core_53p95M, MG2t3_2pp, MG2uabcpp, Ec_biomass_iJO1366_WT_53p95M, MG2tpp</td>\n",
       "            </tr>\n",
       "        </table>"
      ],
      "text/plain": [
       "<Metabolite mg2_c at 0x109757410>"
      ]
     },
     "execution_count": 70,
     "metadata": {},
     "output_type": "execute_result"
    }
   ],
   "source": [
    "model.metabolites.mg2_c"
   ]
  },
  {
   "cell_type": "code",
   "execution_count": 69,
   "metadata": {},
   "outputs": [
    {
     "data": {
      "text/plain": [
       "[1.0632867132867072,\n",
       " 1.5069444444444435,\n",
       " 1.5069444444444435,\n",
       " 1.5069444444444435,\n",
       " 1.5069444444444435,\n",
       " 1.5069444444444435,\n",
       " 2.895833333333339,\n",
       " 1.5069444444444435,\n",
       " 1.5069444444444435,\n",
       " 1.5069444444444435,\n",
       " 1.5069444444444435,\n",
       " 1.5069444444444435,\n",
       " 1.5069444444444435,\n",
       " 1.5069444444444435,\n",
       " 2.340277777777785,\n",
       " 1.5069444444444435,\n",
       " 1.5069444444444435,\n",
       " 1.5069444444444435,\n",
       " 1.5069444444444435,\n",
       " 1.5069444444444435,\n",
       " 1.5069444444444435,\n",
       " 1.5069444444444435,\n",
       " 1.7847222222222205,\n",
       " 1.5069444444444435,\n",
       " 1.5069444444444435,\n",
       " 1.5069444444444435,\n",
       " 1.5069444444444435,\n",
       " 1.5069444444444435,\n",
       " 1.5069444444444435,\n",
       " 1.5069444444444435,\n",
       " 1.5069444444444435,\n",
       " 1.5069444444444435,\n",
       " 1.5069444444444435,\n",
       " 1.5069444444444435,\n",
       " 1.5069444444444435,\n",
       " 0.11805555555555675,\n",
       " 0.6736111111111152,\n",
       " 1.5069444444444435,\n",
       " 1.5069444444444435,\n",
       " 1.5069444444444435,\n",
       " 1.5069444444444435]"
      ]
     },
     "execution_count": 69,
     "metadata": {},
     "output_type": "execute_result"
    }
   ],
   "source": [
    "utils.add_addl_reactants(model_cf_med, df)"
   ]
  },
  {
   "cell_type": "code",
   "execution_count": 12,
   "metadata": {},
   "outputs": [],
   "source": [
    "cobra.io.save_json_model(filename='Full_Ecoli_CF_Base.json', model=model_cf_med)"
   ]
  },
  {
   "cell_type": "code",
   "execution_count": 81,
   "metadata": {},
   "outputs": [
    {
     "data": {
      "text/plain": [
       "{'EX_ca2_e': 1000.0,\n",
       " 'EX_cbl1_e': 0.01,\n",
       " 'EX_cl_e': 1000.0,\n",
       " 'EX_co2_e': 1000.0,\n",
       " 'EX_cobalt2_e': 1000.0,\n",
       " 'EX_cu2_e': 1000.0,\n",
       " 'EX_fe2_e': 1000.0,\n",
       " 'EX_fe3_e': 1000.0,\n",
       " 'EX_glc_e': 10.0,\n",
       " 'EX_h2o_e': 1000.0,\n",
       " 'EX_h_e': 1000.0,\n",
       " 'EX_k_e': 1000.0,\n",
       " 'EX_mg2_e': 1000.0,\n",
       " 'EX_mn2_e': 1000.0,\n",
       " 'EX_mobd_e': 1000.0,\n",
       " 'EX_na1_e': 1000.0,\n",
       " 'EX_nh4_e': 1000.0,\n",
       " 'EX_ni2_e': 1000.0,\n",
       " 'EX_o2_e': 1000.0,\n",
       " 'EX_pi_e': 1000.0,\n",
       " 'EX_sel_e': 1000.0,\n",
       " 'EX_slnt_e': 1000.0,\n",
       " 'EX_so4_e': 1000.0,\n",
       " 'EX_tungs_e': 1000.0,\n",
       " 'EX_zn2_e': 1000.0}"
      ]
     },
     "execution_count": 81,
     "metadata": {},
     "output_type": "execute_result"
    }
   ],
   "source": [
    "model.medium"
   ]
  },
  {
   "cell_type": "code",
   "execution_count": 13,
   "metadata": {},
   "outputs": [
    {
     "name": "stdout",
     "output_type": "stream",
     "text": [
      "IN FLUXES             OUT FLUXES           OBJECTIVES\n",
      "--------------------  -------------------  ----------------------\n",
      "o2_e       17.6       h2o_e     45.6       Ec_biomass_i...  0.982\n",
      "nh4_e      10.6       co2_e     19.7\n",
      "glc__D_e   10         h_e        9.03\n",
      "pi_e        0.948     mththf_c   0.00044\n",
      "so4_e       0.248     5drib_c    0.000221\n",
      "k_e         0.192     4crsol_c   0.000219\n",
      "fe2_e       0.0158    amob_c     1.96e-06\n",
      "mg2_e       0.00852   meoh_e     1.96e-06\n",
      "ca2_e       0.00511\n",
      "cl_e        0.00511\n",
      "cu2_e       0.000697\n",
      "mn2_e       0.000679\n",
      "zn2_e       0.000335\n",
      "ni2_e       0.000317\n",
      "mobd_e      0.000127\n",
      "cobalt2_e   2.46e-05\n"
     ]
    }
   ],
   "source": [
    "model.optimize()\n",
    "model.summary()"
   ]
  },
  {
   "cell_type": "code",
   "execution_count": 17,
   "metadata": {},
   "outputs": [
    {
     "name": "stdout",
     "output_type": "stream",
     "text": [
      "-83.3333333333\n",
      "IN FLUXES              OUT FLUXES            OBJECTIVES\n",
      "---------------------  --------------------  ---------------------\n",
      "o2_e       142         h2o_e     379         Ec_biomass_i...  8.28\n",
      "nh4_e       89.5       co2_e     160\n",
      "glc__D_e    83.3       h_e        76.1\n",
      "pi_e         7.99      mththf_c    0.00371\n",
      "so4_e        2.09      5drib_c     0.00186\n",
      "k_e          1.62      4crsol_c    0.00185\n",
      "fe2_e        0.133     amob_c      1.66e-05\n",
      "mg2_e        0.0718    meoh_e      1.66e-05\n",
      "ca2_e        0.0431\n",
      "cl_e         0.0431\n",
      "cu2_e        0.00587\n",
      "mn2_e        0.00572\n",
      "zn2_e        0.00282\n",
      "ni2_e        0.00268\n",
      "mobd_e       0.00107\n",
      "cobalt2_e    0.000207\n"
     ]
    }
   ],
   "source": [
    "fl = -1 * utils.conc_to_flux(200)\n",
    "print fl\n",
    "glc = model.reactions.EX_glc_e\n",
    "glc.lower_bound, glc.upper_bound = fl, fl\n",
    "model.optimize()\n",
    "model.summary()"
   ]
  },
  {
   "cell_type": "code",
   "execution_count": 18,
   "metadata": {},
   "outputs": [
    {
     "name": "stdout",
     "output_type": "stream",
     "text": [
      "-50.0\n",
      "IN FLUXES             OUT FLUXES            OBJECTIVES\n",
      "--------------------  --------------------  ---------------------\n",
      "o2_e       85.6       h2o_e     227         Ec_biomass_i...  4.96\n",
      "nh4_e      53.6       co2_e      96.2\n",
      "glc__D_e   50         h_e        45.6\n",
      "pi_e        4.79      mththf_c    0.00222\n",
      "so4_e       1.25      5drib_c     0.00112\n",
      "k_e         0.969     4crsol_c    0.00111\n",
      "fe2_e       0.0797    amob_c      9.93e-06\n",
      "mg2_e       0.0431    meoh_e      9.93e-06\n",
      "ca2_e       0.0258\n",
      "cl_e        0.0258\n",
      "cu2_e       0.00352\n",
      "mn2_e       0.00343\n",
      "zn2_e       0.00169\n",
      "ni2_e       0.0016\n",
      "mobd_e      0.00064\n",
      "cobalt2_e   0.000124\n"
     ]
    }
   ],
   "source": [
    "fl = -1 * utils.conc_to_flux(120)\n",
    "print fl\n",
    "glc = model.reactions.EX_glc_e\n",
    "glc.lower_bound, glc.upper_bound = fl, fl\n",
    "model.optimize()\n",
    "model.summary()"
   ]
  },
  {
   "cell_type": "code",
   "execution_count": 92,
   "metadata": {},
   "outputs": [],
   "source": [
    "utils.change_obj(model, model.metabolites.btol_c)"
   ]
  },
  {
   "cell_type": "code",
   "execution_count": 20,
   "metadata": {},
   "outputs": [
    {
     "name": "stdout",
     "output_type": "stream",
     "text": [
      "IN FLUXES        OUT FLUXES     OBJECTIVES\n",
      "---------------  -------------  ---------------\n",
      "nh4_e     12.5   h2o_e   47.5   DM_btol_c  1.79\n",
      "glc__D_e  10     co2_e   15.2\n",
      "o2_e       9.87  h_e      5.37\n",
      "pi_e       5.37  btol_c   1.79\n",
      "so4_e      1.79\n"
     ]
    }
   ],
   "source": [
    "glc = model.reactions.EX_glc_e\n",
    "glc.lower_bound, glc.upper_bound = -10, 1000\n",
    "model.reactions.EX_glc_e\n",
    "model.optimize()\n",
    "model.summary()"
   ]
  },
  {
   "cell_type": "code",
   "execution_count": 21,
   "metadata": {},
   "outputs": [
    {
     "name": "stdout",
     "output_type": "stream",
     "text": [
      "IN FLUXES        OUT FLUXES     OBJECTIVES\n",
      "---------------  -------------  ---------------\n",
      "nh4_e     106    h2o_e   394    DM_btol_c  15.1\n",
      "glc__D_e   83.3  co2_e   123\n",
      "o2_e       77.7  h_e      45.3\n",
      "pi_e       45.3  btol_c   15.1\n",
      "so4_e      15.1\n"
     ]
    }
   ],
   "source": [
    "fl = -1 * utils.conc_to_flux(200)\n",
    "glc = model.reactions.EX_glc_e\n",
    "glc.lower_bound, glc.upper_bound = fl, fl\n",
    "model.optimize()\n",
    "model.summary()"
   ]
  },
  {
   "cell_type": "code",
   "execution_count": 22,
   "metadata": {},
   "outputs": [
    {
     "name": "stdout",
     "output_type": "stream",
     "text": [
      "IN FLUXES        OUT FLUXES      OBJECTIVES\n",
      "---------------  --------------  ---------------\n",
      "nh4_e     63.3   h2o_e   237     DM_btol_c  9.04\n",
      "glc__D_e  50     co2_e    74\n",
      "o2_e      46.8   h_e      27.1\n",
      "pi_e      27.1   btol_c    9.04\n",
      "so4_e      9.04\n"
     ]
    }
   ],
   "source": [
    "fl = -1 * utils.conc_to_flux(120)\n",
    "glc = model.reactions.EX_glc_e\n",
    "glc.lower_bound, glc.upper_bound = fl, fl\n",
    "model.optimize()\n",
    "model.summary()"
   ]
  },
  {
   "cell_type": "code",
   "execution_count": 24,
   "metadata": {},
   "outputs": [
    {
     "name": "stdout",
     "output_type": "stream",
     "text": [
      "-83.3333333333 -4.16666666667\n",
      "IN FLUXES         OUT FLUXES         OBJECTIVES\n",
      "----------------  -----------------  ----------------\n",
      "glc__D_e  83.3    h2o_e     122      DM_btol_c  0.595\n",
      "o2_e      61.1    co2_e     101\n",
      "nh4_e      4.17   h_e        61.7\n",
      "pi_e       1.79   3hpp_e     28.8\n",
      "so4_e      0.595  mththf_c   28.8\n",
      "                  hxa_e      21.6\n",
      "                  akg_e       4.76\n",
      "                  btol_c      0.595\n"
     ]
    }
   ],
   "source": [
    "fl = -1 * utils.conc_to_flux(200)\n",
    "fl_nh4 = -1 * utils.conc_to_flux(10)\n",
    "print fl, fl_nh4\n",
    "glc = model.reactions.EX_glc_e\n",
    "nh4 = model.reactions.EX_nh4_e\n",
    "glc.lower_bound, glc.upper_bound = fl, fl\n",
    "nh4.lower_bound, nh4.upper_bound = fl_nh4, fl_nh4\n",
    "model.optimize()\n",
    "model.summary()"
   ]
  },
  {
   "cell_type": "code",
   "execution_count": 97,
   "metadata": {},
   "outputs": [
    {
     "name": "stdout",
     "output_type": "stream",
     "text": [
      "-83.3333333333 -4.16666666667\n",
      "IN FLUXES         OUT FLUXES           OBJECTIVES\n",
      "----------------  -------------------  ----------------\n",
      "glc__D_e  83.3    dha_e       73.1     DM_btol_c  0.595\n",
      "o2_e      13.6    co2_e       53.2\n",
      "nh4_e      4.17   12ppd__R_e  42.7\n",
      "pi_e       1.83   h_e         40.3\n",
      "so4_e      0.595  ac_e        28.8\n",
      "                  h2o_e       25.4\n",
      "                  mal__L_e     4.15\n",
      "                  glyclt_e     1.48\n",
      "                  mththf_c     1.48\n",
      "                  btol_c       0.595\n",
      "                  glyc3p_e     0.0425\n"
     ]
    }
   ],
   "source": [
    "fl = -1 * utils.conc_to_flux(200)\n",
    "fl_nh4 = -1 * utils.conc_to_flux(10)\n",
    "fl_pi = -1 * utils.conc_to_flux(10)\n",
    "fl_mg = -1 * utils.conc_to_flux(8)\n",
    "print fl, fl_nh4\n",
    "glc = model.reactions.EX_glc_e\n",
    "nh4 = model.reactions.EX_nh4_e\n",
    "pi = model.reactions.EX_pi_e\n",
    "mg = model.reactions.EX_mg2_e\n",
    "def update_bnds(rxn, fl): \n",
    "    rxn.lower_bound, rxn.upper_bound = fl, 0 \n",
    "glc.lower_bound, glc.upper_bound = fl, fl\n",
    "nh4.lower_bound, nh4.upper_bound = fl_nh4, fl_nh4\n",
    "update_bnds(pi, fl_pi)\n",
    "update_bnds(mg, fl_mg)\n",
    "model.optimize()\n",
    "model.summary()"
   ]
  },
  {
   "cell_type": "code",
   "execution_count": 103,
   "metadata": {},
   "outputs": [
    {
     "name": "stdout",
     "output_type": "stream",
     "text": [
      "['mg2', 'nh4', 'k', 'glc', 'pi', 'nadh', 'atp', 'coa']\n",
      "[8.0, 10.0, 134.0, 200.0, 4.0, 0.5, 0.0, 0.5]\n",
      "IN FLUXES        OUT FLUXES        OBJECTIVES\n",
      "---------------  ----------------  ----------------\n",
      "o2_e      6.5    h2o_e     18.6    DM_btol_c  0.556\n",
      "glc__D_e  4.49   co2_e      7.75\n",
      "nh4_e     3.89   fe3_e      1.67\n",
      "fe2_e     1.67   mththf_c   1.06\n",
      "pi_e      1.67   btol_c     0.556\n",
      "so4_e     0.556\n"
     ]
    }
   ],
   "source": [
    "elts = ['mg2', 'nh4', 'k', 'glc', 'pi', 'nadh', 'atp', 'coa']\n",
    "row = df.iloc[36, 4:]\n",
    "fluxes = [-1 * utils.conc_to_flux(row[i]) for i in range(len(elts))]\n",
    "print elts\n",
    "print row.tolist()\n",
    "for elt, flux in zip(elts, fluxes):\n",
    "    #print elt, '{0}_c'.format(elt)#, model.metabolites.get_by_id('{0}_c'.format(elt))\n",
    "    try:\n",
    "        rxn = model.reactions.get_by_id('EX_{0}_e'.format(elt))\n",
    "    except KeyError:\n",
    "        break\n",
    "        #model.add_boundary(reaction_id='EX_{0}_e'.format(elt), type='Exchange', \n",
    "        #                   metabolite=model.metabolites.get_by_id('{0}_c'.format(elt)), ub=flux)\n",
    "        #rxn = model.reactions.get_by_id('EX_{0}_e'.format(elt))\n",
    "    rxn.lower_bound, rxn.upper_bound = flux, 0\n",
    "model.optimize()\n",
    "model.summary()"
   ]
  },
  {
   "cell_type": "code",
   "execution_count": 22,
   "metadata": {},
   "outputs": [],
   "source": [
    "df2 = pd.read_csv(filepath_or_buffer='../data/4_5_18_T7_C6N_mRFP.TXT', skiprows=6)"
   ]
  },
  {
   "cell_type": "code",
   "execution_count": 27,
   "metadata": {},
   "outputs": [
    {
     "data": {
      "text/plain": [
       "Index([u'Well', u'Unnamed: 1', u'C01', u'C02', u'C03', u'C04', u'C05', u'C06',\n",
       "       u'C07', u'C08', u'C09', u'D01', u'D02', u'D03', u'D04', u'D05', u'D06',\n",
       "       u'D07', u'D08', u'D09', u'E01', u'E02', u'E03', u'E04', u'E05', u'E06',\n",
       "       u'E07', u'E08', u'E09', u'F01', u'F02', u'F03', u'F04', u'F05', u'F06',\n",
       "       u'F07', u'F08', u'F09', u'F10'],\n",
       "      dtype='object')"
      ]
     },
     "execution_count": 27,
     "metadata": {},
     "output_type": "execute_result"
    }
   ],
   "source": [
    "df2.columns"
   ]
  },
  {
   "cell_type": "code",
   "execution_count": null,
   "metadata": {},
   "outputs": [],
   "source": []
  }
 ],
 "metadata": {
  "kernelspec": {
   "display_name": "Python 2",
   "language": "python",
   "name": "python2"
  },
  "language_info": {
   "codemirror_mode": {
    "name": "ipython",
    "version": 2
   },
   "file_extension": ".py",
   "mimetype": "text/x-python",
   "name": "python",
   "nbconvert_exporter": "python",
   "pygments_lexer": "ipython2",
   "version": "2.7.10"
  }
 },
 "nbformat": 4,
 "nbformat_minor": 2
}
