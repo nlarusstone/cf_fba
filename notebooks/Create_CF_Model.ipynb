{
 "cells": [
  {
   "cell_type": "code",
   "execution_count": 2,
   "metadata": {},
   "outputs": [],
   "source": [
    "%load_ext autoreload\n",
    "import sys\n",
    "if not '/Users/nlarusstone/Documents/MPhil/Research/cf_fba' in sys.path:\n",
    "    sys.path.append('/Users/nlarusstone/Documents/MPhil/Research/cf_fba')\n",
    "import src.utils as utils\n",
    "%autoreload 2"
   ]
  },
  {
   "cell_type": "code",
   "execution_count": 3,
   "metadata": {},
   "outputs": [],
   "source": [
    "import cobra\n",
    "import cobra.test\n",
    "import pandas as pd\n",
    "import numpy as np\n",
    "import difflib\n",
    "import re\n",
    "import Bio.PDB.Polypeptide"
   ]
  },
  {
   "cell_type": "code",
   "execution_count": 90,
   "metadata": {},
   "outputs": [],
   "source": [
    "import Bio.PDB.Polypeptide as pdb\n",
    "import Bio.SeqUtils as su\n",
    "\n",
    "aa_mix = pd.read_csv('../data/aa_mix.csv', index_col='AA')\n",
    "nrg_mix = pd.read_csv('../data/energy_mix.csv', index_col='compound')\n",
    "with open('../genes/rfp.txt', 'r') as f:\n",
    "    seq = f.read()\n",
    "cfps_conc = pd.read_csv('../data/cfps_start.csv', index_col='compound')\n",
    "\n",
    "# amt in g, vol in mL, mw in g/mol\n",
    "def calc_conc(amt, vol, mw=None, seq=None, seq_type=None):\n",
    "    # seq can be DNA or protein or an amino acid\n",
    "    if seq:\n",
    "        mw = su.molecular_weight(seq, seq_type)\n",
    "    elif not mw:\n",
    "        raise Exception('Need a molecular weight for non-DNA')\n",
    "    conc = (amt * 1000) / (vol * mw)\n",
    "    # returns Molar concentrations\n",
    "    return conc\n",
    "\n",
    "def conc_dilution(start_conc, vol_add, tot_vol):\n",
    "    return start_conc * (vol_add / tot_vol)\n",
    "\n",
    "aa_mix['start_conc'] = aa_mix.apply(lambda row: calc_conc(row['weight_add'], 1, \n",
    "                                                          seq=pdb.three_to_one(row.name.upper()), seq_type='protein'), axis=1)\n",
    "aa_mix['conc_add'] = conc_dilution(aa_mix['start_conc'], aa_mix['vol_add'], aa_mix['vol_add'].sum())\n",
    "#pi\n",
    "pi_conc = calc_conc(0.15, 5, mw=611.77)\n",
    "nrg_mix['start_conc'] = nrg_mix.apply(lambda row: calc_conc(row['amt'], row['fill'], mw=row['mw']), axis=1)\n",
    "nrg_mix['conc_add'] = conc_dilution(nrg_mix['start_conc'], nrg_mix['vol_add'], nrg_mix['vol_add'].sum())\n",
    "dna_conc = calc_conc(0.000750, 0.00496, seq=seq, seq_type='DNA')\n",
    "\n",
    "for cmpnd, vals in nrg_mix.iterrows():\n",
    "    cfps_conc.loc[cmpnd] = [vals['conc_add'], 5]\n",
    "for aa, vals in aa_mix.iterrows():\n",
    "    cfps_conc.loc[aa] = [vals['conc_add'], 10]\n",
    "cfps_conc.loc['GENE'] = [dna_conc, 4.96]\n",
    "cfps_conc['final_conc'] = conc_dilution(cfps_conc['start_conc'], cfps_conc['amt'], 50)"
   ]
  },
  {
   "cell_type": "code",
   "execution_count": 4,
   "metadata": {},
   "outputs": [],
   "source": [
    "model = cobra.io.read_sbml_model(filename='../models/iJO1366.xml')"
   ]
  },
  {
   "cell_type": "code",
   "execution_count": 57,
   "metadata": {},
   "outputs": [
    {
     "data": {
      "text/plain": [
       "[<Reaction tRNA_c_charging_M_lys_L_c_RFP at 0x1116e7410>,\n",
       " <Reaction transcription_RFP at 0x1116e7050>,\n",
       " <Reaction tRNA_c_charging_M_pro_L_c_RFP at 0x1116e74d0>,\n",
       " <Reaction tRNA_c_charging_M_val_L_c_RFP at 0x1116e7610>,\n",
       " <Reaction mRNA_degradation_RFP at 0x1116e7090>,\n",
       " <Reaction translation_initiation_RFP at 0x1116e70d0>,\n",
       " <Reaction tRNA_c_charging_M_gln_L_c_RFP at 0x1116e72d0>,\n",
       " <Reaction translation_RFP at 0x1116e7110>,\n",
       " <Reaction tRNA_c_exchange_reverse at 0x1116e7690>,\n",
       " <Reaction tRNA_c_charging_M_ala_L_c_RFP at 0x1116e7150>]"
      ]
     },
     "execution_count": 57,
     "metadata": {},
     "output_type": "execute_result"
    }
   ],
   "source": [
    "varner = cobra.io.load_json_model('../models/varner.json')\n",
    "def extract_txtl_rxns(model):\n",
    "    aa_metabs = []\n",
    "    for aa in Bio.PDB.Polypeptide.aa3:\n",
    "        aa_metabs += model.metabolites.query(aa.lower())\n",
    "    aa_rxns = []\n",
    "    for aa_metab in aa_metabs:\n",
    "        aa_rxns += aa_metab.reactions\n",
    "    mrna_rxns = model.reactions.query(re.compile('mrna', re.IGNORECASE))\n",
    "    trna_rxns = model.reactions.query('tRNA_c')\n",
    "    tx_rxns = model.reactions.query('transcription')\n",
    "    tl_rxns = model.reactions.query('translation')\n",
    "    prot_rxns = model.reactions.query('PROTEIN')\n",
    "    #txtl_rxns = list(set(aa_rxns).union(tx_rxns).union(tl_rxns).union(prot_rxns).union(mrna_rxns))\n",
    "    txtl_rxns = list(set(tx_rxns).union(tl_rxns).union(prot_rxns).union(mrna_rxns).union(trna_rxns))\n",
    "    return txtl_rxns\n",
    "txtl_rxns = extract_txtl_rxns(varner)\n",
    "txtl_rxns[:10]"
   ]
  },
  {
   "cell_type": "code",
   "execution_count": 11,
   "metadata": {},
   "outputs": [
    {
     "data": {
      "text/plain": [
       "['10fthf',\n",
       " '12dgr120',\n",
       " '12dgr140',\n",
       " '12dgr141',\n",
       " '12dgr160',\n",
       " '12dgr161',\n",
       " '12dgr180',\n",
       " '12dgr181',\n",
       " '12ppd__R',\n",
       " '12ppd__S']"
      ]
     },
     "execution_count": 11,
     "metadata": {},
     "output_type": "execute_result"
    }
   ],
   "source": [
    "metab_ids = [m.id.rsplit('_c', 1)[0] for m in model.metabolites if m.compartment == 'c']\n",
    "varner_to_ijo = {'5pbdra': 'pram',\n",
    "                'faicar': 'fprica',\n",
    "                '78dhf': 'dhpt',\n",
    "                '78mdp': '6hmhptpp',\n",
    "                'cadav': '15dap',\n",
    "                'cair': '5aizc',\n",
    "                'clasp': 'cbp',\n",
    "                'fgar': 'fgam',\n",
    "                'gaba': '4abut',\n",
    "                'glycoA': 'gcald',\n",
    "                'nh3': 'nh4',\n",
    "                'he': 'h',\n",
    "                'omp': 'orot5p',\n",
    "                 'or': 'orot',\n",
    "                 'prop': 'ppcoa',\n",
    "                 'mglx': 'mthgxl',\n",
    "                 'saicar': '25aics',\n",
    "                 '4adochor': '4adcho'\n",
    "                }\n",
    "metab_ids[:10]"
   ]
  },
  {
   "cell_type": "code",
   "execution_count": 10,
   "metadata": {},
   "outputs": [],
   "source": [
    "def varner_to_cobra(model, metab, metab_ids, varner_to_ijo):\n",
    "    if metab.id.startswith('M_'):\n",
    "        metab_stem = metab.id.split('M_')[1].rsplit('_c', 1)[0]\n",
    "        #print metab_stem\n",
    "        if 'tRNA' in metab_stem:\n",
    "            aa = metab_stem.split('_', 1)[0]\n",
    "            metab_name = aa + 'trna'\n",
    "        elif not metab_stem in metab_ids:\n",
    "            #query = varner_to_ijo[metab_stem]\n",
    "            #print metab_stem\n",
    "            if metab_stem in varner_to_ijo:\n",
    "                #print 'matched'\n",
    "                metab_name = varner_to_ijo[metab_stem]\n",
    "            elif '_L' in metab_stem or '_D' in metab_stem:\n",
    "                #print difflib.get_close_matches(metab_stem, metab_ids, 1, 0.7)\n",
    "                metab_name = difflib.get_close_matches(metab_stem, metab_ids, 1, 0.7)[0]\n",
    "            else:\n",
    "                print 'TODO: ', metab_stem\n",
    "                raise Exception\n",
    "        else:\n",
    "            metab_name = metab_stem\n",
    "    else:\n",
    "        try:\n",
    "            model.metabolites.get_by_id(metab_name)\n",
    "        except:\n",
    "            model.metabolites.add(metab)\n",
    "    return model.metabolites.get_by_id(metab_name + '_c')"
   ]
  },
  {
   "cell_type": "code",
   "execution_count": 68,
   "metadata": {},
   "outputs": [],
   "source": [
    "def add_txtl(model, txtl_rxns):\n",
    "    mod = model.copy()\n",
    "    for rxn in txtl_rxns:\n",
    "        #print rxn\n",
    "        for metab, amt in rxn.metabolites.items():\n",
    "            if not metab.id.startswith('M_'):\n",
    "                #print 'EXCEPT:', metab\n",
    "                continue\n",
    "            new_metab = varner_to_cobra(mod, metab, metab_ids, varner_to_ijo)\n",
    "            rxn.add_metabolites({metab: -1 * amt})\n",
    "            rxn.add_metabolites({new_metab: amt})\n",
    "        mod.add_reaction(rxn)\n",
    "    return mod\n",
    "model_txtl = add_txtl(model, txtl_rxns)"
   ]
  },
  {
   "cell_type": "code",
   "execution_count": 74,
   "metadata": {},
   "outputs": [],
   "source": [
    "def get_aa_metab(model, aa, cmpt='c'):\n",
    "    return model.metabolites.query('{0}__._{1}'.format(aa, cmpt))"
   ]
  },
  {
   "cell_type": "code",
   "execution_count": 75,
   "metadata": {},
   "outputs": [],
   "source": [
    "def replace_metab(mod, metab):\n",
    "    new_id = re.sub(r'_.$', '_c', metab.id)\n",
    "    try:\n",
    "        cyt = mod.metabolites.get_by_id(new_id)\n",
    "    except:\n",
    "        cyt = metab\n",
    "        cyt.id = new_id\n",
    "        cyt.compartment = 'c'\n",
    "    return cyt"
   ]
  },
  {
   "cell_type": "code",
   "execution_count": 70,
   "metadata": {},
   "outputs": [],
   "source": [
    "def coalesce_cmpts(model):\n",
    "    mod = model.copy()\n",
    "    for rxn in mod.reactions:\n",
    "        if 'p' in rxn.compartments or 'e' in rxn.compartments:\n",
    "            #mod.remove_reactions(reactions=[rxn])\n",
    "            for metab, amt in rxn.metabolites.items():\n",
    "                cyt = replace_metab(mod, metab)\n",
    "                rxn.add_metabolites({metab: -1 * amt})\n",
    "                rxn.add_metabolites({cyt: amt})\n",
    "            rxn.comparments = set('c')\n",
    "            #mod.add_reaction(reaction=rxn)\n",
    "    for m in mod.metabolites.query(r'.*_e$'):\n",
    "        assert(len(m.reactions) == 0)\n",
    "        m.remove_from_model(destructive=True)\n",
    "    for m in mod.metabolites.query(r'.*_p$'):\n",
    "        assert(len(m.reactions) == 0)\n",
    "        m.remove_from_model(destructive=True)\n",
    "    return mod\n",
    "model_cyt = coalesce_cmpts(model)\n",
    "model_cyt_txtl = coalesce_cmpts(model_txtl)"
   ]
  },
  {
   "cell_type": "code",
   "execution_count": 76,
   "metadata": {},
   "outputs": [],
   "source": [
    "def strip_exchanges(mod, reactants):\n",
    "    # Delete transmembrane transport reactions\n",
    "    model = mod.copy()\n",
    "\n",
    "    # Add exchange reactions for all metabolites\n",
    "    # Exchange‐reactions for non‐substrate metabolites have lb of 0 and ub of 1000 by default\n",
    "    #all_metab_ex = utils.gen_metab_dict(model, model.metabolites, cnvt=False)\n",
    "\n",
    "    #utils.add_ex(model, all_metab_ex)\n",
    "    exs = set()\n",
    "    for metab in reactants:\n",
    "        if metab == 'trna':\n",
    "            for trna in model.metabolites.query('trna'):\n",
    "                exs = exs.union(trna.reactions.intersection(model.exchanges))\n",
    "        elif metab.upper() in pdb.aa3:\n",
    "            aas = get_aa_metab(model, metab.lower(), cmpt='c')\n",
    "            for aa in aas:\n",
    "                exs = exs.union(aa.reactions.intersection(model.exchanges))\n",
    "        else:\n",
    "            m = model.metabolites.get_by_id('{0}_c'.format(metab))\n",
    "            exs = exs.union(m.reactions.intersection(model.exchanges))\n",
    "    model.remove_reactions(exs)\n",
    "    #['EX_glc_e', 'EX_pi_e', 'EX_mg2_e', 'EX_k_e', 'EX_nh4_e'])\n",
    "\n",
    "    # As objective function, we selected the exchange reaction which corresponds to the target metabolite \n",
    "    # for which a pathway should be determined.   \n",
    "    return model\n",
    "model_bare = strip_exchanges(model_cyt, cfps_conc.index[:-1])\n",
    "model_bare_txtl = strip_exchanges(model_cyt_txtl, cfps_conc.index[:-1])"
   ]
  },
  {
   "cell_type": "code",
   "execution_count": 77,
   "metadata": {},
   "outputs": [],
   "source": [
    "def build_medium(model, cfps_conc):\n",
    "    mod = model.copy()\n",
    "    \n",
    "    for metab, vals in cfps_conc.iterrows():\n",
    "        flux = utils.conc_to_flux(vals['final_conc']) * 100\n",
    "\n",
    "        if metab == 'trna':\n",
    "            ms = model.metabolites.query('trna')\n",
    "        elif metab.upper() in pdb.aa3:\n",
    "            ms = get_aa_metab(model, metab.lower(), cmpt='c')\n",
    "        else:\n",
    "            ms = mod.metabolites.query(r'^{0}_c'.format(metab))\n",
    "        for m in ms:\n",
    "            rxn_nm = 'EX_' + m.id\n",
    "            mod.add_boundary(metabolite=m, type='exchange', lb=0, ub=flux)\n",
    "            #mod.add_boundary(metabolite=m, type='cfps-medium', reaction_id=rxn_nm, lb=0, ub=flux) \n",
    "    return mod\n",
    "model_cf = build_medium(model_bare, cfps_conc)\n",
    "model_cf_txtl = build_medium(model_bare_txtl, cfps_conc)"
   ]
  },
  {
   "cell_type": "code",
   "execution_count": 81,
   "metadata": {},
   "outputs": [],
   "source": [
    "model_cf_txtl_rfp = model_cf_txtl.copy()\n",
    "model_cf_txtl_rfp.objective = model_cf_txtl_rfp.reactions.PROTEIN_export_RFP\n",
    "model_cf_txtl_comb = model_cf_txtl.copy()\n",
    "model_cf_txtl_comb.objective = {model_cf_txtl_comb.reactions.BIOMASS_Ec_iJO1366_core_53p95M: 1, model_cf_txtl_comb.reactions.PROTEIN_export_RFP: 100}"
   ]
  },
  {
   "cell_type": "code",
   "execution_count": 80,
   "metadata": {},
   "outputs": [
    {
     "name": "stdout",
     "output_type": "stream",
     "text": [
      "IN FLUXES            OUT FLUXES            OBJECTIVES\n",
      "-------------------  --------------------  ---------------------\n",
      "h_c        7.51      h2o_c      18.2       BIOMASS_Ec_i...  2.55\n",
      "o2_c       3.36      nh4_c       8.34\n",
      "pser__L_c  1.5       co2_c       7.31\n",
      "ser__L_c   1.5       h2s_c       2.73\n",
      "trp__L_c   1.49      h2o2_c      2.69\n",
      "asn__L_c   1.48      akg_c       2.36\n",
      "athr__L_c  1.48      indole_c    1.34\n",
      "thr__L_c   1.48      ac_c        0.0993\n",
      "glu__D_c   1.48      nac_c       0.0131\n",
      "pro__L_c   1.48      hcys__L_c   0.00114\n",
      "asp__L_c   1.48      mththf_c    0.00114\n",
      "ala__D_c   1.48      5drib_c     0.000574\n",
      "ala__L_c   1.48      4crsol_c    0.000569\n",
      "gln__L_c   1.48      trnaglu_c   0.000434\n",
      "cys__D_c   1.48      meoh_c      5.1e-06\n",
      "cys__L_c   1.48      amob_c      5.1e-06\n",
      "leu__L_c   1.15\n",
      "val__L_c   1.08\n",
      "lys__L_c   0.875\n",
      "arg__L_c   0.754\n",
      "ile__L_c   0.741\n",
      "k_c        0.498\n",
      "glu__L_c   0.483\n",
      "phe__L_c   0.473\n",
      "met__L_c   0.394\n",
      "tyr__L_c   0.352\n",
      "ser__D_c   0.318\n",
      "his__L_c   0.242\n",
      "glc__D_c   0.226\n",
      "gtp_c      0.0874\n",
      "atp_c      0.0872\n",
      "ctp_c      0.0525\n",
      "utp_c      0.0525\n",
      "camp_c     0.0422\n",
      "pi_c       0.0409\n",
      "mg2_c      0.0221\n",
      "fe2_c      0.0211\n",
      "fe3_c      0.0199\n",
      "nad_c      0.0189\n",
      "ca2_c      0.0133\n",
      "cl_c       0.0133\n",
      "so4_c      0.0111\n",
      "cu2_c      0.00181\n",
      "mn2_c      0.00176\n",
      "5fthf_c    0.00171\n",
      "coa_c      0.00147\n",
      "zn2_c      0.00087\n",
      "ni2_c      0.000824\n",
      "glutrna_c  0.000434\n",
      "mobd_c     0.000329\n",
      "cobalt2_c  6.38e-05\n"
     ]
    }
   ],
   "source": [
    "sol = model_cf.optimize()\n",
    "model_cf.summary()"
   ]
  },
  {
   "cell_type": "code",
   "execution_count": 82,
   "metadata": {},
   "outputs": [
    {
     "name": "stdout",
     "output_type": "stream",
     "text": [
      "IN FLUXES             OUT FLUXES              OBJECTIVES\n",
      "--------------------  ----------------------  -----------------------\n",
      "h_c        14.2       h2o_c        13.2       PROTEIN_expo...  0.0124\n",
      "arg__L_c    1.79      nh4_c         8.65\n",
      "o2_c        1.72      co2_c         3.74\n",
      "pser__L_c   1.5       succ_c        3.74\n",
      "ser__L_c    1.5       for_c         2.8\n",
      "trp__L_c    1.49      h2o2_c        1.71\n",
      "asn__L_c    1.48      indole_c      1.31\n",
      "athr__L_c   1.48      h2s_c         1.25\n",
      "thr__L_c    1.48      urea_c        0.98\n",
      "glu__D_c    1.48      nac_c         0.0134\n",
      "glu__L_c    1.48      PROTEIN_RFP   0.0124\n",
      "pro__L_c    1.48      hcys__L_c     0.00108\n",
      "asp__L_c    1.48      mththf_c      0.00108\n",
      "ala__D_c    1.48      5drib_c       0.000544\n",
      "ala__L_c    1.48      4crsol_c      0.000539\n",
      "gln__L_c    1.48      trnaglu_c     0.000434\n",
      "cys__L_c    1.48      meoh_c        4.84e-06\n",
      "leu__L_c    1.26      amob_c        4.84e-06\n",
      "val__L_c    1.25\n",
      "lys__L_c    1.1\n",
      "ile__L_c    0.826\n",
      "phe__L_c    0.609\n",
      "tyr__L_c    0.495\n",
      "k_c         0.472\n",
      "met__L_c    0.46\n",
      "his__L_c    0.316\n",
      "glc__D_c    0.226\n",
      "gtp_c       0.0874\n",
      "ctp_c       0.0525\n",
      "utp_c       0.0525\n",
      "atp_c       0.0446\n",
      "camp_c      0.0422\n",
      "pi_c        0.0409\n",
      "mg2_c       0.021\n",
      "fe2_c       0.02\n",
      "nad_c       0.0189\n",
      "fe3_c       0.0189\n",
      "ca2_c       0.0126\n",
      "cl_c        0.0126\n",
      "so4_c       0.0105\n",
      "cu2_c       0.00171\n",
      "mn2_c       0.00167\n",
      "5fthf_c     0.00162\n",
      "coa_c       0.00139\n",
      "zn2_c       0.000825\n",
      "ni2_c       0.000781\n",
      "glntrna_c   0.000434\n",
      "glutrna_c   0.000434\n",
      "iletrna_c   0.000434\n",
      "lystrna_c   0.000434\n",
      "phetrna_c   0.000434\n",
      "mobd_c      0.000312\n",
      "cobalt2_c   6.04e-05\n"
     ]
    }
   ],
   "source": [
    "sol = model_cf_txtl_rfp.optimize()\n",
    "model_cf_txtl_rfp.summary()"
   ]
  },
  {
   "cell_type": "code",
   "execution_count": 83,
   "metadata": {},
   "outputs": [
    {
     "name": "stdout",
     "output_type": "stream",
     "text": [
      "IN FLUXES             OUT FLUXES              OBJECTIVES\n",
      "--------------------  ----------------------  ---------------------\n",
      "h_c        17         h2o_c        16.4       BIOMASS_Ec_i...  2.55\n",
      "arg__L_c    1.79      nh4_c         7.86      PROTEIN_expo...  1.24\n",
      "o2_c        1.64      co2_c         5.27\n",
      "pser__L_c   1.5       succ_c        3.16\n",
      "ser__L_c    1.5       h2o2_c        1.64\n",
      "trp__L_c    1.49      indole_c      1.3\n",
      "asn__L_c    1.48      h2s_c         1.23\n",
      "athr__L_c   1.48      urea_c        0.941\n",
      "thr__L_c    1.48      for_c         0.407\n",
      "glu__D_c    1.48      nac_c         0.0131\n",
      "glu__L_c    1.48      PROTEIN_RFP   0.0124\n",
      "pro__L_c    1.48      hcys__L_c     0.00114\n",
      "asp__L_c    1.48      mththf_c      0.00114\n",
      "ala__D_c    1.48      5drib_c       0.000574\n",
      "ala__L_c    1.48      4crsol_c      0.000569\n",
      "gln__L_c    1.48      trnaglu_c     0.000434\n",
      "cys__L_c    1.48      meoh_c        5.1e-06\n",
      "leu__L_c    1.32      amob_c        5.1e-06\n",
      "val__L_c    1.3\n",
      "lys__L_c    1.15\n",
      "ile__L_c    0.865\n",
      "phe__L_c    0.634\n",
      "tyr__L_c    0.514\n",
      "k_c         0.498\n",
      "met__L_c    0.481\n",
      "his__L_c    0.328\n",
      "glc__D_c    0.226\n",
      "gtp_c       0.0874\n",
      "atp_c       0.0872\n",
      "ctp_c       0.0525\n",
      "utp_c       0.0525\n",
      "camp_c      0.0422\n",
      "pi_c        0.0409\n",
      "mg2_c       0.0221\n",
      "fe2_c       0.0211\n",
      "fe3_c       0.0199\n",
      "nad_c       0.0189\n",
      "ca2_c       0.0133\n",
      "cl_c        0.0133\n",
      "so4_c       0.0111\n",
      "cu2_c       0.00181\n",
      "mn2_c       0.00176\n",
      "5fthf_c     0.00171\n",
      "coa_c       0.00147\n",
      "zn2_c       0.00087\n",
      "ni2_c       0.000824\n",
      "alatrna_c   0.000434\n",
      "argtrna_c   0.000434\n",
      "asntrna_c   0.000434\n",
      "asptrna_c   0.000434\n",
      "cystrna_c   0.000434\n",
      "glntrna_c   0.000434\n",
      "glutrna_c   0.000434\n",
      "glytrna_c   0.000434\n",
      "histrna_c   0.000434\n",
      "leutrna_c   0.000434\n",
      "lystrna_c   0.000434\n",
      "protrna_c   0.000434\n",
      "sertrna_c   0.000434\n",
      "thrtrna_c   0.000434\n",
      "trptrna_c   0.000434\n",
      "mobd_c      0.000329\n",
      "cobalt2_c   6.38e-05\n"
     ]
    }
   ],
   "source": [
    "sol = model_cf_txtl_comb.optimize()\n",
    "model_cf_txtl_comb.summary()"
   ]
  },
  {
   "cell_type": "code",
   "execution_count": 84,
   "metadata": {},
   "outputs": [],
   "source": [
    "cobra.io.write_sbml_model(filename='../models/ecoli_cf_base.sbml', cobra_model=model_cf)\n",
    "cobra.io.write_sbml_model(filename='../models/ecoli_cf_txtl_rfp_base.sbml', cobra_model=model_cf_txtl_rfp)\n",
    "cobra.io.write_sbml_model(filename='../models/ecoli_cf_txtl_comb_base.sbml', cobra_model=model_cf_txtl_comb)"
   ]
  },
  {
   "cell_type": "code",
   "execution_count": null,
   "metadata": {},
   "outputs": [],
   "source": [
    "#m.metabolites.mRNA_RFP.elements = {'C': 6475, 'H': 8586, 'N': 2552, 'O': 5406, 'P': 678}\n",
    "#m.reactions.transcription_RFP.annotation = {'SBO': 'SBO:0000631'}\n",
    "def validate_model(m):\n",
    "    cobra.manipulation.validate.check_reaction_bounds(model=m)\n",
    "    cobra.manipulation.validate.check_metabolite_compartment_formula(model=m)\n",
    "    cobra.manipulation.validate.check_mass_balance(model=m)"
   ]
  },
  {
   "cell_type": "code",
   "execution_count": 24,
   "metadata": {},
   "outputs": [
    {
     "data": {
      "text/html": [
       "<div>\n",
       "<style scoped>\n",
       "    .dataframe tbody tr th:only-of-type {\n",
       "        vertical-align: middle;\n",
       "    }\n",
       "\n",
       "    .dataframe tbody tr th {\n",
       "        vertical-align: top;\n",
       "    }\n",
       "\n",
       "    .dataframe thead th {\n",
       "        text-align: right;\n",
       "    }\n",
       "</style>\n",
       "<table border=\"1\" class=\"dataframe\">\n",
       "  <thead>\n",
       "    <tr style=\"text-align: right;\">\n",
       "      <th></th>\n",
       "      <th>AVG</th>\n",
       "      <th>STD</th>\n",
       "      <th>AVG.1</th>\n",
       "      <th>STD.1</th>\n",
       "      <th>Mg(Glu)2</th>\n",
       "      <th>NH4(Glu)</th>\n",
       "      <th>K(Glu)</th>\n",
       "      <th>Glucose</th>\n",
       "      <th>K2HPO4</th>\n",
       "      <th>NAD</th>\n",
       "      <th>ATP</th>\n",
       "      <th>CoA</th>\n",
       "    </tr>\n",
       "  </thead>\n",
       "  <tbody>\n",
       "    <tr>\n",
       "      <th>0</th>\n",
       "      <td>0.00</td>\n",
       "      <td>0.0</td>\n",
       "      <td>0.00</td>\n",
       "      <td>0.00</td>\n",
       "      <td>8.0</td>\n",
       "      <td>10.0</td>\n",
       "      <td>134</td>\n",
       "      <td>0</td>\n",
       "      <td>10</td>\n",
       "      <td>0.5</td>\n",
       "      <td>0.0</td>\n",
       "      <td>0.5</td>\n",
       "    </tr>\n",
       "    <tr>\n",
       "      <th>1</th>\n",
       "      <td>0.00</td>\n",
       "      <td>0.0</td>\n",
       "      <td>0.00</td>\n",
       "      <td>0.00</td>\n",
       "      <td>8.0</td>\n",
       "      <td>10.0</td>\n",
       "      <td>134</td>\n",
       "      <td>200</td>\n",
       "      <td>10</td>\n",
       "      <td>0.0</td>\n",
       "      <td>0.0</td>\n",
       "      <td>0.5</td>\n",
       "    </tr>\n",
       "    <tr>\n",
       "      <th>2</th>\n",
       "      <td>0.00</td>\n",
       "      <td>0.0</td>\n",
       "      <td>0.00</td>\n",
       "      <td>0.00</td>\n",
       "      <td>8.0</td>\n",
       "      <td>10.0</td>\n",
       "      <td>134</td>\n",
       "      <td>200</td>\n",
       "      <td>10</td>\n",
       "      <td>0.5</td>\n",
       "      <td>0.0</td>\n",
       "      <td>2.0</td>\n",
       "    </tr>\n",
       "    <tr>\n",
       "      <th>3</th>\n",
       "      <td>0.00</td>\n",
       "      <td>0.0</td>\n",
       "      <td>0.00</td>\n",
       "      <td>0.00</td>\n",
       "      <td>8.0</td>\n",
       "      <td>10.0</td>\n",
       "      <td>134</td>\n",
       "      <td>200</td>\n",
       "      <td>10</td>\n",
       "      <td>0.5</td>\n",
       "      <td>0.0</td>\n",
       "      <td>1.6</td>\n",
       "    </tr>\n",
       "    <tr>\n",
       "      <th>4</th>\n",
       "      <td>1.21</td>\n",
       "      <td>1.7</td>\n",
       "      <td>0.09</td>\n",
       "      <td>0.13</td>\n",
       "      <td>8.0</td>\n",
       "      <td>10.0</td>\n",
       "      <td>134</td>\n",
       "      <td>200</td>\n",
       "      <td>10</td>\n",
       "      <td>0.5</td>\n",
       "      <td>2.0</td>\n",
       "      <td>0.5</td>\n",
       "    </tr>\n",
       "  </tbody>\n",
       "</table>\n",
       "</div>"
      ],
      "text/plain": [
       "    AVG  STD  AVG.1  STD.1  Mg(Glu)2  NH4(Glu)  K(Glu)  Glucose  K2HPO4  NAD  \\\n",
       "0  0.00  0.0   0.00   0.00       8.0      10.0     134        0      10  0.5   \n",
       "1  0.00  0.0   0.00   0.00       8.0      10.0     134      200      10  0.0   \n",
       "2  0.00  0.0   0.00   0.00       8.0      10.0     134      200      10  0.5   \n",
       "3  0.00  0.0   0.00   0.00       8.0      10.0     134      200      10  0.5   \n",
       "4  1.21  1.7   0.09   0.13       8.0      10.0     134      200      10  0.5   \n",
       "\n",
       "   ATP  CoA  \n",
       "0  0.0  0.5  \n",
       "1  0.0  0.5  \n",
       "2  0.0  2.0  \n",
       "3  0.0  1.6  \n",
       "4  2.0  0.5  "
      ]
     },
     "execution_count": 24,
     "metadata": {},
     "output_type": "execute_result"
    }
   ],
   "source": [
    "df = pd.read_csv('../data/Karim_MetEng_2018_Figure2_Data.csv')\n",
    "df.drop(columns=['Area_1', 'Area_2', 'Conc_1', 'Conc_2'], inplace=True)\n",
    "df.head()"
   ]
  },
  {
   "cell_type": "code",
   "execution_count": 55,
   "metadata": {},
   "outputs": [],
   "source": [
    "reduced = df.loc[:, ['Glucose', 'NH4(Glu)', 'NAD', 'CoA']].drop_duplicates(keep='first')\n",
    "reduced['AVG.1'] = df.loc[reduced.index, 'AVG.1']\n",
    "reduced.to_csv('../data/reduced.csv')"
   ]
  },
  {
   "cell_type": "code",
   "execution_count": 24,
   "metadata": {},
   "outputs": [],
   "source": [
    "utils.change_obj(model=model_cf_med, metab=model_cf_med.metabolites.btol_c)\n",
    "utils.change_obj(model=model_cf, metab=model_cf.metabolites.btol_c)"
   ]
  },
  {
   "cell_type": "code",
   "execution_count": 66,
   "metadata": {},
   "outputs": [],
   "source": [
    "def add_addl_reactants(model, df):\n",
    "    mod = model.copy()\n",
    "    addl_reagent_nms = ['mg2', 'nh4', 'k', 'glc__D', 'pi', 'nad', 'atp', 'coa']\n",
    "    objs = []\n",
    "    for i, row in df.iterrows():\n",
    "        with mod:\n",
    "            metab_dict = utils.gen_metab_dict(mod, addl_reagent_nms, map(lambda x: -1 * utils.conc_to_flux(x), row[4:]))\n",
    "            rxn = utils.add_exchange(mod, metab_dict, additive=True)\n",
    "            #different_mediums(mod, model)\n",
    "            #mod.add_reactions(reaction_list=sol[0])\n",
    "            obj = mod.slim_optimize()\n",
    "            objs.append(obj)\n",
    "            #print 'Obj: {0}'.format(obj.objective_value)\n",
    "    return objs"
   ]
  },
  {
   "cell_type": "code",
   "execution_count": 70,
   "metadata": {},
   "outputs": [
    {
     "data": {
      "text/html": [
       "\n",
       "        <table>\n",
       "            <tr>\n",
       "                <td><strong>Metabolite identifier</strong></td><td>mg2_c</td>\n",
       "            </tr><tr>\n",
       "                <td><strong>Name</strong></td><td>magnesium</td>\n",
       "            </tr><tr>\n",
       "                <td><strong>Memory address</strong></td>\n",
       "                <td>0x0109757410</td>\n",
       "            </tr><tr>\n",
       "                <td><strong>Formula</strong></td><td>Mg</td>\n",
       "            </tr><tr>\n",
       "                <td><strong>Compartment</strong></td><td>c</td>\n",
       "            </tr><tr>\n",
       "                <td><strong>In 5 reaction(s)</strong></td><td>\n",
       "                    Ec_biomass_iJO1366_core_53p95M, MG2t3_2pp, MG2uabcpp, Ec_biomass_iJO1366_WT_53p95M, MG2tpp</td>\n",
       "            </tr>\n",
       "        </table>"
      ],
      "text/plain": [
       "<Metabolite mg2_c at 0x109757410>"
      ]
     },
     "execution_count": 70,
     "metadata": {},
     "output_type": "execute_result"
    }
   ],
   "source": [
    "model.metabolites.mg2_c"
   ]
  },
  {
   "cell_type": "code",
   "execution_count": 69,
   "metadata": {},
   "outputs": [
    {
     "data": {
      "text/plain": [
       "[1.0632867132867072,\n",
       " 1.5069444444444435,\n",
       " 1.5069444444444435,\n",
       " 1.5069444444444435,\n",
       " 1.5069444444444435,\n",
       " 1.5069444444444435,\n",
       " 2.895833333333339,\n",
       " 1.5069444444444435,\n",
       " 1.5069444444444435,\n",
       " 1.5069444444444435,\n",
       " 1.5069444444444435,\n",
       " 1.5069444444444435,\n",
       " 1.5069444444444435,\n",
       " 1.5069444444444435,\n",
       " 2.340277777777785,\n",
       " 1.5069444444444435,\n",
       " 1.5069444444444435,\n",
       " 1.5069444444444435,\n",
       " 1.5069444444444435,\n",
       " 1.5069444444444435,\n",
       " 1.5069444444444435,\n",
       " 1.5069444444444435,\n",
       " 1.7847222222222205,\n",
       " 1.5069444444444435,\n",
       " 1.5069444444444435,\n",
       " 1.5069444444444435,\n",
       " 1.5069444444444435,\n",
       " 1.5069444444444435,\n",
       " 1.5069444444444435,\n",
       " 1.5069444444444435,\n",
       " 1.5069444444444435,\n",
       " 1.5069444444444435,\n",
       " 1.5069444444444435,\n",
       " 1.5069444444444435,\n",
       " 1.5069444444444435,\n",
       " 0.11805555555555675,\n",
       " 0.6736111111111152,\n",
       " 1.5069444444444435,\n",
       " 1.5069444444444435,\n",
       " 1.5069444444444435,\n",
       " 1.5069444444444435]"
      ]
     },
     "execution_count": 69,
     "metadata": {},
     "output_type": "execute_result"
    }
   ],
   "source": [
    "utils.add_addl_reactants(model_cf_med, df)"
   ]
  },
  {
   "cell_type": "code",
   "execution_count": 12,
   "metadata": {},
   "outputs": [],
   "source": [
    "cobra.io.save_json_model(filename='Full_Ecoli_CF_Base.json', model=model_cf_med)"
   ]
  },
  {
   "cell_type": "code",
   "execution_count": 81,
   "metadata": {},
   "outputs": [
    {
     "data": {
      "text/plain": [
       "{'EX_ca2_e': 1000.0,\n",
       " 'EX_cbl1_e': 0.01,\n",
       " 'EX_cl_e': 1000.0,\n",
       " 'EX_co2_e': 1000.0,\n",
       " 'EX_cobalt2_e': 1000.0,\n",
       " 'EX_cu2_e': 1000.0,\n",
       " 'EX_fe2_e': 1000.0,\n",
       " 'EX_fe3_e': 1000.0,\n",
       " 'EX_glc_e': 10.0,\n",
       " 'EX_h2o_e': 1000.0,\n",
       " 'EX_h_e': 1000.0,\n",
       " 'EX_k_e': 1000.0,\n",
       " 'EX_mg2_e': 1000.0,\n",
       " 'EX_mn2_e': 1000.0,\n",
       " 'EX_mobd_e': 1000.0,\n",
       " 'EX_na1_e': 1000.0,\n",
       " 'EX_nh4_e': 1000.0,\n",
       " 'EX_ni2_e': 1000.0,\n",
       " 'EX_o2_e': 1000.0,\n",
       " 'EX_pi_e': 1000.0,\n",
       " 'EX_sel_e': 1000.0,\n",
       " 'EX_slnt_e': 1000.0,\n",
       " 'EX_so4_e': 1000.0,\n",
       " 'EX_tungs_e': 1000.0,\n",
       " 'EX_zn2_e': 1000.0}"
      ]
     },
     "execution_count": 81,
     "metadata": {},
     "output_type": "execute_result"
    }
   ],
   "source": [
    "model.medium"
   ]
  },
  {
   "cell_type": "code",
   "execution_count": 13,
   "metadata": {},
   "outputs": [
    {
     "name": "stdout",
     "output_type": "stream",
     "text": [
      "IN FLUXES             OUT FLUXES           OBJECTIVES\n",
      "--------------------  -------------------  ----------------------\n",
      "o2_e       17.6       h2o_e     45.6       Ec_biomass_i...  0.982\n",
      "nh4_e      10.6       co2_e     19.7\n",
      "glc__D_e   10         h_e        9.03\n",
      "pi_e        0.948     mththf_c   0.00044\n",
      "so4_e       0.248     5drib_c    0.000221\n",
      "k_e         0.192     4crsol_c   0.000219\n",
      "fe2_e       0.0158    amob_c     1.96e-06\n",
      "mg2_e       0.00852   meoh_e     1.96e-06\n",
      "ca2_e       0.00511\n",
      "cl_e        0.00511\n",
      "cu2_e       0.000697\n",
      "mn2_e       0.000679\n",
      "zn2_e       0.000335\n",
      "ni2_e       0.000317\n",
      "mobd_e      0.000127\n",
      "cobalt2_e   2.46e-05\n"
     ]
    }
   ],
   "source": [
    "model.optimize()\n",
    "model.summary()"
   ]
  },
  {
   "cell_type": "code",
   "execution_count": 17,
   "metadata": {},
   "outputs": [
    {
     "name": "stdout",
     "output_type": "stream",
     "text": [
      "-83.3333333333\n",
      "IN FLUXES              OUT FLUXES            OBJECTIVES\n",
      "---------------------  --------------------  ---------------------\n",
      "o2_e       142         h2o_e     379         Ec_biomass_i...  8.28\n",
      "nh4_e       89.5       co2_e     160\n",
      "glc__D_e    83.3       h_e        76.1\n",
      "pi_e         7.99      mththf_c    0.00371\n",
      "so4_e        2.09      5drib_c     0.00186\n",
      "k_e          1.62      4crsol_c    0.00185\n",
      "fe2_e        0.133     amob_c      1.66e-05\n",
      "mg2_e        0.0718    meoh_e      1.66e-05\n",
      "ca2_e        0.0431\n",
      "cl_e         0.0431\n",
      "cu2_e        0.00587\n",
      "mn2_e        0.00572\n",
      "zn2_e        0.00282\n",
      "ni2_e        0.00268\n",
      "mobd_e       0.00107\n",
      "cobalt2_e    0.000207\n"
     ]
    }
   ],
   "source": [
    "fl = -1 * utils.conc_to_flux(200)\n",
    "print fl\n",
    "glc = model.reactions.EX_glc_e\n",
    "glc.lower_bound, glc.upper_bound = fl, fl\n",
    "model.optimize()\n",
    "model.summary()"
   ]
  },
  {
   "cell_type": "code",
   "execution_count": 18,
   "metadata": {},
   "outputs": [
    {
     "name": "stdout",
     "output_type": "stream",
     "text": [
      "-50.0\n",
      "IN FLUXES             OUT FLUXES            OBJECTIVES\n",
      "--------------------  --------------------  ---------------------\n",
      "o2_e       85.6       h2o_e     227         Ec_biomass_i...  4.96\n",
      "nh4_e      53.6       co2_e      96.2\n",
      "glc__D_e   50         h_e        45.6\n",
      "pi_e        4.79      mththf_c    0.00222\n",
      "so4_e       1.25      5drib_c     0.00112\n",
      "k_e         0.969     4crsol_c    0.00111\n",
      "fe2_e       0.0797    amob_c      9.93e-06\n",
      "mg2_e       0.0431    meoh_e      9.93e-06\n",
      "ca2_e       0.0258\n",
      "cl_e        0.0258\n",
      "cu2_e       0.00352\n",
      "mn2_e       0.00343\n",
      "zn2_e       0.00169\n",
      "ni2_e       0.0016\n",
      "mobd_e      0.00064\n",
      "cobalt2_e   0.000124\n"
     ]
    }
   ],
   "source": [
    "fl = -1 * utils.conc_to_flux(120)\n",
    "print fl\n",
    "glc = model.reactions.EX_glc_e\n",
    "glc.lower_bound, glc.upper_bound = fl, fl\n",
    "model.optimize()\n",
    "model.summary()"
   ]
  },
  {
   "cell_type": "code",
   "execution_count": 92,
   "metadata": {},
   "outputs": [],
   "source": [
    "utils.change_obj(model, model.metabolites.btol_c)"
   ]
  },
  {
   "cell_type": "code",
   "execution_count": 20,
   "metadata": {},
   "outputs": [
    {
     "name": "stdout",
     "output_type": "stream",
     "text": [
      "IN FLUXES        OUT FLUXES     OBJECTIVES\n",
      "---------------  -------------  ---------------\n",
      "nh4_e     12.5   h2o_e   47.5   DM_btol_c  1.79\n",
      "glc__D_e  10     co2_e   15.2\n",
      "o2_e       9.87  h_e      5.37\n",
      "pi_e       5.37  btol_c   1.79\n",
      "so4_e      1.79\n"
     ]
    }
   ],
   "source": [
    "glc = model.reactions.EX_glc_e\n",
    "glc.lower_bound, glc.upper_bound = -10, 1000\n",
    "model.reactions.EX_glc_e\n",
    "model.optimize()\n",
    "model.summary()"
   ]
  },
  {
   "cell_type": "code",
   "execution_count": 21,
   "metadata": {},
   "outputs": [
    {
     "name": "stdout",
     "output_type": "stream",
     "text": [
      "IN FLUXES        OUT FLUXES     OBJECTIVES\n",
      "---------------  -------------  ---------------\n",
      "nh4_e     106    h2o_e   394    DM_btol_c  15.1\n",
      "glc__D_e   83.3  co2_e   123\n",
      "o2_e       77.7  h_e      45.3\n",
      "pi_e       45.3  btol_c   15.1\n",
      "so4_e      15.1\n"
     ]
    }
   ],
   "source": [
    "fl = -1 * utils.conc_to_flux(200)\n",
    "glc = model.reactions.EX_glc_e\n",
    "glc.lower_bound, glc.upper_bound = fl, fl\n",
    "model.optimize()\n",
    "model.summary()"
   ]
  },
  {
   "cell_type": "code",
   "execution_count": 22,
   "metadata": {},
   "outputs": [
    {
     "name": "stdout",
     "output_type": "stream",
     "text": [
      "IN FLUXES        OUT FLUXES      OBJECTIVES\n",
      "---------------  --------------  ---------------\n",
      "nh4_e     63.3   h2o_e   237     DM_btol_c  9.04\n",
      "glc__D_e  50     co2_e    74\n",
      "o2_e      46.8   h_e      27.1\n",
      "pi_e      27.1   btol_c    9.04\n",
      "so4_e      9.04\n"
     ]
    }
   ],
   "source": [
    "fl = -1 * utils.conc_to_flux(120)\n",
    "glc = model.reactions.EX_glc_e\n",
    "glc.lower_bound, glc.upper_bound = fl, fl\n",
    "model.optimize()\n",
    "model.summary()"
   ]
  },
  {
   "cell_type": "code",
   "execution_count": 24,
   "metadata": {},
   "outputs": [
    {
     "name": "stdout",
     "output_type": "stream",
     "text": [
      "-83.3333333333 -4.16666666667\n",
      "IN FLUXES         OUT FLUXES         OBJECTIVES\n",
      "----------------  -----------------  ----------------\n",
      "glc__D_e  83.3    h2o_e     122      DM_btol_c  0.595\n",
      "o2_e      61.1    co2_e     101\n",
      "nh4_e      4.17   h_e        61.7\n",
      "pi_e       1.79   3hpp_e     28.8\n",
      "so4_e      0.595  mththf_c   28.8\n",
      "                  hxa_e      21.6\n",
      "                  akg_e       4.76\n",
      "                  btol_c      0.595\n"
     ]
    }
   ],
   "source": [
    "fl = -1 * utils.conc_to_flux(200)\n",
    "fl_nh4 = -1 * utils.conc_to_flux(10)\n",
    "print fl, fl_nh4\n",
    "glc = model.reactions.EX_glc_e\n",
    "nh4 = model.reactions.EX_nh4_e\n",
    "glc.lower_bound, glc.upper_bound = fl, fl\n",
    "nh4.lower_bound, nh4.upper_bound = fl_nh4, fl_nh4\n",
    "model.optimize()\n",
    "model.summary()"
   ]
  },
  {
   "cell_type": "code",
   "execution_count": 97,
   "metadata": {},
   "outputs": [
    {
     "name": "stdout",
     "output_type": "stream",
     "text": [
      "-83.3333333333 -4.16666666667\n",
      "IN FLUXES         OUT FLUXES           OBJECTIVES\n",
      "----------------  -------------------  ----------------\n",
      "glc__D_e  83.3    dha_e       73.1     DM_btol_c  0.595\n",
      "o2_e      13.6    co2_e       53.2\n",
      "nh4_e      4.17   12ppd__R_e  42.7\n",
      "pi_e       1.83   h_e         40.3\n",
      "so4_e      0.595  ac_e        28.8\n",
      "                  h2o_e       25.4\n",
      "                  mal__L_e     4.15\n",
      "                  glyclt_e     1.48\n",
      "                  mththf_c     1.48\n",
      "                  btol_c       0.595\n",
      "                  glyc3p_e     0.0425\n"
     ]
    }
   ],
   "source": [
    "fl = -1 * utils.conc_to_flux(200)\n",
    "fl_nh4 = -1 * utils.conc_to_flux(10)\n",
    "fl_pi = -1 * utils.conc_to_flux(10)\n",
    "fl_mg = -1 * utils.conc_to_flux(8)\n",
    "print fl, fl_nh4\n",
    "glc = model.reactions.EX_glc_e\n",
    "nh4 = model.reactions.EX_nh4_e\n",
    "pi = model.reactions.EX_pi_e\n",
    "mg = model.reactions.EX_mg2_e\n",
    "def update_bnds(rxn, fl): \n",
    "    rxn.lower_bound, rxn.upper_bound = fl, 0 \n",
    "glc.lower_bound, glc.upper_bound = fl, fl\n",
    "nh4.lower_bound, nh4.upper_bound = fl_nh4, fl_nh4\n",
    "update_bnds(pi, fl_pi)\n",
    "update_bnds(mg, fl_mg)\n",
    "model.optimize()\n",
    "model.summary()"
   ]
  },
  {
   "cell_type": "code",
   "execution_count": 103,
   "metadata": {},
   "outputs": [
    {
     "name": "stdout",
     "output_type": "stream",
     "text": [
      "['mg2', 'nh4', 'k', 'glc', 'pi', 'nadh', 'atp', 'coa']\n",
      "[8.0, 10.0, 134.0, 200.0, 4.0, 0.5, 0.0, 0.5]\n",
      "IN FLUXES        OUT FLUXES        OBJECTIVES\n",
      "---------------  ----------------  ----------------\n",
      "o2_e      6.5    h2o_e     18.6    DM_btol_c  0.556\n",
      "glc__D_e  4.49   co2_e      7.75\n",
      "nh4_e     3.89   fe3_e      1.67\n",
      "fe2_e     1.67   mththf_c   1.06\n",
      "pi_e      1.67   btol_c     0.556\n",
      "so4_e     0.556\n"
     ]
    }
   ],
   "source": [
    "elts = ['mg2', 'nh4', 'k', 'glc', 'pi', 'nadh', 'atp', 'coa']\n",
    "row = df.iloc[36, 4:]\n",
    "fluxes = [-1 * utils.conc_to_flux(row[i]) for i in range(len(elts))]\n",
    "print elts\n",
    "print row.tolist()\n",
    "for elt, flux in zip(elts, fluxes):\n",
    "    #print elt, '{0}_c'.format(elt)#, model.metabolites.get_by_id('{0}_c'.format(elt))\n",
    "    try:\n",
    "        rxn = model.reactions.get_by_id('EX_{0}_e'.format(elt))\n",
    "    except KeyError:\n",
    "        break\n",
    "        #model.add_boundary(reaction_id='EX_{0}_e'.format(elt), type='Exchange', \n",
    "        #                   metabolite=model.metabolites.get_by_id('{0}_c'.format(elt)), ub=flux)\n",
    "        #rxn = model.reactions.get_by_id('EX_{0}_e'.format(elt))\n",
    "    rxn.lower_bound, rxn.upper_bound = flux, 0\n",
    "model.optimize()\n",
    "model.summary()"
   ]
  },
  {
   "cell_type": "code",
   "execution_count": 22,
   "metadata": {},
   "outputs": [],
   "source": [
    "df2 = pd.read_csv(filepath_or_buffer='../data/4_5_18_T7_C6N_mRFP.TXT', skiprows=6)"
   ]
  },
  {
   "cell_type": "code",
   "execution_count": 27,
   "metadata": {},
   "outputs": [
    {
     "data": {
      "text/plain": [
       "Index([u'Well', u'Unnamed: 1', u'C01', u'C02', u'C03', u'C04', u'C05', u'C06',\n",
       "       u'C07', u'C08', u'C09', u'D01', u'D02', u'D03', u'D04', u'D05', u'D06',\n",
       "       u'D07', u'D08', u'D09', u'E01', u'E02', u'E03', u'E04', u'E05', u'E06',\n",
       "       u'E07', u'E08', u'E09', u'F01', u'F02', u'F03', u'F04', u'F05', u'F06',\n",
       "       u'F07', u'F08', u'F09', u'F10'],\n",
       "      dtype='object')"
      ]
     },
     "execution_count": 27,
     "metadata": {},
     "output_type": "execute_result"
    }
   ],
   "source": [
    "df2.columns"
   ]
  },
  {
   "cell_type": "code",
   "execution_count": null,
   "metadata": {},
   "outputs": [],
   "source": []
  }
 ],
 "metadata": {
  "kernelspec": {
   "display_name": "Python 2",
   "language": "python",
   "name": "python2"
  },
  "language_info": {
   "codemirror_mode": {
    "name": "ipython",
    "version": 2
   },
   "file_extension": ".py",
   "mimetype": "text/x-python",
   "name": "python",
   "nbconvert_exporter": "python",
   "pygments_lexer": "ipython2",
   "version": "2.7.10"
  }
 },
 "nbformat": 4,
 "nbformat_minor": 2
}
