{
 "cells": [
  {
   "cell_type": "code",
   "execution_count": 1,
   "metadata": {},
   "outputs": [],
   "source": [
    "%load_ext autoreload\n",
    "import sys\n",
    "if not '/Users/nlarusstone/Documents/MPhil/Research/cf_fba' in sys.path:\n",
    "    sys.path.append('/Users/nlarusstone/Documents/MPhil/Research/cf_fba')\n",
    "import src.utils as utils\n",
    "%autoreload 2"
   ]
  },
  {
   "cell_type": "code",
   "execution_count": 19,
   "metadata": {},
   "outputs": [],
   "source": [
    "import cobra\n",
    "import cobra.test\n",
    "import pandas as pd\n",
    "import numpy as np\n",
    "import Bio.PDB.Polypeptide"
   ]
  },
  {
   "cell_type": "code",
   "execution_count": 17,
   "metadata": {},
   "outputs": [],
   "source": [
    "model = cobra.io.read_sbml_model(filename='../models/iJO1366.xml')"
   ]
  },
  {
   "cell_type": "code",
   "execution_count": 20,
   "metadata": {},
   "outputs": [],
   "source": [
    "varner = cobra.io.load_json_model('../models/varner.json')\n",
    "def extract_txtl_rxns(model):\n",
    "    aa_metabs = []\n",
    "    for aa in Bio.PDB.Polypeptide.aa3:\n",
    "        aa_metabs += model.metabolites.query(aa.lower())\n",
    "    aa_rxns = []\n",
    "    for aa_metab in aa_metabs:\n",
    "        aa_rxns += aa_metab.reactions\n",
    "    tx_rxns = model.reactions.query('transcription')\n",
    "    tl_rxns = model.reactions.query('translation')\n",
    "    txtl_rxns = list(set(aa_rxns).union(tx_rxns).union(tl_rxns))\n",
    "    return txtl_rxns\n",
    "txtl_rxns = extract_txtl_rxns(varner)"
   ]
  },
  {
   "cell_type": "code",
   "execution_count": null,
   "metadata": {},
   "outputs": [],
   "source": []
  },
  {
   "cell_type": "code",
   "execution_count": 8,
   "metadata": {},
   "outputs": [],
   "source": [
    "alc_dehydr = cobra.Reaction(id='ALCDBUT', name='Alcohol dehydrogenase (butanal)', subsystem='c')\n",
    "model.add_reaction(alc_dehydr)\n",
    "alc_dehydr.add_metabolites({'btcoa_c': -1, 'h_c': -1, 'nadh_c': -1, 'nad_c': 1, 'btal_c': 1})\n",
    "\n",
    "butanol = cobra.Metabolite(id='btol_c', name='1-butanol', compartment='c', charge=0, formula='C4H9OH')\n",
    "but_synth = cobra.Reaction(id='BUTSYN', name='Butanol synthesis', subsystem='c')\n",
    "model.add_reaction(but_synth)\n",
    "but_synth.add_metabolites({'btal_c': -1, 'h_c': -1, 'nadh_c': -1, 'nad_c': 1, butanol: 1})"
   ]
  },
  {
   "cell_type": "code",
   "execution_count": 9,
   "metadata": {},
   "outputs": [],
   "source": [
    "utils.change_obj(model=model, metab=model.metabolites.btol_c)"
   ]
  },
  {
   "cell_type": "code",
   "execution_count": 10,
   "metadata": {},
   "outputs": [],
   "source": [
    "cobra.io.write_sbml_model(filename='../models/ecoli_but.sbml', cobra_model=model)"
   ]
  },
  {
   "cell_type": "code",
   "execution_count": 11,
   "metadata": {},
   "outputs": [],
   "source": [
    "def ecoli_to_cf(mod):\n",
    "    # Delete transmembrane transport reactions\n",
    "    model = mod.copy()\n",
    "\n",
    "    # Add exchange reactions for all metabolites\n",
    "    # Exchange‐reactions for non‐substrate metabolites have lb of 0 and ub of 1000 by default\n",
    "    #all_metab_ex = utils.gen_metab_dict(model, model.metabolites, cnvt=False)\n",
    "\n",
    "    #utils.add_ex(model, all_metab_ex)\n",
    "    model.remove_reactions(['EX_glc_e', 'EX_pi_e', 'EX_mg2_e', 'EX_k_e', 'EX_nh4_e'])\n",
    "\n",
    "    # As objective function, we selected the exchange reaction which corresponds to the target metabolite \n",
    "    # for which a pathway should be determined.   \n",
    "    return model\n",
    "\n",
    "model_cf = ecoli_to_cf(model)"
   ]
  },
  {
   "cell_type": "code",
   "execution_count": 12,
   "metadata": {},
   "outputs": [],
   "source": [
    "def build_medium(mod):\n",
    "    model = mod.copy()\n",
    "    # in mM\n",
    "    aa_conc = -1 * utils.conc_to_flux(2)\n",
    "    trna_conc = -1 * utils.conc_to_flux(0.17)\n",
    "    metab_conc = map(lambda x: utils.conc_to_flux(x) * -1, [1.2, 0.85, 0.85, 0.85, 0.33, 0.27, 1.50, 1.00, 130, 10, 12, 0.33])\n",
    "    print metab_conc\n",
    "    # TODO: map from conc to exchange fluxes\n",
    "       \n",
    "    import Bio.PDB.Polypeptide\n",
    "    aas = map(lambda x: x.lower(), Bio.PDB.Polypeptide.aa3)\n",
    "    aa_concs = {}\n",
    "    for aa in aas:\n",
    "        l_aa, d_aa = None, None\n",
    "        try:\n",
    "            l_aa = utils.convert_cmpts(model, model.metabolites.get_by_id(aa + '__L_c'), from_cmpt='c', to_cmpt='e')\n",
    "            d_aa = utils.convert_cmpts(model, model.metabolites.get_by_id(aa + '__D_c'), from_cmpt='c', to_cmpt='e')\n",
    "        except KeyError:\n",
    "            if aa == 'gly':\n",
    "                l_aa = utils.convert_cmpts(model, model.metabolites.get_by_id(aa + '_c'), from_cmpt='c', to_cmpt='e')\n",
    "        if d_aa:\n",
    "            aa_concs[l_aa] = aa_conc / 2.0 \n",
    "            aa_concs[d_aa] = aa_conc / 2.0 \n",
    "        else:\n",
    "            aa_concs[l_aa] = aa_conc\n",
    "    \n",
    "    trna_concs = {utils.convert_cmpts(model, trna_metab, from_cmpt='c', to_cmpt='e') : trna_conc for trna_metab in model.metabolites.query('trna')}\n",
    "       \n",
    "    metab_nms = ['atp', 'gtp', 'utp', 'ctp', 'nad', 'coa', 'spmd', 'ptrc', 'k', 'nh4', 'mg2', 'pep']\n",
    "    metab_concs = utils.gen_metab_dict(model, metab_nms, metab_conc)\n",
    "    \n",
    "    # Not included: RNAP & Folinic Acid & cell extract\n",
    "    base_medium = {}\n",
    "    base_medium.update(utils.add_exchange(model, metab_concs))\n",
    "    #base_medium.update(utils.add_exchange(model, aa_concs))\n",
    "    #base_medium.update(utils.add_exchange(model, trna_concs))\n",
    "       \n",
    "    #model.medium = base_medium\n",
    "    return model"
   ]
  },
  {
   "cell_type": "code",
   "execution_count": 13,
   "metadata": {},
   "outputs": [],
   "source": [
    "model_cf_med = utils.build_medium(model_cf)"
   ]
  },
  {
   "cell_type": "code",
   "execution_count": 14,
   "metadata": {},
   "outputs": [],
   "source": [
    "cobra.io.write_sbml_model(filename='../models/ecoli_cf_base.sbml', cobra_model=model_cf_med)"
   ]
  },
  {
   "cell_type": "code",
   "execution_count": 68,
   "metadata": {},
   "outputs": [
    {
     "name": "stdout",
     "output_type": "stream",
     "text": [
      "IN FLUXES        OUT FLUXES        OBJECTIVES\n",
      "---------------  ----------------  ----------------\n",
      "o2_e      2.03   h2o_e    2.09     DM_btol_c  0.118\n",
      "pro__L_e  0.473  co2_e    1.99\n",
      "glu__L_e  0.417  gdp_e    0.354\n",
      "h_e       0.39   btol_c   0.118\n",
      "gtp_e     0.354  ura_e    0.0523\n",
      "val__L_e  0.118  agm_e    0.0456\n",
      "cys__L_e  0.118  alltn_e  0.00311\n"
     ]
    }
   ],
   "source": [
    "model_cf_med.optimize()\n",
    "model_cf_med.summary()"
   ]
  },
  {
   "cell_type": "code",
   "execution_count": 24,
   "metadata": {},
   "outputs": [
    {
     "data": {
      "text/html": [
       "<div>\n",
       "<style scoped>\n",
       "    .dataframe tbody tr th:only-of-type {\n",
       "        vertical-align: middle;\n",
       "    }\n",
       "\n",
       "    .dataframe tbody tr th {\n",
       "        vertical-align: top;\n",
       "    }\n",
       "\n",
       "    .dataframe thead th {\n",
       "        text-align: right;\n",
       "    }\n",
       "</style>\n",
       "<table border=\"1\" class=\"dataframe\">\n",
       "  <thead>\n",
       "    <tr style=\"text-align: right;\">\n",
       "      <th></th>\n",
       "      <th>AVG</th>\n",
       "      <th>STD</th>\n",
       "      <th>AVG.1</th>\n",
       "      <th>STD.1</th>\n",
       "      <th>Mg(Glu)2</th>\n",
       "      <th>NH4(Glu)</th>\n",
       "      <th>K(Glu)</th>\n",
       "      <th>Glucose</th>\n",
       "      <th>K2HPO4</th>\n",
       "      <th>NAD</th>\n",
       "      <th>ATP</th>\n",
       "      <th>CoA</th>\n",
       "    </tr>\n",
       "  </thead>\n",
       "  <tbody>\n",
       "    <tr>\n",
       "      <th>0</th>\n",
       "      <td>0.00</td>\n",
       "      <td>0.0</td>\n",
       "      <td>0.00</td>\n",
       "      <td>0.00</td>\n",
       "      <td>8.0</td>\n",
       "      <td>10.0</td>\n",
       "      <td>134</td>\n",
       "      <td>0</td>\n",
       "      <td>10</td>\n",
       "      <td>0.5</td>\n",
       "      <td>0.0</td>\n",
       "      <td>0.5</td>\n",
       "    </tr>\n",
       "    <tr>\n",
       "      <th>1</th>\n",
       "      <td>0.00</td>\n",
       "      <td>0.0</td>\n",
       "      <td>0.00</td>\n",
       "      <td>0.00</td>\n",
       "      <td>8.0</td>\n",
       "      <td>10.0</td>\n",
       "      <td>134</td>\n",
       "      <td>200</td>\n",
       "      <td>10</td>\n",
       "      <td>0.0</td>\n",
       "      <td>0.0</td>\n",
       "      <td>0.5</td>\n",
       "    </tr>\n",
       "    <tr>\n",
       "      <th>2</th>\n",
       "      <td>0.00</td>\n",
       "      <td>0.0</td>\n",
       "      <td>0.00</td>\n",
       "      <td>0.00</td>\n",
       "      <td>8.0</td>\n",
       "      <td>10.0</td>\n",
       "      <td>134</td>\n",
       "      <td>200</td>\n",
       "      <td>10</td>\n",
       "      <td>0.5</td>\n",
       "      <td>0.0</td>\n",
       "      <td>2.0</td>\n",
       "    </tr>\n",
       "    <tr>\n",
       "      <th>3</th>\n",
       "      <td>0.00</td>\n",
       "      <td>0.0</td>\n",
       "      <td>0.00</td>\n",
       "      <td>0.00</td>\n",
       "      <td>8.0</td>\n",
       "      <td>10.0</td>\n",
       "      <td>134</td>\n",
       "      <td>200</td>\n",
       "      <td>10</td>\n",
       "      <td>0.5</td>\n",
       "      <td>0.0</td>\n",
       "      <td>1.6</td>\n",
       "    </tr>\n",
       "    <tr>\n",
       "      <th>4</th>\n",
       "      <td>1.21</td>\n",
       "      <td>1.7</td>\n",
       "      <td>0.09</td>\n",
       "      <td>0.13</td>\n",
       "      <td>8.0</td>\n",
       "      <td>10.0</td>\n",
       "      <td>134</td>\n",
       "      <td>200</td>\n",
       "      <td>10</td>\n",
       "      <td>0.5</td>\n",
       "      <td>2.0</td>\n",
       "      <td>0.5</td>\n",
       "    </tr>\n",
       "  </tbody>\n",
       "</table>\n",
       "</div>"
      ],
      "text/plain": [
       "    AVG  STD  AVG.1  STD.1  Mg(Glu)2  NH4(Glu)  K(Glu)  Glucose  K2HPO4  NAD  \\\n",
       "0  0.00  0.0   0.00   0.00       8.0      10.0     134        0      10  0.5   \n",
       "1  0.00  0.0   0.00   0.00       8.0      10.0     134      200      10  0.0   \n",
       "2  0.00  0.0   0.00   0.00       8.0      10.0     134      200      10  0.5   \n",
       "3  0.00  0.0   0.00   0.00       8.0      10.0     134      200      10  0.5   \n",
       "4  1.21  1.7   0.09   0.13       8.0      10.0     134      200      10  0.5   \n",
       "\n",
       "   ATP  CoA  \n",
       "0  0.0  0.5  \n",
       "1  0.0  0.5  \n",
       "2  0.0  2.0  \n",
       "3  0.0  1.6  \n",
       "4  2.0  0.5  "
      ]
     },
     "execution_count": 24,
     "metadata": {},
     "output_type": "execute_result"
    }
   ],
   "source": [
    "df = pd.read_csv('../data/Karim_MetEng_2018_Figure2_Data.csv')\n",
    "df.drop(columns=['Area_1', 'Area_2', 'Conc_1', 'Conc_2'], inplace=True)\n",
    "df.head()"
   ]
  },
  {
   "cell_type": "code",
   "execution_count": 55,
   "metadata": {},
   "outputs": [],
   "source": [
    "reduced = df.loc[:, ['Glucose', 'NH4(Glu)', 'NAD', 'CoA']].drop_duplicates(keep='first')\n",
    "reduced['AVG.1'] = df.loc[reduced.index, 'AVG.1']\n",
    "reduced.to_csv('../data/reduced.csv')"
   ]
  },
  {
   "cell_type": "code",
   "execution_count": 24,
   "metadata": {},
   "outputs": [],
   "source": [
    "utils.change_obj(model=model_cf_med, metab=model_cf_med.metabolites.btol_c)\n",
    "utils.change_obj(model=model_cf, metab=model_cf.metabolites.btol_c)"
   ]
  },
  {
   "cell_type": "code",
   "execution_count": 66,
   "metadata": {},
   "outputs": [],
   "source": [
    "def add_addl_reactants(model, df):\n",
    "    mod = model.copy()\n",
    "    addl_reagent_nms = ['mg2', 'nh4', 'k', 'glc__D', 'pi', 'nad', 'atp', 'coa']\n",
    "    objs = []\n",
    "    for i, row in df.iterrows():\n",
    "        with mod:\n",
    "            metab_dict = utils.gen_metab_dict(mod, addl_reagent_nms, map(lambda x: -1 * utils.conc_to_flux(x), row[4:]))\n",
    "            rxn = utils.add_exchange(mod, metab_dict, additive=True)\n",
    "            #different_mediums(mod, model)\n",
    "            #mod.add_reactions(reaction_list=sol[0])\n",
    "            obj = mod.slim_optimize()\n",
    "            objs.append(obj)\n",
    "            #print 'Obj: {0}'.format(obj.objective_value)\n",
    "    return objs"
   ]
  },
  {
   "cell_type": "code",
   "execution_count": 70,
   "metadata": {},
   "outputs": [
    {
     "data": {
      "text/html": [
       "\n",
       "        <table>\n",
       "            <tr>\n",
       "                <td><strong>Metabolite identifier</strong></td><td>mg2_c</td>\n",
       "            </tr><tr>\n",
       "                <td><strong>Name</strong></td><td>magnesium</td>\n",
       "            </tr><tr>\n",
       "                <td><strong>Memory address</strong></td>\n",
       "                <td>0x0109757410</td>\n",
       "            </tr><tr>\n",
       "                <td><strong>Formula</strong></td><td>Mg</td>\n",
       "            </tr><tr>\n",
       "                <td><strong>Compartment</strong></td><td>c</td>\n",
       "            </tr><tr>\n",
       "                <td><strong>In 5 reaction(s)</strong></td><td>\n",
       "                    Ec_biomass_iJO1366_core_53p95M, MG2t3_2pp, MG2uabcpp, Ec_biomass_iJO1366_WT_53p95M, MG2tpp</td>\n",
       "            </tr>\n",
       "        </table>"
      ],
      "text/plain": [
       "<Metabolite mg2_c at 0x109757410>"
      ]
     },
     "execution_count": 70,
     "metadata": {},
     "output_type": "execute_result"
    }
   ],
   "source": [
    "model.metabolites.mg2_c"
   ]
  },
  {
   "cell_type": "code",
   "execution_count": 69,
   "metadata": {},
   "outputs": [
    {
     "data": {
      "text/plain": [
       "[1.0632867132867072,\n",
       " 1.5069444444444435,\n",
       " 1.5069444444444435,\n",
       " 1.5069444444444435,\n",
       " 1.5069444444444435,\n",
       " 1.5069444444444435,\n",
       " 2.895833333333339,\n",
       " 1.5069444444444435,\n",
       " 1.5069444444444435,\n",
       " 1.5069444444444435,\n",
       " 1.5069444444444435,\n",
       " 1.5069444444444435,\n",
       " 1.5069444444444435,\n",
       " 1.5069444444444435,\n",
       " 2.340277777777785,\n",
       " 1.5069444444444435,\n",
       " 1.5069444444444435,\n",
       " 1.5069444444444435,\n",
       " 1.5069444444444435,\n",
       " 1.5069444444444435,\n",
       " 1.5069444444444435,\n",
       " 1.5069444444444435,\n",
       " 1.7847222222222205,\n",
       " 1.5069444444444435,\n",
       " 1.5069444444444435,\n",
       " 1.5069444444444435,\n",
       " 1.5069444444444435,\n",
       " 1.5069444444444435,\n",
       " 1.5069444444444435,\n",
       " 1.5069444444444435,\n",
       " 1.5069444444444435,\n",
       " 1.5069444444444435,\n",
       " 1.5069444444444435,\n",
       " 1.5069444444444435,\n",
       " 1.5069444444444435,\n",
       " 0.11805555555555675,\n",
       " 0.6736111111111152,\n",
       " 1.5069444444444435,\n",
       " 1.5069444444444435,\n",
       " 1.5069444444444435,\n",
       " 1.5069444444444435]"
      ]
     },
     "execution_count": 69,
     "metadata": {},
     "output_type": "execute_result"
    }
   ],
   "source": [
    "utils.add_addl_reactants(model_cf_med, df)"
   ]
  },
  {
   "cell_type": "code",
   "execution_count": 12,
   "metadata": {},
   "outputs": [],
   "source": [
    "cobra.io.save_json_model(filename='Full_Ecoli_CF_Base.json', model=model_cf_med)"
   ]
  },
  {
   "cell_type": "code",
   "execution_count": 81,
   "metadata": {},
   "outputs": [
    {
     "data": {
      "text/plain": [
       "{'EX_ca2_e': 1000.0,\n",
       " 'EX_cbl1_e': 0.01,\n",
       " 'EX_cl_e': 1000.0,\n",
       " 'EX_co2_e': 1000.0,\n",
       " 'EX_cobalt2_e': 1000.0,\n",
       " 'EX_cu2_e': 1000.0,\n",
       " 'EX_fe2_e': 1000.0,\n",
       " 'EX_fe3_e': 1000.0,\n",
       " 'EX_glc_e': 10.0,\n",
       " 'EX_h2o_e': 1000.0,\n",
       " 'EX_h_e': 1000.0,\n",
       " 'EX_k_e': 1000.0,\n",
       " 'EX_mg2_e': 1000.0,\n",
       " 'EX_mn2_e': 1000.0,\n",
       " 'EX_mobd_e': 1000.0,\n",
       " 'EX_na1_e': 1000.0,\n",
       " 'EX_nh4_e': 1000.0,\n",
       " 'EX_ni2_e': 1000.0,\n",
       " 'EX_o2_e': 1000.0,\n",
       " 'EX_pi_e': 1000.0,\n",
       " 'EX_sel_e': 1000.0,\n",
       " 'EX_slnt_e': 1000.0,\n",
       " 'EX_so4_e': 1000.0,\n",
       " 'EX_tungs_e': 1000.0,\n",
       " 'EX_zn2_e': 1000.0}"
      ]
     },
     "execution_count": 81,
     "metadata": {},
     "output_type": "execute_result"
    }
   ],
   "source": [
    "model.medium"
   ]
  },
  {
   "cell_type": "code",
   "execution_count": 13,
   "metadata": {},
   "outputs": [
    {
     "name": "stdout",
     "output_type": "stream",
     "text": [
      "IN FLUXES             OUT FLUXES           OBJECTIVES\n",
      "--------------------  -------------------  ----------------------\n",
      "o2_e       17.6       h2o_e     45.6       Ec_biomass_i...  0.982\n",
      "nh4_e      10.6       co2_e     19.7\n",
      "glc__D_e   10         h_e        9.03\n",
      "pi_e        0.948     mththf_c   0.00044\n",
      "so4_e       0.248     5drib_c    0.000221\n",
      "k_e         0.192     4crsol_c   0.000219\n",
      "fe2_e       0.0158    amob_c     1.96e-06\n",
      "mg2_e       0.00852   meoh_e     1.96e-06\n",
      "ca2_e       0.00511\n",
      "cl_e        0.00511\n",
      "cu2_e       0.000697\n",
      "mn2_e       0.000679\n",
      "zn2_e       0.000335\n",
      "ni2_e       0.000317\n",
      "mobd_e      0.000127\n",
      "cobalt2_e   2.46e-05\n"
     ]
    }
   ],
   "source": [
    "model.optimize()\n",
    "model.summary()"
   ]
  },
  {
   "cell_type": "code",
   "execution_count": 17,
   "metadata": {},
   "outputs": [
    {
     "name": "stdout",
     "output_type": "stream",
     "text": [
      "-83.3333333333\n",
      "IN FLUXES              OUT FLUXES            OBJECTIVES\n",
      "---------------------  --------------------  ---------------------\n",
      "o2_e       142         h2o_e     379         Ec_biomass_i...  8.28\n",
      "nh4_e       89.5       co2_e     160\n",
      "glc__D_e    83.3       h_e        76.1\n",
      "pi_e         7.99      mththf_c    0.00371\n",
      "so4_e        2.09      5drib_c     0.00186\n",
      "k_e          1.62      4crsol_c    0.00185\n",
      "fe2_e        0.133     amob_c      1.66e-05\n",
      "mg2_e        0.0718    meoh_e      1.66e-05\n",
      "ca2_e        0.0431\n",
      "cl_e         0.0431\n",
      "cu2_e        0.00587\n",
      "mn2_e        0.00572\n",
      "zn2_e        0.00282\n",
      "ni2_e        0.00268\n",
      "mobd_e       0.00107\n",
      "cobalt2_e    0.000207\n"
     ]
    }
   ],
   "source": [
    "fl = -1 * utils.conc_to_flux(200)\n",
    "print fl\n",
    "glc = model.reactions.EX_glc_e\n",
    "glc.lower_bound, glc.upper_bound = fl, fl\n",
    "model.optimize()\n",
    "model.summary()"
   ]
  },
  {
   "cell_type": "code",
   "execution_count": 18,
   "metadata": {},
   "outputs": [
    {
     "name": "stdout",
     "output_type": "stream",
     "text": [
      "-50.0\n",
      "IN FLUXES             OUT FLUXES            OBJECTIVES\n",
      "--------------------  --------------------  ---------------------\n",
      "o2_e       85.6       h2o_e     227         Ec_biomass_i...  4.96\n",
      "nh4_e      53.6       co2_e      96.2\n",
      "glc__D_e   50         h_e        45.6\n",
      "pi_e        4.79      mththf_c    0.00222\n",
      "so4_e       1.25      5drib_c     0.00112\n",
      "k_e         0.969     4crsol_c    0.00111\n",
      "fe2_e       0.0797    amob_c      9.93e-06\n",
      "mg2_e       0.0431    meoh_e      9.93e-06\n",
      "ca2_e       0.0258\n",
      "cl_e        0.0258\n",
      "cu2_e       0.00352\n",
      "mn2_e       0.00343\n",
      "zn2_e       0.00169\n",
      "ni2_e       0.0016\n",
      "mobd_e      0.00064\n",
      "cobalt2_e   0.000124\n"
     ]
    }
   ],
   "source": [
    "fl = -1 * utils.conc_to_flux(120)\n",
    "print fl\n",
    "glc = model.reactions.EX_glc_e\n",
    "glc.lower_bound, glc.upper_bound = fl, fl\n",
    "model.optimize()\n",
    "model.summary()"
   ]
  },
  {
   "cell_type": "code",
   "execution_count": 92,
   "metadata": {},
   "outputs": [],
   "source": [
    "utils.change_obj(model, model.metabolites.btol_c)"
   ]
  },
  {
   "cell_type": "code",
   "execution_count": 20,
   "metadata": {},
   "outputs": [
    {
     "name": "stdout",
     "output_type": "stream",
     "text": [
      "IN FLUXES        OUT FLUXES     OBJECTIVES\n",
      "---------------  -------------  ---------------\n",
      "nh4_e     12.5   h2o_e   47.5   DM_btol_c  1.79\n",
      "glc__D_e  10     co2_e   15.2\n",
      "o2_e       9.87  h_e      5.37\n",
      "pi_e       5.37  btol_c   1.79\n",
      "so4_e      1.79\n"
     ]
    }
   ],
   "source": [
    "glc = model.reactions.EX_glc_e\n",
    "glc.lower_bound, glc.upper_bound = -10, 1000\n",
    "model.reactions.EX_glc_e\n",
    "model.optimize()\n",
    "model.summary()"
   ]
  },
  {
   "cell_type": "code",
   "execution_count": 21,
   "metadata": {},
   "outputs": [
    {
     "name": "stdout",
     "output_type": "stream",
     "text": [
      "IN FLUXES        OUT FLUXES     OBJECTIVES\n",
      "---------------  -------------  ---------------\n",
      "nh4_e     106    h2o_e   394    DM_btol_c  15.1\n",
      "glc__D_e   83.3  co2_e   123\n",
      "o2_e       77.7  h_e      45.3\n",
      "pi_e       45.3  btol_c   15.1\n",
      "so4_e      15.1\n"
     ]
    }
   ],
   "source": [
    "fl = -1 * utils.conc_to_flux(200)\n",
    "glc = model.reactions.EX_glc_e\n",
    "glc.lower_bound, glc.upper_bound = fl, fl\n",
    "model.optimize()\n",
    "model.summary()"
   ]
  },
  {
   "cell_type": "code",
   "execution_count": 22,
   "metadata": {},
   "outputs": [
    {
     "name": "stdout",
     "output_type": "stream",
     "text": [
      "IN FLUXES        OUT FLUXES      OBJECTIVES\n",
      "---------------  --------------  ---------------\n",
      "nh4_e     63.3   h2o_e   237     DM_btol_c  9.04\n",
      "glc__D_e  50     co2_e    74\n",
      "o2_e      46.8   h_e      27.1\n",
      "pi_e      27.1   btol_c    9.04\n",
      "so4_e      9.04\n"
     ]
    }
   ],
   "source": [
    "fl = -1 * utils.conc_to_flux(120)\n",
    "glc = model.reactions.EX_glc_e\n",
    "glc.lower_bound, glc.upper_bound = fl, fl\n",
    "model.optimize()\n",
    "model.summary()"
   ]
  },
  {
   "cell_type": "code",
   "execution_count": 24,
   "metadata": {},
   "outputs": [
    {
     "name": "stdout",
     "output_type": "stream",
     "text": [
      "-83.3333333333 -4.16666666667\n",
      "IN FLUXES         OUT FLUXES         OBJECTIVES\n",
      "----------------  -----------------  ----------------\n",
      "glc__D_e  83.3    h2o_e     122      DM_btol_c  0.595\n",
      "o2_e      61.1    co2_e     101\n",
      "nh4_e      4.17   h_e        61.7\n",
      "pi_e       1.79   3hpp_e     28.8\n",
      "so4_e      0.595  mththf_c   28.8\n",
      "                  hxa_e      21.6\n",
      "                  akg_e       4.76\n",
      "                  btol_c      0.595\n"
     ]
    }
   ],
   "source": [
    "fl = -1 * utils.conc_to_flux(200)\n",
    "fl_nh4 = -1 * utils.conc_to_flux(10)\n",
    "print fl, fl_nh4\n",
    "glc = model.reactions.EX_glc_e\n",
    "nh4 = model.reactions.EX_nh4_e\n",
    "glc.lower_bound, glc.upper_bound = fl, fl\n",
    "nh4.lower_bound, nh4.upper_bound = fl_nh4, fl_nh4\n",
    "model.optimize()\n",
    "model.summary()"
   ]
  },
  {
   "cell_type": "code",
   "execution_count": 97,
   "metadata": {},
   "outputs": [
    {
     "name": "stdout",
     "output_type": "stream",
     "text": [
      "-83.3333333333 -4.16666666667\n",
      "IN FLUXES         OUT FLUXES           OBJECTIVES\n",
      "----------------  -------------------  ----------------\n",
      "glc__D_e  83.3    dha_e       73.1     DM_btol_c  0.595\n",
      "o2_e      13.6    co2_e       53.2\n",
      "nh4_e      4.17   12ppd__R_e  42.7\n",
      "pi_e       1.83   h_e         40.3\n",
      "so4_e      0.595  ac_e        28.8\n",
      "                  h2o_e       25.4\n",
      "                  mal__L_e     4.15\n",
      "                  glyclt_e     1.48\n",
      "                  mththf_c     1.48\n",
      "                  btol_c       0.595\n",
      "                  glyc3p_e     0.0425\n"
     ]
    }
   ],
   "source": [
    "fl = -1 * utils.conc_to_flux(200)\n",
    "fl_nh4 = -1 * utils.conc_to_flux(10)\n",
    "fl_pi = -1 * utils.conc_to_flux(10)\n",
    "fl_mg = -1 * utils.conc_to_flux(8)\n",
    "print fl, fl_nh4\n",
    "glc = model.reactions.EX_glc_e\n",
    "nh4 = model.reactions.EX_nh4_e\n",
    "pi = model.reactions.EX_pi_e\n",
    "mg = model.reactions.EX_mg2_e\n",
    "def update_bnds(rxn, fl): \n",
    "    rxn.lower_bound, rxn.upper_bound = fl, 0 \n",
    "glc.lower_bound, glc.upper_bound = fl, fl\n",
    "nh4.lower_bound, nh4.upper_bound = fl_nh4, fl_nh4\n",
    "update_bnds(pi, fl_pi)\n",
    "update_bnds(mg, fl_mg)\n",
    "model.optimize()\n",
    "model.summary()"
   ]
  },
  {
   "cell_type": "code",
   "execution_count": 103,
   "metadata": {},
   "outputs": [
    {
     "name": "stdout",
     "output_type": "stream",
     "text": [
      "['mg2', 'nh4', 'k', 'glc', 'pi', 'nadh', 'atp', 'coa']\n",
      "[8.0, 10.0, 134.0, 200.0, 4.0, 0.5, 0.0, 0.5]\n",
      "IN FLUXES        OUT FLUXES        OBJECTIVES\n",
      "---------------  ----------------  ----------------\n",
      "o2_e      6.5    h2o_e     18.6    DM_btol_c  0.556\n",
      "glc__D_e  4.49   co2_e      7.75\n",
      "nh4_e     3.89   fe3_e      1.67\n",
      "fe2_e     1.67   mththf_c   1.06\n",
      "pi_e      1.67   btol_c     0.556\n",
      "so4_e     0.556\n"
     ]
    }
   ],
   "source": [
    "elts = ['mg2', 'nh4', 'k', 'glc', 'pi', 'nadh', 'atp', 'coa']\n",
    "row = df.iloc[36, 4:]\n",
    "fluxes = [-1 * utils.conc_to_flux(row[i]) for i in range(len(elts))]\n",
    "print elts\n",
    "print row.tolist()\n",
    "for elt, flux in zip(elts, fluxes):\n",
    "    #print elt, '{0}_c'.format(elt)#, model.metabolites.get_by_id('{0}_c'.format(elt))\n",
    "    try:\n",
    "        rxn = model.reactions.get_by_id('EX_{0}_e'.format(elt))\n",
    "    except KeyError:\n",
    "        break\n",
    "        #model.add_boundary(reaction_id='EX_{0}_e'.format(elt), type='Exchange', \n",
    "        #                   metabolite=model.metabolites.get_by_id('{0}_c'.format(elt)), ub=flux)\n",
    "        #rxn = model.reactions.get_by_id('EX_{0}_e'.format(elt))\n",
    "    rxn.lower_bound, rxn.upper_bound = flux, 0\n",
    "model.optimize()\n",
    "model.summary()"
   ]
  },
  {
   "cell_type": "code",
   "execution_count": 22,
   "metadata": {},
   "outputs": [],
   "source": [
    "df2 = pd.read_csv(filepath_or_buffer='../data/4_5_18_T7_C6N_mRFP.TXT', skiprows=6)"
   ]
  },
  {
   "cell_type": "code",
   "execution_count": 27,
   "metadata": {},
   "outputs": [
    {
     "data": {
      "text/plain": [
       "Index([u'Well', u'Unnamed: 1', u'C01', u'C02', u'C03', u'C04', u'C05', u'C06',\n",
       "       u'C07', u'C08', u'C09', u'D01', u'D02', u'D03', u'D04', u'D05', u'D06',\n",
       "       u'D07', u'D08', u'D09', u'E01', u'E02', u'E03', u'E04', u'E05', u'E06',\n",
       "       u'E07', u'E08', u'E09', u'F01', u'F02', u'F03', u'F04', u'F05', u'F06',\n",
       "       u'F07', u'F08', u'F09', u'F10'],\n",
       "      dtype='object')"
      ]
     },
     "execution_count": 27,
     "metadata": {},
     "output_type": "execute_result"
    }
   ],
   "source": [
    "df2.columns"
   ]
  },
  {
   "cell_type": "code",
   "execution_count": null,
   "metadata": {},
   "outputs": [],
   "source": []
  }
 ],
 "metadata": {
  "kernelspec": {
   "display_name": "Python 2",
   "language": "python",
   "name": "python2"
  },
  "language_info": {
   "codemirror_mode": {
    "name": "ipython",
    "version": 2
   },
   "file_extension": ".py",
   "mimetype": "text/x-python",
   "name": "python",
   "nbconvert_exporter": "python",
   "pygments_lexer": "ipython2",
   "version": "2.7.10"
  }
 },
 "nbformat": 4,
 "nbformat_minor": 2
}
