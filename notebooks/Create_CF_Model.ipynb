{
 "cells": [
  {
   "cell_type": "code",
   "execution_count": null,
   "metadata": {},
   "outputs": [],
   "source": [
    "%load_ext autoreload\n",
    "import sys\n",
    "if not '/Users/nlarusstone/Documents/MPhil/Research/cf_fba' in sys.path:\n",
    "    sys.path.append('/Users/nlarusstone/Documents/MPhil/Research/cf_fba')\n",
    "import src.utils as utils\n",
    "%autoreload 2"
   ]
  },
  {
   "cell_type": "code",
   "execution_count": null,
   "metadata": {},
   "outputs": [],
   "source": [
    "import cobra\n",
    "import cobra.test\n",
    "import pandas as pd\n",
    "import numpy as np\n",
    "import difflib\n",
    "import re\n",
    "import Bio.PDB.Polypeptide"
   ]
  },
  {
   "cell_type": "code",
   "execution_count": null,
   "metadata": {},
   "outputs": [],
   "source": [
    "import Bio.PDB.Polypeptide as pdb\n",
    "import Bio.SeqUtils as su\n",
    "\n",
    "aa_mix = pd.read_csv('../data/aa_mix.csv', index_col='AA')\n",
    "nrg_mix = pd.read_csv('../data/energy_mix.csv', index_col='compound')\n",
    "with open('../genes/rfp.txt', 'r') as f:\n",
    "    seq = f.read()\n",
    "cfps_conc = pd.read_csv('../data/cfps_start.csv', index_col='compound')\n",
    "\n",
    "# amt in g, vol in mL, mw in g/mol\n",
    "def calc_conc(amt, vol, mw=None, seq=None, seq_type=None):\n",
    "    # seq can be DNA or protein or an amino acid\n",
    "    if seq:\n",
    "        mw = su.molecular_weight(seq, seq_type)\n",
    "    elif not mw:\n",
    "        raise Exception('Need a molecular weight for non-DNA')\n",
    "    conc = (amt * 1000) / (vol * mw)\n",
    "    # returns Molar concentrations\n",
    "    return conc\n",
    "\n",
    "def conc_dilution(start_conc, vol_add, tot_vol):\n",
    "    return start_conc * (vol_add / tot_vol)\n",
    "\n",
    "aa_mix['start_conc'] = aa_mix.apply(lambda row: calc_conc(row['weight_add'], 1, \n",
    "                                                          seq=pdb.three_to_one(row.name.upper()), seq_type='protein'), axis=1)\n",
    "aa_mix['conc_add'] = conc_dilution(aa_mix['start_conc'], aa_mix['vol_add'], aa_mix['vol_add'].sum())\n",
    "#pi\n",
    "pi_conc = calc_conc(0.15, 5, mw=611.77)\n",
    "nrg_mix['start_conc'] = nrg_mix.apply(lambda row: calc_conc(row['amt'], row['fill'], mw=row['mw']), axis=1)\n",
    "nrg_mix['conc_add'] = conc_dilution(nrg_mix['start_conc'], nrg_mix['vol_add'], nrg_mix['vol_add'].sum())\n",
    "dna_conc = calc_conc(0.000750, 0.00496, seq=seq, seq_type='DNA')\n",
    "\n",
    "for cmpnd, vals in nrg_mix.iterrows():\n",
    "    cfps_conc.loc[cmpnd] = [vals['conc_add'], 5]\n",
    "for aa, vals in aa_mix.iterrows():\n",
    "    cfps_conc.loc[aa] = [vals['conc_add'], 10]\n",
    "cfps_conc.loc['GENE'] = [dna_conc, 4.96]\n",
    "cfps_conc['final_conc'] = conc_dilution(cfps_conc['start_conc'], cfps_conc['amt'], 50)"
   ]
  },
  {
   "cell_type": "code",
   "execution_count": null,
   "metadata": {},
   "outputs": [],
   "source": [
    "model = cobra.io.read_sbml_model(filename='../models/iJO1366.xml')"
   ]
  },
  {
   "cell_type": "code",
   "execution_count": null,
   "metadata": {},
   "outputs": [],
   "source": [
    "varner = cobra.io.load_json_model('../models/varner.json')\n",
    "def extract_txtl_rxns(model):\n",
    "    aa_metabs = []\n",
    "    for aa in Bio.PDB.Polypeptide.aa3:\n",
    "        aa_metabs += model.metabolites.query(aa.lower())\n",
    "    aa_rxns = []\n",
    "    for aa_metab in aa_metabs:\n",
    "        aa_rxns += aa_metab.reactions\n",
    "    mrna_rxns = model.reactions.query(re.compile('mrna', re.IGNORECASE))\n",
    "    trna_rxns = model.reactions.query('tRNA_c')\n",
    "    tx_rxns = model.reactions.query('transcription')\n",
    "    tl_rxns = model.reactions.query('translation')\n",
    "    prot_rxns = model.reactions.query('PROTEIN')\n",
    "    #txtl_rxns = list(set(aa_rxns).union(tx_rxns).union(tl_rxns).union(prot_rxns).union(mrna_rxns))\n",
    "    txtl_rxns = list(set(tx_rxns).union(tl_rxns).union(prot_rxns).union(mrna_rxns).union(trna_rxns))\n",
    "    return txtl_rxns\n",
    "txtl_rxns = extract_txtl_rxns(varner)\n",
    "txtl_rxns[:10]"
   ]
  },
  {
   "cell_type": "code",
   "execution_count": null,
   "metadata": {},
   "outputs": [],
   "source": [
    "metab_ids = [m.id.rsplit('_c', 1)[0] for m in model.metabolites if m.compartment == 'c']\n",
    "varner_to_ijo = {'5pbdra': 'pram',\n",
    "                'faicar': 'fprica',\n",
    "                '78dhf': 'dhpt',\n",
    "                '78mdp': '6hmhptpp',\n",
    "                'cadav': '15dap',\n",
    "                'cair': '5aizc',\n",
    "                'clasp': 'cbp',\n",
    "                'fgar': 'fgam',\n",
    "                'gaba': '4abut',\n",
    "                'glycoA': 'gcald',\n",
    "                'nh3': 'nh4',\n",
    "                'he': 'h',\n",
    "                'omp': 'orot5p',\n",
    "                 'or': 'orot',\n",
    "                 'prop': 'ppcoa',\n",
    "                 'mglx': 'mthgxl',\n",
    "                 'saicar': '25aics',\n",
    "                 '4adochor': '4adcho'\n",
    "                }\n",
    "metab_ids[:10]"
   ]
  },
  {
   "cell_type": "code",
   "execution_count": null,
   "metadata": {},
   "outputs": [],
   "source": [
    "def varner_to_cobra(model, metab, metab_ids, varner_to_ijo):\n",
    "    if metab.id.startswith('M_'):\n",
    "        metab_stem = metab.id.split('M_')[1].rsplit('_c', 1)[0]\n",
    "        #print metab_stem\n",
    "        if 'tRNA' in metab_stem:\n",
    "            aa = metab_stem.split('_', 1)[0]\n",
    "            metab_name = aa + 'trna'\n",
    "        elif not metab_stem in metab_ids:\n",
    "            #query = varner_to_ijo[metab_stem]\n",
    "            #print metab_stem\n",
    "            if metab_stem in varner_to_ijo:\n",
    "                #print 'matched'\n",
    "                metab_name = varner_to_ijo[metab_stem]\n",
    "            elif '_L' in metab_stem or '_D' in metab_stem:\n",
    "                #print difflib.get_close_matches(metab_stem, metab_ids, 1, 0.7)\n",
    "                metab_name = difflib.get_close_matches(metab_stem, metab_ids, 1, 0.7)[0]\n",
    "            else:\n",
    "                print 'TODO: ', metab_stem\n",
    "                raise Exception\n",
    "        else:\n",
    "            metab_name = metab_stem\n",
    "    else:\n",
    "        try:\n",
    "            model.metabolites.get_by_id(metab_name)\n",
    "        except:\n",
    "            model.metabolites.add(metab)\n",
    "    return model.metabolites.get_by_id(metab_name + '_c')"
   ]
  },
  {
   "cell_type": "code",
   "execution_count": null,
   "metadata": {},
   "outputs": [],
   "source": [
    "def add_txtl(model, txtl_rxns):\n",
    "    mod = model.copy()\n",
    "    for rxn in txtl_rxns:\n",
    "        #print rxn\n",
    "        for metab, amt in rxn.metabolites.items():\n",
    "            if not metab.id.startswith('M_'):\n",
    "                #print 'EXCEPT:', metab\n",
    "                continue\n",
    "            new_metab = varner_to_cobra(mod, metab, metab_ids, varner_to_ijo)\n",
    "            rxn.add_metabolites({metab: -1 * amt})\n",
    "            rxn.add_metabolites({new_metab: amt})\n",
    "        mod.add_reaction(rxn)\n",
    "    return mod\n",
    "model_txtl = add_txtl(model, txtl_rxns)"
   ]
  },
  {
   "cell_type": "code",
   "execution_count": null,
   "metadata": {},
   "outputs": [],
   "source": [
    "def get_aa_metab(model, aa, cmpt='c'):\n",
    "    return model.metabolites.query('{0}__._{1}'.format(aa, cmpt))"
   ]
  },
  {
   "cell_type": "code",
   "execution_count": null,
   "metadata": {},
   "outputs": [],
   "source": [
    "def replace_metab(mod, metab):\n",
    "    new_id = re.sub(r'_.$', '_c', metab.id)\n",
    "    try:\n",
    "        cyt = mod.metabolites.get_by_id(new_id)\n",
    "    except:\n",
    "        cyt = metab\n",
    "        cyt.id = new_id\n",
    "        cyt.compartment = 'c'\n",
    "    return cyt"
   ]
  },
  {
   "cell_type": "code",
   "execution_count": null,
   "metadata": {},
   "outputs": [],
   "source": [
    "def coalesce_cmpts(model):\n",
    "    mod = model.copy()\n",
    "    for rxn in mod.reactions:\n",
    "        if 'p' in rxn.compartments or 'e' in rxn.compartments:\n",
    "            #mod.remove_reactions(reactions=[rxn])\n",
    "            for metab, amt in rxn.metabolites.items():\n",
    "                cyt = replace_metab(mod, metab)\n",
    "                rxn.add_metabolites({metab: -1 * amt})\n",
    "                rxn.add_metabolites({cyt: amt})\n",
    "            rxn.comparments = set('c')\n",
    "            #mod.add_reaction(reaction=rxn)\n",
    "    for m in mod.metabolites.query(r'.*_e$'):\n",
    "        assert(len(m.reactions) == 0)\n",
    "        m.remove_from_model(destructive=True)\n",
    "    for m in mod.metabolites.query(r'.*_p$'):\n",
    "        assert(len(m.reactions) == 0)\n",
    "        m.remove_from_model(destructive=True)\n",
    "    return mod\n",
    "model_cyt = coalesce_cmpts(model)\n",
    "model_cyt_txtl = coalesce_cmpts(model_txtl)"
   ]
  },
  {
   "cell_type": "code",
   "execution_count": null,
   "metadata": {},
   "outputs": [],
   "source": [
    "def strip_exchanges(mod, reactants):\n",
    "    # Delete transmembrane transport reactions\n",
    "    model = mod.copy()\n",
    "\n",
    "    # Add exchange reactions for all metabolites\n",
    "    # Exchange‐reactions for non‐substrate metabolites have lb of 0 and ub of 1000 by default\n",
    "    #all_metab_ex = utils.gen_metab_dict(model, model.metabolites, cnvt=False)\n",
    "\n",
    "    #utils.add_ex(model, all_metab_ex)\n",
    "    exs = set()\n",
    "    for metab in reactants:\n",
    "        if metab == 'trna':\n",
    "            for trna in model.metabolites.query('trna'):\n",
    "                exs = exs.union(trna.reactions.intersection(model.exchanges))\n",
    "        elif metab.upper() in pdb.aa3:\n",
    "            aas = get_aa_metab(model, metab.lower(), cmpt='c')\n",
    "            for aa in aas:\n",
    "                exs = exs.union(aa.reactions.intersection(model.exchanges))\n",
    "        else:\n",
    "            m = model.metabolites.get_by_id('{0}_c'.format(metab))\n",
    "            exs = exs.union(m.reactions.intersection(model.exchanges))\n",
    "    model.remove_reactions(exs)\n",
    "    #['EX_glc_e', 'EX_pi_e', 'EX_mg2_e', 'EX_k_e', 'EX_nh4_e'])\n",
    "\n",
    "    # As objective function, we selected the exchange reaction which corresponds to the target metabolite \n",
    "    # for which a pathway should be determined.   \n",
    "    return model\n",
    "model_bare = strip_exchanges(model_cyt, cfps_conc.index[:-1])\n",
    "model_bare_txtl = strip_exchanges(model_cyt_txtl, cfps_conc.index[:-1])"
   ]
  },
  {
   "cell_type": "code",
   "execution_count": null,
   "metadata": {},
   "outputs": [],
   "source": [
    "def build_medium(model, cfps_conc):\n",
    "    mod = model.copy()\n",
    "    \n",
    "    for metab, vals in cfps_conc.iterrows():\n",
    "        flux = utils.conc_to_flux(vals['final_conc']) * 100\n",
    "\n",
    "        if metab == 'trna':\n",
    "            ms = model.metabolites.query('trna')\n",
    "        elif metab.upper() in pdb.aa3:\n",
    "            ms = get_aa_metab(model, metab.lower(), cmpt='c')\n",
    "        else:\n",
    "            ms = mod.metabolites.query(r'^{0}_c'.format(metab))\n",
    "        for m in ms:\n",
    "            rxn_nm = 'EX_' + m.id\n",
    "            mod.add_boundary(metabolite=m, type='exchange', lb=0, ub=flux)\n",
    "            #mod.add_boundary(metabolite=m, type='cfps-medium', reaction_id=rxn_nm, lb=0, ub=flux) \n",
    "    return mod\n",
    "model_cf = build_medium(model_bare, cfps_conc)\n",
    "model_cf_txtl = build_medium(model_bare_txtl, cfps_conc)"
   ]
  },
  {
   "cell_type": "code",
   "execution_count": null,
   "metadata": {},
   "outputs": [],
   "source": [
    "model_cf_txtl_rfp = model_cf_txtl.copy()\n",
    "model_cf_txtl_rfp.objective = model_cf_txtl_rfp.reactions.PROTEIN_export_RFP\n",
    "model_cf_txtl_comb = model_cf_txtl.copy()\n",
    "model_cf_txtl_comb.objective = {model_cf_txtl_comb.reactions.BIOMASS_Ec_iJO1366_core_53p95M: 1, model_cf_txtl_comb.reactions.PROTEIN_export_RFP: 100}"
   ]
  },
  {
   "cell_type": "code",
   "execution_count": null,
   "metadata": {},
   "outputs": [],
   "source": [
    "sol = model_cf.optimize()\n",
    "model_cf.summary()"
   ]
  },
  {
   "cell_type": "code",
   "execution_count": null,
   "metadata": {},
   "outputs": [],
   "source": [
    "sol = model_cf_txtl_rfp.optimize()\n",
    "model_cf_txtl_rfp.summary()"
   ]
  },
  {
   "cell_type": "code",
   "execution_count": null,
   "metadata": {},
   "outputs": [],
   "source": [
    "sol = model_cf_txtl_comb.optimize()\n",
    "model_cf_txtl_comb.summary()"
   ]
  },
  {
   "cell_type": "code",
   "execution_count": null,
   "metadata": {},
   "outputs": [],
   "source": [
    "cobra.io.write_sbml_model(filename='../models/ecoli_cf_base.sbml', cobra_model=model_cf)\n",
    "cobra.io.write_sbml_model(filename='../models/ecoli_cf_txtl_rfp_base.sbml', cobra_model=model_cf_txtl_rfp)\n",
    "cobra.io.write_sbml_model(filename='../models/ecoli_cf_txtl_comb_base.sbml', cobra_model=model_cf_txtl_comb)"
   ]
  },
  {
   "cell_type": "code",
   "execution_count": null,
   "metadata": {},
   "outputs": [],
   "source": [
    "#m.metabolites.mRNA_RFP.elements = {'C': 6475, 'H': 8586, 'N': 2552, 'O': 5406, 'P': 678}\n",
    "#m.reactions.transcription_RFP.annotation = {'SBO': 'SBO:0000631'}\n",
    "def validate_model(m):\n",
    "    cobra.manipulation.validate.check_reaction_bounds(model=m)\n",
    "    cobra.manipulation.validate.check_metabolite_compartment_formula(model=m)\n",
    "    cobra.manipulation.validate.check_mass_balance(model=m)"
   ]
  },
  {
   "cell_type": "code",
   "execution_count": null,
   "metadata": {},
   "outputs": [],
   "source": [
    "df = pd.read_csv('../data/Karim_MetEng_2018_Figure2_Data.csv')\n",
    "df.drop(columns=['Area_1', 'Area_2', 'Conc_1', 'Conc_2'], inplace=True)\n",
    "df.head()"
   ]
  },
  {
   "cell_type": "code",
   "execution_count": null,
   "metadata": {},
   "outputs": [],
   "source": [
    "reduced = df.loc[:, ['Glucose', 'NH4(Glu)', 'NAD', 'CoA']].drop_duplicates(keep='first')\n",
    "reduced['AVG.1'] = df.loc[reduced.index, 'AVG.1']\n",
    "reduced.to_csv('../data/reduced.csv')"
   ]
  },
  {
   "cell_type": "code",
   "execution_count": null,
   "metadata": {},
   "outputs": [],
   "source": [
    "utils.change_obj(model=model_cf_med, metab=model_cf_med.metabolites.btol_c)\n",
    "utils.change_obj(model=model_cf, metab=model_cf.metabolites.btol_c)"
   ]
  },
  {
   "cell_type": "code",
   "execution_count": null,
   "metadata": {},
   "outputs": [],
   "source": [
    "def add_addl_reactants(model, df):\n",
    "    mod = model.copy()\n",
    "    addl_reagent_nms = ['mg2', 'nh4', 'k', 'glc__D', 'pi', 'nad', 'atp', 'coa']\n",
    "    objs = []\n",
    "    for i, row in df.iterrows():\n",
    "        with mod:\n",
    "            metab_dict = utils.gen_metab_dict(mod, addl_reagent_nms, map(lambda x: -1 * utils.conc_to_flux(x), row[4:]))\n",
    "            rxn = utils.add_exchange(mod, metab_dict, additive=True)\n",
    "            #different_mediums(mod, model)\n",
    "            #mod.add_reactions(reaction_list=sol[0])\n",
    "            obj = mod.slim_optimize()\n",
    "            objs.append(obj)\n",
    "            #print 'Obj: {0}'.format(obj.objective_value)\n",
    "    return objs"
   ]
  },
  {
   "cell_type": "code",
   "execution_count": null,
   "metadata": {},
   "outputs": [],
   "source": [
    "model.metabolites.mg2_c"
   ]
  },
  {
   "cell_type": "code",
   "execution_count": null,
   "metadata": {},
   "outputs": [],
   "source": [
    "utils.add_addl_reactants(model_cf_med, df)"
   ]
  },
  {
   "cell_type": "code",
   "execution_count": null,
   "metadata": {},
   "outputs": [],
   "source": [
    "cobra.io.save_json_model(filename='Full_Ecoli_CF_Base.json', model=model_cf_med)"
   ]
  },
  {
   "cell_type": "code",
   "execution_count": null,
   "metadata": {},
   "outputs": [],
   "source": [
    "model.medium"
   ]
  },
  {
   "cell_type": "code",
   "execution_count": null,
   "metadata": {},
   "outputs": [],
   "source": [
    "model.optimize()\n",
    "model.summary()"
   ]
  },
  {
   "cell_type": "code",
   "execution_count": null,
   "metadata": {},
   "outputs": [],
   "source": [
    "fl = -1 * utils.conc_to_flux(200)\n",
    "print fl\n",
    "glc = model.reactions.EX_glc_e\n",
    "glc.lower_bound, glc.upper_bound = fl, fl\n",
    "model.optimize()\n",
    "model.summary()"
   ]
  },
  {
   "cell_type": "code",
   "execution_count": null,
   "metadata": {},
   "outputs": [],
   "source": [
    "fl = -1 * utils.conc_to_flux(120)\n",
    "print fl\n",
    "glc = model.reactions.EX_glc_e\n",
    "glc.lower_bound, glc.upper_bound = fl, fl\n",
    "model.optimize()\n",
    "model.summary()"
   ]
  },
  {
   "cell_type": "code",
   "execution_count": null,
   "metadata": {},
   "outputs": [],
   "source": [
    "utils.change_obj(model, model.metabolites.btol_c)"
   ]
  },
  {
   "cell_type": "code",
   "execution_count": null,
   "metadata": {},
   "outputs": [],
   "source": [
    "glc = model.reactions.EX_glc_e\n",
    "glc.lower_bound, glc.upper_bound = -10, 1000\n",
    "model.reactions.EX_glc_e\n",
    "model.optimize()\n",
    "model.summary()"
   ]
  },
  {
   "cell_type": "code",
   "execution_count": null,
   "metadata": {},
   "outputs": [],
   "source": [
    "fl = -1 * utils.conc_to_flux(200)\n",
    "glc = model.reactions.EX_glc_e\n",
    "glc.lower_bound, glc.upper_bound = fl, fl\n",
    "model.optimize()\n",
    "model.summary()"
   ]
  },
  {
   "cell_type": "code",
   "execution_count": null,
   "metadata": {},
   "outputs": [],
   "source": [
    "fl = -1 * utils.conc_to_flux(120)\n",
    "glc = model.reactions.EX_glc_e\n",
    "glc.lower_bound, glc.upper_bound = fl, fl\n",
    "model.optimize()\n",
    "model.summary()"
   ]
  },
  {
   "cell_type": "code",
   "execution_count": null,
   "metadata": {},
   "outputs": [],
   "source": [
    "fl = -1 * utils.conc_to_flux(200)\n",
    "fl_nh4 = -1 * utils.conc_to_flux(10)\n",
    "print fl, fl_nh4\n",
    "glc = model.reactions.EX_glc_e\n",
    "nh4 = model.reactions.EX_nh4_e\n",
    "glc.lower_bound, glc.upper_bound = fl, fl\n",
    "nh4.lower_bound, nh4.upper_bound = fl_nh4, fl_nh4\n",
    "model.optimize()\n",
    "model.summary()"
   ]
  },
  {
   "cell_type": "code",
   "execution_count": null,
   "metadata": {},
   "outputs": [],
   "source": [
    "fl = -1 * utils.conc_to_flux(200)\n",
    "fl_nh4 = -1 * utils.conc_to_flux(10)\n",
    "fl_pi = -1 * utils.conc_to_flux(10)\n",
    "fl_mg = -1 * utils.conc_to_flux(8)\n",
    "print fl, fl_nh4\n",
    "glc = model.reactions.EX_glc_e\n",
    "nh4 = model.reactions.EX_nh4_e\n",
    "pi = model.reactions.EX_pi_e\n",
    "mg = model.reactions.EX_mg2_e\n",
    "def update_bnds(rxn, fl): \n",
    "    rxn.lower_bound, rxn.upper_bound = fl, 0 \n",
    "glc.lower_bound, glc.upper_bound = fl, fl\n",
    "nh4.lower_bound, nh4.upper_bound = fl_nh4, fl_nh4\n",
    "update_bnds(pi, fl_pi)\n",
    "update_bnds(mg, fl_mg)\n",
    "model.optimize()\n",
    "model.summary()"
   ]
  },
  {
   "cell_type": "code",
   "execution_count": null,
   "metadata": {},
   "outputs": [],
   "source": [
    "elts = ['mg2', 'nh4', 'k', 'glc', 'pi', 'nadh', 'atp', 'coa']\n",
    "row = df.iloc[36, 4:]\n",
    "fluxes = [-1 * utils.conc_to_flux(row[i]) for i in range(len(elts))]\n",
    "print elts\n",
    "print row.tolist()\n",
    "for elt, flux in zip(elts, fluxes):\n",
    "    #print elt, '{0}_c'.format(elt)#, model.metabolites.get_by_id('{0}_c'.format(elt))\n",
    "    try:\n",
    "        rxn = model.reactions.get_by_id('EX_{0}_e'.format(elt))\n",
    "    except KeyError:\n",
    "        break\n",
    "        #model.add_boundary(reaction_id='EX_{0}_e'.format(elt), type='Exchange', \n",
    "        #                   metabolite=model.metabolites.get_by_id('{0}_c'.format(elt)), ub=flux)\n",
    "        #rxn = model.reactions.get_by_id('EX_{0}_e'.format(elt))\n",
    "    rxn.lower_bound, rxn.upper_bound = flux, 0\n",
    "model.optimize()\n",
    "model.summary()"
   ]
  },
  {
   "cell_type": "code",
   "execution_count": null,
   "metadata": {},
   "outputs": [],
   "source": [
    "df2 = pd.read_csv(filepath_or_buffer='../data/4_5_18_T7_C6N_mRFP.TXT', skiprows=6)"
   ]
  },
  {
   "cell_type": "code",
   "execution_count": null,
   "metadata": {},
   "outputs": [],
   "source": [
    "df2.columns"
   ]
  },
  {
   "cell_type": "code",
   "execution_count": null,
   "metadata": {},
   "outputs": [],
   "source": []
  }
 ],
 "metadata": {
  "kernelspec": {
   "display_name": "Python 2",
   "language": "python",
   "name": "python2"
  },
  "language_info": {
   "codemirror_mode": {
    "name": "ipython",
    "version": 2
   },
   "file_extension": ".py",
   "mimetype": "text/x-python",
   "name": "python",
   "nbconvert_exporter": "python",
   "pygments_lexer": "ipython2",
   "version": "2.7.5"
  }
 },
 "nbformat": 4,
 "nbformat_minor": 2
}
