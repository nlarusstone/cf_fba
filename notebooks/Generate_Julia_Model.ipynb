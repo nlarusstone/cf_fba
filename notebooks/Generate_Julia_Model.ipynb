{
 "cells": [
  {
   "cell_type": "code",
   "execution_count": null,
   "metadata": {},
   "outputs": [],
   "source": [
    "macro bash_str(s) open(`bash`,\"w\",STDOUT) do io; print(io, s); end; end"
   ]
  },
  {
   "cell_type": "markdown",
   "metadata": {},
   "source": [
    "# Regenerate entire model"
   ]
  },
  {
   "cell_type": "code",
   "execution_count": null,
   "metadata": {},
   "outputs": [],
   "source": [
    "bash\"\"\"\n",
    "export base_dir='/Users/nlarusstone/Documents/MPhil/Research/cf_fba/3rd_Party_Code/Sequence-Specific-FBA-CFPS-Publication-Code'\n",
    "cd ../3rd_Party_Code/JuNQC-Generator\n",
    "julia make_julia_model.jl -m $base_dir/Template/Reactions_full.net -o $base_dir/Staging/\n",
    "cd src/util/\n",
    "julia convert_vff_to_json.jl -m $base_dir/Template/Reactions_full.net -o $base_dir/Staging/Reactions.json\n",
    "cd $base_dir/\n",
    "pwd\n",
    "cp ./Staging/DataDictionary.jl ./Model/\n",
    "cp ./Staging/Network.dat ./Model/\n",
    "cd ./Model\n",
    "julia Solve.jl -o PROTEIN_export_RFP -p 5.5\n",
    "cd ../../../src\n",
    "python julia_to_cobra.py\n",
    "\"\"\""
   ]
  },
  {
   "cell_type": "markdown",
   "metadata": {},
   "source": [
    "# Solve and converted already created model"
   ]
  },
  {
   "cell_type": "code",
   "execution_count": null,
   "metadata": {},
   "outputs": [],
   "source": [
    "bash\"\"\"\n",
    "export base_dir='/Users/nlarusstone/Documents/MPhil/Research/cf_fba/3rd_Party_Code/Sequence-Specific-FBA-CFPS-Publication-Code'\n",
    "cd $base_dir/\n",
    "cd ./Model\n",
    "julia Solve.jl -o PROTEIN_export_RFP -p 5.5\n",
    "cd ../../../src\n",
    "python julia_to_cobra.py\n",
    "\"\"\""
   ]
  },
  {
   "cell_type": "code",
   "execution_count": null,
   "metadata": {},
   "outputs": [],
   "source": []
  }
 ],
 "metadata": {
  "kernelspec": {
   "display_name": "Julia 0.6.2",
   "language": "julia",
   "name": "julia-0.6"
  },
  "language_info": {
   "file_extension": ".jl",
   "mimetype": "application/julia",
   "name": "julia",
   "version": "0.6.2"
  }
 },
 "nbformat": 4,
 "nbformat_minor": 2
}
