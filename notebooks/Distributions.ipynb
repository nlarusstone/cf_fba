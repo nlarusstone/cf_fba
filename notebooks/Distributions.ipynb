{
 "cells": [
  {
   "cell_type": "code",
   "execution_count": null,
   "metadata": {},
   "outputs": [],
   "source": [
    "import pandas as pd\n",
    "import numpy as np\n",
    "import matplotlib.pyplot as plt\n",
    "import scipy.stats\n",
    "import h5py"
   ]
  },
  {
   "cell_type": "code",
   "execution_count": null,
   "metadata": {},
   "outputs": [],
   "source": [
    "h5f = h5py.File('../data/karim_stacked_fluxes', 'r')"
   ]
  },
  {
   "cell_type": "code",
   "execution_count": null,
   "metadata": {},
   "outputs": [],
   "source": [
    "X_test = h5f['X_test']"
   ]
  },
  {
   "cell_type": "code",
   "execution_count": null,
   "metadata": {},
   "outputs": [],
   "source": [
    "import tensorflow as tf\n",
    "from keras.callbacks import EarlyStopping"
   ]
  },
  {
   "cell_type": "code",
   "execution_count": null,
   "metadata": {},
   "outputs": [],
   "source": [
    "import cobra\n",
    "%load_ext autoreload\n",
    "import sys\n",
    "if not '/home/nlarusstone/cf_fba' in sys.path:\n",
    "    sys.path.append('/home/nlarusstone/cf_fba')\n",
    "import src.utils as utils\n",
    "import src.flux_utils as futils\n",
    "import src.vae as model_builder\n",
    "%autoreload 2"
   ]
  },
  {
   "cell_type": "code",
   "execution_count": null,
   "metadata": {},
   "outputs": [],
   "source": [
    "df = pd.read_csv('../data/Karim_MetEng_2018_Figure2_Data.csv')\n",
    "df.drop(columns=['Area_1', 'Area_2', 'Conc_1', 'Conc_2'], inplace=True)\n",
    "n_experiments = df.shape[0]\n",
    "df.head()"
   ]
  },
  {
   "cell_type": "code",
   "execution_count": null,
   "metadata": {},
   "outputs": [],
   "source": [
    "#X_train, y_train, X_test, y_test, btol_col, cols = futils.read_data('../data/flux_samps_2k', scale='flux_zero')\n",
    "y_vals = futils.scale_data(data=df['AVG.1'].values, scale_type='flux_zero', in_place=False)"
   ]
  },
  {
   "cell_type": "code",
   "execution_count": null,
   "metadata": {},
   "outputs": [],
   "source": [
    "batch_size = 256\n",
    "X_shape, n_experiments = X_train.shape[2], df.shape[0]\n",
    "targets = tf.convert_to_tensor(y_vals, dtype=tf.float32)\n",
    "latent_dim = 2\n",
    "use_corr = True\n",
    "scale = 'flux_zero'\n",
    "vae, encoder, generator = model_builder.build_vae(X_shape, n_experiments, targets, btol_col, [1024, 256], \n",
    "                                                  latent_dim, batch_size, use_corr, scale)\n",
    "es = EarlyStopping(patience=5)\n",
    "lh = model_builder.LossHistory()\n",
    "#with tf.Session(config=tf.ConfigProto(\n",
    "#                    intra_op_parallelism_threads=32)) as sess:\n",
    "#    K.set_session(sess)\n",
    "hist = vae.fit(X_train,\n",
    "        shuffle=True,\n",
    "        epochs=20,\n",
    "        batch_size=batch_size,\n",
    "        validation_data=(X_test, None),\n",
    "        callbacks=[es, lh])"
   ]
  },
  {
   "cell_type": "code",
   "execution_count": null,
   "metadata": {},
   "outputs": [],
   "source": [
    "from keras.models import load_model\n",
    "#enc = load_model('../models/encoder_epochs=300_batch=256_dimension=2_corr=True.h5')\n",
    "enc = load_model('../models/encoder_epochs=100_batch=256_dimension=2_corr=True_scale=flux_zero.h5')\n",
    "#gen = load_model('../models/generator_epochs=300_batch=256_dimension=2_corr=True.h5')\n",
    "gen = load_model('../models/generator_epochs=100_batch=256_dimension=2_corr=True_scale=flux_zero.h5')"
   ]
  },
  {
   "cell_type": "code",
   "execution_count": null,
   "metadata": {},
   "outputs": [],
   "source": [
    "test_enc = enc.predict(X_test)\n",
    "test_dec = gen.predict(test_enc)\n",
    "#dec_df = pd.DataFrame(data=test_dec[:, 0, :], columns=cols)"
   ]
  },
  {
   "cell_type": "code",
   "execution_count": null,
   "metadata": {},
   "outputs": [],
   "source": [
    "model = cobra.io.read_sbml_model('../models/ecoli_cf_base.sbml')"
   ]
  },
  {
   "cell_type": "code",
   "execution_count": null,
   "metadata": {
    "scrolled": true
   },
   "outputs": [],
   "source": [
    "for j in range(41):\n",
    "    a = pd.DataFrame(data=test_dec[:, j, :], columns=cols)\n",
    "    a.mean().plot(kind='hist')\n",
    "    print test_dec[:, j, btol_col].mean()\n",
    "    plt.show()"
   ]
  },
  {
   "cell_type": "code",
   "execution_count": null,
   "metadata": {
    "scrolled": true
   },
   "outputs": [],
   "source": [
    "thresh = np.logspace(start=-4, stop=0, num=20)\n",
    "for t in thresh:\n",
    "    objs = []\n",
    "    for i, row in df.iterrows():\n",
    "        model_i = utils.add_reagents_to_model(model, row)\n",
    "        dec_df = pd.DataFrame(data=test_dec[:, i, :], columns=cols)\n",
    "        bad_cols = cols[dec_df.mean().abs() < t]\n",
    "        model_i.remove_reactions(bad_cols)\n",
    "        sol = model_i.optimize()\n",
    "        objs.append(sol.objective_value)\n",
    "    print t, scipy.stats.pearsonr(objs, df['AVG.1'])"
   ]
  },
  {
   "cell_type": "code",
   "execution_count": null,
   "metadata": {},
   "outputs": [],
   "source": [
    "scale_type = ['norm', 'robust', 'maxabs', 'negone', 'zero']\n",
    "dirs = ['flux', 'exp']"
   ]
  },
  {
   "cell_type": "code",
   "execution_count": null,
   "metadata": {},
   "outputs": [],
   "source": [
    "import pickle\n",
    "import itertools\n",
    "def compare_losses(category, opts):\n",
    "    cats = ['epochs', 'batch', 'dimension', 'corr', 'scale']\n",
    "    dvs = [100, 256, 2, True, 'flux_zero']\n",
    "    idx = cats.index(category)\n",
    "    del cats[idx]\n",
    "    del dvs[idx]\n",
    "    defdict = dict(zip(cats, dvs))\n",
    "    for opt in opts:\n",
    "        curdict = defdict.copy()\n",
    "        curdict.update({category: opt})\n",
    "        with open('../models/losses_epochs={epochs}_batch={batch}_dimension={dimension}_corr={corr}_scale={scale}.h5'.format(\n",
    "            **curdict\n",
    "        ), 'r') as f:\n",
    "            losses = pickle.load(f)\n",
    "            print opt, [ls[-1] for k, ls in losses.items()]\n",
    "#compare_losses('scale', [\"{0}_{1}\".format(d, st) for d, st in itertools.product(dirs, scale_type)])\n",
    "compare_losses('dimension', [2, 3, 5, 7, 10])"
   ]
  },
  {
   "cell_type": "code",
   "execution_count": null,
   "metadata": {},
   "outputs": [],
   "source": [
    "a = pd.DataFrame(data=test_dec[~high_cols, i, :], columns=cols)\n",
    "print a.shape\n",
    "a.head()"
   ]
  },
  {
   "cell_type": "code",
   "execution_count": null,
   "metadata": {},
   "outputs": [],
   "source": [
    "diff = pd.DataFrame(data=X_test[high_cols, 0, :], columns=cols)\n",
    "diff.head()"
   ]
  },
  {
   "cell_type": "code",
   "execution_count": null,
   "metadata": {},
   "outputs": [],
   "source": [
    "a.mean().plot(kind='hist')"
   ]
  },
  {
   "cell_type": "code",
   "execution_count": null,
   "metadata": {},
   "outputs": [],
   "source": [
    "diff.mean().plot(kind='hist')"
   ]
  },
  {
   "cell_type": "code",
   "execution_count": null,
   "metadata": {
    "scrolled": false
   },
   "outputs": [],
   "source": [
    "x_test_encoded = test_enc\n",
    "\n",
    "def get_rct(df, rct, y_test):\n",
    "    y_new = []\n",
    "    for ind in y_test:\n",
    "        y_new.append(df[rct][ind])\n",
    "    return y_new\n",
    "\n",
    "cmap = cm.get_cmap('plasma', 41)\n",
    "#for j in range(4):\n",
    "j = 0\n",
    "\n",
    "high_cols = (test_enc[:, j, 1] > 0)\n",
    "print sum(high_cols)\n",
    "xmin, xmax = np.amin(x_test_encoded[:, j, 0]), np.amax(x_test_encoded[:, j, 0])\n",
    "ymin, ymax = np.amin(x_test_encoded[:, j, 1]), np.amax(x_test_encoded[:, j, 1])\n",
    "x_diff = (xmax - xmin) / 10.0\n",
    "y_diff = (ymax - ymin) / 10.0\n",
    "#for col in df.columns[4:]:\n",
    "plt.figure(figsize=(10, 10))\n",
    "plt.scatter(x_test_encoded[:, j, 0], x_test_encoded[:, j, 1], c=high_cols)#get_rct(df, col, y_test), cmap=cmap)\n",
    "plt.xlim((xmin - x_diff, xmax + x_diff))\n",
    "plt.ylim((ymin - y_diff, ymax + y_diff))\n",
    "plt.title(j)\n",
    "#plt.colorbar()\n",
    "plt.show()"
   ]
  },
  {
   "cell_type": "code",
   "execution_count": null,
   "metadata": {},
   "outputs": [],
   "source": []
  }
 ],
 "metadata": {
  "kernelspec": {
   "display_name": "Python 2",
   "language": "python",
   "name": "python2"
  },
  "language_info": {
   "codemirror_mode": {
    "name": "ipython",
    "version": 2
   },
   "file_extension": ".py",
   "mimetype": "text/x-python",
   "name": "python",
   "nbconvert_exporter": "python",
   "pygments_lexer": "ipython2",
   "version": "2.7.10"
  }
 },
 "nbformat": 4,
 "nbformat_minor": 2
}
