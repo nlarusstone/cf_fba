{
 "cells": [
  {
   "cell_type": "code",
   "execution_count": 1,
   "metadata": {},
   "outputs": [
    {
     "name": "stderr",
     "output_type": "stream",
     "text": [
      "/home/nlarusstone/.virtualenvs/nls/lib/python2.7/site-packages/h5py/__init__.py:36: FutureWarning: Conversion of the second argument of issubdtype from `float` to `np.floating` is deprecated. In future, it will be treated as `np.float64 == np.dtype(float).type`.\n",
      "  from ._conv import register_converters as _register_converters\n"
     ]
    }
   ],
   "source": [
    "import pandas as pd\n",
    "import numpy as np\n",
    "import matplotlib.pyplot as plt\n",
    "import scipy.stats\n",
    "import h5py"
   ]
  },
  {
   "cell_type": "code",
   "execution_count": 2,
   "metadata": {},
   "outputs": [],
   "source": [
    "h5f = h5py.File('../data/karim_stacked_fluxes', 'r')"
   ]
  },
  {
   "cell_type": "code",
   "execution_count": 3,
   "metadata": {},
   "outputs": [],
   "source": [
    "X_test = h5f['X_test']"
   ]
  },
  {
   "cell_type": "code",
   "execution_count": null,
   "metadata": {},
   "outputs": [],
   "source": [
    "import tensorflow as tf\n",
    "from keras.callbacks import EarlyStopping"
   ]
  },
  {
   "cell_type": "code",
   "execution_count": 48,
   "metadata": {},
   "outputs": [
    {
     "name": "stdout",
     "output_type": "stream",
     "text": [
      "The autoreload extension is already loaded. To reload it, use:\n",
      "  %reload_ext autoreload\n"
     ]
    }
   ],
   "source": [
    "import cobra\n",
    "%load_ext autoreload\n",
    "import sys\n",
    "if not '/home/nlarusstone/cf_fba' in sys.path:\n",
    "    sys.path.append('/home/nlarusstone/cf_fba')\n",
    "import src.utils as utils\n",
    "import src.flux_utils as futils\n",
    "import src.vae as model_builder\n",
    "%autoreload 2"
   ]
  },
  {
   "cell_type": "code",
   "execution_count": 2,
   "metadata": {},
   "outputs": [
    {
     "data": {
      "text/html": [
       "<div>\n",
       "<style scoped>\n",
       "    .dataframe tbody tr th:only-of-type {\n",
       "        vertical-align: middle;\n",
       "    }\n",
       "\n",
       "    .dataframe tbody tr th {\n",
       "        vertical-align: top;\n",
       "    }\n",
       "\n",
       "    .dataframe thead th {\n",
       "        text-align: right;\n",
       "    }\n",
       "</style>\n",
       "<table border=\"1\" class=\"dataframe\">\n",
       "  <thead>\n",
       "    <tr style=\"text-align: right;\">\n",
       "      <th></th>\n",
       "      <th>AVG</th>\n",
       "      <th>STD</th>\n",
       "      <th>AVG.1</th>\n",
       "      <th>STD.1</th>\n",
       "      <th>Mg(Glu)2</th>\n",
       "      <th>NH4(Glu)</th>\n",
       "      <th>K(Glu)</th>\n",
       "      <th>Glucose</th>\n",
       "      <th>K2HPO4</th>\n",
       "      <th>NAD</th>\n",
       "      <th>ATP</th>\n",
       "      <th>CoA</th>\n",
       "    </tr>\n",
       "  </thead>\n",
       "  <tbody>\n",
       "    <tr>\n",
       "      <th>0</th>\n",
       "      <td>0.00</td>\n",
       "      <td>0.0</td>\n",
       "      <td>0.00</td>\n",
       "      <td>0.00</td>\n",
       "      <td>8.0</td>\n",
       "      <td>10.0</td>\n",
       "      <td>134</td>\n",
       "      <td>0</td>\n",
       "      <td>10</td>\n",
       "      <td>0.5</td>\n",
       "      <td>0.0</td>\n",
       "      <td>0.5</td>\n",
       "    </tr>\n",
       "    <tr>\n",
       "      <th>1</th>\n",
       "      <td>0.00</td>\n",
       "      <td>0.0</td>\n",
       "      <td>0.00</td>\n",
       "      <td>0.00</td>\n",
       "      <td>8.0</td>\n",
       "      <td>10.0</td>\n",
       "      <td>134</td>\n",
       "      <td>200</td>\n",
       "      <td>10</td>\n",
       "      <td>0.0</td>\n",
       "      <td>0.0</td>\n",
       "      <td>0.5</td>\n",
       "    </tr>\n",
       "    <tr>\n",
       "      <th>2</th>\n",
       "      <td>0.00</td>\n",
       "      <td>0.0</td>\n",
       "      <td>0.00</td>\n",
       "      <td>0.00</td>\n",
       "      <td>8.0</td>\n",
       "      <td>10.0</td>\n",
       "      <td>134</td>\n",
       "      <td>200</td>\n",
       "      <td>10</td>\n",
       "      <td>0.5</td>\n",
       "      <td>0.0</td>\n",
       "      <td>2.0</td>\n",
       "    </tr>\n",
       "    <tr>\n",
       "      <th>3</th>\n",
       "      <td>0.00</td>\n",
       "      <td>0.0</td>\n",
       "      <td>0.00</td>\n",
       "      <td>0.00</td>\n",
       "      <td>8.0</td>\n",
       "      <td>10.0</td>\n",
       "      <td>134</td>\n",
       "      <td>200</td>\n",
       "      <td>10</td>\n",
       "      <td>0.5</td>\n",
       "      <td>0.0</td>\n",
       "      <td>1.6</td>\n",
       "    </tr>\n",
       "    <tr>\n",
       "      <th>4</th>\n",
       "      <td>1.21</td>\n",
       "      <td>1.7</td>\n",
       "      <td>0.09</td>\n",
       "      <td>0.13</td>\n",
       "      <td>8.0</td>\n",
       "      <td>10.0</td>\n",
       "      <td>134</td>\n",
       "      <td>200</td>\n",
       "      <td>10</td>\n",
       "      <td>0.5</td>\n",
       "      <td>2.0</td>\n",
       "      <td>0.5</td>\n",
       "    </tr>\n",
       "  </tbody>\n",
       "</table>\n",
       "</div>"
      ],
      "text/plain": [
       "    AVG  STD  AVG.1  STD.1  Mg(Glu)2  NH4(Glu)  K(Glu)  Glucose  K2HPO4  NAD  \\\n",
       "0  0.00  0.0   0.00   0.00       8.0      10.0     134        0      10  0.5   \n",
       "1  0.00  0.0   0.00   0.00       8.0      10.0     134      200      10  0.0   \n",
       "2  0.00  0.0   0.00   0.00       8.0      10.0     134      200      10  0.5   \n",
       "3  0.00  0.0   0.00   0.00       8.0      10.0     134      200      10  0.5   \n",
       "4  1.21  1.7   0.09   0.13       8.0      10.0     134      200      10  0.5   \n",
       "\n",
       "   ATP  CoA  \n",
       "0  0.0  0.5  \n",
       "1  0.0  0.5  \n",
       "2  0.0  2.0  \n",
       "3  0.0  1.6  \n",
       "4  2.0  0.5  "
      ]
     },
     "execution_count": 2,
     "metadata": {},
     "output_type": "execute_result"
    }
   ],
   "source": [
    "df = pd.read_csv('../data/Karim_MetEng_2018_Figure2_Data.csv')\n",
    "df.drop(columns=['Area_1', 'Area_2', 'Conc_1', 'Conc_2'], inplace=True)\n",
    "n_experiments = df.shape[0]\n",
    "df.head()"
   ]
  },
  {
   "cell_type": "code",
   "execution_count": 51,
   "metadata": {},
   "outputs": [
    {
     "name": "stdout",
     "output_type": "stream",
     "text": [
      "1\n"
     ]
    }
   ],
   "source": [
    "#X_train, y_train, X_test, y_test, btol_col, cols = futils.read_data('../data/flux_samps_2k', scale='flux_zero')\n",
    "y_vals = futils.scale_data(data=df['AVG.1'].values, scale_type='flux_zero', in_place=False)"
   ]
  },
  {
   "cell_type": "code",
   "execution_count": 94,
   "metadata": {},
   "outputs": [
    {
     "name": "stdout",
     "output_type": "stream",
     "text": [
      "sigmoid\n",
      "__________________________________________________________________________________________________\n",
      "Layer (type)                    Output Shape         Param #     Connected to                     \n",
      "==================================================================================================\n",
      "input_18 (InputLayer)           (None, 41, 2639)     0                                            \n",
      "__________________________________________________________________________________________________\n",
      "dense_41 (Dense)                (None, 41, 1024)     2703360     input_18[0][0]                   \n",
      "__________________________________________________________________________________________________\n",
      "dense_42 (Dense)                (None, 41, 256)      262400      dense_41[0][0]                   \n",
      "__________________________________________________________________________________________________\n",
      "z_mean (Dense)                  (None, 41, 2)        514         dense_42[0][0]                   \n",
      "__________________________________________________________________________________________________\n",
      "z_log_var (Dense)               (None, 41, 2)        514         dense_42[0][0]                   \n",
      "__________________________________________________________________________________________________\n",
      "lambda_13 (Lambda)              (None, 41, 2)        0           z_mean[0][0]                     \n",
      "                                                                 z_log_var[0][0]                  \n",
      "__________________________________________________________________________________________________\n",
      "dense_43 (Dense)                (None, 41, 256)      768         lambda_13[0][0]                  \n",
      "__________________________________________________________________________________________________\n",
      "dense_44 (Dense)                (None, 41, 1024)     263168      dense_43[0][0]                   \n",
      "__________________________________________________________________________________________________\n",
      "dense_45 (Dense)                (None, 41, 2639)     2704975     dense_44[0][0]                   \n",
      "==================================================================================================\n",
      "Total params: 5,935,699\n",
      "Trainable params: 5,935,699\n",
      "Non-trainable params: 0\n",
      "__________________________________________________________________________________________________\n"
     ]
    },
    {
     "name": "stderr",
     "output_type": "stream",
     "text": [
      "/home/nlarusstone/cf_fba/src/vae.py:119 \u001b[1;31mUserWarning\u001b[0m: Output \"dense_45\" missing from loss dictionary. We assume this was done on purpose, and we will not be expecting any data to be passed to \"dense_45\" during training.\n"
     ]
    },
    {
     "name": "stdout",
     "output_type": "stream",
     "text": [
      "Train on 37500 samples, validate on 12500 samples\n",
      "Epoch 1/20\n",
      "37500/37500 [==============================] - 151s 4ms/step - loss: 102.1737 - val_loss: 78.4934\n"
     ]
    },
    {
     "ename": "NameError",
     "evalue": "global name 'df' is not defined",
     "output_type": "error",
     "traceback": [
      "\u001b[0;31m---------------------------------------------------------------------------\u001b[0m",
      "\u001b[0;31mNameError\u001b[0m                                 Traceback (most recent call last)",
      "\u001b[0;32m<ipython-input-94-c396c7f1c4a6>\u001b[0m in \u001b[0;36m<module>\u001b[0;34m()\u001b[0m\n\u001b[1;32m     18\u001b[0m         \u001b[0mbatch_size\u001b[0m\u001b[0;34m=\u001b[0m\u001b[0mbatch_size\u001b[0m\u001b[0;34m,\u001b[0m\u001b[0;34m\u001b[0m\u001b[0m\n\u001b[1;32m     19\u001b[0m         \u001b[0mvalidation_data\u001b[0m\u001b[0;34m=\u001b[0m\u001b[0;34m(\u001b[0m\u001b[0mX_test\u001b[0m\u001b[0;34m,\u001b[0m \u001b[0mNone\u001b[0m\u001b[0;34m)\u001b[0m\u001b[0;34m,\u001b[0m\u001b[0;34m\u001b[0m\u001b[0m\n\u001b[0;32m---> 20\u001b[0;31m         callbacks=[es, lh])\n\u001b[0m",
      "\u001b[0;32m/home/nlarusstone/.virtualenvs/nls/lib/python2.7/site-packages/keras/engine/training.pyc\u001b[0m in \u001b[0;36mfit\u001b[0;34m(self, x, y, batch_size, epochs, verbose, callbacks, validation_split, validation_data, shuffle, class_weight, sample_weight, initial_epoch, steps_per_epoch, validation_steps, **kwargs)\u001b[0m\n\u001b[1;32m   1703\u001b[0m                               \u001b[0minitial_epoch\u001b[0m\u001b[0;34m=\u001b[0m\u001b[0minitial_epoch\u001b[0m\u001b[0;34m,\u001b[0m\u001b[0;34m\u001b[0m\u001b[0m\n\u001b[1;32m   1704\u001b[0m                               \u001b[0msteps_per_epoch\u001b[0m\u001b[0;34m=\u001b[0m\u001b[0msteps_per_epoch\u001b[0m\u001b[0;34m,\u001b[0m\u001b[0;34m\u001b[0m\u001b[0m\n\u001b[0;32m-> 1705\u001b[0;31m                               validation_steps=validation_steps)\n\u001b[0m\u001b[1;32m   1706\u001b[0m \u001b[0;34m\u001b[0m\u001b[0m\n\u001b[1;32m   1707\u001b[0m     def evaluate(self, x=None, y=None,\n",
      "\u001b[0;32m/home/nlarusstone/.virtualenvs/nls/lib/python2.7/site-packages/keras/engine/training.pyc\u001b[0m in \u001b[0;36m_fit_loop\u001b[0;34m(self, f, ins, out_labels, batch_size, epochs, verbose, callbacks, val_f, val_ins, shuffle, callback_metrics, initial_epoch, steps_per_epoch, validation_steps)\u001b[0m\n\u001b[1;32m   1254\u001b[0m                             \u001b[0;32mfor\u001b[0m \u001b[0ml\u001b[0m\u001b[0;34m,\u001b[0m \u001b[0mo\u001b[0m \u001b[0;32min\u001b[0m \u001b[0mzip\u001b[0m\u001b[0;34m(\u001b[0m\u001b[0mout_labels\u001b[0m\u001b[0;34m,\u001b[0m \u001b[0mval_outs\u001b[0m\u001b[0;34m)\u001b[0m\u001b[0;34m:\u001b[0m\u001b[0;34m\u001b[0m\u001b[0m\n\u001b[1;32m   1255\u001b[0m                                 \u001b[0mepoch_logs\u001b[0m\u001b[0;34m[\u001b[0m\u001b[0;34m'val_'\u001b[0m \u001b[0;34m+\u001b[0m \u001b[0ml\u001b[0m\u001b[0;34m]\u001b[0m \u001b[0;34m=\u001b[0m \u001b[0mo\u001b[0m\u001b[0;34m\u001b[0m\u001b[0m\n\u001b[0;32m-> 1256\u001b[0;31m             \u001b[0mcallbacks\u001b[0m\u001b[0;34m.\u001b[0m\u001b[0mon_epoch_end\u001b[0m\u001b[0;34m(\u001b[0m\u001b[0mepoch\u001b[0m\u001b[0;34m,\u001b[0m \u001b[0mepoch_logs\u001b[0m\u001b[0;34m)\u001b[0m\u001b[0;34m\u001b[0m\u001b[0m\n\u001b[0m\u001b[1;32m   1257\u001b[0m             \u001b[0;32mif\u001b[0m \u001b[0mcallback_model\u001b[0m\u001b[0;34m.\u001b[0m\u001b[0mstop_training\u001b[0m\u001b[0;34m:\u001b[0m\u001b[0;34m\u001b[0m\u001b[0m\n\u001b[1;32m   1258\u001b[0m                 \u001b[0;32mbreak\u001b[0m\u001b[0;34m\u001b[0m\u001b[0m\n",
      "\u001b[0;32m/home/nlarusstone/.virtualenvs/nls/lib/python2.7/site-packages/keras/callbacks.pyc\u001b[0m in \u001b[0;36mon_epoch_end\u001b[0;34m(self, epoch, logs)\u001b[0m\n\u001b[1;32m     75\u001b[0m         \u001b[0mlogs\u001b[0m \u001b[0;34m=\u001b[0m \u001b[0mlogs\u001b[0m \u001b[0;32mor\u001b[0m \u001b[0;34m{\u001b[0m\u001b[0;34m}\u001b[0m\u001b[0;34m\u001b[0m\u001b[0m\n\u001b[1;32m     76\u001b[0m         \u001b[0;32mfor\u001b[0m \u001b[0mcallback\u001b[0m \u001b[0;32min\u001b[0m \u001b[0mself\u001b[0m\u001b[0;34m.\u001b[0m\u001b[0mcallbacks\u001b[0m\u001b[0;34m:\u001b[0m\u001b[0;34m\u001b[0m\u001b[0m\n\u001b[0;32m---> 77\u001b[0;31m             \u001b[0mcallback\u001b[0m\u001b[0;34m.\u001b[0m\u001b[0mon_epoch_end\u001b[0m\u001b[0;34m(\u001b[0m\u001b[0mepoch\u001b[0m\u001b[0;34m,\u001b[0m \u001b[0mlogs\u001b[0m\u001b[0;34m)\u001b[0m\u001b[0;34m\u001b[0m\u001b[0m\n\u001b[0m\u001b[1;32m     78\u001b[0m \u001b[0;34m\u001b[0m\u001b[0m\n\u001b[1;32m     79\u001b[0m     \u001b[0;32mdef\u001b[0m \u001b[0mon_batch_begin\u001b[0m\u001b[0;34m(\u001b[0m\u001b[0mself\u001b[0m\u001b[0;34m,\u001b[0m \u001b[0mbatch\u001b[0m\u001b[0;34m,\u001b[0m \u001b[0mlogs\u001b[0m\u001b[0;34m=\u001b[0m\u001b[0mNone\u001b[0m\u001b[0;34m)\u001b[0m\u001b[0;34m:\u001b[0m\u001b[0;34m\u001b[0m\u001b[0m\n",
      "\u001b[0;32m/home/nlarusstone/cf_fba/src/vae.py\u001b[0m in \u001b[0;36mon_epoch_end\u001b[0;34m(self, epoch, logs)\u001b[0m\n\u001b[1;32m     39\u001b[0m         \u001b[0my_true\u001b[0m \u001b[0;34m=\u001b[0m \u001b[0mself\u001b[0m\u001b[0;34m.\u001b[0m\u001b[0mvalidation_data\u001b[0m\u001b[0;34m[\u001b[0m\u001b[0;36m0\u001b[0m\u001b[0;34m]\u001b[0m\u001b[0;34m\u001b[0m\u001b[0m\n\u001b[1;32m     40\u001b[0m         \u001b[0my_pred\u001b[0m \u001b[0;34m=\u001b[0m \u001b[0mself\u001b[0m\u001b[0;34m.\u001b[0m\u001b[0mmodel\u001b[0m\u001b[0;34m.\u001b[0m\u001b[0mpredict\u001b[0m\u001b[0;34m(\u001b[0m\u001b[0mself\u001b[0m\u001b[0;34m.\u001b[0m\u001b[0mvalidation_data\u001b[0m\u001b[0;34m[\u001b[0m\u001b[0;36m0\u001b[0m\u001b[0;34m]\u001b[0m\u001b[0;34m)\u001b[0m\u001b[0;34m\u001b[0m\u001b[0m\n\u001b[0;32m---> 41\u001b[0;31m         \u001b[0mcor_loss\u001b[0m \u001b[0;34m=\u001b[0m \u001b[0;34m-\u001b[0m\u001b[0;36m1\u001b[0m \u001b[0;34m*\u001b[0m \u001b[0mcorr_loss\u001b[0m\u001b[0;34m(\u001b[0m\u001b[0mdf\u001b[0m\u001b[0;34m[\u001b[0m\u001b[0;34m'AVG.1'\u001b[0m\u001b[0;34m]\u001b[0m\u001b[0;34m.\u001b[0m\u001b[0mvalues\u001b[0m\u001b[0;34m,\u001b[0m \u001b[0my_pred\u001b[0m\u001b[0;34m[\u001b[0m\u001b[0;34m:\u001b[0m\u001b[0;34m,\u001b[0m \u001b[0;34m:\u001b[0m\u001b[0;34m,\u001b[0m \u001b[0moutput_ind\u001b[0m\u001b[0;34m]\u001b[0m\u001b[0;34m,\u001b[0m \u001b[0mbe\u001b[0m\u001b[0;34m=\u001b[0m\u001b[0mnp\u001b[0m\u001b[0;34m)\u001b[0m\u001b[0;34m\u001b[0m\u001b[0m\n\u001b[0m\u001b[1;32m     42\u001b[0m         \u001b[0mxent_loss\u001b[0m \u001b[0;34m=\u001b[0m \u001b[0my_true\u001b[0m\u001b[0;34m.\u001b[0m\u001b[0mshape\u001b[0m\u001b[0;34m[\u001b[0m\u001b[0;34m-\u001b[0m\u001b[0;36m1\u001b[0m\u001b[0;34m]\u001b[0m \u001b[0;34m*\u001b[0m \u001b[0mnp\u001b[0m\u001b[0;34m.\u001b[0m\u001b[0mmean\u001b[0m\u001b[0;34m(\u001b[0m\u001b[0mnp\u001b[0m\u001b[0;34m.\u001b[0m\u001b[0msquare\u001b[0m\u001b[0;34m(\u001b[0m\u001b[0my_true\u001b[0m \u001b[0;34m-\u001b[0m \u001b[0my_pred\u001b[0m\u001b[0;34m)\u001b[0m\u001b[0;34m,\u001b[0m \u001b[0maxis\u001b[0m\u001b[0;34m=\u001b[0m\u001b[0;34m-\u001b[0m\u001b[0;36m1\u001b[0m\u001b[0;34m)\u001b[0m\u001b[0;34m\u001b[0m\u001b[0m\n\u001b[1;32m     43\u001b[0m         \u001b[0minputs\u001b[0m \u001b[0;34m=\u001b[0m \u001b[0;34m[\u001b[0m\u001b[0mK\u001b[0m\u001b[0;34m.\u001b[0m\u001b[0mlearning_phase\u001b[0m\u001b[0;34m(\u001b[0m\u001b[0;34m)\u001b[0m\u001b[0;34m]\u001b[0m \u001b[0;34m+\u001b[0m \u001b[0mself\u001b[0m\u001b[0;34m.\u001b[0m\u001b[0mmodel\u001b[0m\u001b[0;34m.\u001b[0m\u001b[0minputs\u001b[0m\u001b[0;34m\u001b[0m\u001b[0m\n",
      "\u001b[0;31mNameError\u001b[0m: global name 'df' is not defined"
     ]
    }
   ],
   "source": [
    "batch_size = 256\n",
    "X_shape, n_experiments = X_train.shape[2], df.shape[0]\n",
    "targets = tf.convert_to_tensor(y_vals, dtype=tf.float32)\n",
    "latent_dim = 2\n",
    "use_corr = True\n",
    "scale = 'flux_zero'\n",
    "vae, encoder, generator = model_builder.build_vae(X_shape, n_experiments, targets, btol_col, [1024, 256], \n",
    "                                                  latent_dim, batch_size, use_corr, scale)\n",
    "es = EarlyStopping(patience=5)\n",
    "lh = model_builder.LossHistory()\n",
    "#with tf.Session(config=tf.ConfigProto(\n",
    "#                    intra_op_parallelism_threads=32)) as sess:\n",
    "#    K.set_session(sess)\n",
    "hist = vae.fit(X_train,\n",
    "        shuffle=True,\n",
    "        epochs=20,\n",
    "        batch_size=batch_size,\n",
    "        validation_data=(X_test, None),\n",
    "        callbacks=[es, lh])"
   ]
  },
  {
   "cell_type": "code",
   "execution_count": 60,
   "metadata": {},
   "outputs": [],
   "source": [
    "from keras.models import load_model\n",
    "#enc = load_model('../models/encoder_epochs=300_batch=256_dimension=2_corr=True.h5')\n",
    "enc = load_model('../models/encoder_epochs=100_batch=256_dimension=2_corr=True_scale=flux_zero.h5')\n",
    "#gen = load_model('../models/generator_epochs=300_batch=256_dimension=2_corr=True.h5')\n",
    "gen = load_model('../models/generator_epochs=100_batch=256_dimension=2_corr=True_scale=flux_zero.h5')"
   ]
  },
  {
   "cell_type": "code",
   "execution_count": 6,
   "metadata": {},
   "outputs": [],
   "source": [
    "test_enc = enc.predict(X_test)\n",
    "test_dec = gen.predict(test_enc)\n",
    "#dec_df = pd.DataFrame(data=test_dec[:, 0, :], columns=cols)"
   ]
  },
  {
   "cell_type": "code",
   "execution_count": 7,
   "metadata": {},
   "outputs": [],
   "source": [
    "model = cobra.io.read_sbml_model('../models/ecoli_cf_base.sbml')"
   ]
  },
  {
   "cell_type": "code",
   "execution_count": null,
   "metadata": {
    "scrolled": true
   },
   "outputs": [],
   "source": [
    "for j in range(41):\n",
    "    a = pd.DataFrame(data=test_dec[:, j, :], columns=cols)\n",
    "    a.mean().plot(kind='hist')\n",
    "    print test_dec[:, j, btol_col].mean()\n",
    "    plt.show()"
   ]
  },
  {
   "cell_type": "code",
   "execution_count": 8,
   "metadata": {
    "scrolled": true
   },
   "outputs": [
    {
     "name": "stderr",
     "output_type": "stream",
     "text": [
      "cobra/core/model.py:608 \u001b[1;31mUserWarning\u001b[0m: DM_nad_e not in iJO1366\n",
      "cobra/core/model.py:608 \u001b[1;31mUserWarning\u001b[0m: DM_atp_e not in iJO1366\n"
     ]
    },
    {
     "name": "stdout",
     "output_type": "stream",
     "text": [
      "0.0001 (-0.18599663675596972, 0.24429322068475864)\n",
      "0.0001623776739188721 (-0.18599663675598155, 0.24429322068472673)\n",
      "0.00026366508987303583 (-0.18599663675598407, 0.24429322068472123)\n",
      "0.00042813323987193956 (-0.18599663675597242, 0.24429322068475035)\n",
      "0.0006951927961775605 (-0.18599663675597605, 0.24429322068474038)\n",
      "0.0011288378916846883 (-0.1421659247369407, 0.3752565173078518)\n",
      "0.0018329807108324356 (-0.06991347425715992, 0.6640323693780252)\n"
     ]
    },
    {
     "name": "stderr",
     "output_type": "stream",
     "text": [
      "cobra/core/model.py:608 \u001b[1;31mUserWarning\u001b[0m: EX_glc__D_e not in iJO1366\n"
     ]
    },
    {
     "name": "stdout",
     "output_type": "stream",
     "text": [
      "0.002976351441631319 (0.13862552754506213, 0.38738453729669353)\n",
      "0.004832930238571752 (0.15481930374238032, 0.33378693058805886)\n",
      "0.007847599703514606 (0.2178814867370697, 0.1711607265545529)\n",
      "0.012742749857031334 (0.09724742205034753, 0.5452674045274182)\n",
      "0.0206913808111479 (0.06700389023702961, 0.6772383967538836)\n"
     ]
    },
    {
     "name": "stderr",
     "output_type": "stream",
     "text": [
      "cobra/util/solver.py:403 \u001b[1;31mUserWarning\u001b[0m: solver status is 'infeasible'\n"
     ]
    },
    {
     "name": "stdout",
     "output_type": "stream",
     "text": [
      "0.03359818286283781 (0.05977586027312816, 0.7104529828100246)\n",
      "0.05455594781168514 (nan, 1.0)\n"
     ]
    },
    {
     "name": "stderr",
     "output_type": "stream",
     "text": [
      "/home/nlarusstone/.virtualenvs/nls/lib/python2.7/site-packages/scipy/stats/stats.py:3010 \u001b[1;31mRuntimeWarning\u001b[0m: invalid value encountered in double_scalars\n"
     ]
    },
    {
     "name": "stdout",
     "output_type": "stream",
     "text": [
      "0.08858667904100823 (nan, 1.0)\n"
     ]
    },
    {
     "name": "stderr",
     "output_type": "stream",
     "text": [
      "cobra/core/model.py:608 \u001b[1;31mUserWarning\u001b[0m: EX_pi_e not in iJO1366\n"
     ]
    },
    {
     "name": "stdout",
     "output_type": "stream",
     "text": [
      "0.14384498882876628 (nan, 1.0)\n",
      "0.23357214690901212 (nan, 1.0)\n",
      "0.3792690190732246 (nan, 1.0)\n",
      "0.615848211066026 (nan, 1.0)\n",
      "1.0 (nan, 1.0)\n"
     ]
    }
   ],
   "source": [
    "thresh = np.logspace(start=-4, stop=0, num=20)\n",
    "for t in thresh:\n",
    "    objs = []\n",
    "    for i, row in df.iterrows():\n",
    "        model_i = utils.add_reagents_to_model(model, row)\n",
    "        dec_df = pd.DataFrame(data=test_dec[:, i, :], columns=cols)\n",
    "        bad_cols = cols[dec_df.mean().abs() < t]\n",
    "        model_i.remove_reactions(bad_cols)\n",
    "        sol = model_i.optimize()\n",
    "        objs.append(sol.objective_value)\n",
    "    print t, scipy.stats.pearsonr(objs, df['AVG.1'])"
   ]
  },
  {
   "cell_type": "code",
   "execution_count": 27,
   "metadata": {},
   "outputs": [],
   "source": [
    "scale_type = ['norm', 'robust', 'maxabs', 'negone', 'zero']\n",
    "dirs = ['flux', 'exp']"
   ]
  },
  {
   "cell_type": "code",
   "execution_count": 46,
   "metadata": {},
   "outputs": [
    {
     "name": "stdout",
     "output_type": "stream",
     "text": [
      "2 [41.496534183643405, -0.8662801478631902, 5.800572]\n",
      "3 [34.14316380664355, -0.9671185770776196, 7.6588693]\n",
      "5 [29.442921705464354, -0.9697774771241698, 9.7291155]\n",
      "7 [28.559490263091686, -0.9750429846651395, 10.84863]\n",
      "10 [27.531898823747497, -0.9712822940015329, 11.860467]\n"
     ]
    }
   ],
   "source": [
    "import pickle\n",
    "import itertools\n",
    "def compare_losses(category, opts):\n",
    "    cats = ['epochs', 'batch', 'dimension', 'corr', 'scale']\n",
    "    dvs = [100, 256, 2, True, 'flux_zero']\n",
    "    idx = cats.index(category)\n",
    "    del cats[idx]\n",
    "    del dvs[idx]\n",
    "    defdict = dict(zip(cats, dvs))\n",
    "    for opt in opts:\n",
    "        curdict = defdict.copy()\n",
    "        curdict.update({category: opt})\n",
    "        with open('../models/losses_epochs={epochs}_batch={batch}_dimension={dimension}_corr={corr}_scale={scale}.h5'.format(\n",
    "            **curdict\n",
    "        ), 'r') as f:\n",
    "            losses = pickle.load(f)\n",
    "            print opt, [ls[-1] for k, ls in losses.items()]\n",
    "#compare_losses('scale', [\"{0}_{1}\".format(d, st) for d, st in itertools.product(dirs, scale_type)])\n",
    "compare_losses('dimension', [2, 3, 5, 7, 10])"
   ]
  },
  {
   "cell_type": "code",
   "execution_count": 91,
   "metadata": {},
   "outputs": [
    {
     "name": "stdout",
     "output_type": "stream",
     "text": [
      "(4924, 2639)\n"
     ]
    },
    {
     "data": {
      "text/html": [
       "<div>\n",
       "<style scoped>\n",
       "    .dataframe tbody tr th:only-of-type {\n",
       "        vertical-align: middle;\n",
       "    }\n",
       "\n",
       "    .dataframe tbody tr th {\n",
       "        vertical-align: top;\n",
       "    }\n",
       "\n",
       "    .dataframe thead th {\n",
       "        text-align: right;\n",
       "    }\n",
       "</style>\n",
       "<table border=\"1\" class=\"dataframe\">\n",
       "  <thead>\n",
       "    <tr style=\"text-align: right;\">\n",
       "      <th></th>\n",
       "      <th>DM_4CRSOL</th>\n",
       "      <th>DM_5DRIB</th>\n",
       "      <th>DM_AACALD</th>\n",
       "      <th>DM_AMOB</th>\n",
       "      <th>DM_MTHTHF</th>\n",
       "      <th>DM_OXAM</th>\n",
       "      <th>Ec_biomass_iJO1366_WT_53p95M</th>\n",
       "      <th>Ec_biomass_iJO1366_core_53p95M</th>\n",
       "      <th>EX_12ppd__R_e</th>\n",
       "      <th>EX_12ppd__S_e</th>\n",
       "      <th>...</th>\n",
       "      <th>EX_lystrna_e</th>\n",
       "      <th>EX_mettrna_e</th>\n",
       "      <th>EX_trptrna_e</th>\n",
       "      <th>EX_phetrna_e</th>\n",
       "      <th>EX_protrna_e</th>\n",
       "      <th>EX_trnaser_e</th>\n",
       "      <th>EX_pi_e</th>\n",
       "      <th>DM_nad_e</th>\n",
       "      <th>EX_glc__D_e</th>\n",
       "      <th>DM_atp_e</th>\n",
       "    </tr>\n",
       "  </thead>\n",
       "  <tbody>\n",
       "    <tr>\n",
       "      <th>0</th>\n",
       "      <td>-0.881620</td>\n",
       "      <td>-0.952770</td>\n",
       "      <td>0.221703</td>\n",
       "      <td>-0.878268</td>\n",
       "      <td>-0.952690</td>\n",
       "      <td>-0.869516</td>\n",
       "      <td>-0.910346</td>\n",
       "      <td>-0.981879</td>\n",
       "      <td>-0.961939</td>\n",
       "      <td>-0.952128</td>\n",
       "      <td>...</td>\n",
       "      <td>-1.0</td>\n",
       "      <td>-1.0</td>\n",
       "      <td>-1.0</td>\n",
       "      <td>-1.0</td>\n",
       "      <td>-1.0</td>\n",
       "      <td>-1.0</td>\n",
       "      <td>0.784893</td>\n",
       "      <td>-1.0</td>\n",
       "      <td>-0.947766</td>\n",
       "      <td>-1.0</td>\n",
       "    </tr>\n",
       "    <tr>\n",
       "      <th>1</th>\n",
       "      <td>-0.874308</td>\n",
       "      <td>-0.951368</td>\n",
       "      <td>0.220867</td>\n",
       "      <td>-0.871271</td>\n",
       "      <td>-0.952661</td>\n",
       "      <td>-0.860171</td>\n",
       "      <td>-0.904585</td>\n",
       "      <td>-0.981454</td>\n",
       "      <td>-0.960719</td>\n",
       "      <td>-0.949570</td>\n",
       "      <td>...</td>\n",
       "      <td>-1.0</td>\n",
       "      <td>-1.0</td>\n",
       "      <td>-1.0</td>\n",
       "      <td>-1.0</td>\n",
       "      <td>-1.0</td>\n",
       "      <td>-1.0</td>\n",
       "      <td>0.775824</td>\n",
       "      <td>-1.0</td>\n",
       "      <td>-0.946561</td>\n",
       "      <td>-1.0</td>\n",
       "    </tr>\n",
       "    <tr>\n",
       "      <th>2</th>\n",
       "      <td>-0.882721</td>\n",
       "      <td>-0.953055</td>\n",
       "      <td>0.220833</td>\n",
       "      <td>-0.879363</td>\n",
       "      <td>-0.952676</td>\n",
       "      <td>-0.871300</td>\n",
       "      <td>-0.911253</td>\n",
       "      <td>-0.981939</td>\n",
       "      <td>-0.962071</td>\n",
       "      <td>-0.952551</td>\n",
       "      <td>...</td>\n",
       "      <td>-1.0</td>\n",
       "      <td>-1.0</td>\n",
       "      <td>-1.0</td>\n",
       "      <td>-1.0</td>\n",
       "      <td>-1.0</td>\n",
       "      <td>-1.0</td>\n",
       "      <td>0.785955</td>\n",
       "      <td>-1.0</td>\n",
       "      <td>-0.947947</td>\n",
       "      <td>-1.0</td>\n",
       "    </tr>\n",
       "    <tr>\n",
       "      <th>3</th>\n",
       "      <td>-0.879922</td>\n",
       "      <td>-0.952333</td>\n",
       "      <td>0.223029</td>\n",
       "      <td>-0.876578</td>\n",
       "      <td>-0.952711</td>\n",
       "      <td>-0.866749</td>\n",
       "      <td>-0.908944</td>\n",
       "      <td>-0.981788</td>\n",
       "      <td>-0.961736</td>\n",
       "      <td>-0.951474</td>\n",
       "      <td>...</td>\n",
       "      <td>-1.0</td>\n",
       "      <td>-1.0</td>\n",
       "      <td>-1.0</td>\n",
       "      <td>-1.0</td>\n",
       "      <td>-1.0</td>\n",
       "      <td>-1.0</td>\n",
       "      <td>0.783264</td>\n",
       "      <td>-1.0</td>\n",
       "      <td>-0.947488</td>\n",
       "      <td>-1.0</td>\n",
       "    </tr>\n",
       "    <tr>\n",
       "      <th>4</th>\n",
       "      <td>-0.879030</td>\n",
       "      <td>-0.952144</td>\n",
       "      <td>0.223071</td>\n",
       "      <td>-0.875704</td>\n",
       "      <td>-0.952702</td>\n",
       "      <td>-0.865490</td>\n",
       "      <td>-0.908212</td>\n",
       "      <td>-0.981745</td>\n",
       "      <td>-0.961605</td>\n",
       "      <td>-0.951160</td>\n",
       "      <td>...</td>\n",
       "      <td>-1.0</td>\n",
       "      <td>-1.0</td>\n",
       "      <td>-1.0</td>\n",
       "      <td>-1.0</td>\n",
       "      <td>-1.0</td>\n",
       "      <td>-1.0</td>\n",
       "      <td>0.782239</td>\n",
       "      <td>-1.0</td>\n",
       "      <td>-0.947333</td>\n",
       "      <td>-1.0</td>\n",
       "    </tr>\n",
       "  </tbody>\n",
       "</table>\n",
       "<p>5 rows × 2639 columns</p>\n",
       "</div>"
      ],
      "text/plain": [
       "   DM_4CRSOL  DM_5DRIB  DM_AACALD   DM_AMOB  DM_MTHTHF   DM_OXAM  \\\n",
       "0  -0.881620 -0.952770   0.221703 -0.878268  -0.952690 -0.869516   \n",
       "1  -0.874308 -0.951368   0.220867 -0.871271  -0.952661 -0.860171   \n",
       "2  -0.882721 -0.953055   0.220833 -0.879363  -0.952676 -0.871300   \n",
       "3  -0.879922 -0.952333   0.223029 -0.876578  -0.952711 -0.866749   \n",
       "4  -0.879030 -0.952144   0.223071 -0.875704  -0.952702 -0.865490   \n",
       "\n",
       "   Ec_biomass_iJO1366_WT_53p95M  Ec_biomass_iJO1366_core_53p95M  \\\n",
       "0                     -0.910346                       -0.981879   \n",
       "1                     -0.904585                       -0.981454   \n",
       "2                     -0.911253                       -0.981939   \n",
       "3                     -0.908944                       -0.981788   \n",
       "4                     -0.908212                       -0.981745   \n",
       "\n",
       "   EX_12ppd__R_e  EX_12ppd__S_e    ...     EX_lystrna_e  EX_mettrna_e  \\\n",
       "0      -0.961939      -0.952128    ...             -1.0          -1.0   \n",
       "1      -0.960719      -0.949570    ...             -1.0          -1.0   \n",
       "2      -0.962071      -0.952551    ...             -1.0          -1.0   \n",
       "3      -0.961736      -0.951474    ...             -1.0          -1.0   \n",
       "4      -0.961605      -0.951160    ...             -1.0          -1.0   \n",
       "\n",
       "   EX_trptrna_e  EX_phetrna_e  EX_protrna_e  EX_trnaser_e   EX_pi_e  DM_nad_e  \\\n",
       "0          -1.0          -1.0          -1.0          -1.0  0.784893      -1.0   \n",
       "1          -1.0          -1.0          -1.0          -1.0  0.775824      -1.0   \n",
       "2          -1.0          -1.0          -1.0          -1.0  0.785955      -1.0   \n",
       "3          -1.0          -1.0          -1.0          -1.0  0.783264      -1.0   \n",
       "4          -1.0          -1.0          -1.0          -1.0  0.782239      -1.0   \n",
       "\n",
       "   EX_glc__D_e  DM_atp_e  \n",
       "0    -0.947766      -1.0  \n",
       "1    -0.946561      -1.0  \n",
       "2    -0.947947      -1.0  \n",
       "3    -0.947488      -1.0  \n",
       "4    -0.947333      -1.0  \n",
       "\n",
       "[5 rows x 2639 columns]"
      ]
     },
     "execution_count": 91,
     "metadata": {},
     "output_type": "execute_result"
    }
   ],
   "source": [
    "a = pd.DataFrame(data=test_dec[~high_cols, i, :], columns=cols)\n",
    "print a.shape\n",
    "a.head()"
   ]
  },
  {
   "cell_type": "code",
   "execution_count": 89,
   "metadata": {},
   "outputs": [
    {
     "data": {
      "text/html": [
       "<div>\n",
       "<style scoped>\n",
       "    .dataframe tbody tr th:only-of-type {\n",
       "        vertical-align: middle;\n",
       "    }\n",
       "\n",
       "    .dataframe tbody tr th {\n",
       "        vertical-align: top;\n",
       "    }\n",
       "\n",
       "    .dataframe thead th {\n",
       "        text-align: right;\n",
       "    }\n",
       "</style>\n",
       "<table border=\"1\" class=\"dataframe\">\n",
       "  <thead>\n",
       "    <tr style=\"text-align: right;\">\n",
       "      <th></th>\n",
       "      <th>DM_4CRSOL</th>\n",
       "      <th>DM_5DRIB</th>\n",
       "      <th>DM_AACALD</th>\n",
       "      <th>DM_AMOB</th>\n",
       "      <th>DM_MTHTHF</th>\n",
       "      <th>DM_OXAM</th>\n",
       "      <th>Ec_biomass_iJO1366_WT_53p95M</th>\n",
       "      <th>Ec_biomass_iJO1366_core_53p95M</th>\n",
       "      <th>EX_12ppd__R_e</th>\n",
       "      <th>EX_12ppd__S_e</th>\n",
       "      <th>...</th>\n",
       "      <th>EX_lystrna_e</th>\n",
       "      <th>EX_mettrna_e</th>\n",
       "      <th>EX_trptrna_e</th>\n",
       "      <th>EX_phetrna_e</th>\n",
       "      <th>EX_protrna_e</th>\n",
       "      <th>EX_trnaser_e</th>\n",
       "      <th>EX_pi_e</th>\n",
       "      <th>DM_nad_e</th>\n",
       "      <th>EX_glc__D_e</th>\n",
       "      <th>DM_atp_e</th>\n",
       "    </tr>\n",
       "  </thead>\n",
       "  <tbody>\n",
       "    <tr>\n",
       "      <th>0</th>\n",
       "      <td>0.860305</td>\n",
       "      <td>-0.992520</td>\n",
       "      <td>0.546359</td>\n",
       "      <td>0.860305</td>\n",
       "      <td>-0.996996</td>\n",
       "      <td>-0.999251</td>\n",
       "      <td>-0.997714</td>\n",
       "      <td>0.921274</td>\n",
       "      <td>-0.997882</td>\n",
       "      <td>-0.987626</td>\n",
       "      <td>...</td>\n",
       "      <td>-1.0</td>\n",
       "      <td>-1.0</td>\n",
       "      <td>-1.0</td>\n",
       "      <td>-1.0</td>\n",
       "      <td>-1.0</td>\n",
       "      <td>-1.0</td>\n",
       "      <td>0.452351</td>\n",
       "      <td>-1.0</td>\n",
       "      <td>-1.0</td>\n",
       "      <td>-1.0</td>\n",
       "    </tr>\n",
       "    <tr>\n",
       "      <th>1</th>\n",
       "      <td>0.861491</td>\n",
       "      <td>-0.992516</td>\n",
       "      <td>0.546638</td>\n",
       "      <td>0.861491</td>\n",
       "      <td>-0.998854</td>\n",
       "      <td>-0.999251</td>\n",
       "      <td>-0.996491</td>\n",
       "      <td>0.921236</td>\n",
       "      <td>-0.988797</td>\n",
       "      <td>-0.987626</td>\n",
       "      <td>...</td>\n",
       "      <td>-1.0</td>\n",
       "      <td>-1.0</td>\n",
       "      <td>-1.0</td>\n",
       "      <td>-1.0</td>\n",
       "      <td>-1.0</td>\n",
       "      <td>-1.0</td>\n",
       "      <td>0.451945</td>\n",
       "      <td>-1.0</td>\n",
       "      <td>-1.0</td>\n",
       "      <td>-1.0</td>\n",
       "    </tr>\n",
       "    <tr>\n",
       "      <th>2</th>\n",
       "      <td>0.868062</td>\n",
       "      <td>-0.992489</td>\n",
       "      <td>0.545910</td>\n",
       "      <td>0.868062</td>\n",
       "      <td>-0.998939</td>\n",
       "      <td>-0.993183</td>\n",
       "      <td>-0.998231</td>\n",
       "      <td>0.929830</td>\n",
       "      <td>-0.997888</td>\n",
       "      <td>-0.987626</td>\n",
       "      <td>...</td>\n",
       "      <td>-1.0</td>\n",
       "      <td>-1.0</td>\n",
       "      <td>-1.0</td>\n",
       "      <td>-1.0</td>\n",
       "      <td>-1.0</td>\n",
       "      <td>-1.0</td>\n",
       "      <td>0.450247</td>\n",
       "      <td>-1.0</td>\n",
       "      <td>-1.0</td>\n",
       "      <td>-1.0</td>\n",
       "    </tr>\n",
       "    <tr>\n",
       "      <th>3</th>\n",
       "      <td>1.000000</td>\n",
       "      <td>-0.991758</td>\n",
       "      <td>-0.345146</td>\n",
       "      <td>1.000000</td>\n",
       "      <td>-0.961284</td>\n",
       "      <td>-0.999914</td>\n",
       "      <td>1.000000</td>\n",
       "      <td>-0.999982</td>\n",
       "      <td>-0.999976</td>\n",
       "      <td>-0.999966</td>\n",
       "      <td>...</td>\n",
       "      <td>-1.0</td>\n",
       "      <td>-1.0</td>\n",
       "      <td>-1.0</td>\n",
       "      <td>-1.0</td>\n",
       "      <td>-1.0</td>\n",
       "      <td>-1.0</td>\n",
       "      <td>0.421753</td>\n",
       "      <td>-1.0</td>\n",
       "      <td>-1.0</td>\n",
       "      <td>-1.0</td>\n",
       "    </tr>\n",
       "    <tr>\n",
       "      <th>4</th>\n",
       "      <td>0.783807</td>\n",
       "      <td>-0.992833</td>\n",
       "      <td>-0.345147</td>\n",
       "      <td>0.783807</td>\n",
       "      <td>-0.999177</td>\n",
       "      <td>-0.999659</td>\n",
       "      <td>-0.999996</td>\n",
       "      <td>0.844531</td>\n",
       "      <td>-0.999965</td>\n",
       "      <td>-0.999946</td>\n",
       "      <td>...</td>\n",
       "      <td>-1.0</td>\n",
       "      <td>-1.0</td>\n",
       "      <td>-1.0</td>\n",
       "      <td>-1.0</td>\n",
       "      <td>-1.0</td>\n",
       "      <td>-1.0</td>\n",
       "      <td>0.803070</td>\n",
       "      <td>-1.0</td>\n",
       "      <td>-1.0</td>\n",
       "      <td>-1.0</td>\n",
       "    </tr>\n",
       "  </tbody>\n",
       "</table>\n",
       "<p>5 rows × 2639 columns</p>\n",
       "</div>"
      ],
      "text/plain": [
       "   DM_4CRSOL  DM_5DRIB  DM_AACALD   DM_AMOB  DM_MTHTHF   DM_OXAM  \\\n",
       "0   0.860305 -0.992520   0.546359  0.860305  -0.996996 -0.999251   \n",
       "1   0.861491 -0.992516   0.546638  0.861491  -0.998854 -0.999251   \n",
       "2   0.868062 -0.992489   0.545910  0.868062  -0.998939 -0.993183   \n",
       "3   1.000000 -0.991758  -0.345146  1.000000  -0.961284 -0.999914   \n",
       "4   0.783807 -0.992833  -0.345147  0.783807  -0.999177 -0.999659   \n",
       "\n",
       "   Ec_biomass_iJO1366_WT_53p95M  Ec_biomass_iJO1366_core_53p95M  \\\n",
       "0                     -0.997714                        0.921274   \n",
       "1                     -0.996491                        0.921236   \n",
       "2                     -0.998231                        0.929830   \n",
       "3                      1.000000                       -0.999982   \n",
       "4                     -0.999996                        0.844531   \n",
       "\n",
       "   EX_12ppd__R_e  EX_12ppd__S_e    ...     EX_lystrna_e  EX_mettrna_e  \\\n",
       "0      -0.997882      -0.987626    ...             -1.0          -1.0   \n",
       "1      -0.988797      -0.987626    ...             -1.0          -1.0   \n",
       "2      -0.997888      -0.987626    ...             -1.0          -1.0   \n",
       "3      -0.999976      -0.999966    ...             -1.0          -1.0   \n",
       "4      -0.999965      -0.999946    ...             -1.0          -1.0   \n",
       "\n",
       "   EX_trptrna_e  EX_phetrna_e  EX_protrna_e  EX_trnaser_e   EX_pi_e  DM_nad_e  \\\n",
       "0          -1.0          -1.0          -1.0          -1.0  0.452351      -1.0   \n",
       "1          -1.0          -1.0          -1.0          -1.0  0.451945      -1.0   \n",
       "2          -1.0          -1.0          -1.0          -1.0  0.450247      -1.0   \n",
       "3          -1.0          -1.0          -1.0          -1.0  0.421753      -1.0   \n",
       "4          -1.0          -1.0          -1.0          -1.0  0.803070      -1.0   \n",
       "\n",
       "   EX_glc__D_e  DM_atp_e  \n",
       "0         -1.0      -1.0  \n",
       "1         -1.0      -1.0  \n",
       "2         -1.0      -1.0  \n",
       "3         -1.0      -1.0  \n",
       "4         -1.0      -1.0  \n",
       "\n",
       "[5 rows x 2639 columns]"
      ]
     },
     "execution_count": 89,
     "metadata": {},
     "output_type": "execute_result"
    }
   ],
   "source": [
    "diff = pd.DataFrame(data=X_test[high_cols, 0, :], columns=cols)\n",
    "diff.head()"
   ]
  },
  {
   "cell_type": "code",
   "execution_count": 93,
   "metadata": {},
   "outputs": [
    {
     "data": {
      "text/plain": [
       "<matplotlib.axes._subplots.AxesSubplot at 0xd1373690>"
      ]
     },
     "execution_count": 93,
     "metadata": {},
     "output_type": "execute_result"
    },
    {
     "data": {
      "image/png": "[encoded data removed]",
      "text/plain": [
       "<Figure size 432x288 with 1 Axes>"
      ]
     },
     "metadata": {},
     "output_type": "display_data"
    }
   ],
   "source": [
    "a.mean().plot(kind='hist')"
   ]
  },
  {
   "cell_type": "code",
   "execution_count": 92,
   "metadata": {},
   "outputs": [
    {
     "data": {
      "text/plain": [
       "<matplotlib.axes._subplots.AxesSubplot at 0xda7fdbd0>"
      ]
     },
     "execution_count": 92,
     "metadata": {},
     "output_type": "execute_result"
    },
    {
     "data": {
      "image/png": "[encoded data removed]",
      "text/plain": [
       "<Figure size 432x288 with 1 Axes>"
      ]
     },
     "metadata": {},
     "output_type": "display_data"
    }
   ],
   "source": [
    "diff.mean().plot(kind='hist')"
   ]
  },
  {
   "cell_type": "code",
   "execution_count": 82,
   "metadata": {
    "scrolled": false
   },
   "outputs": [
    {
     "name": "stdout",
     "output_type": "stream",
     "text": [
      "76\n"
     ]
    },
    {
     "data": {
      "image/png": "[encoded data removed]",
      "text/plain": [
       "<Figure size 720x720 with 1 Axes>"
      ]
     },
     "metadata": {},
     "output_type": "display_data"
    }
   ],
   "source": [
    "x_test_encoded = test_enc\n",
    "\n",
    "def get_rct(df, rct, y_test):\n",
    "    y_new = []\n",
    "    for ind in y_test:\n",
    "        y_new.append(df[rct][ind])\n",
    "    return y_new\n",
    "\n",
    "cmap = cm.get_cmap('plasma', 41)\n",
    "#for j in range(4):\n",
    "j = 0\n",
    "\n",
    "high_cols = (test_enc[:, j, 1] > 0)\n",
    "print sum(high_cols)\n",
    "xmin, xmax = np.amin(x_test_encoded[:, j, 0]), np.amax(x_test_encoded[:, j, 0])\n",
    "ymin, ymax = np.amin(x_test_encoded[:, j, 1]), np.amax(x_test_encoded[:, j, 1])\n",
    "x_diff = (xmax - xmin) / 10.0\n",
    "y_diff = (ymax - ymin) / 10.0\n",
    "#for col in df.columns[4:]:\n",
    "plt.figure(figsize=(10, 10))\n",
    "plt.scatter(x_test_encoded[:, j, 0], x_test_encoded[:, j, 1], c=high_cols)#get_rct(df, col, y_test), cmap=cmap)\n",
    "plt.xlim((xmin - x_diff, xmax + x_diff))\n",
    "plt.ylim((ymin - y_diff, ymax + y_diff))\n",
    "plt.title(j)\n",
    "#plt.colorbar()\n",
    "plt.show()"
   ]
  },
  {
   "cell_type": "code",
   "execution_count": null,
   "metadata": {},
   "outputs": [],
   "source": []
  }
 ],
 "metadata": {
  "kernelspec": {
   "display_name": "Python 2",
   "language": "python",
   "name": "python2"
  },
  "language_info": {
   "codemirror_mode": {
    "name": "ipython",
    "version": 2
   },
   "file_extension": ".py",
   "mimetype": "text/x-python",
   "name": "python",
   "nbconvert_exporter": "python",
   "pygments_lexer": "ipython2",
   "version": "2.7.5"
  }
 },
 "nbformat": 4,
 "nbformat_minor": 2
}
