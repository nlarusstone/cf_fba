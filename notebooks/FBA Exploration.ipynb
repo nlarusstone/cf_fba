{
 "cells": [
  {
   "cell_type": "code",
   "execution_count": null,
   "metadata": {},
   "outputs": [],
   "source": [
    "import numpy as np\n",
    "import pandas as pd\n",
    "import re\n",
    "import cobra\n",
    "import cobra.test\n",
    "from cobra import Reaction, Metabolite\n",
    "from cobra.flux_analysis import gapfill, production_envelope, flux_variability_analysis\n",
    "from cobra.flux_analysis.gapfilling import GapFiller\n",
    "from icecream import ic"
   ]
  },
  {
   "cell_type": "code",
   "execution_count": null,
   "metadata": {},
   "outputs": [],
   "source": [
    "model = cobra.test.create_test_model(\"ecoli\")\n",
    "model_e = model.copy()"
   ]
  },
  {
   "cell_type": "code",
   "execution_count": null,
   "metadata": {},
   "outputs": [],
   "source": [
    "model"
   ]
  },
  {
   "cell_type": "markdown",
   "metadata": {},
   "source": [
    "for reaction in model_text.reactions[:5]:\n",
    "    with model_text as model:\n",
    "        reaction.knock_out()\n",
    "        model.optimize()\n",
    "        print('%s blocked (bounds: %s), new growth rate %f' %\n",
    "              (reaction.id, str(reaction.bounds), model.objective.value))"
   ]
  },
  {
   "cell_type": "code",
   "execution_count": null,
   "metadata": {},
   "outputs": [],
   "source": [
    "sol = model.optimize()"
   ]
  },
  {
   "cell_type": "code",
   "execution_count": null,
   "metadata": {
    "scrolled": true
   },
   "outputs": [],
   "source": [
    "print sol.fluxes"
   ]
  },
  {
   "cell_type": "code",
   "execution_count": null,
   "metadata": {},
   "outputs": [],
   "source": [
    "model.summary()"
   ]
  },
  {
   "cell_type": "raw",
   "metadata": {},
   "source": [
    "\"\"\"\n",
    "atoB acetyl-CoA & acetyltransferase / thiolase Escherichia coli\n",
    "hbd1 acyl-CoA dehydrogenase Clostridium Acetobutylicum \n",
    "crt1 acyl-CoA dehydrogenase Clostridium Acetobutylicum\n",
    "ter1 trans-2-enoyl-CoA reductase Treponema denticola\n",
    "adhE1 bifunctional acetaldehydeCoA/alcohol dehydrogenase Clostridium acetobutylicum\n",
    "\n",
    "Ecoli: eco\n",
    "Clostr Aceto: cac\n",
    "\n",
    "\"\"\""
   ]
  },
  {
   "cell_type": "code",
   "execution_count": null,
   "metadata": {},
   "outputs": [],
   "source": [
    "import requests\n",
    "resp = requests.get('http://bigg.ucsd.edu/api/v2/models/iJO1366/genes')\n",
    "res = resp.json()['results']\n",
    "res[:5]\n",
    "for gene in res:\n",
    "    if gene['name'] == 'atoB':\n",
    "        print gene\n",
    "        break"
   ]
  },
  {
   "cell_type": "code",
   "execution_count": null,
   "metadata": {},
   "outputs": [],
   "source": [
    "alc_dehydr = cobra.Reaction(id='ALCDBUT', name='Alcohol dehydrogenase (butanal)', subsystem='c')\n",
    "model.add_reaction(alc_dehydr)\n",
    "alc_dehydr.add_metabolites({'btcoa_c': -1, 'h_c': -1, 'nadh_c': -1, 'nad_c': 1, 'btal_c': 1})\n",
    "\n",
    "butanol = cobra.Metabolite(id='btol_c', name='1-butanol', compartment='c', charge=0, formula='C4H9OH')\n",
    "but_synth = cobra.Reaction(id='BUTSYN', name='Butanol synthesis', subsystem='c')\n",
    "model.add_reaction(but_synth)\n",
    "but_synth.add_metabolites({'btal_c': -1, 'h_c': -1, 'nadh_c': -1, 'nad_c': 1, butanol: 1})"
   ]
  },
  {
   "cell_type": "code",
   "execution_count": null,
   "metadata": {},
   "outputs": [],
   "source": [
    "# TODO look at reversiblilty\n",
    "# TODO look at whether we need to put custom enzymes in\n",
    "# STEP 0 2 accoa_c -> aacoa_c + coa_c via atoB\n",
    "model.reactions.ACACT1r\n",
    "# STEP 1 aacoa_c + h_c + nadh_c -> nad_c + 3hbcoa_c via Hbd1\n",
    "model.reactions.HACD1\n",
    "# STEP 2 3hbcoa_c => b2coa_c + h2o_c via Crt\n",
    "model.reactions.ECOAH1\n",
    "# TODO: Change from fad_c to nad_c \n",
    "# STEP 3 b2coa_c + fadh2_c <=> btcoa_c + fad_c via Ter\n",
    "model.reactions.ACOAD1f\n",
    "# STEP 4 btcoa_c + h_c + nadh_c => nad_c + btal_c via adhE (b1241)\n",
    "model.reactions.ALCDBUT\n",
    "# STEP 5 btal_c + h_c + nadh_c => nad_c + btol_c via adhE\n",
    "model.reactions.BUTSYN"
   ]
  },
  {
   "cell_type": "code",
   "execution_count": null,
   "metadata": {},
   "outputs": [],
   "source": [
    "def opt(model):\n",
    "    with model:\n",
    "        if not ('DM_btol_c' in model.reactions):\n",
    "            model.add_boundary(model.metabolites.btol_c, type='demand')\n",
    "        model.objective = model.reactions.DM_btol_c\n",
    "        obj = model.optimize()\n",
    "        print obj.objective_value\n",
    "        print model.summary()"
   ]
  },
  {
   "cell_type": "code",
   "execution_count": null,
   "metadata": {},
   "outputs": [],
   "source": [
    "opt(model)"
   ]
  },
  {
   "cell_type": "code",
   "execution_count": null,
   "metadata": {},
   "outputs": [],
   "source": [
    "def convert_cmpts(model, metab, from_cmpt='c', to_cmpt='e'):\n",
    "    if type(metab) is cobra.Metabolite:\n",
    "        metab = metab.id.rsplit('_', 1)[0]\n",
    "    metab_name = metab + '_{0}'.format(to_cmpt)\n",
    "    try:\n",
    "        metab_cnvrt = model.metabolites.get_by_id(metab_name)\n",
    "    except KeyError:\n",
    "        metab_cnvrt = model.metabolites.get_by_id(metab + '_{0}'.format(from_cmpt)).copy()\n",
    "        metab_cnvrt.id, metab_cnvrt.compartment = metab_name, to_cmpt\n",
    "    return metab_cnvrt"
   ]
  },
  {
   "cell_type": "code",
   "execution_count": null,
   "metadata": {},
   "outputs": [],
   "source": [
    "model.reactions.query(lambda x: med_met in x.metabolites and x.boundary)"
   ]
  },
  {
   "cell_type": "code",
   "execution_count": null,
   "metadata": {},
   "outputs": [],
   "source": [
    "def remove_exs(model):\n",
    "    model_no_ex = model.copy()\n",
    "    model_no_ex.remove_reactions(reactions=model_no_ex.exchanges)\n",
    "    return model_no_ex\n",
    "model_no_ex = remove_exs(model)"
   ]
  },
  {
   "cell_type": "code",
   "execution_count": null,
   "metadata": {},
   "outputs": [],
   "source": [
    "def add_ex(model, metab_dict, additive=False):\n",
    "    rxn_dict = {}\n",
    "    for med_met, conc in metab_dict.items():\n",
    "        if conc < 0:\n",
    "            ty = 'exchange'\n",
    "            ty_name = 'EX'\n",
    "        else:\n",
    "            ty = 'demand'\n",
    "            ty_name = 'DM'\n",
    "        rxn_nm = '{0}_'.format(ty_name) + med_met.id\n",
    "        if rxn_nm in model.reactions:\n",
    "            rxn = model.reactions.get_by_id(rxn_nm)\n",
    "            if additive:\n",
    "                rxn.lower_bound = conc + rxn.lower_bound\n",
    "            #    conc += rxn.upper_bound\n",
    "            #    model.reactions.remove(rxn)\n",
    "            #    model.add_boundary(metabolite=med_met, type='exchange', lb=conc)\n",
    "            else:\n",
    "                rxn.lower_bound = conc\n",
    "        else:\n",
    "            model.add_boundary(metabolite=med_met, type='medium-diff', reaction_id=rxn_nm, lb=conc, ub=1000)\n",
    "        rxn_dict[model.reactions.get_by_id(rxn_nm)] = conc\n",
    "        #print model.reactions.get_by_id(rxn_nm).upper_bound\n",
    "    return rxn_dict"
   ]
  },
  {
   "cell_type": "code",
   "execution_count": null,
   "metadata": {},
   "outputs": [],
   "source": [
    "def gen_metab_dict(model, metab_nms, metab_vals=None, cnvt=True, from_cmpt='c', to_cmpt='e'):\n",
    "    metabs = []\n",
    "    for metab_nm in metab_nms:\n",
    "        if cnvt:\n",
    "            metab = convert_cmpts(model, metab_nm, from_cmpt, to_cmpt)\n",
    "        else:\n",
    "            metab = metab_nm\n",
    "        metabs.append(metab)\n",
    "    if not metab_vals:\n",
    "        metab_vals = [0] * len(metabs)\n",
    "    metab_conc = dict(zip(metabs, metab_vals))\n",
    "    return metab_conc"
   ]
  },
  {
   "cell_type": "code",
   "execution_count": null,
   "metadata": {},
   "outputs": [],
   "source": [
    "def ecoli_to_cf(mod):\n",
    "    # Delete transmembrane transport reactions\n",
    "    \"\"\"model = mod.copy()\n",
    "    to_delete = []\n",
    "    for rxn in model.reactions:\n",
    "        if ('c' in rxn.compartments and 'p' in rxn.compartments) or \\\n",
    "            ('e' in rxn.compartments and 'p' in rxn.compartments):\n",
    "            to_delete.append(rxn)\n",
    "    model.remove_reactions(to_delete, remove_orphans=True)\n",
    "    \n",
    "    # Move periplasmic reactions to cytosol\n",
    "    peri_rxns = set()\n",
    "    peri_metabs = model.metabolites.query(attribute=\"compartment\", search_function=\"p\")\n",
    "    peri_cyt_metab_map = {}\n",
    "    for peri_metab in peri_metabs:\n",
    "        for rxn in peri_metab.reactions:\n",
    "            peri_rxns.add(rxn)\n",
    "        cyt_metab = convert_cmpts(model, peri_metab, from_cmpt='p', to_cmpt='c')\n",
    "        peri_cyt_metab_map[peri_metab] = cyt_metab\n",
    "        \n",
    "    for peri_rxn in peri_rxns:\n",
    "        peri_rxn.compartments.clear()\n",
    "        peri_rxn.compartments.update(set('c'))\n",
    "        peri_rxn_metabs = peri_rxn.metabolites\n",
    "        coeffs = peri_rxn.get_coefficients(peri_rxn_metabs)\n",
    "        peri_rxn.subtract_metabolites(dict(zip(peri_rxn_metabs, coeffs)))\n",
    "        peri_rxn.add_metabolites(dict(zip(map(lambda x: peri_cyt_metab_map[x], peri_rxn_metabs), coeffs)))\n",
    "            \n",
    "    model.remove_metabolites(metabolite_list=peri_metabs)\"\"\"\n",
    "    \n",
    "    # Add exchange reactions for all metabolites\n",
    "    # Exchange‐reactions for non‐substrate metabolites have lb of 0 and ub of 1000 by default\n",
    "    #non_sub = set(model.metabolites) - set(map(lambda x: model.reactions.get_by_id(x).metabolites.popitem()[0], model.medium.keys()))\n",
    "    all_metab_ex = gen_metab_dict(model, model.metabolites, cnvt=False)\n",
    "    # Exchange reactions for substrates get negative bounds to allow them to enter system\n",
    "    # Normal medium substrates maintain their lower bounds (effectively unlimited for water, protons -- TODO: check assumption)\n",
    "    #media = {}\n",
    "    #for rxn_nm in model.medium:\n",
    "    #    rxn = model.reactions.get_by_id(rxn_nm)\n",
    "    #    media[rxn.metabolites.popitem()[0]] = rxn.lower_bound\n",
    "    # TODO: ensure no duplicates\n",
    "    #crucial = {model.metabolites.h2o_e: -1000, model.metabolites.o2_e: -1000}\n",
    "    #all_metab_ex.update(crucial)\n",
    "\n",
    "    add_ex(model, all_metab_ex)\n",
    "    model.remove_reactions(['EX_glc_e', 'EX_pi_e', 'EX_mg2_e', 'EX_k_e', 'EX_mg2_e', 'EX_nh4_e'])\n",
    "\n",
    "    # As objective function, we selected the exchange reaction which corresponds to the target metabolite \n",
    "    # for which a pathway should be determined.   \n",
    "    return model\n",
    "\n",
    "model_cf = ecoli_to_cf(model)"
   ]
  },
  {
   "cell_type": "code",
   "execution_count": null,
   "metadata": {},
   "outputs": [],
   "source": [
    "s = 0\n",
    "for rxn_nm in model_cf.medium:\n",
    "    rxn = model_cf.reactions.get_by_id(rxn_nm)\n",
    "    if rxn.lower_bound < 0:\n",
    "        s += 1\n",
    "print s"
   ]
  },
  {
   "cell_type": "code",
   "execution_count": null,
   "metadata": {},
   "outputs": [],
   "source": [
    "# Based on MetaboTools\n",
    "# flux = metConc/(cellConc*cellWeight*t*1000);\n",
    "# cellConc: 10 mg/ml\n",
    "# cellWeight: 500 * (10 ** -11)\n",
    "# t = 24\n",
    "# t: Experiment duration\n",
    "def conc_to_flux(metab_conc, t=24):\n",
    "    # Taken from MetaboTools, units are gDW/cell\n",
    "    #cell_weight = 500 * (10 ** -11)\n",
    "    # We have 10 mg/ml\n",
    "    # need cells / ml\n",
    "    cell_conc = 10 * (1/ 1000.0) #* (1 / cell_weight)\n",
    "    flux = metab_conc / (cell_conc * t * 1000.0)\n",
    "    return flux"
   ]
  },
  {
   "cell_type": "code",
   "execution_count": null,
   "metadata": {},
   "outputs": [],
   "source": [
    "def build_medium(mod):\n",
    "    model = mod.copy()\n",
    "    # 20 flux is 20 mol/min/gDW\n",
    "    # in mM\n",
    "    aa_conc = -1 * conc_to_flux(2)\n",
    "    trna_conc = -1 * conc_to_flux(0.17)\n",
    "    metab_conc = map(lambda x: conc_to_flux(x) * -1, [1.2, 0.85, 0.85, 0.85, 0.33, 0.27, 1.50, 1.00, 130, 10, 12, 0.33])\n",
    "    print metab_conc\n",
    "    # TODO: map from conc to exchange fluxes\n",
    "    \n",
    "    import Bio.PDB.Polypeptide\n",
    "    aas = map(lambda x: x.lower(), Bio.PDB.Polypeptide.aa3)\n",
    "    aa_concs = {}\n",
    "    for aa in aas:\n",
    "        l_aa, d_aa = None, None\n",
    "        try:\n",
    "            l_aa = convert_cmpts(model, model.metabolites.get_by_id(aa + '__L_c'), from_cmpt='c', to_cmpt='e')\n",
    "            d_aa = convert_cmpts(model, model.metabolites.get_by_id(aa + '__D_c'), from_cmpt='c', to_cmpt='e')\n",
    "        except KeyError:\n",
    "            if aa == 'gly':\n",
    "                l_aa = convert_cmpts(model, model.metabolites.get_by_id(aa + '_c'), from_cmpt='c', to_cmpt='e')\n",
    "        if d_aa:\n",
    "            aa_concs[l_aa] = aa_conc / 2.0\n",
    "            aa_concs[d_aa] = aa_conc / 2.0\n",
    "        else:\n",
    "            aa_concs[l_aa] = aa_conc\n",
    "            \n",
    "    trna_concs = {convert_cmpts(model, trna_metab, from_cmpt='c', to_cmpt='e') : trna_conc for trna_metab in model.metabolites.query('trna')}\n",
    "    \n",
    "    metab_nms = ['atp', 'gtp', 'utp', 'ctp', 'nad', 'coa', 'spmd', 'ptrc', 'k', 'nh4', 'mg2', 'pep']\n",
    "    metab_concs = gen_metab_dict(model, metab_nms, metab_conc)\n",
    "        \n",
    "    # Not included: RNAP & Folinic Acid & cell extract\n",
    "    base_medium = {}\n",
    "    base_medium.update(add_ex(model, metab_concs))\n",
    "    base_medium.update(add_ex(model, aa_concs))\n",
    "    base_medium.update(add_ex(model, trna_concs))\n",
    "    \n",
    "    #model.medium = base_medium\n",
    "    return model\n",
    "model_cf_med = build_medium(model_cf)"
   ]
  },
  {
   "cell_type": "code",
   "execution_count": null,
   "metadata": {},
   "outputs": [],
   "source": [
    "opt(model_cf_med)"
   ]
  },
  {
   "cell_type": "code",
   "execution_count": null,
   "metadata": {},
   "outputs": [],
   "source": [
    "alc_dehydr = cobra.Reaction(id='ALCDBUT', name='Alcohol dehydrogenase (butanal)', subsystem='c')\n",
    "model.add_reaction(alc_dehydr)\n",
    "alc_dehydr.add_metabolites({'btcoa_c': -1, 'h_c': -1, 'nadh_c': -1, 'nad_c': 1, 'btal_c': 1})\n",
    "\n",
    "butanol = cobra.Metabolite(id='btol_c', name='1-butanol', compartment='c', charge=0, formula='C4H9OH')\n",
    "but_synth = cobra.Reaction(id='BUTSYN', name='Butanol synthesis', subsystem='c')\n",
    "model.add_reaction(but_synth)\n",
    "but_synth.add_metabolites({'btal_c': -1, 'h_c': -1, 'nadh_c': -1, 'nad_c': 1, butanol: 1})"
   ]
  },
  {
   "cell_type": "code",
   "execution_count": null,
   "metadata": {},
   "outputs": [],
   "source": [
    "if (not 'DM_btol_c' in mt.reactions):\n",
    "    mt.add_boundary(metabolite=mt.metabolites.btol_c, type='demand')\n",
    "mt.objective = mt.reactions.DM_btol_c\n",
    "mt.optimize()\n",
    "mt.summary()"
   ]
  },
  {
   "cell_type": "code",
   "execution_count": null,
   "metadata": {},
   "outputs": [],
   "source": [
    "mt.summary(fva=0.95)"
   ]
  },
  {
   "cell_type": "code",
   "execution_count": null,
   "metadata": {},
   "outputs": [],
   "source": [
    "for r in mt.reactions:\n",
    "    if r.flux > 0.01:\n",
    "        print r.flux, r.compartments"
   ]
  },
  {
   "cell_type": "code",
   "execution_count": null,
   "metadata": {},
   "outputs": [],
   "source": [
    "df = pd.read_csv('./code/Karim_MetEng_2018_Figure2_Data.csv')\n",
    "df.drop(columns=['Area_1', 'Area_2', 'Conc_1', 'Conc_2'], inplace=True)\n",
    "df.head()"
   ]
  },
  {
   "cell_type": "code",
   "execution_count": null,
   "metadata": {
    "scrolled": false
   },
   "outputs": [],
   "source": [
    "addl_reagent_nms = ['mg2', 'nh4', 'k', 'glc__D', 'pi', 'nad', 'atp', 'coa']\n",
    "for i, row in df.iterrows():\n",
    "    if i != 4:\n",
    "        continue\n",
    "    print row\n",
    "    with model_cf_med as mod:\n",
    "        metab_dict = gen_metab_dict(mod, addl_reagent_nms, map(lambda x: -1 * conc_to_flux(x), row[4:]))\n",
    "        #print metab_dict\n",
    "        rxn = add_ex(mod, metab_dict, additive=True)\n",
    "        if (not 'DM_btol_c' in mod.reactions):\n",
    "            mod.add_boundary(metabolite=mod.metabolites.btol_c, type='demand')\n",
    "        mod.objective = mod.reactions.DM_btol_c\n",
    "        #mod.objective = {model_cf_med.reactions.Ec_biomass_iJO1366_core_53p95M: 1, model_cf_med.reactions.DM_btol_c: 1}\n",
    "        #print mod.medium\n",
    "        try:\n",
    "            #sol = gapfill(mod, model, demand_reactions=False)\n",
    "            print sol[0]\n",
    "        except:\n",
    "            print 'Fail'\n",
    "        #mod.add_reactions(reaction_list=sol[0])\n",
    "        obj = mod.optimize()\n",
    "        print 'Obj: {0}'.format(obj.objective_value)\n",
    "        #print mod.summary()\n",
    "        #print mod.medium\n",
    "        prod_env = production_envelope(mod, 'DM_btol_c')\n",
    "        #prod_env = production_envelope(mod, map(lambda x: \"EX_{0}_e\".format(x), addl_reagent_nms))\n",
    "        prod_env.head()\n",
    "        if i >= 0:\n",
    "            break\n",
    "#mod.medium"
   ]
  },
  {
   "cell_type": "raw",
   "metadata": {},
   "source": [
    "E. coli BL21(DE3) cells (see Supplementary Table 1 for strains)\n",
    "were grown in 2  YTPG media (16 g l\u00011 tryptone, 10 g l\u00011 yeast\n",
    "extract, 5 g l\u00011 NaCl, 7 g l\u00011 potassium phosphate monobasic,\n",
    "3gl\u00011 potassium phosphate dibasic, 18 g l\u00011 glucose)."
   ]
  },
  {
   "cell_type": "raw",
   "metadata": {},
   "source": [
    " ATP (1.2 mM); GTP,\n",
    "UTP, and CTP (0.85 mM each); folinic acid (34.0 μg ml\u00011\n",
    "); E. coli\n",
    "tRNA mixture (170.0 μg/ml\n",
    "); T7 RNA polymerase (100 μg/ml\n",
    ");\n",
    "20 standard amino acids (2 mM each); nicotinamide adenine\n",
    "dinucleotide (NAD; 0.33 mm); coenzyme-A (0.27 mM); spermidine\n",
    "(1.5 mM); putrescine (1 mM); potassium glutamate\n",
    "(130 mM); ammonium glutamate (10 mM); magnesium glutamate\n",
    "(12 mM); phosphoenolpyruvate (PEP; 33 mM), and cell extract\n",
    "(10 mg ml\u00011\n",
    ").\n",
    " plasmid was added at \u000413.3 or\n",
    "\u000426.6 mg ml\u00011\n",
    "n-butanol production portion of the reaction\n",
    "was initiated by spiking in glucose (200 mM) and additional\n",
    "reagents (NAD, CoA) "
   ]
  },
  {
   "cell_type": "raw",
   "metadata": {},
   "source": [
    "\"\"\"    atp_e: 120,\n",
    "    gtp_e: 85,\n",
    "    utp_e: 85,\n",
    "    ctp_e: 85,\n",
    "    nad_e: 33,\n",
    "    coa_e: 27,\n",
    "    spmd_e: 150,\n",
    "    ptrc_e: 100,\n",
    "    k_e: 13000,\n",
    "    nh4_e: 1000,\n",
    "    mg2_e: 1200,\n",
    "    pep_e: 33\"\"\""
   ]
  },
  {
   "cell_type": "code",
   "execution_count": null,
   "metadata": {},
   "outputs": [],
   "source": [
    "model.exchanges"
   ]
  },
  {
   "cell_type": "code",
   "execution_count": null,
   "metadata": {
    "scrolled": false
   },
   "outputs": [],
   "source": [
    "addl_reagent_nms = ['mg2', 'nh4', 'k', 'glc', 'pi', 'nad', 'atp', 'coa']\n",
    "with model_med as mod:\n",
    "    for i, row in df.iterrows():\n",
    "        metab_dict = gen_metab_dict(mod, addl_reagent_nms, map(lambda x: (x * 100) + 0.001, row[4:]))\n",
    "        #print metab_dict\n",
    "        rxn = add_ex(mod, metab_dict, additive=True)\n",
    "        #print mod.medium\n",
    "        try:\n",
    "            sol = gapfill(mod, model, demand_reactions=False)\n",
    "        except:\n",
    "            print 'Fail'\n",
    "            pass\n",
    "        print sol[0]\n",
    "        #mod.add_reactions(reaction_list=sol[0])\n",
    "        obj = mod.optimize()\n",
    "        print 'Obj: {0}'.format(obj.objective_value)\n",
    "        mod.repair()\n",
    "        if i >= 5:\n",
    "            break"
   ]
  },
  {
   "cell_type": "code",
   "execution_count": null,
   "metadata": {},
   "outputs": [],
   "source": [
    "model_med.add_reactions(reaction_list=[model.reactions.EX_pi_e, model.reactions.EX_pyr_e])"
   ]
  },
  {
   "cell_type": "code",
   "execution_count": null,
   "metadata": {},
   "outputs": [],
   "source": [
    "model_med.remove_reactions([model.reactions.EX_pi_e, model.reactions.EX_pyr_e])"
   ]
  },
  {
   "cell_type": "code",
   "execution_count": null,
   "metadata": {},
   "outputs": [],
   "source": [
    "from cobra.flux_analysis import gapfill\n",
    "sol = gapfill(model_med, model, demand_reactions=False)\n",
    "model_med.add_reactions(reaction_list=sol[0])\n",
    "sol[0]"
   ]
  },
  {
   "cell_type": "code",
   "execution_count": null,
   "metadata": {},
   "outputs": [],
   "source": [
    "if not ('DM_btol_c' in model_med.reactions):\n",
    "    model_med.add_boundary(model_med.metabolites.btol_c, type='demand')\n",
    "model_med.objective = model_med.reactions.DM_btol_c\n",
    "obj = model_med.optimize()\n",
    "obj.objective_value"
   ]
  },
  {
   "cell_type": "code",
   "execution_count": null,
   "metadata": {},
   "outputs": [],
   "source": [
    "model_med.summary()"
   ]
  },
  {
   "cell_type": "code",
   "execution_count": null,
   "metadata": {},
   "outputs": [],
   "source": [
    "df = pd.read_csv('./code/Karim_MetEng_2018_Figure2_Data.csv')\n",
    "df.drop(columns=['Area_1', 'Area_2', 'Conc_1', 'Conc_2'], inplace=True)\n",
    "df.head()"
   ]
  },
  {
   "cell_type": "code",
   "execution_count": null,
   "metadata": {},
   "outputs": [],
   "source": [
    "df.values[0][4:].tolist()"
   ]
  },
  {
   "cell_type": "code",
   "execution_count": null,
   "metadata": {},
   "outputs": [],
   "source": [
    "opt(model)"
   ]
  },
  {
   "cell_type": "code",
   "execution_count": null,
   "metadata": {},
   "outputs": [],
   "source": [
    "model_e.reactions.EX_glc_e"
   ]
  },
  {
   "cell_type": "code",
   "execution_count": null,
   "metadata": {},
   "outputs": [],
   "source": [
    "model_e.medium"
   ]
  },
  {
   "cell_type": "code",
   "execution_count": null,
   "metadata": {},
   "outputs": [],
   "source": [
    "from cobra.flux_analysis.deletion import single_reaction_deletion\n",
    "addl_reagent_nms = ['mg2', 'nh4', 'k', 'glc', 'pi', 'nad', 'atp', 'coa']\n",
    "with model_e as mod:\n",
    "    for i, row in df.iterrows():\n",
    "        metab_dict = gen_metab_dict(mod, addl_reagent_nms, map(lambda x: (x * 100) + 0.001, row[4:]))\n",
    "        #print metab_dict\n",
    "        rxn = add_ex(mod, metab_dict, additive=False)\n",
    "        print mod.medium\n",
    "        try:\n",
    "            pass\n",
    "            #sol = gapfill(mod, model, demand_reactions=False)\n",
    "        except:\n",
    "            print 'Fail'\n",
    "            pass\n",
    "        #print sol[0]\n",
    "        #mod.add_reactions(reaction_list=sol[0])\n",
    "        obj = mod.optimize()\n",
    "        print 'Obj: {0}'.format(obj.objective_value)\n",
    "        if i >= 5:\n",
    "            break"
   ]
  },
  {
   "cell_type": "code",
   "execution_count": null,
   "metadata": {},
   "outputs": [],
   "source": [
    "delete_df[delete_df['growth'] < 1.790350]"
   ]
  },
  {
   "cell_type": "code",
   "execution_count": null,
   "metadata": {},
   "outputs": [],
   "source": [
    "biomass = model_e.reactions.get_by_id('Ec_biomass_iJO1366_core_53p95M')"
   ]
  },
  {
   "cell_type": "code",
   "execution_count": null,
   "metadata": {
    "scrolled": true
   },
   "outputs": [],
   "source": [
    "biomass.reactants"
   ]
  },
  {
   "cell_type": "code",
   "execution_count": null,
   "metadata": {},
   "outputs": [],
   "source": [
    "biomass.products"
   ]
  },
  {
   "cell_type": "code",
   "execution_count": null,
   "metadata": {},
   "outputs": [],
   "source": [
    "biomass"
   ]
  },
  {
   "cell_type": "code",
   "execution_count": null,
   "metadata": {},
   "outputs": [],
   "source": [
    "import escher\n",
    "import escher.urls"
   ]
  },
  {
   "cell_type": "code",
   "execution_count": null,
   "metadata": {},
   "outputs": [],
   "source": [
    "escher.list_available_models()"
   ]
  },
  {
   "cell_type": "code",
   "execution_count": null,
   "metadata": {},
   "outputs": [],
   "source": [
    "print escher.list_available_maps()\n",
    "d = escher.urls.root_directory\n",
    "print('Escher directory: %s' % d)"
   ]
  },
  {
   "cell_type": "code",
   "execution_count": null,
   "metadata": {},
   "outputs": [],
   "source": [
    "json_repr = cobra.io.to_json(model_e)"
   ]
  },
  {
   "cell_type": "code",
   "execution_count": null,
   "metadata": {},
   "outputs": [],
   "source": [
    "b = escher.Builder(model_json=json_repr, reaction_data=sol.fluxes.to_dict())\n",
    "#b = escher.Builder(map_name='e_coli_core.Core metabolism', reaction_data=sol.fluxes.to_dict())\n",
    "b.display_in_notebook()"
   ]
  },
  {
   "cell_type": "code",
   "execution_count": null,
   "metadata": {},
   "outputs": [],
   "source": [
    "b = escher.Builder(map_name='e_coli_core.Core metabolism',\n",
    "                   reaction_data=solution.x_dict,\n",
    "                   # change the default colors\n",
    "                   reaction_scale=[{'type': 'min', 'color': '#cccccc', 'size': 4},\n",
    "                                   {'type': 'mean', 'color': '#0000dd', 'size': 20},\n",
    "                                   {'type': 'max', 'color': '#ff0000', 'size': 40}],\n",
    "                   # only show the primary metabolites\n",
    "                   hide_secondary_metabolites=True)\n",
    "b.display_in_notebook(js_source='local')"
   ]
  },
  {
   "cell_type": "code",
   "execution_count": null,
   "metadata": {},
   "outputs": [],
   "source": [
    "import Bio.KEGG as bk\n",
    "from Bio.KEGG import REST\n",
    "path = REST.kegg_find('PATHWAY', 'n-butanol')\n",
    "path.readlines()"
   ]
  },
  {
   "cell_type": "code",
   "execution_count": null,
   "metadata": {},
   "outputs": [],
   "source": [
    "re.match()"
   ]
  },
  {
   "cell_type": "code",
   "execution_count": null,
   "metadata": {},
   "outputs": [],
   "source": [
    "rx = re.compile(r'^(?!.*(transport)).*$', re.IGNORECASE)"
   ]
  },
  {
   "cell_type": "code",
   "execution_count": null,
   "metadata": {},
   "outputs": [],
   "source": [
    "rx = re.compile(r'^(?!.*(transport|exchange|flippase|sink)).*$', re.IGNORECASE)\n",
    "non_trans = eco.reactions.query(attribute='name', search_function=rx)\n",
    "len(non_trans)"
   ]
  },
  {
   "cell_type": "code",
   "execution_count": null,
   "metadata": {},
   "outputs": [],
   "source": [
    "i = 0\n",
    "t = set()\n",
    "for react in eco.reactions:\n",
    "    if (react.name.find('transport') == -1 and react.subsystem.find('Transport') == -1 and react.name.find('exchange') == -1 and react.name.find('flippase') == -1  and react.name.find('Sink') == -1):\n",
    "        i += 1\n",
    "        t.add(react)\n",
    "i"
   ]
  },
  {
   "cell_type": "code",
   "execution_count": null,
   "metadata": {},
   "outputs": [],
   "source": [
    "from cobra import Model\n",
    "import copy\n",
    "eco = model_e.copy()\n",
    "new_model = Model('new_model')\n",
    "\n",
    "print(\"Adding compartment 'a' for 'all'...\")\n",
    "new_model.compartments['a'] = 'all'\n",
    "\n",
    "#Adding all metabolites from existing model removing duplications\n",
    "print(\"Adding all metabolites from existing model removing duplications...\")\n",
    "for x in eco.metabolites:\n",
    "    dup = False\n",
    "    for y in new_model.metabolites:\n",
    "        if x.id[:-2] == y.id:\n",
    "            dup = True\n",
    "            break\n",
    "    if dup == False:\n",
    "        met = copy.deepcopy(x)\n",
    "        met.id = met.id[:-2]+'_a'\n",
    "        met.compartment = 'a'\n",
    "        new_model.add_metabolites({met})\n",
    "\n",
    "#Adding all reactions excluding transport, exchange, flippase, sink\n",
    "print(\"Adding all reactions excluding transport, exchange, flippase, sink...\")\n",
    "rx = re.compile(r'^(?!.*(transport|exchange|flippase|sink)).*$', re.IGNORECASE)\n",
    "non_trans = eco.reactions.query(attribute='name', search_function=rx)\n",
    "for react in non_trans:\n",
    "    for x in react.reactants:\n",
    "        n = x.id[:-2]+'_a'\n",
    "        if not new_model.metabolites.get_by_id(n):\n",
    "            x.id = x.id[:-2]+'_a'\n",
    "    for x in react.products:\n",
    "        n = x.id[:-2]+'_a'\n",
    "        if not new_model.metabolites.get_by_id(n):\n",
    "            x.id = x.id[:-2]+'_a'\n",
    "    new_model.add_reaction(react)\n",
    "print(\"Number of reactions in new_model\",len(new_model.reactions))\n",
    "\n",
    "#removing all reactions that are dupliates\n",
    "print(\"Removing all duplicate reactions...\")\n",
    "for react in new_model.reactions:\n",
    "    for y in new_model.reactions:\n",
    "        if react.reaction == y.reaction and react.name != y.name:\n",
    "            y.delete()\n",
    "print(\"Number of reactions after deleting duplicates: \",len(new_model.reactions))\n",
    "\n",
    "\n",
    "# adding necessary metabolites and reactions for biosensor project\n",
    "print(\"Adding necessary metabolites and reactions for biosensor project...\")"
   ]
  },
  {
   "cell_type": "code",
   "execution_count": null,
   "metadata": {},
   "outputs": [],
   "source": [
    "alc_dehydr_a = cobra.Reaction(id='ALCDBUT', name='Alcohol dehydrogenase (butanal)', subsystem='a')\n",
    "new_model.add_reaction(alc_dehydr_a)\n",
    "alc_dehydr_a.add_metabolites({'btcoa_a': -1, 'h_a': -1, 'nadh_a': -1, 'nad_a': 1, 'btal_a': 1})\n",
    "\n",
    "butanol_a = cobra.Metabolite(id='btol_a', name='1-butanol', compartment='a', charge=0, formula='C4H9OH')\n",
    "but_synth_a = cobra.Reaction(id='BUTSYN', name='Butanol synthesis', subsystem='a')\n",
    "new_model.add_reaction(but_synth_a)\n",
    "but_synth_a.add_metabolites({'btal_a': -1, 'h_a': -1, 'nadh_a': -1, 'nad_a': 1, butanol: 1})\n",
    "\n",
    "new_model.add_boundary(new_model.metabolites.btol_a, type='demand')"
   ]
  },
  {
   "cell_type": "code",
   "execution_count": null,
   "metadata": {},
   "outputs": [],
   "source": [
    "new_model.metabolites.bto"
   ]
  },
  {
   "cell_type": "code",
   "execution_count": null,
   "metadata": {},
   "outputs": [],
   "source": [
    "new_model.objective = new_model.reaction.DM_btol_a\n",
    "new_model.optimize()\n",
    "new_model.summary()"
   ]
  },
  {
   "cell_type": "code",
   "execution_count": null,
   "metadata": {},
   "outputs": [],
   "source": [
    "m = cobra.io.load_json_model(filename='./code/varner.json')"
   ]
  },
  {
   "cell_type": "code",
   "execution_count": null,
   "metadata": {},
   "outputs": [],
   "source": [
    "m.metabolites.M_h_c_exchange_reverse"
   ]
  },
  {
   "cell_type": "code",
   "execution_count": null,
   "metadata": {},
   "outputs": [],
   "source": [
    "m.reactions.M_h_c_exchange_reverse"
   ]
  },
  {
   "cell_type": "code",
   "execution_count": null,
   "metadata": {},
   "outputs": [],
   "source": [
    "m.objective = m.reactions.but_export"
   ]
  },
  {
   "cell_type": "code",
   "execution_count": null,
   "metadata": {},
   "outputs": [],
   "source": [
    "m.objective.expression"
   ]
  },
  {
   "cell_type": "code",
   "execution_count": null,
   "metadata": {},
   "outputs": [],
   "source": [
    "help(m.problem.Model)"
   ]
  },
  {
   "cell_type": "code",
   "execution_count": null,
   "metadata": {},
   "outputs": [],
   "source": [
    "m.problem.glp_write_lp(m.problem.Model, None, './code/py_prob.cplx')"
   ]
  },
  {
   "cell_type": "code",
   "execution_count": null,
   "metadata": {},
   "outputs": [],
   "source": [
    "import swiglpk\n",
    "prob = swiglpk.glp_create_prob()"
   ]
  },
  {
   "cell_type": "code",
   "execution_count": null,
   "metadata": {},
   "outputs": [],
   "source": [
    "swiglpk.glp_read_lp(prob, None, './code/Sequence-Specific-FBA-CFPS-Publication-Code/Model/prob.cplx')"
   ]
  },
  {
   "cell_type": "code",
   "execution_count": null,
   "metadata": {},
   "outputs": [],
   "source": [
    "prob."
   ]
  },
  {
   "cell_type": "code",
   "execution_count": null,
   "metadata": {},
   "outputs": [],
   "source": [
    "import optlang\n",
    "from optlang import glpk_interface\n",
    "optlang_prob = optlang.glpk_interface.glp_create_prob()"
   ]
  },
  {
   "cell_type": "code",
   "execution_count": null,
   "metadata": {},
   "outputs": [],
   "source": [
    "optlang.glpk_interface.glp_read_lp(optlang_prob, None, './code/Sequence-Specific-FBA-CFPS-Publication-Code/Model/prob.cplx')"
   ]
  },
  {
   "cell_type": "code",
   "execution_count": null,
   "metadata": {},
   "outputs": [],
   "source": [
    "opt_mod = glpk_interface.Model(problem=optlang_prob)"
   ]
  },
  {
   "cell_type": "code",
   "execution_count": null,
   "metadata": {},
   "outputs": [],
   "source": [
    "opt_mod.optimize()"
   ]
  },
  {
   "cell_type": "code",
   "execution_count": null,
   "metadata": {},
   "outputs": [],
   "source": [
    "opt_mod.primal_values"
   ]
  },
  {
   "cell_type": "code",
   "execution_count": null,
   "metadata": {},
   "outputs": [],
   "source": [
    "import json"
   ]
  },
  {
   "cell_type": "code",
   "execution_count": null,
   "metadata": {},
   "outputs": [],
   "source": [
    "js = json.loads(cobra.io.to_json(model))"
   ]
  },
  {
   "cell_type": "code",
   "execution_count": null,
   "metadata": {},
   "outputs": [],
   "source": [
    "js.keys()"
   ]
  },
  {
   "cell_type": "code",
   "execution_count": null,
   "metadata": {},
   "outputs": [],
   "source": [
    "js['version']"
   ]
  },
  {
   "cell_type": "code",
   "execution_count": null,
   "metadata": {},
   "outputs": [],
   "source": [
    "js['metabolites'][0]"
   ]
  },
  {
   "cell_type": "code",
   "execution_count": null,
   "metadata": {},
   "outputs": [],
   "source": [
    "js['reactions']"
   ]
  },
  {
   "cell_type": "code",
   "execution_count": null,
   "metadata": {},
   "outputs": [],
   "source": [
    "js['compartments']"
   ]
  },
  {
   "cell_type": "code",
   "execution_count": null,
   "metadata": {},
   "outputs": [],
   "source": [
    "model.reactions.CDAPPA160"
   ]
  },
  {
   "cell_type": "code",
   "execution_count": null,
   "metadata": {},
   "outputs": [],
   "source": [
    "mod_simp = cobra.test.create_test_model('textbook')"
   ]
  },
  {
   "cell_type": "code",
   "execution_count": null,
   "metadata": {},
   "outputs": [],
   "source": [
    "mod_simp"
   ]
  },
  {
   "cell_type": "code",
   "execution_count": null,
   "metadata": {},
   "outputs": [],
   "source": []
  }
 ],
 "metadata": {
  "kernelspec": {
   "display_name": "Python 2",
   "language": "python",
   "name": "python2"
  },
  "language_info": {
   "codemirror_mode": {
    "name": "ipython",
    "version": 2
   },
   "file_extension": ".py",
   "mimetype": "text/x-python",
   "name": "python",
   "nbconvert_exporter": "python",
   "pygments_lexer": "ipython2",
   "version": "2.7.5"
  }
 },
 "nbformat": 4,
 "nbformat_minor": 2
}
