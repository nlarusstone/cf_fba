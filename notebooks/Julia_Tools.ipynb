{
 "cells": [
  {
   "cell_type": "code",
   "execution_count": null,
   "metadata": {},
   "outputs": [],
   "source": [
    "import re"
   ]
  },
  {
   "cell_type": "code",
   "execution_count": null,
   "metadata": {},
   "outputs": [],
   "source": [
    "#names = ['atoB', 'Hbd1', 'Crt1', 'Ter1', 'adhE1']\n",
    "names = ['rfp']\n",
    "sequences = []\n",
    "for name in names:\n",
    "    with open('../genes/{0}.txt'.format(name.lower()), 'r') as f:\n",
    "        sequences.append(f.read().strip())"
   ]
  },
  {
   "cell_type": "code",
   "execution_count": null,
   "metadata": {},
   "outputs": [],
   "source": [
    "def ouput_transcription_rxns(protein_name, gene_sequence, transcription_template):\n",
    "    nt_cnts = Counter(gene_sequence.upper())\n",
    "    txn_template = transcription_template.replace('<PROTEIN>', protein_name)\n",
    "    for nt in ['A', 'C', 'T', 'G']:\n",
    "        txn_template = txn_template.replace('<NUM_{0}>'.format(nt), str(nt_cnts[nt]))\n",
    "    txn_template = txn_template.replace('<NUM_NT>', str(sum(nt_cnts.values())))\n",
    "    return txn_template\n",
    "\n",
    "def output_translation_rxns(protein_name, gene_sequence, translation_template, aa_sequence=None):\n",
    "    seq = Seq(gene_sequence)\n",
    "    prot_seq = seq.transcribe().translate()\n",
    "    aa_cnts = Counter(prot_seq)\n",
    "    tln_template = translation_template.replace('<PROTEIN>', protein_name)\n",
    "    for aa in Bio.PDB.Polypeptide.aa3:\n",
    "        tln_template = tln_template.replace('<NUM_{0}>'.format(aa), str(aa_cnts[Bio.PDB.Polypeptide.three_to_one(aa)]))\n",
    "    n_aas = sum(aa_cnts.values())\n",
    "    tln_template = tln_template.replace('<NUM_AA>', str(n_aas))\n",
    "    tln_template = tln_template.replace('<2*NUM_AA>', str(2*n_aas))\n",
    "    return tln_template\n",
    "\n",
    "def output_trna_charging_rxns(pathway_name, gene_sequences, trna_charging_template, aa_sequences=None):\n",
    "    aa_cnts = [Counter(Seq(gene_sequence).transcribe().translate()) for gene_sequence in gene_sequences]\n",
    "    aa_tot_cnts = reduce(lambda cntr, acc: cntr + acc, aa_cnts)\n",
    "    trc_template = trna_charging_template.replace('<PATHWAY>', pathway_name)\n",
    "    for aa in Bio.PDB.Polypeptide.aa3:\n",
    "        trc_template = trc_template.replace('<NUM_{0}>'.format(aa), str(aa_tot_cnts[Bio.PDB.Polypeptide.three_to_one(aa)]))\n",
    "    return trc_template"
   ]
  },
  {
   "cell_type": "code",
   "execution_count": null,
   "metadata": {},
   "outputs": [],
   "source": [
    "protein = 'RFP'\n",
    "with open('../3rd_Party_Code/Sequence-Specific-FBA-CFPS-Publication-Code/Template/Reaction_Base.net', 'r') as f_r, open('../3rd_Party_Code/Sequence-Specific-FBA-CFPS-Publication-Code/Template/Reactions_full.net', 'w') as f_w:\n",
    "    for line_raw in f_r.readlines():\n",
    "        line = line_raw.strip()\n",
    "        # Comments\n",
    "        #if re.match(r'^(//|#)', line):\n",
    "        #    continue\n",
    "        # Special lines\n",
    "        if re.match(r'.*<.*', line):\n",
    "            if line.startswith('transcription') or line.startswith('mRNA_degradation'):\n",
    "                out_line = ouput_transcription_rxns(protein, sequences[0], line_raw)\n",
    "            elif line.startswith('translation'):\n",
    "                out_line = output_translation_rxns(protein, sequences[0], line_raw)\n",
    "            elif line.startswith('tRNA_c_charging'):\n",
    "                out_line = output_trna_charging_rxns(protein, sequences, line_raw)\n",
    "            # Protein export\n",
    "            else:\n",
    "                out_line = line_raw.replace('<PROTEIN>', protein)\n",
    "            f_w.write(out_line)\n",
    "        else:\n",
    "            f_w.write(line_raw)"
   ]
  },
  {
   "cell_type": "code",
   "execution_count": null,
   "metadata": {},
   "outputs": [],
   "source": [
    "transcription_template = \"\"\"transcriptional_initiation_<PROTEIN>,GENE_<PROTEIN>+RNAP,OPEN_GENE_<PROTEIN>,0,inf\n",
    "transcription_<PROTEIN>,OPEN_GENE_<PROTEIN>+<NUM_G>*M_gtp_c+<NUM_C>*M_ctp_c+<NUM_T>*M_utp_c+<NUM_A>*M_atp_c+<NUM_NT>*M_h2o_c,mRNA_<PROTEIN>+GENE_<PROTEIN>+RNAP+<NUM_NT>*M_ppi_c,0,inf\n",
    "mRNA_degradation_<PROTEIN>,mRNA_<PROTEIN>,<NUM_G>*M_gmp_c+<NUM_C>*M_cmp_c+<NUM_T>*M_ump_c+<NUM_A>*M_amp_c,0,inf\"\"\""
   ]
  },
  {
   "cell_type": "code",
   "execution_count": null,
   "metadata": {},
   "outputs": [],
   "source": [
    "translation_template = \"\"\"translation_initiation_<PROTEIN>,mRNA_<PROTEIN>+RIBOSOME,RIBOSOME_START_<PROTEIN>,0,inf\n",
    "translation_<PROTEIN>,RIBOSOME_START_<PROTEIN>+<2*NUM_AA>*M_gtp_c+<2*NUM_AA>*M_h2o_c+<NUM_ALA>*M_ala_L_c_tRNA_c+<NUM_ARG>*M_arg_L_c_tRNA_c+<NUM_ASN>*M_asn_L_c_tRNA_c+<NUM_ASP>*M_asp_L_c_tRNA_c+<NUM_CYS>*M_cys_L_c_tRNA_c+<NUM_GLU>*M_glu_L_c_tRNA_c+<NUM_GLN>*M_gln_L_c_tRNA_c+<NUM_GLY>*M_gly_L_c_tRNA_c+<NUM_HIS>*M_his_L_c_tRNA_c+<NUM_ILE>*M_ile_L_c_tRNA_c+<NUM_LEU>*M_leu_L_c_tRNA_c+<NUM_LYS>*M_lys_L_c_tRNA_c+<NUM_MET>*M_met_L_c_tRNA_c+<NUM_PHE>*M_phe_L_c_tRNA_c+<NUM_PRO>*M_pro_L_c_tRNA_c+<NUM_SER>*M_ser_L_c_tRNA_c+<NUM_THR>*M_thr_L_c_tRNA_c+<NUM_TRP>*M_trp_L_c_tRNA_c+<NUM_TYR>*M_tyr_L_c_tRNA_c+<NUM_VAL>*M_val_L_c_tRNA_c,RIBOSOME+mRNA_<PROTEIN>+PROTEIN_<PROTEIN>+<2*NUM_AA>*M_gdp_c+<2*NUM_AA>*M_pi_c+<NUM_AA>*tRNA_c,0,inf\"\"\""
   ]
  },
  {
   "cell_type": "code",
   "execution_count": null,
   "metadata": {},
   "outputs": [],
   "source": [
    "trna_charging_template = \"\"\"tRNA_c_charging_M_ala_L_c_<PATHWAY>,<NUM_ALA>*M_ala_L_c+<NUM_ALA>*M_atp_c+<NUM_ALA>*tRNA_c+<NUM_ALA>*M_h2o_c,<NUM_ALA>*M_ala_L_c_tRNA_c+<NUM_ALA>*M_amp_c+<NUM_ALA>*M_ppi_c,0,inf\n",
    "tRNA_c_charging_M_arg_L_c_<PATHWAY>,<NUM_ARG>*M_arg_L_c+<NUM_ARG>*M_atp_c+<NUM_ARG>*tRNA_c+<NUM_ARG>*M_h2o_c,<NUM_ARG>*M_arg_L_c_tRNA_c+<NUM_ARG>*M_amp_c+<NUM_ARG>*M_ppi_c,0,inf\n",
    "tRNA_c_charging_M_asn_L_c_<PATHWAY>,<NUM_ASN>*M_asn_L_c+<NUM_ASN>*M_atp_c+<NUM_ASN>*tRNA_c+<NUM_ASN>*M_h2o_c,<NUM_ASN>*M_asn_L_c_tRNA_c+<NUM_ASN>*M_amp_c+<NUM_ASN>*M_ppi_c,0,inf\n",
    "tRNA_c_charging_M_asp_L_c_<PATHWAY>,<NUM_ASP>*M_asp_L_c+<NUM_ASP>*M_atp_c+<NUM_ASP>*tRNA_c+<NUM_ASP>*M_h2o_c,<NUM_ASP>*M_asp_L_c_tRNA_c+<NUM_ASP>*M_amp_c+<NUM_ASP>*M_ppi_c,0,inf\n",
    "tRNA_c_charging_M_cys_L_c_<PATHWAY>,<NUM_CYS>*M_cys_L_c+<NUM_CYS>*M_atp_c+<NUM_CYS>*tRNA_c+<NUM_CYS>*M_h2o_c,<NUM_CYS>*M_cys_L_c_tRNA_c+<NUM_CYS>*M_amp_c+<NUM_CYS>*M_ppi_c,0,inf\n",
    "tRNA_c_charging_M_glu_L_c_<PATHWAY>,<NUM_GLU>*M_glu_L_c+<NUM_GLU>*M_atp_c+<NUM_GLU>*tRNA_c+<NUM_GLU>*M_h2o_c,<NUM_GLU>*M_glu_L_c_tRNA_c+<NUM_GLU>*M_amp_c+<NUM_GLU>*M_ppi_c,0,inf\n",
    "tRNA_c_charging_M_gln_L_c_<PATHWAY>,<NUM_GLN>*M_gln_L_c+<NUM_GLN>*M_atp_c+<NUM_GLN>*tRNA_c+<NUM_GLN>*M_h2o_c,<NUM_GLN>*M_gln_L_c_tRNA_c+<NUM_GLN>*M_amp_c+<NUM_GLN>*M_ppi_c,0,inf\n",
    "tRNA_c_charging_M_gly_L_c_<PATHWAY>,<NUM_GLY>*M_gly_L_c+<NUM_GLY>*M_atp_c+<NUM_GLY>*tRNA_c+<NUM_GLY>*M_h2o_c,<NUM_GLY>*M_gly_L_c_tRNA_c+<NUM_GLY>*M_amp_c+<NUM_GLY>*M_ppi_c,0,inf\n",
    "tRNA_c_charging_M_his_L_c_<PATHWAY>,<NUM_HIS>*M_his_L_c+<NUM_HIS>*M_atp_c+<NUM_HIS>*tRNA_c+<NUM_HIS>*M_h2o_c,<NUM_HIS>*M_his_L_c_tRNA_c+<NUM_HIS>*M_amp_c+<NUM_HIS>*M_ppi_c,0,inf\n",
    "tRNA_c_charging_M_ile_L_c_<PATHWAY>,<NUM_ILE>*M_ile_L_c+<NUM_ILE>*M_atp_c+<NUM_ILE>*tRNA_c+<NUM_ILE>*M_h2o_c,<NUM_ILE>*M_ile_L_c_tRNA_c+<NUM_ILE>*M_amp_c+<NUM_ILE>*M_ppi_c,0,inf\n",
    "tRNA_c_charging_M_leu_L_c_<PATHWAY>,<NUM_LEU>*M_leu_L_c+<NUM_LEU>*M_atp_c+<NUM_LEU>*tRNA_c+<NUM_LEU>*M_h2o_c,<NUM_LEU>*M_leu_L_c_tRNA_c+<NUM_LEU>*M_amp_c+<NUM_LEU>*M_ppi_c,0,inf\n",
    "tRNA_c_charging_M_lys_L_c_<PATHWAY>,<NUM_LYS>*M_lys_L_c+<NUM_LYS>*M_atp_c+<NUM_LYS>*tRNA_c+<NUM_LYS>*M_h2o_c,<NUM_LYS>*M_lys_L_c_tRNA_c+<NUM_LYS>*M_amp_c+<NUM_LYS>*M_ppi_c,0,inf\n",
    "tRNA_c_charging_M_met_L_c_<PATHWAY>,<NUM_MET>*M_met_L_c+<NUM_MET>*M_atp_c+<NUM_MET>*tRNA_c+<NUM_MET>*M_h2o_c,<NUM_MET>*M_met_L_c_tRNA_c+<NUM_MET>*M_amp_c+<NUM_MET>*M_ppi_c,0,inf\n",
    "tRNA_c_charging_M_phe_L_c_<PATHWAY>,<NUM_PHE>*M_phe_L_c+<NUM_PHE>*M_atp_c+<NUM_PHE>*tRNA_c+<NUM_PHE>*M_h2o_c,<NUM_PHE>*M_phe_L_c_tRNA_c+<NUM_PHE>*M_amp_c+<NUM_PHE>*M_ppi_c,0,inf\n",
    "tRNA_c_charging_M_pro_L_c_<PATHWAY>,<NUM_PRO>*M_pro_L_c+<NUM_PRO>*M_atp_c+<NUM_PRO>*tRNA_c+<NUM_PRO>*M_h2o_c,<NUM_PRO>*M_pro_L_c_tRNA_c+<NUM_PRO>*M_amp_c+<NUM_PRO>*M_ppi_c,0,inf\n",
    "tRNA_c_charging_M_ser_L_c_<PATHWAY>,<NUM_SER>*M_ser_L_c+<NUM_SER>*M_atp_c+<NUM_SER>*tRNA_c+<NUM_SER>*M_h2o_c,<NUM_SER>*M_ser_L_c_tRNA_c+<NUM_SER>*M_amp_c+<NUM_SER>*M_ppi_c,0,inf\n",
    "tRNA_c_charging_M_thr_L_c_<PATHWAY>,<NUM_THR>*M_thr_L_c+<NUM_THR>*M_atp_c+<NUM_THR>*tRNA_c+<NUM_THR>*M_h2o_c,<NUM_THR>*M_thr_L_c_tRNA_c+<NUM_THR>*M_amp_c+<NUM_THR>*M_ppi_c,0,inf\n",
    "tRNA_c_charging_M_trp_L_c_<PATHWAY>,<NUM_TRP>*M_trp_L_c+<NUM_TRP>*M_atp_c+<NUM_TRP>*tRNA_c+<NUM_TRP>*M_h2o_c,<NUM_TRP>*M_trp_L_c_tRNA_c+<NUM_TRP>*M_amp_c+<NUM_TRP>*M_ppi_c,0,inf\n",
    "tRNA_c_charging_M_tyr_L_c_<PATHWAY>,<NUM_TYR>*M_tyr_L_c+<NUM_TYR>*M_atp_c+<NUM_TYR>*tRNA_c+<NUM_TYR>*M_h2o_c,<NUM_TYR>*M_tyr_L_c_tRNA_c+<NUM_TYR>*M_amp_c+<NUM_TYR>*M_ppi_c,0,inf\n",
    "tRNA_c_charging_M_val_L_c_<PATHWAY>,<NUM_VAL>*M_val_L_c+<NUM_VAL>*M_atp_c+<NUM_VAL>*tRNA_c+<NUM_VAL>*M_h2o_c,<NUM_VAL>*M_val_L_c_tRNA_c+<NUM_VAL>*M_amp_c+<NUM_VAL>*M_ppi_c,0,inf\n",
    "\"\"\""
   ]
  },
  {
   "cell_type": "code",
   "execution_count": null,
   "metadata": {},
   "outputs": [],
   "source": [
    "import Bio.PDB.Polypeptide\n",
    "from Bio.Seq import Seq\n",
    "from collections import Counter"
   ]
  },
  {
   "cell_type": "code",
   "execution_count": null,
   "metadata": {},
   "outputs": [],
   "source": [
    "print output_trna_charging_rxns(reduce(lambda x, acc: x + '_' + acc, names), sequences)"
   ]
  },
  {
   "cell_type": "code",
   "execution_count": null,
   "metadata": {},
   "outputs": [],
   "source": [
    "strs = [\"R_alaAC::M_pyr_c+M_glu_L_c --> M_ala_L_c+M_akg_c\",                                                                                                                                      \n",
    "\"R_alaAC_reverse::M_ala_L_c+M_akg_c --> M_pyr_c+M_glu_L_c\",                                                                                                                                 \n",
    "\"R_arg::M_accoa_c+2.0*M_glu_L_c+3.0*M_atp_c+M_nadph_c+M_h_c+M_h2o_c+M_nh3_c+M_co2_c+M_asp_L_c --> M_coa_c+2.0*M_adp_c+2.0*M_pi_c+M_nadp_c+M_akg_c+M_ac_c+M_amp_c+M_ppi_c+M_fum_c+M_arg_L_c\",\n",
    "\"R_aspC::M_glu_L_c+M_oaa_c --> M_asp_L_c+M_akg_c\",                                                                                                                                          \n",
    "\"R_asnB::M_asp_L_c+M_gln_L_c+M_h2o_c+M_atp_c --> M_asn_L_c+M_glu_L_c+M_ppi_c+M_amp_c\"   ,                                                                                                   \n",
    "\"R_asnA::M_asp_L_c+M_atp_c+M_nh3_c --> M_asn_L_c+M_ppi_c+M_amp_c\"                 ,                                                                                                         \n",
    "\"R_cysEMK::M_ser_L_c+M_accoa_c+M_h2s_c --> M_cys_L_c+M_coa_c+M_ac_c\"                ,                                                                                                       \n",
    "\"R_gltBD::M_gln_L_c+M_akg_c+M_nadph_c+M_h_c --> 2.0*M_glu_L_c+M_nadp_c\"               ,                                                                                                     \n",
    "\"R_gdhA::M_akg_c+M_nadph_c+M_nh3_c+M_h_c --> M_glu_L_c+M_h2o_c+M_nadp_c\"               ,                                                                                                    \n",
    "\"R_gdhA_reverse::M_glu_L_c+M_h2o_c+M_nadp_c --> M_akg_c+M_nadph_c+M_nh3_c+M_h_c\"         ,                                                                                                  \n",
    "\"R_glnA::M_glu_L_c+M_atp_c+M_nh3_c --> M_gln_L_c+M_adp_c+M_pi_c\"       ,                                                                                                                    \n",
    "\"R_glyA::M_ser_L_c+M_thf_c --> M_gly_L_c+M_h2o_c+M_mlthf_c\"         ,                                                                                                                       \n",
    "\"R_his::M_gln_L_c+M_r5p_c+2.0*M_atp_c+2.0*M_nad_c+3.0*M_h2o_c --> M_his_L_c+M_akg_c+M_aicar_c+2.0*M_nadh_c+M_amp_c+M_pi_c+2.0*M_ppi_c+2.0*M_h_c\"     ,                                      \n",
    "\"R_ile::M_thr_L_c+M_h_c+M_pyr_c+M_nadph_c+M_glu_L_c --> M_ile_L_c+M_h2o_c+M_nh3_c+M_co2_c+M_nadp_c+M_akg_c\"     ,                                                                           \n",
    "\"R_leu::2.0*M_pyr_c+M_glu_L_c+M_nad_c+M_nadph_c+M_accoa_c --> M_leu_L_c+2.0*M_co2_c+M_nadp_c+M_coa_c+M_nadh_c+M_akg_c\"                ,                                                     \n",
    "\"R_lys::M_asp_L_c+M_atp_c+2.0*M_nadph_c+2.0*M_h_c+M_pyr_c+M_succoa_c+M_glu_L_c --> M_lys_L_c+M_adp_c+M_pi_c+2.0*M_nadp_c+M_coa_c+M_akg_c+M_succ_c+M_co2_c\"    ,                             \n",
    "\"R_met::M_asp_L_c+M_cys_L_c+M_succoa_c+M_atp_c+2.0*M_nadph_c+M_5mthf_c+M_h2o_c+2.0*M_h_c --> M_met_L_c+M_coa_c+M_succ_c+M_adp_c+M_pi_c+2.0*M_nadp_c+M_thf_c+M_nh3_c+M_pyr_c\"   ,            \n",
    "\"R_phe::M_chor_c+M_glu_L_c --> M_phe_L_c+M_co2_c+M_h2o_c+M_akg_c\"      ,                                                                                                                    \n",
    "\"R_pro::M_glu_L_c+M_atp_c+2.0*M_h_c+2.0*M_nadph_c --> M_pro_L_c+M_adp_c+2.0*M_nadp_c+M_pi_c+M_h2o_c\"        ,                                                                               \n",
    "\"R_serABC::M_3pg_c+M_nad_c+M_glu_L_c+M_h2o_c --> M_ser_L_c+M_nadh_c+M_h_c+M_akg_c+M_pi_c\"           ,                                                                                       \n",
    "\"R_thr::M_asp_L_c+2.0*M_atp_c+2.0*M_nadph_c+2.0*M_h_c+M_h2o_c --> M_thr_L_c+2.0*M_adp_c+2.0*M_pi_c+2.0*M_nadp_c\"   ,                                                                        \n",
    "\"R_trp::M_chor_c+M_gln_L_c+M_ser_L_c+M_r5p_c+M_atp_c --> M_trp_L_c+M_glu_L_c+M_pyr_c+M_ppi_c+2.0*M_h2o_c+M_co2_c+M_g3p_c+M_amp_c\"   ,                                                       \n",
    "\"R_tyr::M_chor_c+M_glu_L_c+M_nad_c --> M_tyr_L_c+M_akg_c+M_nadh_c+M_co2_c+M_h_c\"                  ,                                                                                         \n",
    "\"R_val::2.0*M_pyr_c+M_h_c+M_nadph_c+M_glu_L_c --> M_val_L_c+M_co2_c+M_nadp_c+M_h2o_c+M_akg_c\"]    "
   ]
  },
  {
   "cell_type": "code",
   "execution_count": null,
   "metadata": {},
   "outputs": [],
   "source": [
    "for st in strs:\n",
    "    rname = st.split('::')[0]\n",
    "    print '\"' + rname + '\",'"
   ]
  },
  {
   "cell_type": "code",
   "execution_count": null,
   "metadata": {},
   "outputs": [],
   "source": [
    "uptake = \"[] --> M_<AA>_L_c\"\n",
    "secretion = \"M_<AA>_L_c --> []\"\n",
    "aa_str = \"^R_.*(-->.*M_<AA>_L_c)\"\n",
    "def gen_aas():\n",
    "    for aa in Bio.PDB.Polypeptide.aa3:\n",
    "        #print '\"' + uptake.replace('<AA>', aa.lower()) + '\",'\n",
    "        #print '\"' + secretion.replace('<AA>', aa.lower()) + '\",'\n",
    "        print 'r\"' + aa_str.replace('<AA>', aa.lower()) + '\",'\n",
    "gen_aas()"
   ]
  },
  {
   "cell_type": "code",
   "execution_count": null,
   "metadata": {},
   "outputs": [],
   "source": [
    "for name, sequence in zip(names, sequences):\n",
    "    print output_translation_rxns(name, sequence)"
   ]
  },
  {
   "cell_type": "markdown",
   "metadata": {},
   "source": [
    "src\n",
    "Metabolite\n",
    "\"list_of_species\":[\n",
    "    {\n",
    "        \"species_symbol\":\"GENE_Crt1\",\n",
    "        \"species_bound_type\":\"balanced\",\n",
    "        \"species_compartment\":\"reactor\"\n",
    "    },\n",
    "    dest\n",
    "Gene\n",
    " {u'id': u'b0241', u'name': u'b0241'}\n",
    " Metabolite\n",
    " {u'charge': -2,\n",
    " u'compartment': u'c',\n",
    " u'formula': u'C20H21N7O7',\n",
    " u'id': u'10fthf_c',\n",
    " u'name': u'10-Formyltetrahydrofolate'}\"\""
   ]
  },
  {
   "cell_type": "code",
   "execution_count": null,
   "metadata": {},
   "outputs": [],
   "source": [
    "\"\"\" \n",
    "\n",
    "Src\n",
    "Reaction\n",
    "\"list_of_reactions\":{\n",
    "    \"reaction_name\":\"R_glk_atp\",\n",
    "    \"reaction_type_flag\":\"4770144144\",\n",
    "    \"reaction_type\":\"solved\",\n",
    "    \"catalyst_lexeme\":\"[]\",\n",
    "    \"catalyst_ec_number\":\"[]\",\n",
    "    \"list_of_reactants\":[\n",
    "        {\n",
    "            \"symbol\":\"M_atp_c\",\n",
    "            \"stoichiometry\":\"1.0\"\n",
    "        },\n",
    "        {\n",
    "            \"symbol\":\"M_glc_D_c\",\n",
    "            \"stoichiometry\":\"1.0\"\n",
    "        }\n",
    "    ],\n",
    "    \"list_of_products\":[\n",
    "        {\n",
    "            \"symbol\":\"M_adp_c\",\n",
    "            \"stoichiometry\":\"1.0\"\n",
    "        },\n",
    "        {\n",
    "            \"symbol\":\"M_g6p_c\",\n",
    "            \"stoichiometry\":\"1.0\"\n",
    "        }\n",
    "    ]\n",
    "}\n",
    "Dest\n",
    "Reaction\n",
    "{u'gene_reaction_rule': u'',\n",
    " u'id': u'DM_4CRSOL',\n",
    " u'lower_bound': 0.0,\n",
    " u'metabolites': {u'4crsol_c': -1.0},\n",
    " u'name': u'Sink needed to allow p-Cresol to leave system',\n",
    " u'upper_bound': 1000.0}\n",
    "\n",
    " \"\"\""
   ]
  },
  {
   "cell_type": "code",
   "execution_count": null,
   "metadata": {},
   "outputs": [],
   "source": [
    "a = {}\n",
    "a.update({'hi': 1})"
   ]
  },
  {
   "cell_type": "code",
   "execution_count": null,
   "metadata": {},
   "outputs": [],
   "source": [
    "a"
   ]
  },
  {
   "cell_type": "code",
   "execution_count": null,
   "metadata": {},
   "outputs": [],
   "source": [
    "def convert_rxn(julia_rxn, debug_dict):\n",
    "    rxn_name = julia_rxn['reaction_name']\n",
    "    debug_entry = debug_dict[rxn_name]\n",
    "    metabs = {react[\"symbol\"]: int(-1 * float(react[\"stoichiometry\"])) for react in julia_rxn[\"list_of_reactants\"]}\n",
    "    metabs.update({product[\"symbol\"]: int(float(product[\"stoichiometry\"])) for product in julia_rxn[\"list_of_products\"]})\n",
    "    cobra_rxn = {\n",
    "        'id': rxn_name,\n",
    "        'name': rxn_name,\n",
    "        'lower_bound': debug_entry['lower_bound'],\n",
    "        'upper_bound': debug_entry['upper_bound'],\n",
    "        'metabolites': metabs\n",
    "    }\n",
    "    return cobra_rxn"
   ]
  },
  {
   "cell_type": "code",
   "execution_count": null,
   "metadata": {},
   "outputs": [],
   "source": [
    "def convert_metab(julia_metab, atom_dict):\n",
    "    sym = julia_metab['species_symbol']\n",
    "    cobra_metab = {\n",
    "        'compartment': 'c',#julia_metab['species_compartment'],\n",
    "        'id': sym,\n",
    "        'name': sym,\n",
    "        'formula': atom_dict[sym] if sym in atom_dict else None\n",
    "    }\n",
    "    return cobra_metab"
   ]
  },
  {
   "cell_type": "code",
   "execution_count": null,
   "metadata": {},
   "outputs": [],
   "source": [
    "def parse_atom_file(f_atom):\n",
    "    atom_dict = {}\n",
    "    with open(f_atom, 'r') as f:\n",
    "        for line in f.readlines():\n",
    "            l = line.strip().split(',')\n",
    "            if len(l) < 7:\n",
    "                continue\n",
    "            metab_name = l[0]\n",
    "            metab_formula = 'C{0}H{1}N{2}O{3}P{4}S{5}'.format(*[l[i] for i in range(1, 7)])\n",
    "            #C,H,N,O,P,S\n",
    "            atom_dict[metab_name] = metab_formula\n",
    "    return atom_dict\n",
    "\n",
    "def parse_bounds(f_bounds, rxn_dict, idx_map):\n",
    "    with open(f_bounds, 'r') as f_bounds:\n",
    "        if f_bounds == 'DataDictionary.jl':\n",
    "            bounds = False\n",
    "            for i, l in enumerate(f_bounds.readlines()):\n",
    "                line = l.strip().split() \n",
    "                if '];' in line:\n",
    "                    bounds = False\n",
    "                if bounds:\n",
    "                    lb, ub = float(line[0]), float(line[1])\n",
    "                    idx = int(line[6]) - 1\n",
    "                    rxn_name = idx_map[i]\n",
    "                    rxn_dict[rxn_name]['lower_bound'] = lb \n",
    "                    rxn_dict[rxn_name]['upper_bound'] = ub\n",
    "                if 'default_bounds_array' in line:\n",
    "                    bounds = True\n",
    "        else:\n",
    "            for idx, l in enumerate(f_bounds.readlines()):\n",
    "                line = l.strip().split('\\t') \n",
    "                lb, ub = map(float, line)\n",
    "                rxn_name = idx_map[idx]\n",
    "                rxn_dict[rxn_name]['lower_bound'] = lb \n",
    "                rxn_dict[rxn_name]['upper_bound'] = ub\n",
    "    return rxn_dict\n",
    "            \n",
    "def parse_debug_file(f_debug, f_bounds):\n",
    "    rxn_dict = {}\n",
    "    idx_map = {}\n",
    "    with open(f_debug, 'r') as f_debug:\n",
    "        for line in f_debug.readlines():\n",
    "            try:\n",
    "                idx, rxn = line.strip().split(' ', 1)\n",
    "            except ValueError:\n",
    "                break\n",
    "            rxn_name, rxn_str = rxn.split('::')\n",
    "            # Julia is 1 indexed\n",
    "            idx_map[int(idx) - 1] = rxn_name\n",
    "            rxn_dict[rxn_name] = {'formula': rxn_str}\n",
    "    rxn_dict = parse_bounds(f_bounds, rxn_dict, idx_map)\n",
    "    return rxn_dict"
   ]
  },
  {
   "cell_type": "code",
   "execution_count": null,
   "metadata": {},
   "outputs": [],
   "source": [
    "# Cats [u'reactions', u'genes', u'compartments', u'metabolites', u'version', u'id']\n",
    "import json\n",
    "import os\n",
    "def julia_to_cobra_json(folder, fout=None):\n",
    "    f_atom = os.path.join(folder, 'Atom.txt')\n",
    "    atom_dict = parse_atom_file(f_atom)\n",
    "    f_debug = os.path.join(folder, 'Debug.txt')\n",
    "    f_bounds = os.path.join(folder, 'Bounds.txt') #DataDictionary.jl#Bounds.txt\n",
    "    rxn_dict = parse_debug_file(f_debug, f_bounds)\n",
    "    f_model = os.path.join(folder, 'Reactions.json')\n",
    "    with open(f_model, 'r') as f:\n",
    "        julia_model = json.load(f)\n",
    "\n",
    "    cobra_model = {'id': 'cell_free_varner'}\n",
    "    cobra_metabs, cobra_rxns = [], []\n",
    "    cmpts = set()\n",
    "    for julia_metab in julia_model[\"list_of_species\"]:\n",
    "        cobra_metab = convert_metab(julia_metab, atom_dict)\n",
    "        cmpts.add(cobra_metab['compartment'].lower())\n",
    "        cobra_metabs.append(cobra_metab)\n",
    "    for julia_rxn in julia_model[\"list_of_reactions\"]:\n",
    "        cobra_rxn = convert_rxn(julia_rxn, rxn_dict)\n",
    "        cobra_rxns.append(cobra_rxn)\n",
    "    cobra_model['metabolites'] = cobra_metabs\n",
    "    cobra_model['reactions'] = cobra_rxns\n",
    "    cobra_model['genes'] = []\n",
    "    cobra_cmpts = {}\n",
    "    for cmpt in cmpts:\n",
    "        cobra_cmpts[cmpt[0]] = 'cytosol'#cmpt.capitalize()\n",
    "    cobra_model['compartments']  = cobra_cmpts\n",
    "    if fout:\n",
    "        with open(fout, 'w') as outfile:\n",
    "            json.dump(cobra_model, outfile)\n",
    "    return cobra_model\n",
    "julia_to_cobra_json('../3rd_Party_Code/Sequence-Specific-FBA-CFPS-Publication-Code/Staging/', '../models/varner.json')"
   ]
  },
  {
   "cell_type": "code",
   "execution_count": null,
   "metadata": {},
   "outputs": [],
   "source": []
  }
 ],
 "metadata": {
  "kernelspec": {
   "display_name": "Python 2",
   "language": "python",
   "name": "python2"
  },
  "language_info": {
   "codemirror_mode": {
    "name": "ipython",
    "version": 2
   },
   "file_extension": ".py",
   "mimetype": "text/x-python",
   "name": "python",
   "nbconvert_exporter": "python",
   "pygments_lexer": "ipython2",
   "version": "2.7.10"
  }
 },
 "nbformat": 4,
 "nbformat_minor": 2
}
