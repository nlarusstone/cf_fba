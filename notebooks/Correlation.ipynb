{
 "cells": [
  {
   "cell_type": "code",
   "execution_count": null,
   "metadata": {},
   "outputs": [],
   "source": [
    "import pandas as pd\n",
    "import numpy as np\n",
    "import matplotlib.pyplot as plt\n",
    "import scipy.stats\n",
    "import os\n",
    "from keras.models import load_model"
   ]
  },
  {
   "cell_type": "code",
   "execution_count": null,
   "metadata": {},
   "outputs": [],
   "source": [
    "import cobra\n",
    "%load_ext autoreload\n",
    "import sys\n",
    "if not '/home/nlarusstone/cf_fba' in sys.path:\n",
    "    sys.path.append('/home/nlarusstone/cf_fba')\n",
    "import src.utils as utils\n",
    "import src.flux_utils as futils\n",
    "import src.create_dataset as dataset\n",
    "import src.flux_sample as fs\n",
    "from src.get_test_data import get_test_data\n",
    "import src.cf_io as cf_io\n",
    "import src.correlation as corr\n",
    "%autoreload 2"
   ]
  },
  {
   "cell_type": "code",
   "execution_count": null,
   "metadata": {},
   "outputs": [],
   "source": [
    "for f in os.listdir('../results'):\n",
    "    print f\n",
    "    res_df = pd.read_csv('../results/' + f)\n",
    "    #print res_df.head()\n",
    "    res_df.drop('Unnamed: 0', inplace=True, axis=1)\n",
    "    print scipy.stats.pearsonr(res_df.iloc[:, 0], res_df.iloc[:, 1])"
   ]
  },
  {
   "cell_type": "code",
   "execution_count": null,
   "metadata": {},
   "outputs": [],
   "source": [
    "latent_dim_l = [2, 10]\n",
    "use_corr = True\n",
    "froot_l = ['manual', 'echo', 'karim']\n",
    "if froot == 'karim':\n",
    "    dset = 'karim'\n",
    "else:\n",
    "    dset = 'nls'\n",
    "txtl_l = [False, True]\n",
    "resamp = True\n",
    "layer_szs_l = [[1024, 1024, 1024], [1024, 512, 256]]\n",
    "model = 'iJO1366'"
   ]
  },
  {
   "cell_type": "code",
   "execution_count": null,
   "metadata": {},
   "outputs": [],
   "source": [
    "%%script bash --bg\n",
    "echo 'hi'"
   ]
  },
  {
   "cell_type": "code",
   "execution_count": null,
   "metadata": {},
   "outputs": [],
   "source": [
    "from multiprocessing import Process, Pipe"
   ]
  },
  {
   "cell_type": "code",
   "execution_count": null,
   "metadata": {},
   "outputs": [],
   "source": [
    "res_l = []\n",
    "bad_rxns_l = []\n",
    "best_l = []\n",
    "for froot in froot_l:\n",
    "    df = cf_io.get_exp_data(froot)\n",
    "    for latent_dim in latent_dim_l:\n",
    "        for layer_szs in layer_szs_l:\n",
    "            for txtl in txtl_l:\n",
    "                encoder, generator, X_test, y_test, obj_col, cols, y_vals_d, test_enc, test_dec = get_test_data(froot, txtl, resamp, latent_dim, layer_szs, use_corr=True)\n",
    "                cols = np.array(cols)\n",
    "                model_f = '../bio_models/{0}/{1}/{2}_cf{3}.sbml'.format(dset, froot, model, '_txtl' if txtl else '')\n",
    "                #res, bad_rxns, best = corr.optimized_corr(model_f, df, test_dec, cols, t_low=-3, t_high=-1, n_steps=30)\n",
    "                res_l.append(res)\n",
    "                bad_rxns_l.append(bad_rxns)\n",
    "                best_l.append(best)\n",
    "                break\n",
    "            break\n",
    "        break\n",
    "    break"
   ]
  },
  {
   "cell_type": "code",
   "execution_count": null,
   "metadata": {},
   "outputs": [],
   "source": [
    "bad = np.zeros((1, X_test.shape[1], X_test.shape[2]))\n",
    "bad_enc = encoder.predict(bad)"
   ]
  },
  {
   "cell_type": "code",
   "execution_count": null,
   "metadata": {},
   "outputs": [],
   "source": [
    "bad_dec = generator.predict(bad_enc)"
   ]
  },
  {
   "cell_type": "code",
   "execution_count": null,
   "metadata": {},
   "outputs": [],
   "source": [
    "bad_enc"
   ]
  },
  {
   "cell_type": "code",
   "execution_count": null,
   "metadata": {},
   "outputs": [],
   "source": [
    "bad_dec.shape"
   ]
  },
  {
   "cell_type": "code",
   "execution_count": null,
   "metadata": {},
   "outputs": [],
   "source": [
    "model_f = '../bio_models/{0}/{1}/{2}_cf{3}.sbml'.format(dset, froot, model, '_txtl' if args.txtl else '')"
   ]
  },
  {
   "cell_type": "code",
   "execution_count": null,
   "metadata": {},
   "outputs": [],
   "source": [
    "res, bad_rxns, best = corr.optimized_corr(model_f, df, test_dec, cols, t_low=-2, t_high=-1, n_steps=30)"
   ]
  },
  {
   "cell_type": "code",
   "execution_count": null,
   "metadata": {},
   "outputs": [],
   "source": [
    "best[1]"
   ]
  },
  {
   "cell_type": "code",
   "execution_count": null,
   "metadata": {},
   "outputs": [],
   "source": [
    "test_dec[:, :, :].mean().shape"
   ]
  },
  {
   "cell_type": "code",
   "execution_count": null,
   "metadata": {},
   "outputs": [],
   "source": [
    "mod = cobra.io.read_sbml_model('../bio_models/ColiPrunedComp_wout.xml')\n",
    "mod"
   ]
  },
  {
   "cell_type": "code",
   "execution_count": null,
   "metadata": {},
   "outputs": [],
   "source": [
    "for t in thresh:\n",
    "    print t\n",
    "    #bad_cols = cols[dec_df.mean(axis=0).mean(axis=0) < t]\n",
    "    #bad_cols = cols[np.random.choice(range(len(cols)), size=300)]\n",
    "    #bad_cols = bad_cols[bad_cols != obj_name]\n",
    "    objs = []\n",
    "    #bad_rxns = []\n",
    "    for idx, row in df.iterrows():\n",
    "        model_f_i = model_f_base[0] + '_{0}.'.format(idx) + model_f_base[1]\n",
    "        model_i = cobra.io.read_sbml_model(model_f_i)\n",
    "        #bad_rxns.append(bad_cols)\n",
    "        #model_i.remove_reactions(bad_cols)\n",
    "        sol = model_i.optimize()\n",
    "        break\n",
    "    break"
   ]
  },
  {
   "cell_type": "code",
   "execution_count": null,
   "metadata": {},
   "outputs": [],
   "source": []
  },
  {
   "cell_type": "code",
   "execution_count": null,
   "metadata": {},
   "outputs": [],
   "source": [
    "#def optimized_corr(model_f, df, test_dec, cols):\n",
    "np.random.seed(42)\n",
    "thresh = np.logspace(start=t_low, stop=t_high, num=30)\n",
    "bad_rxns_t = []\n",
    "res = []\n",
    "best = (0, None)\n",
    "dec_df = test_dec[:, :, :]#pd.DataFrame(data=test_dec[:, :, :], columns=cols)\n",
    "model_f_base = model_f.rsplit('.', 1)\n",
    "mod = cobra.io.read_sbml_model(model_f_base[0] + '_0.' + model_f_base[1])\n",
    "obj_name = str(mod.objective.expression.args[0]).split('*')[1]\n",
    "for t in thresh:\n",
    "    print t\n",
    "    bad_cols = cols[dec_df.mean(axis=0).mean(axis=0) < t]\n",
    "    bad_cols = cols[np.random.choice(range(len(cols)), size=300)]\n",
    "    bad_cols = bad_cols[bad_cols != obj_name]\n",
    "    objs = []\n",
    "    #bad_rxns = []\n",
    "    for idx, row in df.iterrows():\n",
    "        model_f_i = model_f_base[0] + '_{0}.'.format(idx) + model_f_base[1]\n",
    "        model_i = cobra.io.read_sbml_model(model_f_i)\n",
    "        #bad_rxns.append(bad_cols)\n",
    "        model_i.remove_reactions(bad_cols)\n",
    "        sol = model_i.optimize()\n",
    "        objs.append(sol.objective_value)\n",
    "    bad_rxns_t.append(bad_cols)\n",
    "    corr = scipy.stats.pearsonr(objs, df['OUT'])\n",
    "    print corr\n",
    "    if corr[0] > best[0]:\n",
    "        best = (corr[0], bad_cols)\n",
    "    res.append(objs)\n",
    "print 'Best: {0}'.format(best[0])\n",
    "#return pd.DataFrame(res), pd.DataFrame(bad_rxns_t), pd.DataFrame(best[1])"
   ]
  },
  {
   "cell_type": "code",
   "execution_count": null,
   "metadata": {},
   "outputs": [],
   "source": [
    "import matplotlib.pyplot as plt"
   ]
  },
  {
   "cell_type": "code",
   "execution_count": null,
   "metadata": {},
   "outputs": [],
   "source": [
    "X_test[:, :, :].mean(axis=-1).shape"
   ]
  },
  {
   "cell_type": "code",
   "execution_count": null,
   "metadata": {},
   "outputs": [],
   "source": [
    "fig, axarr = plt.subplots(nrows=1, ncols=2, figsize=(12, 8))\n",
    "ax1, ax2 = axarr\n",
    "ax1.hist(X_test[:, :, :].mean(axis=0).mean(axis=0))\n",
    "ax1.set_title('Distribution of average reactions fluxes')\n",
    "ax1.set_ylabel('Number of reactions')\n",
    "ax1.set_xlabel('Normalized flux value')\n",
    "\n",
    "ax2.hist(X_test[:, :, :].mean(axis=-1).mean(axis=-1))\n",
    "ax2.set_title('Distribution of average fluxes across samples')\n",
    "ax2.set_ylabel('Number of samples')\n",
    "ax2.set_xlabel('Normalized flux value')"
   ]
  },
  {
   "cell_type": "code",
   "execution_count": null,
   "metadata": {},
   "outputs": [],
   "source": [
    "mod.reactions.query('biomass')"
   ]
  },
  {
   "cell_type": "code",
   "execution_count": null,
   "metadata": {},
   "outputs": [],
   "source": [
    "model_f = '{0}_ecoli_cf_base{1}.sbml'.format(dset, '_txtl' if txtl else '')\n",
    "test = '{0}_ecoli_cf_base{1}_0.sbml'.format(dset, '_txtl' if txtl else '')\n",
    "if not os.path.exists('../models/{0}/{1}'.format(froot, test)):\n",
    "    gen_models()\n",
    "    \n",
    "thresh = np.logspace(start=-2, stop=-1, num=20)\n",
    "bad_rxns_t = []\n",
    "res = []\n",
    "for t in thresh:\n",
    "    print t\n",
    "    objs = []\n",
    "    bad_rxns = []\n",
    "    for idx, row in df.iterrows():\n",
    "        model_f_i = '{0}_ecoli_cf_base{1}_{2}.sbml'.format(dset, '_txtl' if txtl else '', idx)\n",
    "        model_i = cobra.io.read_sbml_model('../models/{0}/'.format(froot) + model_f_i)\n",
    "        obj_name = str(model_i.objective.expression.args[0]).split('*')[1]\n",
    "        dec_df = pd.DataFrame(data=test_dec[:, idx, :], columns=cols)\n",
    "        bad_cols = cols[dec_df.mean() < t]\n",
    "        bad_cols = bad_cols[bad_cols != obj_name]\n",
    "        bad_rxns.append(bad_cols)\n",
    "        model_i.remove_reactions(bad_cols)\n",
    "        sol = model_i.optimize()\n",
    "        objs.append(sol.objective_value)\n",
    "    bad_rxns_t.append(bad_rxns)\n",
    "    print scipy.stats.pearsonr(objs, df['OUT'])\n",
    "    res.append(objs)"
   ]
  },
  {
   "cell_type": "code",
   "execution_count": null,
   "metadata": {
    "scrolled": true
   },
   "outputs": [],
   "source": [
    "rxn_amt = 5\n",
    "addl_amt = 1\n",
    "batch_size = 50\n",
    "n_batches = batch_size / rxn_amt\n",
    "model_f = '{0}_ecoli_cf_base{1}.sbml'.format('nls', '_txtl' if txtl else '')\n",
    "\n",
    "print 'Read in data'\n",
    "df = fs.get_exp_data(froot)\n",
    "#df.drop(columns=['Area_1', 'Area_2', 'Conc_1', 'Conc_2'], inplace=True)\n",
    "\n",
    "cfps_conc = pd.read_csv('../data/{0}_concs'.format('nls'), index_col='compound')\n",
    "if not froot == 'karim':\n",
    "    cfps_conc.drop('final_conc', inplace=True, axis=1)\n",
    "    nrg_mix = pd.read_csv('../data/energy_mix.csv', index_col='compound')\n",
    "else:\n",
    "    nrg_mix = None\n",
    "#print cfps_conc\n",
    "\n",
    "print 'Time to generate model specific conditions'\n",
    "model = cobra.io.read_sbml_model('../models/{0}'.format(model_f))\n",
    "print 'Model {0} read in'.format(model_f)"
   ]
  },
  {
   "cell_type": "code",
   "execution_count": null,
   "metadata": {},
   "outputs": [],
   "source": [
    "t = 10 ** -4.58\n",
    "pd.DataFrame(data=test_dec[:, 0, :], columns=cols)\n",
    "bad_cols = cols[dec_df.mean() < t]\n",
    "bad_cols"
   ]
  },
  {
   "cell_type": "code",
   "execution_count": null,
   "metadata": {},
   "outputs": [],
   "source": [
    "res = []\n",
    "thresh = np.logspace(start=-2, stop=-1, num=20)\n",
    "for t in thresh:\n",
    "    print t\n",
    "    objs = []\n",
    "    for idx, row in df.iterrows():\n",
    "        print idx\n",
    "        cfps_conc_tmp = cfps_conc.copy()\n",
    "        cfps_conc_tmp = fs.update_vals(cfps_conc_tmp, row, n_batches, nrg_mix=nrg_mix, replace=args.froot == 'karim')\n",
    "        tot_rxn_amt = rxn_amt + addl_amt\n",
    "        if args.froot == 'karim':\n",
    "            exp_concs = cfps_conc_tmp['final_conc']\n",
    "        else:\n",
    "            exp_concs = fs.conc_dilution(cfps_conc_tmp['start_conc'], (rxn_amt / 5.0) * cfps_conc_tmp['amt'], tot_rxn_amt)\n",
    "        model_i = fs.change_conc(model, exp_concs)\n",
    "        dec_df = pd.DataFrame(data=test_dec[:, idx, :], columns=cols)\n",
    "        bad_cols = cols[dec_df.mean() < t]\n",
    "        bad_cols = bad_cols[bad_cols != 'DM_PROTEIN_RFP']\n",
    "        model_i.remove_reactions(bad_cols)\n",
    "        #print model_i.reactions.EX_mg2_c.bounds\n",
    "        #print model_i.reactions.EX_pi_c.bounds\n",
    "        sol = model_i.optimize()\n",
    "        objs.append(sol.objective_value)\n",
    "    print scipy.stats.pearsonr(objs, df['OUT'])\n",
    "    res.append(objs)\n",
    "#res_df = pd.DataFrame(res)\n",
    "#res_df['Actual'] = df['OUT']\n",
    "#res_df.to_csv('../results/{0}_{1}_unoptimized_results{2}'.format(args.froot, args.dataset, '_txtl' if args.txtl else ''))"
   ]
  },
  {
   "cell_type": "code",
   "execution_count": null,
   "metadata": {},
   "outputs": [],
   "source": [
    "for r in res:\n",
    "    print r\n",
    "    print scipy.stats.pearsonr(r, df['OUT'])"
   ]
  },
  {
   "cell_type": "code",
   "execution_count": null,
   "metadata": {},
   "outputs": [],
   "source": [
    "#t = 0.016237767391887217\n",
    "t = 0.01\n",
    "bad_rxns = []\n",
    "objs = []\n",
    "for idx, row in df.iterrows():\n",
    "    print idx\n",
    "    cfps_conc_tmp = cfps_conc.copy()\n",
    "    cfps_conc_tmp = fs.update_vals(cfps_conc_tmp, row, n_batches, nrg_mix=nrg_mix, replace=args.froot == 'karim')\n",
    "    tot_rxn_amt = rxn_amt + addl_amt\n",
    "    if args.froot == 'karim':\n",
    "        exp_concs = cfps_conc_tmp['final_conc']\n",
    "    else:\n",
    "        exp_concs = fs.conc_dilution(cfps_conc_tmp['start_conc'], (rxn_amt / 5.0) * cfps_conc_tmp['amt'], tot_rxn_amt)\n",
    "    model_i = fs.change_conc(model, exp_concs)\n",
    "    dec_df = pd.DataFrame(data=test_dec[:, idx, :], columns=cols)\n",
    "    bad_cols = cols[dec_df.mean() < t]\n",
    "    bad_cols = bad_cols[bad_cols != 'DM_PROTEIN_RFP']\n",
    "    bad_rxns.append(bad_cols)\n",
    "    model_i.remove_reactions(bad_cols)\n",
    "    #print model_i.reactions.EX_mg2_c.bounds\n",
    "    #print model_i.reactions.EX_pi_c.bounds\n",
    "    sol = model_i.optimize()\n",
    "    objs.append(sol.objective_value)\n",
    "print scipy.stats.pearsonr(objs, df['OUT'])"
   ]
  },
  {
   "cell_type": "code",
   "execution_count": null,
   "metadata": {},
   "outputs": [],
   "source": [
    "prot = model.reactions"
   ]
  },
  {
   "cell_type": "code",
   "execution_count": null,
   "metadata": {},
   "outputs": [],
   "source": [
    "brs = bad_rxns[0]\n",
    "prot = model.reactions\n",
    "for br in bad_rxns:\n",
    "    print len(br)\n",
    "    for r in br:\n",
    "        if r in prot:\n",
    "            prot.remove(r)\n",
    "    brs = np.intersect1d(brs, br)"
   ]
  },
  {
   "cell_type": "code",
   "execution_count": null,
   "metadata": {},
   "outputs": [],
   "source": [
    "prot"
   ]
  },
  {
   "cell_type": "code",
   "execution_count": null,
   "metadata": {},
   "outputs": [],
   "source": [
    "m = cobra.Model('cfps')"
   ]
  },
  {
   "cell_type": "code",
   "execution_count": null,
   "metadata": {},
   "outputs": [],
   "source": [
    "m.add_reactions(prot)"
   ]
  },
  {
   "cell_type": "code",
   "execution_count": null,
   "metadata": {},
   "outputs": [],
   "source": [
    "m.objective = m.reactions.DM_PROTEIN_RFP"
   ]
  },
  {
   "cell_type": "code",
   "execution_count": null,
   "metadata": {},
   "outputs": [],
   "source": [
    "m.optimize()\n",
    "m.summary()"
   ]
  },
  {
   "cell_type": "code",
   "execution_count": null,
   "metadata": {},
   "outputs": [],
   "source": []
  }
 ],
 "metadata": {
  "kernelspec": {
   "display_name": "Python 2",
   "language": "python",
   "name": "python2"
  },
  "language_info": {
   "codemirror_mode": {
    "name": "ipython",
    "version": 2
   },
   "file_extension": ".py",
   "mimetype": "text/x-python",
   "name": "python",
   "nbconvert_exporter": "python",
   "pygments_lexer": "ipython2",
   "version": "2.7.10"
  }
 },
 "nbformat": 4,
 "nbformat_minor": 2
}
