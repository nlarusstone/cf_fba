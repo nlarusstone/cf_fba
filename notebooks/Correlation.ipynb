{
 "cells": [
  {
   "cell_type": "code",
   "execution_count": null,
   "metadata": {},
   "outputs": [],
   "source": [
    "import pandas as pd\n",
    "import numpy as np\n",
    "import matplotlib.pyplot as plt\n",
    "import scipy.stats\n",
    "import os\n",
    "from keras.models import load_model"
   ]
  },
  {
   "cell_type": "code",
   "execution_count": null,
   "metadata": {},
   "outputs": [],
   "source": [
    "import cobra\n",
    "%load_ext autoreload\n",
    "import sys\n",
    "if not '/home/nlarusstone/cf_fba' in sys.path:\n",
    "    sys.path.append('/home/nlarusstone/cf_fba')\n",
    "import src.utils as utils\n",
    "import src.flux_utils as futils\n",
    "import src.create_dataset as dataset\n",
    "import src.flux_sample as fs\n",
    "from src.get_test_data import get_test_data\n",
    "import src.cf_io as cf_io\n",
    "%autoreload 2"
   ]
  },
  {
   "cell_type": "code",
   "execution_count": null,
   "metadata": {},
   "outputs": [],
   "source": [
    "for f in os.listdir('../results'):\n",
    "    print f\n",
    "    res_df = pd.read_csv('../results/' + f)\n",
    "    #print res_df.head()\n",
    "    res_df.drop('Unnamed: 0', inplace=True, axis=1)\n",
    "    print scipy.stats.pearsonr(res_df.iloc[:, 0], res_df.iloc[:, 1])"
   ]
  },
  {
   "cell_type": "code",
   "execution_count": null,
   "metadata": {},
   "outputs": [],
   "source": [
    "latent_dim = 2\n",
    "use_corr = True\n",
    "froot = 'hand'\n",
    "if froot == 'karim':\n",
    "    dset = 'karim'\n",
    "else:\n",
    "    dset = 'nls'\n",
    "txtl = False\n",
    "resamp = True\n",
    "layer_szs = [1024, 512, 256]"
   ]
  },
  {
   "cell_type": "code",
   "execution_count": null,
   "metadata": {},
   "outputs": [],
   "source": [
    "X_test.shape"
   ]
  },
  {
   "cell_type": "code",
   "execution_count": null,
   "metadata": {},
   "outputs": [],
   "source": [
    "encoder, generator, X_test, y_test, obj_col, cols, y_vals_d, test_enc, test_dec = get_test_data(\n",
    "    froot, txtl, resamp, latent_dim, layer_szs, use_corr=True)"
   ]
  },
  {
   "cell_type": "code",
   "execution_count": null,
   "metadata": {},
   "outputs": [],
   "source": [
    "model_f = '{0}_ecoli_cf_base{1}.sbml'.format(dset, '_txtl' if txtl else '')\n",
    "test = '{0}_ecoli_cf_base{1}_0.sbml'.format(dset, '_txtl' if txtl else '')\n",
    "if not os.path.exists('../models/{0}/{1}'.format(froot, test)):\n",
    "    gen_models()\n",
    "    \n",
    "thresh = np.logspace(start=-2, stop=-1, num=20)\n",
    "bad_rxns_t = []\n",
    "res = []\n",
    "for t in thresh:\n",
    "    print t\n",
    "    objs = []\n",
    "    bad_rxns = []\n",
    "    for idx, row in df.iterrows():\n",
    "        model_f_i = '{0}_ecoli_cf_base{1}_{2}.sbml'.format(dset, '_txtl' if txtl else '', idx)\n",
    "        model_i = cobra.io.read_sbml_model('../models/{0}/'.format(froot) + model_f_i)\n",
    "        obj_name = str(model_i.objective.expression.args[0]).split('*')[1]\n",
    "        dec_df = pd.DataFrame(data=test_dec[:, idx, :], columns=cols)\n",
    "        bad_cols = cols[dec_df.mean() < t]\n",
    "        bad_cols = bad_cols[bad_cols != obj_name]\n",
    "        bad_rxns.append(bad_cols)\n",
    "        model_i.remove_reactions(bad_cols)\n",
    "        sol = model_i.optimize()\n",
    "        objs.append(sol.objective_value)\n",
    "    bad_rxns_t.append(bad_rxns)\n",
    "    print scipy.stats.pearsonr(objs, df['OUT'])\n",
    "    res.append(objs)"
   ]
  },
  {
   "cell_type": "code",
   "execution_count": null,
   "metadata": {
    "scrolled": true
   },
   "outputs": [],
   "source": [
    "rxn_amt = 5\n",
    "addl_amt = 1\n",
    "batch_size = 50\n",
    "n_batches = batch_size / rxn_amt\n",
    "model_f = '{0}_ecoli_cf_base{1}.sbml'.format('nls', '_txtl' if txtl else '')\n",
    "\n",
    "print 'Read in data'\n",
    "df = fs.get_exp_data(froot)\n",
    "#df.drop(columns=['Area_1', 'Area_2', 'Conc_1', 'Conc_2'], inplace=True)\n",
    "\n",
    "cfps_conc = pd.read_csv('../data/{0}_concs'.format('nls'), index_col='compound')\n",
    "if not froot == 'karim':\n",
    "    cfps_conc.drop('final_conc', inplace=True, axis=1)\n",
    "    nrg_mix = pd.read_csv('../data/energy_mix.csv', index_col='compound')\n",
    "else:\n",
    "    nrg_mix = None\n",
    "#print cfps_conc\n",
    "\n",
    "print 'Time to generate model specific conditions'\n",
    "model = cobra.io.read_sbml_model('../models/{0}'.format(model_f))\n",
    "print 'Model {0} read in'.format(model_f)"
   ]
  },
  {
   "cell_type": "code",
   "execution_count": null,
   "metadata": {},
   "outputs": [],
   "source": [
    "t = 10 ** -4.58\n",
    "pd.DataFrame(data=test_dec[:, 0, :], columns=cols)\n",
    "bad_cols = cols[dec_df.mean() < t]\n",
    "bad_cols"
   ]
  },
  {
   "cell_type": "code",
   "execution_count": null,
   "metadata": {},
   "outputs": [],
   "source": [
    "res = []\n",
    "thresh = np.logspace(start=-2, stop=-1, num=20)\n",
    "for t in thresh:\n",
    "    print t\n",
    "    objs = []\n",
    "    for idx, row in df.iterrows():\n",
    "        print idx\n",
    "        cfps_conc_tmp = cfps_conc.copy()\n",
    "        cfps_conc_tmp = fs.update_vals(cfps_conc_tmp, row, n_batches, nrg_mix=nrg_mix, replace=args.froot == 'karim')\n",
    "        tot_rxn_amt = rxn_amt + addl_amt\n",
    "        if args.froot == 'karim':\n",
    "            exp_concs = cfps_conc_tmp['final_conc']\n",
    "        else:\n",
    "            exp_concs = fs.conc_dilution(cfps_conc_tmp['start_conc'], (rxn_amt / 5.0) * cfps_conc_tmp['amt'], tot_rxn_amt)\n",
    "        model_i = fs.change_conc(model, exp_concs)\n",
    "        dec_df = pd.DataFrame(data=test_dec[:, idx, :], columns=cols)\n",
    "        bad_cols = cols[dec_df.mean() < t]\n",
    "        bad_cols = bad_cols[bad_cols != 'DM_PROTEIN_RFP']\n",
    "        model_i.remove_reactions(bad_cols)\n",
    "        #print model_i.reactions.EX_mg2_c.bounds\n",
    "        #print model_i.reactions.EX_pi_c.bounds\n",
    "        sol = model_i.optimize()\n",
    "        objs.append(sol.objective_value)\n",
    "    print scipy.stats.pearsonr(objs, df['OUT'])\n",
    "    res.append(objs)\n",
    "#res_df = pd.DataFrame(res)\n",
    "#res_df['Actual'] = df['OUT']\n",
    "#res_df.to_csv('../results/{0}_{1}_unoptimized_results{2}'.format(args.froot, args.dataset, '_txtl' if args.txtl else ''))"
   ]
  },
  {
   "cell_type": "code",
   "execution_count": null,
   "metadata": {},
   "outputs": [],
   "source": [
    "for r in res:\n",
    "    print r\n",
    "    print scipy.stats.pearsonr(r, df['OUT'])"
   ]
  },
  {
   "cell_type": "code",
   "execution_count": null,
   "metadata": {},
   "outputs": [],
   "source": [
    "#t = 0.016237767391887217\n",
    "t = 0.01\n",
    "bad_rxns = []\n",
    "objs = []\n",
    "for idx, row in df.iterrows():\n",
    "    print idx\n",
    "    cfps_conc_tmp = cfps_conc.copy()\n",
    "    cfps_conc_tmp = fs.update_vals(cfps_conc_tmp, row, n_batches, nrg_mix=nrg_mix, replace=args.froot == 'karim')\n",
    "    tot_rxn_amt = rxn_amt + addl_amt\n",
    "    if args.froot == 'karim':\n",
    "        exp_concs = cfps_conc_tmp['final_conc']\n",
    "    else:\n",
    "        exp_concs = fs.conc_dilution(cfps_conc_tmp['start_conc'], (rxn_amt / 5.0) * cfps_conc_tmp['amt'], tot_rxn_amt)\n",
    "    model_i = fs.change_conc(model, exp_concs)\n",
    "    dec_df = pd.DataFrame(data=test_dec[:, idx, :], columns=cols)\n",
    "    bad_cols = cols[dec_df.mean() < t]\n",
    "    bad_cols = bad_cols[bad_cols != 'DM_PROTEIN_RFP']\n",
    "    bad_rxns.append(bad_cols)\n",
    "    model_i.remove_reactions(bad_cols)\n",
    "    #print model_i.reactions.EX_mg2_c.bounds\n",
    "    #print model_i.reactions.EX_pi_c.bounds\n",
    "    sol = model_i.optimize()\n",
    "    objs.append(sol.objective_value)\n",
    "print scipy.stats.pearsonr(objs, df['OUT'])"
   ]
  },
  {
   "cell_type": "code",
   "execution_count": null,
   "metadata": {},
   "outputs": [],
   "source": [
    "prot = model.reactions"
   ]
  },
  {
   "cell_type": "code",
   "execution_count": null,
   "metadata": {},
   "outputs": [],
   "source": [
    "brs = bad_rxns[0]\n",
    "prot = model.reactions\n",
    "for br in bad_rxns:\n",
    "    print len(br)\n",
    "    for r in br:\n",
    "        if r in prot:\n",
    "            prot.remove(r)\n",
    "    brs = np.intersect1d(brs, br)"
   ]
  },
  {
   "cell_type": "code",
   "execution_count": null,
   "metadata": {},
   "outputs": [],
   "source": [
    "prot"
   ]
  },
  {
   "cell_type": "code",
   "execution_count": null,
   "metadata": {},
   "outputs": [],
   "source": [
    "m = cobra.Model('cfps')"
   ]
  },
  {
   "cell_type": "code",
   "execution_count": null,
   "metadata": {},
   "outputs": [],
   "source": [
    "m.add_reactions(prot)"
   ]
  },
  {
   "cell_type": "code",
   "execution_count": null,
   "metadata": {},
   "outputs": [],
   "source": [
    "m.objective = m.reactions.DM_PROTEIN_RFP"
   ]
  },
  {
   "cell_type": "code",
   "execution_count": null,
   "metadata": {},
   "outputs": [],
   "source": [
    "m.optimize()\n",
    "m.summary()"
   ]
  },
  {
   "cell_type": "code",
   "execution_count": null,
   "metadata": {},
   "outputs": [],
   "source": []
  }
 ],
 "metadata": {
  "kernelspec": {
   "display_name": "Python 2",
   "language": "python",
   "name": "python2"
  },
  "language_info": {
   "codemirror_mode": {
    "name": "ipython",
    "version": 2
   },
   "file_extension": ".py",
   "mimetype": "text/x-python",
   "name": "python",
   "nbconvert_exporter": "python",
   "pygments_lexer": "ipython2",
   "version": "2.7.10"
  }
 },
 "nbformat": 4,
 "nbformat_minor": 2
}
