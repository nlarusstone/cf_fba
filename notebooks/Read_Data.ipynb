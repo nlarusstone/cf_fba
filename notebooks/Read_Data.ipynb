{
 "cells": [
  {
   "cell_type": "code",
   "execution_count": null,
   "metadata": {},
   "outputs": [],
   "source": [
    "import pandas as pd\n",
    "import matplotlib.pyplot as plt\n",
    "import numpy as np"
   ]
  },
  {
   "cell_type": "code",
   "execution_count": null,
   "metadata": {},
   "outputs": [],
   "source": [
    "fname = '../data/17_5_18_T7_mRFP_NLS.CSV'\n",
    "fname = '../data/23-5_NLS_RFP.CSV'\n",
    "df = pd.read_csv(fname, skiprows=6)\n",
    "print df.shape\n",
    "gain_diff = df.shape[0] / 5\n",
    "times = df[\"Unnamed: 1\"]\n",
    "df.drop('Unnamed: 1', inplace=True, axis=1)\n",
    "# Bad data\n",
    "#df.drop(['E09', 'F04', 'F05'], inplace=True, axis=1)\n",
    "# Remove negative controls\n",
    "df.drop(df.columns[-2:], inplace=True, axis=1)\n",
    "df.head()"
   ]
  },
  {
   "cell_type": "code",
   "execution_count": null,
   "metadata": {},
   "outputs": [],
   "source": [
    "gain2 = gain_diff\n",
    "outs = df[gain2:gain2+gain_diff - 1].mean(axis=0)\n",
    "outs_norm = outs / outs.max()\n",
    "#print outs_norm\n",
    "sor_args = outs_norm.argsort()\n",
    "outs_norm[sor_args]"
   ]
  },
  {
   "cell_type": "code",
   "execution_count": null,
   "metadata": {},
   "outputs": [],
   "source": [
    "conds = pd.read_csv('../data/echo_exp_conditions.csv')\n",
    "#conds.drop(conds.shape[0] - 1, inplace=True)\n",
    "conds_full = conds.reindex(np.repeat(conds.index.values, 2)).reset_index()\n",
    "#conds_full = conds_full.drop(32).reset_index()\n",
    "print conds_full.shape, outs_norm.shape\n",
    "conds_full['OUT'] = outs_norm.reset_index(drop=True)\n",
    "conds_avg = conds_full.groupby('index').mean()\n",
    "conds_avg.to_csv('../data/17_5_18_EXPERIMENT.csv')\n",
    "conds_avg"
   ]
  },
  {
   "cell_type": "code",
   "execution_count": null,
   "metadata": {},
   "outputs": [],
   "source": [
    "for i in range(0, df.shape[0] - 1, gain_diff):\n",
    "    print i\n",
    "    #df.iloc[gain_diff][1:].plot(kind='bar')\n",
    "    df[i:i+gain_diff - 1].mean(axis=0).plot(kind='bar')\n",
    "    df.loc[i:i+gain_diff - 1, 'B02':'C09'].plot()\n",
    "    df.loc[i:i+gain_diff - 1, 'F05'].plot()\n",
    "    plt.legend(loc='upper left')\n",
    "    plt.show()\n"
   ]
  }
 ],
 "metadata": {
  "kernelspec": {
   "display_name": "Python 2",
   "language": "python",
   "name": "python2"
  },
  "language_info": {
   "codemirror_mode": {
    "name": "ipython",
    "version": 2
   },
   "file_extension": ".py",
   "mimetype": "text/x-python",
   "name": "python",
   "nbconvert_exporter": "python",
   "pygments_lexer": "ipython2",
   "version": "2.7.10"
  }
 },
 "nbformat": 4,
 "nbformat_minor": 2
}
