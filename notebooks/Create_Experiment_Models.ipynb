{
 "cells": [
  {
   "cell_type": "code",
   "execution_count": null,
   "metadata": {},
   "outputs": [],
   "source": [
    "import pandas as pd\n",
    "import matplotlib.pyplot as plt\n",
    "import numpy as np"
   ]
  },
  {
   "cell_type": "code",
   "execution_count": null,
   "metadata": {},
   "outputs": [],
   "source": [
    "%load_ext autoreload\n",
    "import sys\n",
    "if not '/Users/nlarusstone/Documents/MPhil/Research/cf_fba' in sys.path:\n",
    "    sys.path.append('/Users/nlarusstone/Documents/MPhil/Research/cf_fba')\n",
    "import src.utils as utils\n",
    "%autoreload 2"
   ]
  },
  {
   "cell_type": "code",
   "execution_count": null,
   "metadata": {},
   "outputs": [],
   "source": [
    "df = pd.read_csv('../data/17_5_18_T7_mRFP_NLS.CSV', skiprows=6)\n",
    "print df.shape\n",
    "gain_diff = df.shape[0] / 5\n",
    "times = df[\"Unnamed: 1\"]\n",
    "df.drop('Unnamed: 1', inplace=True, axis=1)\n",
    "# Bad data\n",
    "df.drop(['E09', 'F04', 'F05'], inplace=True, axis=1)\n",
    "df.head()"
   ]
  },
  {
   "cell_type": "code",
   "execution_count": null,
   "metadata": {},
   "outputs": [],
   "source": [
    "gain2 = gain_diff\n",
    "outs = df[gain2:gain2+gain_diff - 1].mean(axis=0)\n",
    "#outs_norm = outs / outs.max()\n",
    "#print outs_norm\n",
    "#sor_args = outs_norm.argsort()\n",
    "#outs_norm[sor_args]"
   ]
  },
  {
   "cell_type": "code",
   "execution_count": null,
   "metadata": {},
   "outputs": [],
   "source": [
    "df = pd.read_csv('../data/17_5_18_T7_mRFP_NLS.CSV', skiprows=6)\n",
    "print df.shape\n",
    "gain_diff = df.shape[0] / 5\n",
    "times = df[\"Unnamed: 1\"]\n",
    "df.drop('Unnamed: 1', inplace=True, axis=1)\n",
    "# Bad data\n",
    "df.drop(['E09', 'F04', 'F05'], inplace=True, axis=1)\n",
    "df.head()\n",
    "gain2 = gain_diff\n",
    "outs = df[gain2:gain2+gain_diff - 1].mean(axis=0)\n",
    "conds = pd.read_csv('../data/17_5_18_exp_conditions.csv')\n",
    "conds.drop(conds.shape[0] - 1, inplace=True)\n",
    "conds_full = conds.reindex(np.repeat(conds.index.values, 2)).reset_index()\n",
    "conds_full = conds_full.drop(32).reset_index(drop=True)\n",
    "conds_full['OUT'] = outs.reset_index(drop=True)\n",
    "conds_avg = conds_full.groupby('index').mean()\n",
    "conds_norm = conds_avg / conds_avg.max()\n",
    "conds_norm.to_csv('../data/17_5_18_EXPERIMENT.csv')\n",
    "conds_norm"
   ]
  },
  {
   "cell_type": "code",
   "execution_count": null,
   "metadata": {},
   "outputs": [],
   "source": [
    "# amt in g, vol in mL, mw in g/mol\n",
    "def calc_conc(amt, vol, mw=None, seq=None, seq_type=None):\n",
    "    # seq can be DNA or protein or an amino acid\n",
    "    if seq:\n",
    "        mw = su.molecular_weight(seq, seq_type)\n",
    "    elif not mw:\n",
    "        raise Exception('Need a molecular weight for non-DNA')\n",
    "    conc = (amt * 1000) / (vol * mw)\n",
    "    # returns Molar concentrations\n",
    "    return conc\n",
    "\n",
    "def conc_dilution(start_conc, vol_add, tot_vol):\n",
    "    return start_conc * (vol_add / tot_vol)"
   ]
  },
  {
   "cell_type": "code",
   "execution_count": null,
   "metadata": {},
   "outputs": [],
   "source": [
    "def read_start_conds():\n",
    "    aa_mix = pd.read_csv('../data/aa_mix.csv', index_col='AA')\n",
    "    nrg_mix = pd.read_csv('../data/energy_mix.csv', index_col='compound')\n",
    "    with open('../genes/rfp.txt', 'r') as f:\n",
    "        seq = f.read()\n",
    "    cfps_conc = pd.read_csv('../data/cfps_start.csv', index_col='compound')\n",
    "    dna_conc = calc_conc(0.000750, 0.00496, seq=seq, seq_type='DNA')\n",
    "    return aa_mix, nrg_mix, cfps_conc, dna_conc\n",
    "aa_mix, nrg_mix, cfps_conc, dna_conc = read_start_conds()\n",
    "rxn_amt = 5\n",
    "batch_size = 50 / rxn_amt\n",
    "cfps_conc['amt'] = cfps_conc['amt'] / batch_size"
   ]
  },
  {
   "cell_type": "code",
   "execution_count": null,
   "metadata": {},
   "outputs": [],
   "source": [
    "aa_mix['start_conc'] = aa_mix.apply(lambda row: calc_conc(row['weight_add'], 1, \n",
    "                                                          seq=pdb.three_to_one(row.name.upper()), seq_type='protein'), axis=1)\n",
    "aa_mix['conc_add'] = conc_dilution(aa_mix['start_conc'], aa_mix['vol_add'], aa_mix['vol_add'].sum())"
   ]
  },
  {
   "cell_type": "code",
   "execution_count": null,
   "metadata": {},
   "outputs": [],
   "source": [
    "pi_conc = calc_conc(0.15, 5, mw=611.77)"
   ]
  },
  {
   "cell_type": "code",
   "execution_count": null,
   "metadata": {},
   "outputs": [],
   "source": [
    "import Bio.PDB.Polypeptide as pdb\n",
    "import Bio.SeqUtils as su\n",
    "\n",
    "nrg_mix['start_conc'] = nrg_mix.apply(lambda row: calc_conc(row['amt'], row['fill'], mw=row['mw']), axis=1)\n",
    "nrg_mix['conc_add'] = conc_dilution(nrg_mix['start_conc'], nrg_mix['vol_add'], nrg_mix['vol_add'].sum())\n",
    "\n",
    "for cmpnd, vals in nrg_mix.iterrows():\n",
    "    cfps_conc.loc[cmpnd] = [vals['conc_add'], (5.0 / batch_size)]\n",
    "for aa, vals in aa_mix.iterrows():\n",
    "    cfps_conc.loc[aa] = [vals['conc_add'], (10.0 / batch_size)]\n",
    "cfps_conc.loc['GENE'] = [dna_conc, (4.96 / batch_size)]\n",
    "#cfps_conc['final_conc'] = conc_dilution(cfps_conc['start_conc'], cfps_conc['amt'], rxn_amt)"
   ]
  },
  {
   "cell_type": "code",
   "execution_count": null,
   "metadata": {},
   "outputs": [],
   "source": [
    "for idx, row in conds_norm.iterrows():\n",
    "    cfps_conc_tmp = cfps_conc.copy()\n",
    "    cfps_conc_tmp.loc['pi']['amt'] += row['pi']\n",
    "    cfps_conc_tmp.loc['k']['amt'] += row['k']\n",
    "    for nt in ['atp', 'gtp', 'ctp', 'utp']:\n",
    "        cfps_conc_tmp.loc[nt]['amt'] += row['nts'] / 4\n",
    "    for cmpnd, vals in nrg_mix.iterrows():\n",
    "        cfps_conc_tmp.loc[cmpnd] = [vals['conc_add'], (5.0 + row['mdx'] / batch_size)]\n",
    "    rxn_amt += 1\n",
    "    exp_concs = conc_dilution(cfps_conc_tmp['start_conc'], cfps_conc_tmp['amt'], rxn_amt)"
   ]
  },
  {
   "cell_type": "code",
   "execution_count": null,
   "metadata": {},
   "outputs": [],
   "source": [
    "def change_conc(model, cfps_conc):\n",
    "    mod = model.copy()\n",
    "\n",
    "    for metab, vals in cfps_conc.iteritems():\n",
    "        flux = utils.conc_to_flux(vals) * 100\n",
    "\n",
    "        if metab == 'trna':\n",
    "            ms = model.metabolites.query('trna')\n",
    "        elif metab.upper() in pdb.aa3:\n",
    "            ms = get_aa_metab(model, metab.lower(), cmpt='c')\n",
    "        else:\n",
    "            ms = mod.metabolites.query(r'^{0}_c'.format(metab))\n",
    "        for m in ms:\n",
    "            rxn_nm = 'EX_' + m.id\n",
    "            rxn = mod.reactions.get_by_id(rxn_nm)\n",
    "            rxn.upper_bound = flux\n",
    "            #mod.add_boundary(metabolite=m, type='exchange', lb=0, ub=flux)\n",
    "            #mod.add_boundary(metabolite=m, type='cfps-medium', reaction_id=rxn_nm, lb=0, ub=flux) \n",
    "    return mod\n"
   ]
  },
  {
   "cell_type": "code",
   "execution_count": null,
   "metadata": {},
   "outputs": [],
   "source": [
    "change_conc(model, cfps_conc)"
   ]
  },
  {
   "cell_type": "code",
   "execution_count": null,
   "metadata": {},
   "outputs": [],
   "source": [
    "model = cobra.io.read_sbml_model('../models/iJO1366.xml')"
   ]
  },
  {
   "cell_type": "code",
   "execution_count": null,
   "metadata": {},
   "outputs": [],
   "source": []
  }
 ],
 "metadata": {
  "kernelspec": {
   "display_name": "Python 2",
   "language": "python",
   "name": "python2"
  },
  "language_info": {
   "codemirror_mode": {
    "name": "ipython",
    "version": 2
   },
   "file_extension": ".py",
   "mimetype": "text/x-python",
   "name": "python",
   "nbconvert_exporter": "python",
   "pygments_lexer": "ipython2",
   "version": "2.7.5"
  }
 },
 "nbformat": 4,
 "nbformat_minor": 2
}
