{
 "cells": [
  {
   "cell_type": "code",
   "execution_count": null,
   "metadata": {},
   "outputs": [],
   "source": [
    "import matplotlib.pyplot as plt\n",
    "import numpy as np\n",
    "from keras.models import load_model"
   ]
  },
  {
   "cell_type": "code",
   "execution_count": null,
   "metadata": {},
   "outputs": [],
   "source": [
    "import cobra\n",
    "%load_ext autoreload\n",
    "import sys\n",
    "if not '/home/nlarusstone/cf_fba' in sys.path:\n",
    "    sys.path.append('/home/nlarusstone/cf_fba')\n",
    "import src.utils as utils\n",
    "import src.flux_sample as fs\n",
    "import src.create_dataset as dataset\n",
    "from src.get_test_data import get_test_data\n",
    "import src.cf_io as cf_io\n",
    "import src.plotting as plotting\n",
    "%autoreload 2"
   ]
  },
  {
   "cell_type": "code",
   "execution_count": null,
   "metadata": {},
   "outputs": [],
   "source": [
    "latent_dim = 2\n",
    "use_corr = True\n",
    "froot = 'hand'\n",
    "txtl = True\n",
    "resamp = True\n",
    "layer_szs = [1024, 1024, 1024]"
   ]
  },
  {
   "cell_type": "code",
   "execution_count": null,
   "metadata": {},
   "outputs": [],
   "source": [
    "encoder, generator, X_test, y_test, obj_col, cols, y_vals_d, test_enc, test_dec = cf_io.get_test_data(\n",
    "    froot, txtl, resamp, latent_dim, layer_szs, use_corr=True)"
   ]
  },
  {
   "cell_type": "code",
   "execution_count": null,
   "metadata": {},
   "outputs": [],
   "source": [
    "latent_dim = 10\n",
    "encoder_l, generator_l, X_test_l, y_test_l, obj_col_l, cols_l, y_vals_d_l, test_enc_l, test_dec_l = cf_io.get_test_data(\n",
    "    froot, txtl, resamp, latent_dim, layer_szs, use_corr=True)"
   ]
  },
  {
   "cell_type": "code",
   "execution_count": null,
   "metadata": {},
   "outputs": [],
   "source": [
    "df = cf_io.get_exp_data('manual')\n",
    "df.drop('level_0', axis=1, inplace=True)\n",
    "df.head()"
   ]
  },
  {
   "cell_type": "code",
   "execution_count": null,
   "metadata": {},
   "outputs": [],
   "source": [
    "axarr = plt.subplots(nrows=1, ncols=2, figsize=(14, 8))[1]\n",
    "plotting.plt_latent_space(test_enc, df, axarr[0], samp_range=(0, 1000), legend=False)\n",
    "axarr[0].set_title('Corr-VAE latent space 2 dimensions')\n",
    "plotting.plt_latent_space(test_enc_l, df, axarr[1], dim_1=0, dim_2=samp_range=(0, 1000), legend=True)\n",
    "axarr[1].set_title('Corr-VAE latent space 10 dimensions')\n",
    "plt.show()"
   ]
  },
  {
   "cell_type": "code",
   "execution_count": null,
   "metadata": {},
   "outputs": [],
   "source": [
    "test_enc_l.shape"
   ]
  },
  {
   "cell_type": "code",
   "execution_count": null,
   "metadata": {},
   "outputs": [],
   "source": [
    "from sklearn.manifold import TSNE\n",
    "tsne = TSNE(n_components=2, verbose=True)"
   ]
  },
  {
   "cell_type": "code",
   "execution_count": null,
   "metadata": {},
   "outputs": [],
   "source": [
    "test_enc_l.shape"
   ]
  },
  {
   "cell_type": "code",
   "execution_count": null,
   "metadata": {},
   "outputs": [],
   "source": [
    "test_enc_sm = test_enc_l[0:1000, :, :]"
   ]
  },
  {
   "cell_type": "code",
   "execution_count": null,
   "metadata": {},
   "outputs": [],
   "source": [
    "test_enc_l_2d = test_enc_sm.reshape(test_enc_sm.shape[0] * test_enc_l.shape[1], test_enc_l.shape[2])\n",
    "test_enc_l_2d.shape"
   ]
  },
  {
   "cell_type": "code",
   "execution_count": null,
   "metadata": {
    "scrolled": true
   },
   "outputs": [],
   "source": [
    "tsne_enc_l = tsne.fit_transform(test_enc_l_2d)"
   ]
  },
  {
   "cell_type": "code",
   "execution_count": null,
   "metadata": {},
   "outputs": [],
   "source": [
    "tsne_enc_l.shape"
   ]
  },
  {
   "cell_type": "code",
   "execution_count": null,
   "metadata": {},
   "outputs": [],
   "source": [
    "col = np.array(range(17) * (tsne_enc_l.shape[0] / 17))"
   ]
  },
  {
   "cell_type": "code",
   "execution_count": null,
   "metadata": {},
   "outputs": [],
   "source": [
    "plotting.plt_latent_space(tsne_enc_l, df, None, flat=True, y_test=col, dim_1=0, dim_2=1, legend=True)\n",
    "plt.title('tSNE projection of 10-dimensional Corr-VAE latent space')"
   ]
  },
  {
   "cell_type": "code",
   "execution_count": null,
   "metadata": {
    "scrolled": false
   },
   "outputs": [],
   "source": [
    "for i in range(1, 10):\n",
    "    plotting.plt_latent_space(test_enc_l, df, None, dim_1=0, dim_2=i, samp_range=(0, 1000), legend=True)\n",
    "    plt.show()"
   ]
  },
  {
   "cell_type": "code",
   "execution_count": null,
   "metadata": {},
   "outputs": [],
   "source": [
    "stds.shape"
   ]
  },
  {
   "cell_type": "code",
   "execution_count": null,
   "metadata": {},
   "outputs": [],
   "source": [
    "stds = X_test.std(axis=0).mean(axis=0)\n",
    "recon_stds = test_dec.std(axis=0).mean(axis=0)\n",
    "rxn_nums = range(X_test.shape[-1])"
   ]
  },
  {
   "cell_type": "code",
   "execution_count": null,
   "metadata": {},
   "outputs": [],
   "source": [
    "def plt_stds(rxns, stds, recon, ax=None, last=False):\n",
    "    if ax is None:\n",
    "        fig, ax = plt.subplots(nrows=1, ncols=1, figsize=(10, 10))\n",
    "    ax.scatter(rxns, stds)\n",
    "    if not last:\n",
    "        ax.set_ylabel('Std deviation of fluxes')\n",
    "    ax.set_xlabel('Reaction ID')\n",
    "    ax.set_title('Standard deviation of {0}fluxes'.format('reconstructed ' if recon else ''))\n",
    "    #plt.show()\n",
    "fig, axarr = plt.subplots(nrows=1, ncols=2, figsize=(10, 8))\n",
    "plt_stds(rxn_nums, stds, recon=False, ax=axarr[0])\n",
    "plt_stds(rxn_nums, recon_stds, recon=True, ax=axarr[1], last=True)\n",
    "plt.show()"
   ]
  },
  {
   "cell_type": "code",
   "execution_count": null,
   "metadata": {},
   "outputs": [],
   "source": [
    "def pred(biased_resamp_data, enc, gen):\n",
    "    encoded_biased = enc.predict(biased_resamp_data)\n",
    "    decoded_biased = gen.predict(encoded_biased)\n",
    "    return check_corr(decoded_biased, df, btol_col)\n",
    "pred(biased_resamp_data, enc, gen)\n",
    "pred(biased_resamp_data, enc2, gen2)"
   ]
  },
  {
   "cell_type": "code",
   "execution_count": null,
   "metadata": {},
   "outputs": [],
   "source": [
    "def add_noise(biased_resamp_data, enc, gen):\n",
    "    noise_arr = np.logspace(start=-5, stop=1, num=10)\n",
    "    corrs = []\n",
    "    for noise in noise_arr:\n",
    "        noisy_data = biased_resamp_data.copy()\n",
    "        for i in range(n_experiments):\n",
    "            s = noisy_data[:, i, :].shape\n",
    "            noisy_data[:, i, :] += np.random.normal(scale=noise, size=s)\n",
    "            #noisy_data[:, i, :] = minmax_scale(noisy_data[:, i, :])\n",
    "        #scaled_noisy_data = scale_by_flux(noisy_data)\n",
    "        corr = pred(noisy_data, enc, gen)\n",
    "        corrs.append(corr)\n",
    "    return zip(noise_arr, corrs) + [(0, pred(biased_resamp_data, enc, gen))]\n",
    "noise_res = add_noise(biased_resamp_data, enc, gen)\n",
    "noise_res2 = add_noise(biased_resamp_data, enc_good, gen_good)\n",
    "noise_res3 = add_noise(biased_resamp_data, enc_bad, gen_bad)"
   ]
  },
  {
   "cell_type": "code",
   "execution_count": null,
   "metadata": {},
   "outputs": [],
   "source": [
    "orig_corr = check_corr(biased_resamp_data, df, btol_col)\n",
    "def plt_noise_corr(noise_data, orig_corr, ndim=2):\n",
    "    orig_enc, noise_data = noise_data[-1], noise_data[:-1]\n",
    "    plt.figure(figsize=(10, 8))\n",
    "    plt.title('Latent dimension = {0}'.format(ndim))\n",
    "    plt.axhline(y=-1 * orig_enc[1] if orig_enc[1] < 0 else orig_enc[1], label='Original data encoded')\n",
    "    plt.axhline(y=orig_corr, label='Original data correlation', c='g')\n",
    "    for noise, corr in noise_data:\n",
    "        plt.scatter(x=noise, y=-1 * corr if corr < 0 else corr)\n",
    "        plt.xlabel('Noise amount')\n",
    "        plt.ylabel('Correlation')\n",
    "    plt.xscale('log')\n",
    "    plt.legend()\n",
    "    plt.show()\n",
    "plt_noise_corr(noise_res, orig_corr, ndim=2)\n",
    "#plt_noise_corr(noise_res2, orig_corr, ndim=10)\n",
    "#plt_noise_corr(noise_res3, orig_corr, ndim='2, no correlation loss')"
   ]
  },
  {
   "cell_type": "code",
   "execution_count": null,
   "metadata": {},
   "outputs": [],
   "source": []
  }
 ],
 "metadata": {
  "kernelspec": {
   "display_name": "Python 2",
   "language": "python",
   "name": "python2"
  },
  "language_info": {
   "codemirror_mode": {
    "name": "ipython",
    "version": 2
   },
   "file_extension": ".py",
   "mimetype": "text/x-python",
   "name": "python",
   "nbconvert_exporter": "python",
   "pygments_lexer": "ipython2",
   "version": "2.7.10"
  }
 },
 "nbformat": 4,
 "nbformat_minor": 2
}
