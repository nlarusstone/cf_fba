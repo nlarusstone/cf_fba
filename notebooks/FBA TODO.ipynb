{
 "cells": [
  {
   "cell_type": "code",
   "execution_count": null,
   "metadata": {},
   "outputs": [],
   "source": [
    "import pandas as pd\n",
    "import json"
   ]
  },
  {
   "cell_type": "code",
   "execution_count": null,
   "metadata": {},
   "outputs": [],
   "source": [
    "with open('./code/iJO1366.json', 'r') as f:\n",
    "    l = f.readlines()"
   ]
  },
  {
   "cell_type": "code",
   "execution_count": null,
   "metadata": {},
   "outputs": [],
   "source": [
    "print len(l)"
   ]
  },
  {
   "cell_type": "code",
   "execution_count": null,
   "metadata": {},
   "outputs": [],
   "source": [
    "l[0]"
   ]
  },
  {
   "cell_type": "code",
   "execution_count": null,
   "metadata": {},
   "outputs": [],
   "source": [
    "def kgk10_ko(model):\n",
    "    # Remove genes that aren't in kck10 (need to translate to GPR)\n",
    "    # A19:\n",
    "        # rna-19\n",
    "    # KC6: \n",
    "        # A19 strain\n",
    "        # speA (arginine decarboxylase) -  b2938\n",
    "        # tnaA (tryptophanase) - b3708\n",
    "        # sdaA and sdaB (serine deaminase) - b1814 and b2797\n",
    "        # gshA (glutatamte-cysteine ligase) - b2688\n",
    "        # tonA - (tonB is b1252)\n",
    "        # endAmet\n",
    "    # KGK10:\n",
    "        # KC6 strain\n",
    "        # Remove gor (GSSG) - b3500\n",
    "        # Add hemagglutinin tag to trxB - b0888"
   ]
  },
  {
   "cell_type": "code",
   "execution_count": null,
   "metadata": {},
   "outputs": [],
   "source": [
    "# Works IN PLACE\n",
    "def replace_comparts(model):\n",
    "    #Move all reactions and metabolites to cytosol\n",
    "    cmpts = model.compartments\n",
    "    non_cyt = cmpts - 'c'\n",
    "    for rxn in model.reactions:\n",
    "        for non_cyt_cmpt in non_cyt:\n",
    "            rxn.compartments.remove(non_cyt_cmpt)\n",
    "    \n",
    "    for metab in model.metabolites:\n",
    "        metab.compartment = 'c'\n",
    "\n",
    "# Works IN PLACE\n",
    "def remove_comparts(model):\n",
    "    #Remove all non-cytosolic reactions and metabolites\n",
    "    for rxn in model.reactions:\n",
    "        if not 'c' in rxn.compartments:\n",
    "            rxn.remove_from_model(remove_orphans=True)\n",
    "            \n",
    "    for metab in model.metabolites:\n",
    "        if metab.compartment != 'c':\n",
    "            metab.remove_from_model(destructive=False)"
   ]
  },
  {
   "cell_type": "code",
   "execution_count": null,
   "metadata": {},
   "outputs": [],
   "source": [
    "def create_obj_fxn(model):\n",
    "    #Only care about protein synthesis for CFPS?"
   ]
  },
  {
   "cell_type": "code",
   "execution_count": null,
   "metadata": {},
   "outputs": [],
   "source": [
    "# N-butanol pathway\n",
    "# Glucose + NAD + PO4 + Mg + ATP -> NADH + ADP + 2xPEP\n",
    "# PEP + ADP -> ATP + Pyruvate\n",
    "# Pyr + CoA + NAD -> CO2 + NADH + Acc_CoA\n",
    "# 2x Acc_CoA -> acetoacyl-CoA (AtoB enzyme)\n",
    "# acetoacyl-CoA + NADH -> 3-hydroxybutyryl-CoA + NAD (Hbd enzyme)\n",
    "# 3-hydroxybutyryl-CoA -> crotonyl-CoA (Crt enzyme)\n",
    "# crotonyl-CoA + NADH -> butyryl-CoA + NAD (Ter enzyme)\n",
    "# butyryl-CoA + NADH -> butyraldehyde + NAD (AdhE enzyme)\n",
    "# butyraldehyde + NADH -> 1-butanol + NAD (AdhE enzyme)\n"
   ]
  },
  {
   "cell_type": "code",
   "execution_count": null,
   "metadata": {},
   "outputs": [],
   "source": [
    "# Start and end are metabolites\n",
    "def find_path(start, end):\n",
    "    explored = set([])\n",
    "    found = False\n",
    "    frontier = [start]\n",
    "    path = {}\n",
    "    while frontier:\n",
    "        metab = frontier.pop()\n",
    "        if metab in explored:\n",
    "            continue\n",
    "        print\n",
    "        print \"METABOLITE: \", metab\n",
    "        print\n",
    "        if metab == end:\n",
    "            break\n",
    "        explored.add(metab)\n",
    "\n",
    "        for rxn in model_e.metabolites.get_by_id(metab.id).reactions:\n",
    "            if metab in rxn.reactants:\n",
    "                #print rxn\n",
    "                for prod in rxn.products:\n",
    "                    if not (prod in explored or prod in frontier):\n",
    "                        path[prod] = metab\n",
    "                        frontier.append(prod)\n",
    "    return path\n",
    "path = find_path(model_e.metabolites.glc__D_c, model_e.metabolites.pep_c)\n",
    "\n",
    "cur = model_e.metabolites.pep_c\n",
    "while cur != model_e.metabolites.glc__D_c:\n",
    "    print cur.id\n",
    "    cur = path[cur]"
   ]
  },
  {
   "cell_type": "code",
   "execution_count": null,
   "metadata": {},
   "outputs": [],
   "source": [
    "def remove_exs(model):\n",
    "    model_no_ex = model.copy()\n",
    "    model_no_ex.remove_reactions(reactions=model_no_ex.exchanges)\n",
    "    return model_no_ex\n",
    "model_no_ex = remove_exs(model)"
   ]
  },
  {
   "cell_type": "markdown",
   "metadata": {},
   "source": [
    "# KEGG"
   ]
  },
  {
   "cell_type": "code",
   "execution_count": null,
   "metadata": {},
   "outputs": [],
   "source": [
    "import Bio.KEGG as bk\n",
    "from Bio.KEGG import REST\n",
    "path = REST.kegg_find('PATHWAY', 'butanol')\n",
    "path.readlines()"
   ]
  },
  {
   "cell_type": "code",
   "execution_count": null,
   "metadata": {},
   "outputs": [],
   "source": [
    "import bioservices\n",
    "from bioservices.kegg import KEGG\n",
    "k = KEGG()\n",
    "k.organism = 'cac'\n",
    "k.get('adhe1')\n",
    "k.organism = 'eco'\n",
    "k.list('pathway').split('\\t')\n",
    "butanol = k.get('path:eco00650', \"kgml\")\n",
    "but_par = k.parse_kgml_pathway('path:eco00650')\n",
    "but_par['relations'], but_par['entries']\n",
    "compounds_str = k.list('compound')\n",
    "compounds = compounds_str.strip().split('\\n')\n",
    "from difflib import SequenceMatcher\n",
    "def similar(a, b):\n",
    "    return SequenceMatcher(None, a, b).ratio()\n",
    "coa = 'acetoacetyl-coa'\n",
    "\n",
    "for compound in compounds:\n",
    "    cpd_id, name = compound.split('\\t')\n",
    "    score = similar(name.lower(), coa)\n",
    "    if  score > 0.5:\n",
    "        print score\n",
    "        print cpd_id, name\n",
    "        #break"
   ]
  },
  {
   "cell_type": "code",
   "execution_count": null,
   "metadata": {},
   "outputs": [],
   "source": [
    "from Bio.KEGG import REST\n",
    "\n",
    "pathways = REST.kegg_list(\"pathway\", \"eco\").read()\n",
    "\n",
    "# Filter all human pathways for repair pathways\n",
    "but_pathways = []\n",
    "for line in pathways.rstrip().split(\"\\n\"):\n",
    "    entry, description = line.split(\"\\t\")\n",
    "    if \"Butanoate\" in description:\n",
    "        but_pathways.append(entry)\n",
    "but_pathways\n",
    "but_genes = []\n",
    "for pathway in but_pathways:\n",
    "    pathway_file = REST.kegg_get(pathway).read()  # query and read each pathway\n",
    "\n",
    "    # iterate through each KEGG pathway file, keeping track of which section\n",
    "    # of the file we're in, only read the gene in each pathway\n",
    "    current_section = None\n",
    "    for line in pathway_file.rstrip().split(\"\\n\"):\n",
    "        print line\n",
    "        section = line[:12].strip()  # section names are within 12 columns\n",
    "        if not section == \"\":\n",
    "            current_section = section\n",
    "\n",
    "        if current_section == \"GENE\":\n",
    "            gene_identifiers, gene_description = line[12:].split(\"; \")\n",
    "            gene_id, gene_symbol = gene_identifiers.split()\n",
    "\n",
    "            if not gene_symbol in but_genes:\n",
    "                but_genes.append(gene_symbol)"
   ]
  }
 ],
 "metadata": {
  "kernelspec": {
   "display_name": "Python 2",
   "language": "python",
   "name": "python2"
  },
  "language_info": {
   "codemirror_mode": {
    "name": "ipython",
    "version": 2
   },
   "file_extension": ".py",
   "mimetype": "text/x-python",
   "name": "python",
   "nbconvert_exporter": "python",
   "pygments_lexer": "ipython2",
   "version": "2.7.5"
  }
 },
 "nbformat": 4,
 "nbformat_minor": 2
}
