{
 "cells": [
  {
   "cell_type": "code",
   "execution_count": 1,
   "metadata": {},
   "outputs": [
    {
     "data": {
      "text/plain": [
       "@bash_str (macro with 1 method)"
      ]
     },
     "execution_count": 1,
     "metadata": {},
     "output_type": "execute_result"
    }
   ],
   "source": [
    "macro bash_str(s) open(`bash`,\"w\",STDOUT) do io; print(io, s); end; end"
   ]
  },
  {
   "cell_type": "code",
   "execution_count": 6,
   "metadata": {},
   "outputs": [
    {
     "name": "stdout",
     "output_type": "stream",
     "text": [
      "tx_inits = Int64[]\n",
      "FB = [0.0 100.0; 0.0 100.0; 0.0 100.0; 0.0 100.0; 0.0 100.0; 0.0 100.0; 0.0 100.0; 0.0 100.0; 0.0 100.0; 0.0 100.0; 0.0 100.0; 0.0 100.0; 0.0 100.0; 0.0 100.0; 0.0 100.0; 0.0 100.0; 0.0 100.0; 0.0 100.0; 0.0 100.0; 0.0 100.0; 0.0 100.0; 0.0 100.0; 0.0 100.0; 0.0 100.0; 0.0 100.0; 0.0 100.0; 0.0 100.0; 0.0 100.0; 0.0 100.0; 0.0 100.0; 0.0 100.0; 0.0 100.0; 0.0 100.0; 0.0 100.0; 0.0 100.0; 0.0 100.0; 0.0 100.0; 0.0 100.0; 0.0 100.0; 0.0 100.0; 0.0 100.0; 0.0 100.0; 0.0 100.0; 0.0 100.0; 0.0 100.0; 0.0 100.0; 0.0 100.0; 0.0 100.0; 0.0 100.0; 0.0 100.0; 0.0 100.0; 0.0 100.0; 0.0 100.0; 0.0 100.0; 0.0 100.0; 0.0 100.0; 0.0 100.0; 0.0 100.0; 0.0 100.0; 0.0 100.0; 0.0 100.0; 0.0 100.0; 0.0 100.0; 0.0 100.0; 0.0 100.0; 0.0 100.0; 0.0 100.0; 0.0 100.0; 0.0 100.0; 0.0 100.0; 0.0 100.0; 0.0 100.0; 0.0 100.0; 0.0 100.0; 0.0 100.0; 0.0 100.0; 0.0 100.0; 0.0 100.0; 0.0 100.0; 0.0 100.0; 0.0 100.0; 0.0 100.0; 0.0 100.0; 0.0 100.0; 0.0 100.0; 0.0 100.0; 0.0 100.0; 0.0 100.0; 0.0 100.0; 0.0 100.0; 0.0 100.0; 0.0 100.0; 0.0 100.0; 0.0 100.0; 0.0 100.0; 0.0 100.0; 0.0 100.0; 0.0 100.0; 0.0 100.0; 0.0 0.0; 0.0 0.0; 0.0 0.0; 0.0 0.0; 0.0 0.0; 0.0 0.0; 0.0 0.0; 0.0 0.0; 0.0 0.0; 0.0 0.0; 0.0 0.0; 0.0 0.0; 0.0 0.0; 0.0 0.0; 0.0 0.0; 0.0 0.0; 0.0 0.0; 0.0 100.0; 0.0 100.0; 0.0 100.0; 0.0 100.0; 0.0 100.0; 0.0 100.0; 0.0 100.0; 0.0 100.0; 0.0 100.0; 0.0 100.0; 0.0 100.0; 0.0 100.0; 0.0 100.0; 0.0 100.0; 0.0 100.0; 0.0 100.0; 0.0 100.0; 0.0 100.0; 0.0 100.0; 0.0 100.0; 0.0 100.0; 0.0 100.0; 0.0 100.0; 0.0 100.0; 0.0 100.0; 0.0 100.0; 0.0 100.0; 0.0 100.0; 0.0 100.0; 0.0 100.0; 0.0 100.0; 0.0 100.0; 0.0 100.0; 0.0 100.0; 0.0 100.0; 0.0 100.0; 0.0 100.0; 0.0 100.0; 0.0 100.0; 0.0 100.0; 0.0 100.0; 0.0 100.0; 0.0 100.0; 0.0 100.0; 0.0 100.0; 0.0 100.0; 0.0 100.0; 0.0 100.0; 0.0 100.0; 0.0 100.0; 0.0 100.0; 0.0 100.0; 0.0 100.0; 0.0 100.0; 0.0 100.0; 0.0 100.0; 0.0 100.0; 0.0 100.0; 0.0 100.0; 0.0 100.0; 0.0 100.0; 0.0 100.0; 0.0 100.0; 0.0 100.0; 0.0 100.0; 0.0 100.0; 0.0 100.0; 0.0 100.0; 0.0 100.0; 0.0 100.0; 0.0 100.0; 0.0 30.0; 0.0 100.0; 0.0 100.0; 0.0 100.0; 0.0 0.0; 0.0 100.0; 0.0 100.0; 0.0 0.0; 0.0 0.0; 0.0 0.0; 0.0 0.0; 0.0 100.0; 0.0 100.0; 0.0 100.0; 0.0 100.0; 0.0 100.0; 0.0 100.0; 0.0 100.0; 0.0 0.0; 0.0 100.0; 0.0 0.0; 0.0 100.0; 0.0 0.0; 0.0 100.0; 0.0 0.0; 0.0 100.0; 0.0 0.0; 0.0 100.0; 0.0 0.0; 0.0 100.0; 0.0 0.0; 0.0 100.0; 0.0 0.0; 0.0 100.0; 0.0 0.0; 0.0 100.0; 0.0 0.0; 0.0 100.0; 0.0 0.0; 0.0 100.0; 0.0 0.0; 0.0 100.0; 0.0 0.0; 0.0 100.0; 0.0 0.0; 0.0 100.0; 0.0 0.0; 0.0 100.0; 0.0 0.0; 0.0 100.0; 0.0 0.0; 0.0 100.0; 0.0 0.0; 0.0 100.0; 0.0 0.0; 0.0 100.0; 0.0 0.0; 0.0 0.0; 0.0 0.0]\n",
      "Array{Float64,2}\n",
      "AFter\n",
      "Writing problem data to 'prob.cplx'...\n",
      "439 lines were written\n",
      "GLPK Simplex Optimizer, v4.61\n",
      "125 rows, 246 columns, 990 non-zeros\n",
      "*     0: obj =   0.000000000e+00 inf =   0.000e+00 (1)\n",
      "*   127: obj =  -5.000000000e+01 inf =   3.512e-13 (0)\n",
      "OPTIMAL LP SOLUTION FOUND\n",
      "Efficiency (%) = 219600.00000000122\n",
      "Productivity (uM/h) = 50000.0\n"
     ]
    }
   ],
   "source": [
    "bash\"\"\"\n",
    "cd ../3rd_Party_Code/Sequence-Specific-FBA-CFPS-Publication-Code/Model/\n",
    "julia Solve.jl\n",
    "\"\"\""
   ]
  },
  {
   "cell_type": "code",
   "execution_count": 5,
   "metadata": {},
   "outputs": [
    {
     "ename": "LoadError",
     "evalue": "\u001b[91mSystemError: opening file Network.dat: No such file or directory\u001b[39m",
     "output_type": "error",
     "traceback": [
      "\u001b[91mSystemError: opening file Network.dat: No such file or directory\u001b[39m",
      "",
      "Stacktrace:",
      " [1] \u001b[1m#systemerror#44\u001b[22m\u001b[22m at \u001b[1m./error.jl:64\u001b[22m\u001b[22m [inlined]",
      " [2] \u001b[1msystemerror\u001b[22m\u001b[22m\u001b[1m(\u001b[22m\u001b[22m::String, ::Bool\u001b[1m)\u001b[22m\u001b[22m at \u001b[1m./error.jl:64\u001b[22m\u001b[22m",
      " [3] \u001b[1mopen\u001b[22m\u001b[22m\u001b[1m(\u001b[22m\u001b[22m::String, ::Bool, ::Bool, ::Bool, ::Bool, ::Bool\u001b[1m)\u001b[22m\u001b[22m at \u001b[1m./iostream.jl:104\u001b[22m\u001b[22m",
      " [4] \u001b[1mopen\u001b[22m\u001b[22m\u001b[1m(\u001b[22m\u001b[22m::Base.#readstring, ::String\u001b[1m)\u001b[22m\u001b[22m at \u001b[1m./iostream.jl:150\u001b[22m\u001b[22m",
      " [5] \u001b[1m#readdlm_auto#11\u001b[22m\u001b[22m\u001b[1m(\u001b[22m\u001b[22m::Array{Any,1}, ::Function, ::String, ::Char, ::Type{T} where T, ::Char, ::Bool\u001b[1m)\u001b[22m\u001b[22m at \u001b[1m./datafmt.jl:134\u001b[22m\u001b[22m",
      " [6] \u001b[1m#readdlm#7\u001b[22m\u001b[22m at \u001b[1m./datafmt.jl:81\u001b[22m\u001b[22m [inlined]",
      " [7] \u001b[1mreaddlm\u001b[22m\u001b[22m\u001b[1m(\u001b[22m\u001b[22m::String, ::Char, ::Char\u001b[1m)\u001b[22m\u001b[22m at \u001b[1m./datafmt.jl:81\u001b[22m\u001b[22m",
      " [8] \u001b[1m#readdlm#5\u001b[22m\u001b[22m\u001b[1m(\u001b[22m\u001b[22m::Array{Any,1}, ::Function, ::String\u001b[1m)\u001b[22m\u001b[22m at \u001b[1m./datafmt.jl:64\u001b[22m\u001b[22m",
      " [9] \u001b[1mDataDictionary\u001b[22m\u001b[22m\u001b[1m(\u001b[22m\u001b[22m::Int64, ::Int64, ::Int64\u001b[1m)\u001b[22m\u001b[22m at \u001b[1m/Users/nlarusstone/Documents/MPhil/Research/cf_fba/3rd_Party_Code/Sequence-Specific-FBA-CFPS-Publication-Code/Model/DataDictionary.jl:41\u001b[22m\u001b[22m"
     ]
    }
   ],
   "source": [
    "include(\"../3rd_Party_Code/Sequence-Specific-FBA-CFPS-Publication-Code/Model/Include.jl\")\n",
    "include(\"../3rd_Party_Code/Sequence-Specific-FBA-CFPS-Publication-Code/Model/Bounds.jl\")\n",
    "include(\"../3rd_Party_Code/Sequence-Specific-FBA-CFPS-Publication-Code/Model/TXTLDictionary.jl\")\n",
    "\n",
    "# load the data dictionary -\n",
    "data_dictionary = DataDictionary(0,0,0)\n",
    "TXTL_dictionary = TXTLDictionary(0,0,0,data_dictionary)\n",
    "\n",
    "#Set objective reaction\n",
    "data_dictionary[\"objective_coefficient_array\"][find_idx(\"but_export\", data_dictionary)] = -1;\n",
    "\n",
    "#=============================Cases=========================================#\n",
    "#Define case number\n",
    "# 1 = Amino Acid Uptake & Synthesis\n",
    "# 2 = Amino Acid Uptake w/o Synthesis\n",
    "# 3 = Amino Acid Synthesis w/o Uptake\n",
    "Case = 1\n",
    "if Case == 1\n",
    "  data_dictionary[\"AASyn\"] = 100;\n",
    "  data_dictionary[\"AAUptake\"] = 30\n",
    "  data_dictionary[\"AASecretion\"] = 0;\n",
    "end\n",
    "if Case == 2\n",
    "  data_dictionary[\"AASyn\"] = 0;\n",
    "  data_dictionary[\"AAUptake\"] = 30\n",
    "  data_dictionary[\"AASecretion\"] = 0;\n",
    "end\n",
    "if Case == 3\n",
    "  data_dictionary[\"AASyn\"] = 100;\n",
    "  data_dictionary[\"AAUptake\"] = 0\n",
    "  data_dictionary[\"AASecretion\"] = 100;\n",
    "end\n",
    "\n",
    "#Set Promoter\n",
    "#1 = T7 Promoter model\n",
    "#2 = P70a Promoter model\n",
    "Promoter_model = 1\n",
    "#===========================================================================#\n",
    "\n",
    "#Set Plasmid Dose (nM)\n",
    "plasmid_concentration = 13.3;\n",
    "volume = TXTL_dictionary[\"volume\"]\n",
    "gene_copy_number = (volume/1e9)*(6.02e23)*plasmid_concentration;\n",
    "TXTL_dictionary[\"gene_copies\"] = gene_copy_number\n",
    "\n",
    "#Set Glucose and Oxygen (mM/h)\n",
    "data_dictionary[\"GlcUptake\"] = 30\n",
    "data_dictionary[\"Oxygen\"] = 100;\n",
    "\n",
    "# solve the lp problem -\n",
    "data_dictionary = Bounds(data_dictionary,TXTL_dictionary);\n",
    "(objective_value, flux_array, dual_array, uptake_array, exit_flag) = FluxDriver(data_dictionary)\n",
    "include(\"../3rd_Party_Code/Sequence-Specific-FBA-CFPS-Publication-Code/Model/Performance.jl\")"
   ]
  },
  {
   "cell_type": "code",
   "execution_count": 5,
   "metadata": {},
   "outputs": [
    {
     "data": {
      "text/plain": [
       "Dict{AbstractString,Any} with 21 entries:\n",
       "  \"is_minimum_flag\"                     => true\n",
       "  \"objective_coefficient_array\"         => [0.0, 0.0, 0.0, 0.0, 0.0, 0.0, 0.0, …\n",
       "  \"AASecretion\"                         => 0\n",
       "  \"characteristic_enzyme_abundance_mM\"  => 4.73269e-5\n",
       "  \"species_bounds_array\"                => [0.0 0.0; 0.0 0.0; … ; 0.0 0.0; 0.0 …\n",
       "  \"mass_of_single_cell\"                 => 2.8e-13\n",
       "  \"AASyn\"                               => 100\n",
       "  \"volume_of_cell\"                      => 6.96909e-16\n",
       "  \"list_of_metabolite_symbols\"          => String[\"M_10fthf_c\", \"M_13dpg_c\", \"M…\n",
       "  \"txtl_parameter_dictionary\"           => Dict{AbstractString,Any}(Pair{Abstra…\n",
       "  \"species_abundance_array\"             => [0.0, 0.0, 0.0, 0.0, 0.0, 0.0, 0.0, …\n",
       "  \"stoichiometric_matrix\"               => [0.0 0.0 … 0.0 0.0; 0.0 0.0 … 0.0 0.…\n",
       "  \"number_of_reactions\"                 => 282\n",
       "  \"default_flux_bounds_array\"           => [0.0 22.149; 0.0 22.149; … ; 0.0 0.0…\n",
       "  \"Oxygen\"                              => 100\n",
       "  \"AAUptake\"                            => 30\n",
       "  \"GlcUptake\"                           => 30\n",
       "  \"list_of_reaction_strings\"            => String[\"R_glk_atp::M_atp_c+M_glc_D_c…\n",
       "  \"number_of_species\"                   => 145\n",
       "  \"metabolic_saturation_constant_array\" => Float64[]\n",
       "  \"metabolic_vmax_array\"                => Any[]"
      ]
     },
     "execution_count": 5,
     "metadata": {},
     "output_type": "execute_result"
    }
   ],
   "source": [
    "data_dictionary"
   ]
  },
  {
   "cell_type": "code",
   "execution_count": 25,
   "metadata": {},
   "outputs": [
    {
     "data": {
      "text/plain": [
       "178-element Array{String,1}:\n",
       " \"R_glk_atp::M_atp_c+M_glc_D_c --> M_adp_c+M_g6p_c\"                   \n",
       " \"R_pgi::M_g6p_c --> M_f6p_c\"                                         \n",
       " \"R_pgi_reverse::M_f6p_c --> M_g6p_c\"                                 \n",
       " \"R_pfk::M_atp_c+M_f6p_c --> M_adp_c+M_fdp_c\"                         \n",
       " \"R_fdp::M_fdp_c+M_h2o_c --> M_f6p_c+M_pi_c\"                          \n",
       " \"R_fbaA::M_fdp_c --> M_dhap_c+M_g3p_c\"                               \n",
       " \"R_fbaA_reverse::M_dhap_c+M_g3p_c --> M_fdp_c\"                       \n",
       " \"R_tpiA::M_dhap_c --> M_g3p_c\"                                       \n",
       " \"R_tpiA_reverse::M_g3p_c --> M_dhap_c\"                               \n",
       " \"R_gapA::M_g3p_c+M_nad_c+M_pi_c --> M_13dpg_c+M_h_c+M_nadh_c\"        \n",
       " \"R_gapA_reverse::M_13dpg_c+M_h_c+M_nadh_c --> M_g3p_c+M_nad_c+M_pi_c\"\n",
       " \"R_pgk::M_13dpg_c+M_adp_c --> M_3pg_c+M_atp_c\"                       \n",
       " \"R_pgk_reverse::M_3pg_c+M_atp_c --> M_13dpg_c+M_adp_c\"               \n",
       " ⋮                                                                    \n",
       " \"R_atoB::2.0*M_accoa_c --> M_aacoa_c+M_coa_c\"                        \n",
       " \"R_atoB_reverse::M_aacoa_c+M_coa_c --> 2.0*M_accoa_c\"                \n",
       " \"R_hbd1::M_aacoa_c+M_h_c+M_nadh_c --> M_nad_c+M_3hbcoa_c\"            \n",
       " \"R_hbd1_reverse::M_nad_c+M_3hbcoa_c --> M_aacoa_c+M_h_c+M_nadh_c\"    \n",
       " \"R_crt1::M_3hbcoa_c --> M_b2coa_c+M_h2o_c\"                           \n",
       " \"R_crt1_reverse::M_b2coa_c+M_h2o_c --> M_3hbcoa_c\"                   \n",
       " \"R_ter1::M_b2coa_c+M_nadh_c --> M_btcoa_c+M_nad_c\"                   \n",
       " \"R_ter1_reverse::M_btcoa_c+M_nad_c --> M_b2coa_c+M_nadh_c\"           \n",
       " \"R_adhe_1::M_btcoa_c+M_nadh_c+M_h_c --> M_nad_c+M_btal_c\"            \n",
       " \"R_adhe_1_reverse::M_nad_c+M_btal_c --> M_btcoa_c+M_nadh_c+M_h_c\"    \n",
       " \"R_adhe_2::M_btal_c+M_nadh_c+M_h_c --> M_nad_c+M_btol_c\"             \n",
       " \"R_adhe_2_reverse::M_nad_c+M_btol_c --> M_btal_c+M_nadh_c+M_h_c\"     "
      ]
     },
     "execution_count": 25,
     "metadata": {},
     "output_type": "execute_result"
    }
   ],
   "source": [
    "data_dictionary[\"list_of_reaction_strings\"]"
   ]
  },
  {
   "cell_type": "code",
   "execution_count": 138,
   "metadata": {},
   "outputs": [],
   "source": [
    "outfile = open(\"../BTOL/Bounds.txt\", \"w\")\n",
    "writedlm(outfile,data_dictionary[\"default_flux_bounds_array\"]);\n",
    "close(outfile);"
   ]
  },
  {
   "cell_type": "code",
   "execution_count": null,
   "metadata": {},
   "outputs": [],
   "source": []
  }
 ],
 "metadata": {
  "kernelspec": {
   "display_name": "Julia 0.6.2",
   "language": "julia",
   "name": "julia-0.6"
  },
  "language_info": {
   "file_extension": ".jl",
   "mimetype": "application/julia",
   "name": "julia",
   "version": "0.6.2"
  }
 },
 "nbformat": 4,
 "nbformat_minor": 2
}
