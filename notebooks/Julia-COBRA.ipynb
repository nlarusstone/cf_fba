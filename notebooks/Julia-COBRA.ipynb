{
 "cells": [
  {
   "cell_type": "code",
   "execution_count": null,
   "metadata": {},
   "outputs": [],
   "source": [
    "macro bash_str(s) open(`bash`,\"w\",STDOUT) do io; print(io, s); end; end"
   ]
  },
  {
   "cell_type": "code",
   "execution_count": null,
   "metadata": {},
   "outputs": [],
   "source": [
    "bash\"\"\"\n",
    "cd ../3rd_Party_Code/Sequence-Specific-FBA-CFPS-Publication-Code/Model/\n",
    "julia Solve.jl\n",
    "\"\"\""
   ]
  },
  {
   "cell_type": "code",
   "execution_count": null,
   "metadata": {},
   "outputs": [],
   "source": [
    "include(\"../3rd_Party_Code/Sequence-Specific-FBA-CFPS-Publication-Code/Model/Include.jl\")\n",
    "include(\"../3rd_Party_Code/Sequence-Specific-FBA-CFPS-Publication-Code/Model/Bounds.jl\")\n",
    "include(\"../3rd_Party_Code/Sequence-Specific-FBA-CFPS-Publication-Code/Model/TXTLDictionary.jl\")\n",
    "\n",
    "# load the data dictionary -\n",
    "data_dictionary = DataDictionary(0,0,0)\n",
    "TXTL_dictionary = TXTLDictionary(0,0,0,data_dictionary)\n",
    "\n",
    "#Set objective reaction\n",
    "data_dictionary[\"objective_coefficient_array\"][find_idx(\"but_export\", data_dictionary)] = -1;\n",
    "\n",
    "#=============================Cases=========================================#\n",
    "#Define case number\n",
    "# 1 = Amino Acid Uptake & Synthesis\n",
    "# 2 = Amino Acid Uptake w/o Synthesis\n",
    "# 3 = Amino Acid Synthesis w/o Uptake\n",
    "Case = 1\n",
    "if Case == 1\n",
    "  data_dictionary[\"AASyn\"] = 100;\n",
    "  data_dictionary[\"AAUptake\"] = 30\n",
    "  data_dictionary[\"AASecretion\"] = 0;\n",
    "end\n",
    "if Case == 2\n",
    "  data_dictionary[\"AASyn\"] = 0;\n",
    "  data_dictionary[\"AAUptake\"] = 30\n",
    "  data_dictionary[\"AASecretion\"] = 0;\n",
    "end\n",
    "if Case == 3\n",
    "  data_dictionary[\"AASyn\"] = 100;\n",
    "  data_dictionary[\"AAUptake\"] = 0\n",
    "  data_dictionary[\"AASecretion\"] = 100;\n",
    "end\n",
    "\n",
    "#Set Promoter\n",
    "#1 = T7 Promoter model\n",
    "#2 = P70a Promoter model\n",
    "Promoter_model = 1\n",
    "#===========================================================================#\n",
    "\n",
    "#Set Plasmid Dose (nM)\n",
    "plasmid_concentration = 13.3;\n",
    "volume = TXTL_dictionary[\"volume\"]\n",
    "gene_copy_number = (volume/1e9)*(6.02e23)*plasmid_concentration;\n",
    "TXTL_dictionary[\"gene_copies\"] = gene_copy_number\n",
    "\n",
    "#Set Glucose and Oxygen (mM/h)\n",
    "data_dictionary[\"GlcUptake\"] = 30\n",
    "data_dictionary[\"Oxygen\"] = 100;\n",
    "\n",
    "# solve the lp problem -\n",
    "data_dictionary = Bounds(data_dictionary,TXTL_dictionary);\n",
    "(objective_value, flux_array, dual_array, uptake_array, exit_flag) = FluxDriver(data_dictionary)\n",
    "include(\"../3rd_Party_Code/Sequence-Specific-FBA-CFPS-Publication-Code/Model/Performance.jl\")"
   ]
  },
  {
   "cell_type": "code",
   "execution_count": null,
   "metadata": {},
   "outputs": [],
   "source": [
    "data_dictionary"
   ]
  },
  {
   "cell_type": "code",
   "execution_count": null,
   "metadata": {},
   "outputs": [],
   "source": [
    "data_dictionary[\"list_of_reaction_strings\"]"
   ]
  },
  {
   "cell_type": "code",
   "execution_count": null,
   "metadata": {},
   "outputs": [],
   "source": [
    "outfile = open(\"../BTOL/Bounds.txt\", \"w\")\n",
    "writedlm(outfile,data_dictionary[\"default_flux_bounds_array\"]);\n",
    "close(outfile);"
   ]
  },
  {
   "cell_type": "code",
   "execution_count": null,
   "metadata": {},
   "outputs": [],
   "source": []
  }
 ],
 "metadata": {
  "kernelspec": {
   "display_name": "Julia 0.6.2",
   "language": "julia",
   "name": "julia-0.6"
  },
  "language_info": {
   "file_extension": ".jl",
   "mimetype": "application/julia",
   "name": "julia",
   "version": "0.6.2"
  }
 },
 "nbformat": 4,
 "nbformat_minor": 2
}
