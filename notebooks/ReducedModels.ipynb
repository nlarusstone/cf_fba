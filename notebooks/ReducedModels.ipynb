{
 "cells": [
  {
   "cell_type": "code",
   "execution_count": 1,
   "metadata": {},
   "outputs": [],
   "source": [
    "import cobra\n",
    "import cobra.test\n",
    "import pandas as pd\n",
    "import numpy as np\n",
    "import Bio.PDB.Polypeptide as prot\n",
    "import libsbml\n",
    "import cobrame"
   ]
  },
  {
   "cell_type": "code",
   "execution_count": 79,
   "metadata": {},
   "outputs": [],
   "source": [
    "ijo = cobra.io.read_sbml_model('../models/iJO1366.xml')\n",
    "core = cobra.io.read_sbml_model('../models/ColiCore.xml')\n",
    "base = cobra.io.read_sbml_model('../models/ColiGS.xml')\n",
    "pruned = cobra.io.read_sbml_model('../models/ColiPruned.xml')\n",
    "super_pruned = cobra.io.read_sbml_model('../models/ColiPrunedComp_withoutConsRel.xml')"
   ]
  },
  {
   "cell_type": "code",
   "execution_count": 88,
   "metadata": {},
   "outputs": [],
   "source": [
    "pruned.objective = pruned.reactions.Bio_T"
   ]
  },
  {
   "cell_type": "code",
   "execution_count": 89,
   "metadata": {},
   "outputs": [
    {
     "data": {
      "text/plain": [
       "<Solution 31.65 at 0x109a7b250>"
      ]
     },
     "execution_count": 89,
     "metadata": {},
     "output_type": "execute_result"
    }
   ],
   "source": [
    "pruned.optimize()"
   ]
  },
  {
   "cell_type": "code",
   "execution_count": 90,
   "metadata": {},
   "outputs": [
    {
     "name": "stdout",
     "output_type": "stream",
     "text": [
      "IN FLUXES            OUT FLUXES           OBJECTIVES\n",
      "-------------------  -------------------  ------------\n",
      "glc_D_e    538       h2o_e     893        Bio_T  31.6\n",
      "o2_e       392       co2_e     858\n",
      "nh4_e      341       h_e       827\n",
      "pi_e        30.4     h2_e      799\n",
      "so4_e        7.92    ac_e      536\n",
      "k_e          5.62    Bio        31.6\n",
      "mg2_e        0.25    5drib_c     0.0141\n",
      "fe2_e        0.239   hmfurn_c    0.0141\n",
      "fe3_e        0.225   4hba_c      0.00706\n",
      "ca2_e        0.15\n",
      "cl_e         0.15\n",
      "cobalt2_e    0.0999\n",
      "cu2_e        0.0999\n",
      "mn2_e        0.0999\n",
      "mobd_e       0.0999\n",
      "zn2_e        0.0999\n"
     ]
    }
   ],
   "source": [
    "pruned.summary()"
   ]
  },
  {
   "cell_type": "code",
   "execution_count": 65,
   "metadata": {},
   "outputs": [],
   "source": [
    "varner = cobra.io.load_json_model('../models/varner.json')"
   ]
  },
  {
   "cell_type": "code",
   "execution_count": 44,
   "metadata": {},
   "outputs": [
    {
     "data": {
      "text/plain": [
       "[<Reaction transcriptional_initiation_atoB at 0x109cc5a10>,\n",
       " <Reaction transcription_atoB at 0x109cc5a50>,\n",
       " <Reaction transcriptional_initiation_Hbd1 at 0x109cc5ad0>,\n",
       " <Reaction transcription_Hbd1 at 0x109cc5b10>,\n",
       " <Reaction transcriptional_initiation_Crt1 at 0x109cc5b90>,\n",
       " <Reaction transcription_Crt1 at 0x109cc5bd0>,\n",
       " <Reaction transcriptional_initiation_Ter1 at 0x109cc5c50>,\n",
       " <Reaction transcription_Ter1 at 0x109cc5c90>,\n",
       " <Reaction transcriptional_initiation_adhE1 at 0x109cc5d10>,\n",
       " <Reaction transcription_adhE1 at 0x109cc5d50>]"
      ]
     },
     "execution_count": 44,
     "metadata": {},
     "output_type": "execute_result"
    }
   ],
   "source": [
    "varner.reactions.query('transcription')"
   ]
  },
  {
   "cell_type": "code",
   "execution_count": 110,
   "metadata": {},
   "outputs": [],
   "source": [
    "def extract_txtl_rxns(model):\n",
    "    aa_metabs = []\n",
    "    for aa in prot.aa3:\n",
    "        aa_metabs += model.metabolites.query(aa.lower())\n",
    "    aa_rxns = []\n",
    "    for aa_metab in aa_metabs:\n",
    "        aa_rxns += aa_metab.reactions\n",
    "    tx_rxns = model.reactions.query('transcription')\n",
    "    tl_rxns = model.reactions.query('translation')\n",
    "    txtl_rxns = list(set(aa_rxns).union(tx_rxns).union(tl_rxns))\n",
    "    return txtl_rxns\n",
    "txtl_rxns = extract_txtl_rxns(varner)"
   ]
  },
  {
   "cell_type": "code",
   "execution_count": 66,
   "metadata": {},
   "outputs": [],
   "source": [
    "varner.objective = varner.reactions.but_export"
   ]
  },
  {
   "cell_type": "code",
   "execution_count": 74,
   "metadata": {},
   "outputs": [
    {
     "data": {
      "text/plain": [
       "<Solution 0.01 at 0x1099aea50>"
      ]
     },
     "execution_count": 74,
     "metadata": {},
     "output_type": "execute_result"
    }
   ],
   "source": [
    "varner.optimize()"
   ]
  },
  {
   "cell_type": "code",
   "execution_count": 75,
   "metadata": {},
   "outputs": [
    {
     "name": "stdout",
     "output_type": "stream",
     "text": [
      "IN FLUXES        OUT FLUXES          OBJECTIVES\n",
      "---------------  ------------------  -------------------\n",
      "M_glc_D_c  21.7  M_h2o_c   43.4      but_export  0.00532\n",
      "                 M_co2_c   40\n",
      "                 M_ac_c    36.8\n",
      "                 tRNA_c     0.0373\n",
      "                 M_btol_c   0.00532\n"
     ]
    }
   ],
   "source": [
    "varner.summary()"
   ]
  },
  {
   "cell_type": "code",
   "execution_count": 72,
   "metadata": {},
   "outputs": [],
   "source": [
    "def add_enzyme(enz):\n",
    "    if enz == 'adhE':\n",
    "        enzs = ['adhE1', 'adhE2']\n",
    "    else:\n",
    "        enzs = [enz]\n",
    "    for enz in enzs:\n",
    "        rxn = varner.reactions.get_by_id('R_{0}'.format(enz.lower()))\n",
    "        rxn.add_metabolites(metabolites={varner.metabolites.get_by_id('PROTEIN_{0}'.format(enzs[0])):-1})"
   ]
  },
  {
   "cell_type": "code",
   "execution_count": 67,
   "metadata": {},
   "outputs": [
    {
     "data": {
      "text/plain": [
       "<Reaction R_atoB at 0x109d8a610>"
      ]
     },
     "execution_count": 67,
     "metadata": {},
     "output_type": "execute_result"
    }
   ],
   "source": [
    "varner.reactions.get_by_id('R_atoB')"
   ]
  },
  {
   "cell_type": "code",
   "execution_count": 31,
   "metadata": {},
   "outputs": [],
   "source": [
    "atob.add_metabolites(metabolites={varner.metabolites.PROTEIN_:-1})"
   ]
  },
  {
   "cell_type": "code",
   "execution_count": 69,
   "metadata": {},
   "outputs": [],
   "source": [
    "add_enzyme('atoB')"
   ]
  },
  {
   "cell_type": "code",
   "execution_count": 73,
   "metadata": {},
   "outputs": [],
   "source": [
    "#add_enzyme('Hbd1')\n",
    "#add_enzyme('Crt1')\n",
    "#add_enzyme('Ter1')\n",
    "add_enzyme('adhE')"
   ]
  },
  {
   "cell_type": "code",
   "execution_count": 91,
   "metadata": {},
   "outputs": [],
   "source": [
    "import cobrame"
   ]
  },
  {
   "cell_type": "code",
   "execution_count": 92,
   "metadata": {},
   "outputs": [],
   "source": [
    "me = cobrame.MEModel('test')\n",
    "for met in ijo.metabolites:\n",
    "    me.add_metabolites(met)\n",
    "for rxn in ijo.reactions:\n",
    "    me.add_reaction(rxn)"
   ]
  },
  {
   "cell_type": "code",
   "execution_count": 93,
   "metadata": {},
   "outputs": [],
   "source": [
    "# \"Translational capacity\" of organism\n",
    "me.global_info['kt'] = 4.5  # (in h-1)scott 2010, RNA-to-protein curve fit\n",
    "me.global_info['r0'] = 0.087  # scott 2010, RNA-to-protein curve fit\n",
    "me.global_info['k_deg'] = 1.0/5. * 60.0  # 1/5 1/min 60 min/h # h-1\n",
    "\n",
    "# Molecular mass of RNA component of ribosome\n",
    "me.global_info['m_rr'] = 1453. # in kDa\n",
    "\n",
    "# Average molecular mass of an amino acid\n",
    "me.global_info['m_aa'] = 109. / 1000.  # in kDa\n",
    "\n",
    "# Proportion of RNA that is rRNA\n",
    "me.global_info['f_rRNA'] = .86\n",
    "me.global_info['m_nt'] = 324. / 1000.  # in kDa\n",
    "me.global_info['f_mRNA'] = .02\n",
    "\n",
    "# tRNA associated global information\n",
    "me.global_info['m_tRNA'] = 25000. / 1000.  # in kDA\n",
    "me.global_info['f_tRNA'] = .12\n",
    "\n",
    "# Define the types of biomass that will be synthesized in the model\n",
    "me.add_biomass_constraints_to_model([\"protein_biomass\", \"mRNA_biomass\", \"tRNA_biomass\", \"rRNA_biomass\",\n",
    "                                     \"ncRNA_biomass\", \"DNA_biomass\", \"lipid_biomass\", \"constituent_biomass\",\n",
    "                                     \"prosthetic_group_biomass\", \"peptidoglycan_biomass\"])"
   ]
  },
  {
   "cell_type": "code",
   "execution_count": 94,
   "metadata": {},
   "outputs": [],
   "source": [
    "names = ['atoB', 'Hbd1', 'Crt1', 'Ter1', 'adhE1']\n",
    "sequences = []\n",
    "for name in names:\n",
    "    with open('../genes/{0}.txt'.format(name.lower()), 'r') as f:\n",
    "        sequences.append(f.read().strip())"
   ]
  },
  {
   "cell_type": "code",
   "execution_count": null,
   "metadata": {},
   "outputs": [],
   "source": [
    "building.create_transcribed_gene(me, 'b','tRNA', 'ATCG')\n",
    "building.add_transcription_reaction(me, 'TU_b', {'b'}, sequence)\n",
    "print(me.reactions.transcription_TU_b.reaction)\n",
    "me.reactions.transcription_TU_b.update()"
   ]
  },
  {
   "cell_type": "code",
   "execution_count": 95,
   "metadata": {},
   "outputs": [
    {
     "name": "stdout",
     "output_type": "stream",
     "text": [
      "iter\tmuopt    \ta     \tb     \tmu1       \tstat1\n",
      "Finished compiling expressions in 0.020267 seconds\n",
      "Finished substituting S,lb,ub in 0.354135 seconds\n",
      "Finished makeME_LP in 0.065714 seconds\n",
      "Getting MINOS parameters from ME_NLP...\n",
      "1 0.0 0.0 0.75 0.75 1\n",
      "Finished substituting S,lb,ub in 0.214772 seconds\n",
      "Finished makeME_LP in 0.053069 seconds\n",
      "Getting MINOS parameters from ME_NLP...\n",
      "2 0.0 0.0 0.375 0.375 1\n",
      "Finished substituting S,lb,ub in 0.212731 seconds\n",
      "Finished makeME_LP in 0.052668 seconds\n",
      "Getting MINOS parameters from ME_NLP...\n",
      "3 0.0 0.0 0.1875 0.1875 1\n",
      "Finished substituting S,lb,ub in 0.202389 seconds\n",
      "Finished makeME_LP in 0.057835 seconds\n",
      "Getting MINOS parameters from ME_NLP...\n",
      "4 0.0 0.0 0.09375 0.09375 1\n",
      "Finished substituting S,lb,ub in 0.220595 seconds\n",
      "Finished makeME_LP in 0.054970 seconds\n",
      "Getting MINOS parameters from ME_NLP...\n",
      "5 0.0 0.0 0.046875 0.046875 1\n",
      "Finished substituting S,lb,ub in 0.205050 seconds\n",
      "Finished makeME_LP in 0.050162 seconds\n",
      "Getting MINOS parameters from ME_NLP...\n",
      "6 0.0 0.0 0.0234375 0.0234375 1\n",
      "Finished substituting S,lb,ub in 0.278809 seconds\n",
      "Finished makeME_LP in 0.053517 seconds\n",
      "Getting MINOS parameters from ME_NLP...\n",
      "7 0.0 0.0 0.01171875 0.01171875 1\n",
      "Finished substituting S,lb,ub in 0.263185 seconds\n",
      "Finished makeME_LP in 0.079295 seconds\n",
      "Getting MINOS parameters from ME_NLP...\n",
      "8 0.0 0.0 0.005859375 0.005859375 1\n",
      "Finished substituting S,lb,ub in 0.216199 seconds\n",
      "Finished makeME_LP in 0.047011 seconds\n",
      "Getting MINOS parameters from ME_NLP...\n",
      "9 0.0 0.0 0.0029296875 0.0029296875 1\n",
      "Finished substituting S,lb,ub in 0.204251 seconds\n",
      "Finished makeME_LP in 0.053573 seconds\n",
      "Getting MINOS parameters from ME_NLP...\n",
      "10 0.0 0.0 0.00146484375 0.00146484375 1\n",
      "Finished substituting S,lb,ub in 0.205417 seconds\n",
      "Finished makeME_LP in 0.052789 seconds\n",
      "Getting MINOS parameters from ME_NLP...\n",
      "11 0.0 0.0 0.000732421875 0.000732421875 1\n",
      "Finished substituting S,lb,ub in 0.211069 seconds\n",
      "Finished makeME_LP in 0.049933 seconds\n",
      "Getting MINOS parameters from ME_NLP...\n",
      "12 0.0 0.0 0.0003662109375 0.0003662109375 1\n",
      "Finished substituting S,lb,ub in 0.211699 seconds\n",
      "Finished makeME_LP in 0.060255 seconds\n",
      "Getting MINOS parameters from ME_NLP...\n",
      "13 0.0 0.0 0.00018310546875 0.00018310546875 1\n",
      "Finished substituting S,lb,ub in 0.240033 seconds\n",
      "Finished makeME_LP in 0.096942 seconds\n",
      "Getting MINOS parameters from ME_NLP...\n",
      "14 0.0 0.0 9.1552734375e-05 9.1552734375e-05 1\n",
      "Finished substituting S,lb,ub in 0.223038 seconds\n",
      "Finished makeME_LP in 0.050846 seconds\n",
      "Getting MINOS parameters from ME_NLP...\n",
      "15 0.0 0.0 4.57763671875e-05 4.57763671875e-05 1\n",
      "Finished substituting S,lb,ub in 0.351340 seconds\n",
      "Finished makeME_LP in 0.054331 seconds\n",
      "Getting MINOS parameters from ME_NLP...\n",
      "16 0.0 0.0 2.28881835938e-05 2.28881835938e-05 1\n",
      "Finished substituting S,lb,ub in 0.281510 seconds\n",
      "Finished makeME_LP in 0.073611 seconds\n",
      "Getting MINOS parameters from ME_NLP...\n",
      "17 0.0 0.0 1.14440917969e-05 1.14440917969e-05 1\n",
      "Finished substituting S,lb,ub in 0.282826 seconds\n",
      "Finished makeME_LP in 0.055366 seconds\n",
      "Getting MINOS parameters from ME_NLP...\n",
      "18 0.0 0.0 5.72204589844e-06 5.72204589844e-06 1\n",
      "Finished substituting S,lb,ub in 0.227341 seconds\n",
      "Finished makeME_LP in 0.057937 seconds\n",
      "Getting MINOS parameters from ME_NLP...\n",
      "19 0.0 0.0 2.86102294922e-06 2.86102294922e-06 1\n",
      "Finished substituting S,lb,ub in 0.197259 seconds\n",
      "Finished makeME_LP in 0.053605 seconds\n",
      "Getting MINOS parameters from ME_NLP...\n",
      "20 0.0 0.0 1.43051147461e-06 1.43051147461e-06 1\n",
      "Finished substituting S,lb,ub in 0.218857 seconds\n",
      "Finished makeME_LP in 0.050304 seconds\n",
      "Getting MINOS parameters from ME_NLP...\n",
      "21 0.0 0.0 7.15255737305e-07 7.15255737305e-07 1\n",
      "Bisection done in 37.2604 seconds\n"
     ]
    },
    {
     "ename": "AttributeError",
     "evalue": "'NoneType' object has no attribute 'x_dict'",
     "output_type": "error",
     "traceback": [
      "\u001b[0;31m---------------------------------------------------------------------------\u001b[0m",
      "\u001b[0;31mAttributeError\u001b[0m                            Traceback (most recent call last)",
      "\u001b[0;32m<ipython-input-95-cc0c6318b9c2>\u001b[0m in \u001b[0;36m<module>\u001b[0;34m()\u001b[0m\n\u001b[1;32m      3\u001b[0m \u001b[0mme_nlp\u001b[0m \u001b[0;34m=\u001b[0m \u001b[0mME_NLP1\u001b[0m\u001b[0;34m(\u001b[0m\u001b[0mme\u001b[0m\u001b[0;34m,\u001b[0m \u001b[0mgrowth_key\u001b[0m\u001b[0;34m=\u001b[0m\u001b[0;34m'mu'\u001b[0m\u001b[0;34m)\u001b[0m\u001b[0;34m\u001b[0m\u001b[0m\n\u001b[1;32m      4\u001b[0m \u001b[0mmuopt\u001b[0m\u001b[0;34m,\u001b[0m \u001b[0mhs\u001b[0m\u001b[0;34m,\u001b[0m \u001b[0mxopt\u001b[0m\u001b[0;34m,\u001b[0m \u001b[0mcache\u001b[0m \u001b[0;34m=\u001b[0m \u001b[0mme_nlp\u001b[0m\u001b[0;34m.\u001b[0m\u001b[0mbisectmu\u001b[0m\u001b[0;34m(\u001b[0m\u001b[0mprecision\u001b[0m\u001b[0;34m=\u001b[0m\u001b[0;36m1e-6\u001b[0m\u001b[0;34m,\u001b[0m \u001b[0mmumax\u001b[0m\u001b[0;34m=\u001b[0m\u001b[0;36m1.5\u001b[0m\u001b[0;34m)\u001b[0m\u001b[0;34m\u001b[0m\u001b[0m\n\u001b[0;32m----> 5\u001b[0;31m \u001b[0mme\u001b[0m\u001b[0;34m.\u001b[0m\u001b[0msolution\u001b[0m\u001b[0;34m.\u001b[0m\u001b[0mf\u001b[0m \u001b[0;34m=\u001b[0m \u001b[0mme\u001b[0m\u001b[0;34m.\u001b[0m\u001b[0msolution\u001b[0m\u001b[0;34m.\u001b[0m\u001b[0mx_dict\u001b[0m\u001b[0;34m[\u001b[0m\u001b[0;34m'biomass_dilution'\u001b[0m\u001b[0;34m]\u001b[0m\u001b[0;34m\u001b[0m\u001b[0m\n\u001b[0m",
      "\u001b[0;31mAttributeError\u001b[0m: 'NoneType' object has no attribute 'x_dict'"
     ]
    }
   ],
   "source": [
    "from qminospy.me1 import ME_NLP1\n",
    "\n",
    "me_nlp = ME_NLP1(me, growth_key='mu')\n",
    "muopt, hs, xopt, cache = me_nlp.bisectmu(precision=1e-6, mumax=1.5)\n",
    "me.solution.f = me.solution.x_dict['biomass_dilution']"
   ]
  },
  {
   "cell_type": "code",
   "execution_count": 96,
   "metadata": {},
   "outputs": [
    {
     "name": "stdout",
     "output_type": "stream",
     "text": [
      "LP files will be saved in /var/folders/bw/9j_4j2256t1471ksbdbclntc0000gn/T/tmpc4uh9F\n",
      "mu       \tstatus\treset\ttime\titer\tobj\n",
      "\u001b[0;31m0.1000000\t-\u001b[0m\tFalse\t0.92\t3755\t\n"
     ]
    },
    {
     "name": "stderr",
     "output_type": "stream",
     "text": [
      "/Users/nlarusstone/Documents/MPhil/Research/cf_fba/3rd_Party_Code/cobrame/cobrame/solve/algorithms.py:93 \u001b[1;31mUserWarning\u001b[0m: Due to mRNA degradation constraint formulation the model is infeasible at mu = 0. Using mu = .1 instead.\n"
     ]
    },
    {
     "name": "stdout",
     "output_type": "stream",
     "text": [
      "\u001b[0;31m0.1000000\t-\u001b[0m\tFalse\t0.87\t3736\t\n"
     ]
    },
    {
     "ename": "ValueError",
     "evalue": "0 needs to be feasible",
     "output_type": "error",
     "traceback": [
      "\u001b[0;31m---------------------------------------------------------------------------\u001b[0m",
      "\u001b[0;31mValueError\u001b[0m                                Traceback (most recent call last)",
      "\u001b[0;32m<ipython-input-96-8a2b8fc67e27>\u001b[0m in \u001b[0;36m<module>\u001b[0;34m()\u001b[0m\n\u001b[1;32m      1\u001b[0m \u001b[0;32mfrom\u001b[0m \u001b[0mcobrame\u001b[0m\u001b[0;34m.\u001b[0m\u001b[0msolve\u001b[0m\u001b[0;34m.\u001b[0m\u001b[0malgorithms\u001b[0m \u001b[0;32mimport\u001b[0m \u001b[0mbinary_search\u001b[0m\u001b[0;34m\u001b[0m\u001b[0m\n\u001b[1;32m      2\u001b[0m \u001b[0;34m\u001b[0m\u001b[0m\n\u001b[0;32m----> 3\u001b[0;31m \u001b[0mbinary_search\u001b[0m\u001b[0;34m(\u001b[0m\u001b[0mme\u001b[0m\u001b[0;34m,\u001b[0m \u001b[0mmin_mu\u001b[0m\u001b[0;34m=\u001b[0m\u001b[0;36m.1\u001b[0m\u001b[0;34m,\u001b[0m \u001b[0mmax_mu\u001b[0m\u001b[0;34m=\u001b[0m\u001b[0;36m1.5\u001b[0m\u001b[0;34m,\u001b[0m \u001b[0mdebug\u001b[0m\u001b[0;34m=\u001b[0m\u001b[0mTrue\u001b[0m\u001b[0;34m,\u001b[0m \u001b[0mmu_accuracy\u001b[0m\u001b[0;34m=\u001b[0m\u001b[0;36m1e-6\u001b[0m\u001b[0;34m)\u001b[0m\u001b[0;34m\u001b[0m\u001b[0m\n\u001b[0m",
      "\u001b[0;32m/Users/nlarusstone/Documents/MPhil/Research/cf_fba/3rd_Party_Code/cobrame/cobrame/solve/algorithms.py\u001b[0m in \u001b[0;36mbinary_search\u001b[0;34m(me_model, min_mu, max_mu, mu_accuracy, solver, verbose, compiled_expressions, debug, reset_obj, **solver_args)\u001b[0m\n\u001b[1;32m    125\u001b[0m         \u001b[0;31m# Try 0 if min_mu failed\u001b[0m\u001b[0;34m\u001b[0m\u001b[0;34m\u001b[0m\u001b[0m\n\u001b[1;32m    126\u001b[0m         \u001b[0;32mif\u001b[0m \u001b[0mmin_mu\u001b[0m \u001b[0;34m==\u001b[0m \u001b[0;36m0\u001b[0m \u001b[0;32mor\u001b[0m \u001b[0;32mnot\u001b[0m \u001b[0mtry_mu\u001b[0m\u001b[0;34m(\u001b[0m\u001b[0;36m0\u001b[0m\u001b[0;34m)\u001b[0m\u001b[0;34m:\u001b[0m\u001b[0;34m\u001b[0m\u001b[0m\n\u001b[0;32m--> 127\u001b[0;31m             \u001b[0;32mraise\u001b[0m \u001b[0mValueError\u001b[0m\u001b[0;34m(\u001b[0m\u001b[0;34m\"0 needs to be feasible\"\u001b[0m\u001b[0;34m)\u001b[0m\u001b[0;34m\u001b[0m\u001b[0m\n\u001b[0m\u001b[1;32m    128\u001b[0m     \u001b[0;32mwhile\u001b[0m \u001b[0mtry_mu\u001b[0m\u001b[0;34m(\u001b[0m\u001b[0mmax_mu\u001b[0m\u001b[0;34m)\u001b[0m\u001b[0;34m:\u001b[0m  \u001b[0;31m# If max_mu was feasible, keep increasing\u001b[0m\u001b[0;34m\u001b[0m\u001b[0m\n\u001b[1;32m    129\u001b[0m         \u001b[0mmax_mu\u001b[0m \u001b[0;34m+=\u001b[0m \u001b[0;36m1\u001b[0m\u001b[0;34m\u001b[0m\u001b[0m\n",
      "\u001b[0;31mValueError\u001b[0m: 0 needs to be feasible"
     ]
    }
   ],
   "source": [
    "from cobrame.solve.algorithms import binary_search\n",
    "\n",
    "binary_search(me, min_mu=.1, max_mu=1.5, debug=True, mu_accuracy=1e-6)"
   ]
  }
 ],
 "metadata": {
  "kernelspec": {
   "display_name": "Python 2",
   "language": "python",
   "name": "python2"
  },
  "language_info": {
   "codemirror_mode": {
    "name": "ipython",
    "version": 2
   },
   "file_extension": ".py",
   "mimetype": "text/x-python",
   "name": "python",
   "nbconvert_exporter": "python",
   "pygments_lexer": "ipython2",
   "version": "2.7.10"
  }
 },
 "nbformat": 4,
 "nbformat_minor": 2
}
