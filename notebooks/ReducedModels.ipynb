{
 "cells": [
  {
   "cell_type": "code",
   "execution_count": null,
   "metadata": {},
   "outputs": [],
   "source": [
    "import cobra\n",
    "import cobra.test\n",
    "import pandas as pd\n",
    "import numpy as np\n",
    "import Bio.PDB.Polypeptide as prot\n",
    "import libsbml\n",
    "import cobrame"
   ]
  },
  {
   "cell_type": "code",
   "execution_count": null,
   "metadata": {},
   "outputs": [],
   "source": [
    "ijo = cobra.io.read_sbml_model('../models/iJO1366.xml')\n",
    "core = cobra.io.read_sbml_model('../models/ColiCore.xml')\n",
    "base = cobra.io.read_sbml_model('../models/ColiGS.xml')\n",
    "pruned = cobra.io.read_sbml_model('../models/ColiPruned.xml')\n",
    "super_pruned = cobra.io.read_sbml_model('../models/ColiPrunedComp_withoutConsRel.xml')"
   ]
  },
  {
   "cell_type": "code",
   "execution_count": null,
   "metadata": {},
   "outputs": [],
   "source": [
    "pruned.objective = pruned.reactions.Bio_T"
   ]
  },
  {
   "cell_type": "code",
   "execution_count": null,
   "metadata": {},
   "outputs": [],
   "source": [
    "pruned.optimize()"
   ]
  },
  {
   "cell_type": "code",
   "execution_count": null,
   "metadata": {},
   "outputs": [],
   "source": [
    "pruned.summary()"
   ]
  },
  {
   "cell_type": "code",
   "execution_count": null,
   "metadata": {},
   "outputs": [],
   "source": [
    "varner = cobra.io.load_json_model('../models/varner.json')"
   ]
  },
  {
   "cell_type": "code",
   "execution_count": null,
   "metadata": {},
   "outputs": [],
   "source": [
    "varner.reactions.query('transcription')"
   ]
  },
  {
   "cell_type": "code",
   "execution_count": null,
   "metadata": {},
   "outputs": [],
   "source": [
    "def extract_txtl_rxns(model):\n",
    "    aa_metabs = []\n",
    "    for aa in prot.aa3:\n",
    "        aa_metabs += model.metabolites.query(aa.lower())\n",
    "    aa_rxns = []\n",
    "    for aa_metab in aa_metabs:\n",
    "        aa_rxns += aa_metab.reactions\n",
    "    tx_rxns = model.reactions.query('transcription')\n",
    "    tl_rxns = model.reactions.query('translation')\n",
    "    txtl_rxns = list(set(aa_rxns).union(tx_rxns).union(tl_rxns))\n",
    "    return txtl_rxns\n",
    "txtl_rxns = extract_txtl_rxns(varner)"
   ]
  },
  {
   "cell_type": "code",
   "execution_count": null,
   "metadata": {},
   "outputs": [],
   "source": [
    "varner.objective = varner.reactions.but_export"
   ]
  },
  {
   "cell_type": "code",
   "execution_count": null,
   "metadata": {},
   "outputs": [],
   "source": [
    "varner.optimize()"
   ]
  },
  {
   "cell_type": "code",
   "execution_count": null,
   "metadata": {},
   "outputs": [],
   "source": [
    "varner.summary()"
   ]
  },
  {
   "cell_type": "code",
   "execution_count": null,
   "metadata": {},
   "outputs": [],
   "source": [
    "def add_enzyme(enz):\n",
    "    if enz == 'adhE':\n",
    "        enzs = ['adhE1', 'adhE2']\n",
    "    else:\n",
    "        enzs = [enz]\n",
    "    for enz in enzs:\n",
    "        rxn = varner.reactions.get_by_id('R_{0}'.format(enz.lower()))\n",
    "        rxn.add_metabolites(metabolites={varner.metabolites.get_by_id('PROTEIN_{0}'.format(enzs[0])):-1})"
   ]
  },
  {
   "cell_type": "code",
   "execution_count": null,
   "metadata": {},
   "outputs": [],
   "source": [
    "varner.reactions.get_by_id('R_atoB')"
   ]
  },
  {
   "cell_type": "code",
   "execution_count": null,
   "metadata": {},
   "outputs": [],
   "source": [
    "atob.add_metabolites(metabolites={varner.metabolites.PROTEIN_:-1})"
   ]
  },
  {
   "cell_type": "code",
   "execution_count": null,
   "metadata": {},
   "outputs": [],
   "source": [
    "add_enzyme('atoB')"
   ]
  },
  {
   "cell_type": "code",
   "execution_count": null,
   "metadata": {},
   "outputs": [],
   "source": [
    "#add_enzyme('Hbd1')\n",
    "#add_enzyme('Crt1')\n",
    "#add_enzyme('Ter1')\n",
    "add_enzyme('adhE')"
   ]
  },
  {
   "cell_type": "code",
   "execution_count": null,
   "metadata": {},
   "outputs": [],
   "source": [
    "import cobrame"
   ]
  },
  {
   "cell_type": "code",
   "execution_count": null,
   "metadata": {},
   "outputs": [],
   "source": [
    "me = cobrame.MEModel('test')\n",
    "for met in ijo.metabolites:\n",
    "    me.add_metabolites(met)\n",
    "for rxn in ijo.reactions:\n",
    "    me.add_reaction(rxn)"
   ]
  },
  {
   "cell_type": "code",
   "execution_count": null,
   "metadata": {},
   "outputs": [],
   "source": [
    "# \"Translational capacity\" of organism\n",
    "me.global_info['kt'] = 4.5  # (in h-1)scott 2010, RNA-to-protein curve fit\n",
    "me.global_info['r0'] = 0.087  # scott 2010, RNA-to-protein curve fit\n",
    "me.global_info['k_deg'] = 1.0/5. * 60.0  # 1/5 1/min 60 min/h # h-1\n",
    "\n",
    "# Molecular mass of RNA component of ribosome\n",
    "me.global_info['m_rr'] = 1453. # in kDa\n",
    "\n",
    "# Average molecular mass of an amino acid\n",
    "me.global_info['m_aa'] = 109. / 1000.  # in kDa\n",
    "\n",
    "# Proportion of RNA that is rRNA\n",
    "me.global_info['f_rRNA'] = .86\n",
    "me.global_info['m_nt'] = 324. / 1000.  # in kDa\n",
    "me.global_info['f_mRNA'] = .02\n",
    "\n",
    "# tRNA associated global information\n",
    "me.global_info['m_tRNA'] = 25000. / 1000.  # in kDA\n",
    "me.global_info['f_tRNA'] = .12\n",
    "\n",
    "# Define the types of biomass that will be synthesized in the model\n",
    "me.add_biomass_constraints_to_model([\"protein_biomass\", \"mRNA_biomass\", \"tRNA_biomass\", \"rRNA_biomass\",\n",
    "                                     \"ncRNA_biomass\", \"DNA_biomass\", \"lipid_biomass\", \"constituent_biomass\",\n",
    "                                     \"prosthetic_group_biomass\", \"peptidoglycan_biomass\"])"
   ]
  },
  {
   "cell_type": "code",
   "execution_count": null,
   "metadata": {},
   "outputs": [],
   "source": [
    "names = ['atoB', 'Hbd1', 'Crt1', 'Ter1', 'adhE1']\n",
    "sequences = []\n",
    "for name in names:\n",
    "    with open('../genes/{0}.txt'.format(name.lower()), 'r') as f:\n",
    "        sequences.append(f.read().strip())"
   ]
  },
  {
   "cell_type": "code",
   "execution_count": null,
   "metadata": {},
   "outputs": [],
   "source": [
    "building.create_transcribed_gene(me, 'b','tRNA', 'ATCG')\n",
    "building.add_transcription_reaction(me, 'TU_b', {'b'}, sequence)\n",
    "print(me.reactions.transcription_TU_b.reaction)\n",
    "me.reactions.transcription_TU_b.update()"
   ]
  },
  {
   "cell_type": "code",
   "execution_count": null,
   "metadata": {},
   "outputs": [],
   "source": [
    "from qminospy.me1 import ME_NLP1\n",
    "\n",
    "me_nlp = ME_NLP1(me, growth_key='mu')\n",
    "muopt, hs, xopt, cache = me_nlp.bisectmu(precision=1e-6, mumax=1.5)\n",
    "me.solution.f = me.solution.x_dict['biomass_dilution']"
   ]
  },
  {
   "cell_type": "code",
   "execution_count": null,
   "metadata": {},
   "outputs": [],
   "source": [
    "from cobrame.solve.algorithms import binary_search\n",
    "\n",
    "binary_search(me, min_mu=.1, max_mu=1.5, debug=True, mu_accuracy=1e-6)"
   ]
  }
 ],
 "metadata": {
  "kernelspec": {
   "display_name": "Python 2",
   "language": "python",
   "name": "python2"
  },
  "language_info": {
   "codemirror_mode": {
    "name": "ipython",
    "version": 2
   },
   "file_extension": ".py",
   "mimetype": "text/x-python",
   "name": "python",
   "nbconvert_exporter": "python",
   "pygments_lexer": "ipython2",
   "version": "2.7.10"
  }
 },
 "nbformat": 4,
 "nbformat_minor": 2
}
