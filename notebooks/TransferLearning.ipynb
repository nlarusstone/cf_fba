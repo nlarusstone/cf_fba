{
 "cells": [
  {
   "cell_type": "code",
   "execution_count": null,
   "metadata": {},
   "outputs": [],
   "source": [
    "import matplotlib.pyplot as plt\n",
    "import numpy as np\n",
    "from keras.models import load_model"
   ]
  },
  {
   "cell_type": "code",
   "execution_count": null,
   "metadata": {},
   "outputs": [],
   "source": [
    "%load_ext autoreload\n",
    "import sys\n",
    "if not '/home/nlarusstone/cf_fba' in sys.path:\n",
    "    sys.path.append('/home/nlarusstone/cf_fba')\n",
    "import src.utils as utils\n",
    "import src.flux_sample as fs\n",
    "import src.create_dataset as dataset\n",
    "from src.get_test_data import get_test_data\n",
    "import src.cf_io as cf_io\n",
    "import src.plotting as plotting\n",
    "%autoreload 2"
   ]
  },
  {
   "cell_type": "code",
   "execution_count": null,
   "metadata": {},
   "outputs": [],
   "source": [
    "latent_dim = 10\n",
    "use_corr = True\n",
    "froot = 'hand'\n",
    "txtl = False\n",
    "resamp = True\n",
    "layer_szs = [1024, 1024, 1024]"
   ]
  },
  {
   "cell_type": "code",
   "execution_count": null,
   "metadata": {},
   "outputs": [],
   "source": [
    "df = cf_io.get_exp_data('manual')\n",
    "df.head()"
   ]
  },
  {
   "cell_type": "code",
   "execution_count": null,
   "metadata": {},
   "outputs": [],
   "source": [
    "encoder, generator, X_test, y_test, obj_col, cols, y_vals_d, test_enc, test_dec = cf_io.get_test_data(\n",
    "    froot, txtl, resamp, latent_dim, layer_szs, use_corr=True)"
   ]
  },
  {
   "cell_type": "code",
   "execution_count": null,
   "metadata": {},
   "outputs": [],
   "source": [
    "froot = 'echo'\n",
    "layer_szs = [1024, 1024, 1024]\n",
    "encoder_e, generator_e, X_test_e, y_test_e, obj_col_e, cols_e, y_vals_d_e, test_enc_e, test_dec_e = cf_io.get_test_data(\n",
    "    froot, txtl, resamp, latent_dim, layer_szs, use_corr=True)"
   ]
  },
  {
   "cell_type": "code",
   "execution_count": null,
   "metadata": {},
   "outputs": [],
   "source": [
    "np.random.seed(42)\n",
    "dims = np.sort(np.random.choice(51, size=df.shape[0]))\n",
    "dims"
   ]
  },
  {
   "cell_type": "code",
   "execution_count": null,
   "metadata": {},
   "outputs": [],
   "source": [
    "df_e = cf_io.get_exp_data('echo')\n",
    "df_e.head()"
   ]
  },
  {
   "cell_type": "code",
   "execution_count": null,
   "metadata": {},
   "outputs": [],
   "source": [
    "from sklearn.manifold import TSNE\n",
    "def tsne_trans(enc, n_experiments):\n",
    "    tsne = TSNE(n_components=2, verbose=True)\n",
    "    test_enc_sm = enc[0:1000, :, :]\n",
    "    test_enc_l_2d = test_enc_sm.reshape(test_enc_sm.shape[0] * test_enc_sm.shape[1], test_enc_sm.shape[2])\n",
    "    tsne_enc_l = tsne.fit_transform(test_enc_l_2d)\n",
    "    col = np.array(range(n_experiments) * (tsne_enc_l.shape[0] / n_experiments))\n",
    "    return tsne_enc_l, col\n",
    "#tsne_enc = tsne_trans(test_enc, df.shape[0])\n",
    "tsne_enc_e = tsne_trans(test_enc_e, df_e.shape[0])"
   ]
  },
  {
   "cell_type": "code",
   "execution_count": null,
   "metadata": {},
   "outputs": [],
   "source": [
    "fig, axarr = plt.subplots(nrows=1, ncols=2, figsize=(14, 8))\n",
    "plotting.plt_latent_space(tsne_enc_e[0], df_e, axarr[0], flat=True, y_test=tsne_enc_e[1], samp_range=2000, legend=False)\n",
    "axarr[0].set_title('Corr-VAE latent space Karim')\n",
    "plotting.plt_latent_space(tsne_enc[0], df, axarr[1], flat=True, y_test=tsne_enc[1], samp_range=1000, legend=True)\n",
    "axarr[1].set_title('Corr-VAE latent space Manual')\n",
    "plt.show()"
   ]
  },
  {
   "cell_type": "code",
   "execution_count": null,
   "metadata": {},
   "outputs": [],
   "source": [
    "import matplotlib as mpl\n",
    "from matplotlib import cm"
   ]
  },
  {
   "cell_type": "code",
   "execution_count": null,
   "metadata": {},
   "outputs": [],
   "source": [
    "cmap1 = cm.get_cmap('tab20c', 50)\n",
    "cmap2 = cm.get_cmap('tab20b', 20)\n",
    "cmap3 = cm.get_cmap('Set2', 10)"
   ]
  },
  {
   "cell_type": "code",
   "execution_count": null,
   "metadata": {},
   "outputs": [],
   "source": [
    "cmap1.colors[20:40] = cmap2.colors\n",
    "cmap1.colors[40:] = cmap3.colors"
   ]
  },
  {
   "cell_type": "code",
   "execution_count": null,
   "metadata": {},
   "outputs": [],
   "source": [
    "fig, ax = plt.subplots(nrows=1, ncols=1, figsize=(12, 12))\n",
    "plotting.plt_latent_space(tsne_enc[0], df_e.iloc[dims], ax, flat=True, y_test=tsne_enc[1], samp_range=2000, legend=True,\n",
    "                        color_scheme='jet')\n",
    "#plt.cm = cmap1\n",
    "ax.set_title('Corr-VAE latent space Echo')"
   ]
  },
  {
   "cell_type": "code",
   "execution_count": null,
   "metadata": {},
   "outputs": [],
   "source": [
    "k = 0"
   ]
  },
  {
   "cell_type": "code",
   "execution_count": null,
   "metadata": {},
   "outputs": [],
   "source": [
    "' '.join([col + ': {0}'.format(df_e.iloc[k, col_i]) for col_i, col in enumerate(df_e.columns[:-1])])"
   ]
  },
  {
   "cell_type": "code",
   "execution_count": null,
   "metadata": {},
   "outputs": [],
   "source": [
    "'Sugar: {0}, Phosphate: {1}, NTs: {2}, Potassium: {3}'.format(\n",
    "                                    df_e.iloc[k, 0], df_e.iloc[k, 1], df_e.iloc[k, 2], df_e.iloc[k, 3])"
   ]
  },
  {
   "cell_type": "code",
   "execution_count": null,
   "metadata": {},
   "outputs": [],
   "source": [
    "#11_epochs=200_batch=256_dimension=2_corr=False_scale=flux_zero_froot=hand_txtl=True_nlayers=3_resamp=True_lastlayer=1024.h5"
   ]
  },
  {
   "cell_type": "code",
   "execution_count": null,
   "metadata": {},
   "outputs": [],
   "source": [
    "layer_szs = [1024, 1024, 1024]\n",
    "cf_io.get_test_data(froot, txtl, resamp, latent_dim, layer_szs, use_corr=False, resamp=True)\n",
    "11_epochs=200_batch=256_dimension=2_corr=False_scale=flux_zero_froot=hand_txtl=True_nlayers=3_resamp=True_lastlayer=1024_11.h5"
   ]
  },
  {
   "cell_type": "code",
   "execution_count": null,
   "metadata": {},
   "outputs": [],
   "source": [
    "fig, axarr = plt.subplots(nrows=1, ncols=2, figsize=(14, 8))\n",
    "plotting.plt_latent_space(tsne_enc_e[0], df_e, axarr[0], flat=True, y_test=tsne_enc_e[1], samp_range=2000, legend=False)\n",
    "axarr[0].set_title('Corr-VAE latent space Karim')\n",
    "plotting.plt_latent_space(tsne_enc[0], df, axarr[1], flat=True, y_test=tsne_enc[1], samp_range=1000, legend=True)\n",
    "axarr[1].set_title('Corr-VAE latent space Manual')\n",
    "plt.show()"
   ]
  },
  {
   "cell_type": "code",
   "execution_count": null,
   "metadata": {},
   "outputs": [],
   "source": [
    "flat = False"
   ]
  },
  {
   "cell_type": "code",
   "execution_count": null,
   "metadata": {},
   "outputs": [],
   "source": []
  }
 ],
 "metadata": {
  "kernelspec": {
   "display_name": "Python 2",
   "language": "python",
   "name": "python2"
  },
  "language_info": {
   "codemirror_mode": {
    "name": "ipython",
    "version": 2
   },
   "file_extension": ".py",
   "mimetype": "text/x-python",
   "name": "python",
   "nbconvert_exporter": "python",
   "pygments_lexer": "ipython2",
   "version": "2.7.10"
  }
 },
 "nbformat": 4,
 "nbformat_minor": 2
}
